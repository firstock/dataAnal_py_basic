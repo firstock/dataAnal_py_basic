{
 "cells": [
  {
   "cell_type": "markdown",
   "metadata": {},
   "source": [
    "## 모두의 알고리즘 with 파이썬"
   ]
  },
  {
   "cell_type": "markdown",
   "metadata": {},
   "source": [
    "##### 선택 정렬 알고리즘- 일반적\n",
    "O - - - -, _ O - - -, _ _ O - - 찾으면서 해당위치값이랑 최솟값 위치 바꿈"
   ]
  },
  {
   "cell_type": "code",
   "execution_count": 4,
   "metadata": {},
   "outputs": [
    {
     "data": {
      "text/plain": [
       "[5, 4, 3, 2, 1]"
      ]
     },
     "execution_count": 4,
     "metadata": {},
     "output_type": "execute_result"
    }
   ],
   "source": [
    "li= [3,2,5,1,4]\n",
    "cnt_li= len(li)\n",
    "\n",
    "for i in range(0, cnt_li-1):\n",
    "    for j in range(i+1, cnt_li):\n",
    "        if li[i] < li[j]:\n",
    "            li[i], li[j]= li[j], li[i]\n",
    "\n",
    "li"
   ]
  },
  {
   "cell_type": "code",
   "execution_count": 5,
   "metadata": {},
   "outputs": [
    {
     "data": {
      "text/plain": [
       "[1, 2, 3, 4, 5]"
      ]
     },
     "execution_count": 5,
     "metadata": {},
     "output_type": "execute_result"
    }
   ],
   "source": [
    "li= [3,2,5,1,4]\n",
    "cnt_li= len(li)\n",
    "\n",
    "for i in range(0, cnt_li-1):\n",
    "    for j in range(i+1, cnt_li):\n",
    "        if li[i] > li[j]:\n",
    "            li[i], li[j]= li[j], li[i]\n",
    "\n",
    "li"
   ]
  },
  {
   "cell_type": "code",
   "execution_count": 7,
   "metadata": {},
   "outputs": [
    {
     "data": {
      "text/plain": [
       "[1, 9, 10, 14, 15, 19, 20, 21, 23, 27]"
      ]
     },
     "execution_count": 7,
     "metadata": {},
     "output_type": "execute_result"
    }
   ],
   "source": [
    "import random\n",
    "\n",
    "li= random.sample(range(1,30),10)\n",
    "cnt_li= len(li)\n",
    "\n",
    "for i in range(0, cnt_li-1):\n",
    "    for j in range(i+1, cnt_li):\n",
    "        if li[i] > li[j]:\n",
    "            li[i], li[j]= li[j], li[i]\n",
    "\n",
    "li"
   ]
  },
  {
   "cell_type": "code",
   "execution_count": null,
   "metadata": {
    "collapsed": true
   },
   "outputs": [],
   "source": []
  },
  {
   "cell_type": "code",
   "execution_count": 9,
   "metadata": {
    "collapsed": true
   },
   "outputs": [],
   "source": [
    "def selectSort1(list1):\n",
    "    cnt_li= len(list1)\n",
    "\n",
    "    for i in range(0, cnt_li-1):\n",
    "        for j in range(i+1, cnt_li):\n",
    "            if list1[i] > list1[j]:\n",
    "                list1[i], list1[j]= list1[j], list1[i]\n",
    "    return(list1)"
   ]
  },
  {
   "cell_type": "code",
   "execution_count": 10,
   "metadata": {},
   "outputs": [
    {
     "data": {
      "text/plain": [
       "[3, 4, 7, 8, 11, 12, 14, 21, 24, 28]"
      ]
     },
     "execution_count": 10,
     "metadata": {},
     "output_type": "execute_result"
    }
   ],
   "source": [
    "import random\n",
    "li= random.sample(range(1,30),10)\n",
    "\n",
    "selectSort1(li)"
   ]
  },
  {
   "cell_type": "code",
   "execution_count": null,
   "metadata": {
    "collapsed": true
   },
   "outputs": [],
   "source": []
  },
  {
   "cell_type": "code",
   "execution_count": null,
   "metadata": {
    "collapsed": true
   },
   "outputs": [],
   "source": []
  }
 ],
 "metadata": {
  "kernelspec": {
   "display_name": "Python 3",
   "language": "python",
   "name": "python3"
  },
  "language_info": {
   "codemirror_mode": {
    "name": "ipython",
    "version": 3
   },
   "file_extension": ".py",
   "mimetype": "text/x-python",
   "name": "python",
   "nbconvert_exporter": "python",
   "pygments_lexer": "ipython3",
   "version": "3.6.3"
  }
 },
 "nbformat": 4,
 "nbformat_minor": 2
}
