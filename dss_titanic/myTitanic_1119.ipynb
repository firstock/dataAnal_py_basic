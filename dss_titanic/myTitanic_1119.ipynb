{
 "cells": [
  {
   "cell_type": "code",
   "execution_count": 505,
   "metadata": {},
   "outputs": [
    {
     "name": "stdout",
     "output_type": "stream",
     "text": [
      "(891, 11)\n",
      "(418, 10)\n"
     ]
    }
   ],
   "source": [
    "import pandas as pd\n",
    "train= pd.read_csv(\"data/train.csv\",index_col=\"PassengerId\")\n",
    "test= pd.read_csv(\"data/test.csv\",index_col=\"PassengerId\")\n",
    "print(train.shape)\n",
    "print(test.shape)"
   ]
  },
  {
   "cell_type": "code",
   "execution_count": 48,
   "metadata": {
    "collapsed": true
   },
   "outputs": [],
   "source": [
    "# 열 만지작\n",
    "class ColsTouch:\n",
    "    def __init__(self):  #생성자? 겸 내부참조\n",
    "        pass\n",
    "    \n",
    "    def show_info(self, dataframe=test, col=\"Age\"):\n",
    "        #     @staticmethod\n",
    "#     def show_info(dataframe,col):\n",
    "        print(\"shape:\",dataframe.shape)\n",
    "        print(\"mean: \",dataframe[col].mean())\n",
    "        print(\"count: \",dataframe[col].count())\n",
    "        print(\"min: \",dataframe[col].min())\n",
    "        print(\"max: \",dataframe[col].max())\n",
    "        print(\"\")\n",
    "        \n",
    "    def colAdd_Id(self, df):\n",
    "        cnt= df.shape[0]\n",
    "        df[\"Id\"]= range(0,cnt) #[0,cnt)\n",
    "        \n",
    "    def colAdd_Fam(self, df):\n",
    "        df[\"FamilySize\"]= df[\"SibSp\"]+ df[\"Parch\"]+1\n",
    "        \n",
    "    def colAdd_Embarked(self, df):\n",
    "        '탑승국가 Nation. str'\n",
    "        df.loc[df[\"Embarked\"]==\"C\",\"Nation\"]= \"FR\"\n",
    "        df.loc[df[\"Embarked\"].isin([\"S\",\"Q\"]),\"Nation\"]= \"UK\"\n",
    "        \n",
    "    def colAdd_Fare(self, df):\n",
    "        'Fare 등급'\n",
    "        low= (df[\"Fare\"]< 30)\n",
    "        mid= ((df[\"Fare\"]>= 30) & (df[\"Fare\"]< 100))\n",
    "        high= (df[\"Fare\"]>= 100)\n",
    "        \n",
    "        df.loc[low,\"FareGrade\"]= \"L\"\n",
    "        df.loc[mid,\"FareGrade\"]= \"M\"\n",
    "        df.loc[high,\"FareGrade\"]= \"H\"\n",
    "        \n",
    "    def colMod_Fare(self, df):\n",
    "        fare_mean= df[\"Fare\"].mean()\n",
    "        df.loc[df[\"Fare\"].isnull(),\"Fare\"]= fare_mean\n",
    "        \n",
    "    def colAdd_Age(self, df):\n",
    "        'Age 세대'\n",
    "        child= (df[\"Age\"]<11)\n",
    "        adoles= ((df[\"Age\"]>=11) & (df[\"Age\"]<20))\n",
    "        adult_y= ((df[\"Age\"]>=20) & (df[\"Age\"]<50))\n",
    "        adult_o= (df[\"Age\"]>=50)\n",
    "        \n",
    "        df.loc[child,\"AgeGen\"]= \"YY\"\n",
    "        df.loc[adoles,\"AgeGen\"]= \"Y\"\n",
    "        df.loc[adult_y,\"AgeGen\"]= \"O\"\n",
    "        df.loc[adult_o,\"AgeGen\"]= \"OO\"\n",
    "        \n",
    "    def colMod_Age(self, df):\n",
    "        '''\n",
    "        NaN값 평균으로 채우기\n",
    "        parma dataframe name\n",
    "        '''\n",
    "        age_mean= df[\"Age\"].mean()\n",
    "        df.loc[df[\"Age\"].isnull(),\"Age\"]= age_mean\n",
    "        \n",
    "        "
   ]
  },
  {
   "cell_type": "code",
   "execution_count": 49,
   "metadata": {
    "collapsed": true
   },
   "outputs": [],
   "source": [
    "# print(len(train.index))\n",
    "# print(train.shape[0]) #더 빠르데"
   ]
  },
  {
   "cell_type": "code",
   "execution_count": 50,
   "metadata": {
    "collapsed": true
   },
   "outputs": [],
   "source": [
    "ct= ColsTouch()"
   ]
  },
  {
   "cell_type": "code",
   "execution_count": 509,
   "metadata": {
    "collapsed": true
   },
   "outputs": [],
   "source": [
    "ct.colMod_Age(train)\n",
    "ct.colMod_Age(test)\n",
    "\n",
    "ct.colMod_Fare(train)\n",
    "ct.colMod_Fare(test)"
   ]
  },
  {
   "cell_type": "code",
   "execution_count": 52,
   "metadata": {},
   "outputs": [
    {
     "name": "stdout",
     "output_type": "stream",
     "text": [
      "No Python documentation found for 'NaN값 평균으로 채우기\\n        parma dataframe name'.\n",
      "Use help() to get the interactive help utility.\n",
      "Use help(str) for help on the str class.\n",
      "\n"
     ]
    }
   ],
   "source": [
    "help(ct.colMod_Age.__doc__)"
   ]
  },
  {
   "cell_type": "code",
   "execution_count": 510,
   "metadata": {
    "collapsed": true
   },
   "outputs": [],
   "source": [
    "# ct.colAdd_Age(train)\n",
    "# ct.colAdd_Age(test)\n",
    "\n",
    "# ct.colAdd_Id(train)\n",
    "# ct.colAdd_Fam(train)\n",
    "# ct.colAdd_Fare(train)\n",
    "# ct.colAdd_Embarked(train)"
   ]
  },
  {
   "cell_type": "code",
   "execution_count": 511,
   "metadata": {
    "collapsed": true
   },
   "outputs": [],
   "source": [
    "# cols1= [\"Id\",\"FamilySize\",\"Embarked\",\"Nation\",\"Fare\",\"FareGrade\"]\n",
    "# cols2=[\"Age\",\"AgeGen\"]\n",
    "# print(train[cols2].head(10))\n",
    "# print(train.head(10))"
   ]
  },
  {
   "cell_type": "code",
   "execution_count": 512,
   "metadata": {
    "collapsed": true
   },
   "outputs": [],
   "source": [
    "# pp.show_info()\n",
    "# pp.show_info(train,\"Age\")"
   ]
  },
  {
   "cell_type": "code",
   "execution_count": 513,
   "metadata": {
    "collapsed": true
   },
   "outputs": [],
   "source": [
    "# cols=[\"Embarked\", \"Embarked_C\", \"Embarked_S\", \"Embarked_Q\"]\n",
    "# print(train[cols].head(8))"
   ]
  },
  {
   "cell_type": "markdown",
   "metadata": {},
   "source": [
    "# PreProcessing"
   ]
  },
  {
   "cell_type": "code",
   "execution_count": 514,
   "metadata": {
    "collapsed": true
   },
   "outputs": [],
   "source": [
    "# import pandas as pd\n",
    "# train= pd.read_csv(\"data/train.csv\",index_col=\"PassengerId\")\n",
    "# test= pd.read_csv(\"data/test.csv\",index_col=\"PassengerId\")\n",
    "# print(train.shape)\n",
    "# print(test.shape)"
   ]
  },
  {
   "cell_type": "code",
   "execution_count": 515,
   "metadata": {
    "collapsed": true
   },
   "outputs": [],
   "source": [
    "class PreProcessing:\n",
    "    def __init__(self):\n",
    "        pass\n",
    "    \n",
    "    @staticmethod\n",
    "    def showCols():\n",
    "        print(\"isnull: \",train[train[\"Embarked\"].isnull()])\n",
    "        cols1=[\"Sex\",\"Embarked\",\"Embarked_C\",\"Embarked_S\",\"Embarked_Q\"]\n",
    "        cols2=[\"Age\",\"Age_yy\",\"Age_y\",\"Age_o\",\"Age_oo\",\"Fare\",\"Fare_low\",\"Fare_mid\",\"Fare_high\"]\n",
    "        print(\"train: \", train[cols1+cols2])\n",
    "        print()\n",
    "        print(\"test: \", test[cols1+cols2])\n",
    "#         print((train.loc[[1],[\"Sex\"]]==\"male\")|(train.loc[[1],[\"Sex\"]]==\"female\"))\n",
    "    \n",
    "    def oneHotSex(self,df):\n",
    "        #if (train.loc[[1],[\"Sex\"]]==\"male\")|(train.loc[[1],[\"Sex\"]]==\"female\"): #한번만 실행하려면??\n",
    "        df.loc[df[\"Sex\"]==\"female\",\"Sex\"]= 1\n",
    "        df.loc[df[\"Sex\"]==\"male\",\"Sex\"]= 0\n",
    "\n",
    "    def oneHotEmbarked(self,df):\n",
    "        cols=[\"C\",\"S\",\"Q\"]\n",
    "        for col in cols:\n",
    "            df[\"Embarked_\"+col]= df[\"Embarked\"]== col\n",
    "#         # 탑승지역으로 본 탑승국가. T/F\n",
    "#         df[\"Nation_FR\"]= df[\"Embarked\"]==\"C\"\n",
    "#         df[\"Nation_UK\"]= df[\"Embarked\"].isin([\"S\",\"Q\"])\n",
    "     \n",
    "    def oneHotAge(self,df):\n",
    "        # Age 별 나이대 나누기\n",
    "        df[\"Age_yy\"]= (df[\"Age\"]<11) \n",
    "        df[\"Age_y\"]= ((df[\"Age\"]>=11) & (df[\"Age\"]<20))\n",
    "        df[\"Age_o\"]= ((df[\"Age\"]>=20) & (df[\"Age\"]<50))\n",
    "        df[\"Age_oo\"]= (df[\"Age\"]>=50)\n",
    "      \n",
    "    def oneHotFare(self,df):\n",
    "        # Fare 값 별 운임등급 나누기\n",
    "        df[\"Fare_low\"]= (df[\"Fare\"]< 30)\n",
    "        df[\"Fare_mid\"]= ((df[\"Fare\"]>= 30) & (df[\"Fare\"]< 100))\n",
    "        df[\"Fare_high\"]= (df[\"Fare\"]>= 100)"
   ]
  },
  {
   "cell_type": "code",
   "execution_count": 516,
   "metadata": {
    "collapsed": true
   },
   "outputs": [],
   "source": [
    "class TreeSubmit:\n",
    "    def __init__(self):\n",
    "        from sklearn.tree import DecisionTreeClassifier\n",
    "        predictions= []\n",
    "        submit= []\n",
    "    \n",
    "    def wateringTree(self):\n",
    "        featureNames= [\"Pclass\",\"Sex\",\"Fare\",\"Embarked_C\",\"Embarked_S\",\"Embarked_Q\"]\n",
    "#         featureNames= [\"Pclass\",\"Sex\",\"Fare_low\",\"Fare_mid\",\"Fare_high\",\"Embarked_C\",\"Embarked_S\",\"Embarked_Q\"]\n",
    "        label_name= \"Survived\"\n",
    "        X_train= train[featureNames]\n",
    "        y_train= train[label_name]\n",
    "        \n",
    "        model= DecisionTreeClassifier(max_depth=5)\n",
    "        model.fit(X_train,y_train)\n",
    "        \n",
    "        X_test= test[featureNames]\n",
    "        self.predictions= model.predict(X_test)\n",
    "    \n",
    "    # @param str\n",
    "    def toSave(self, filename):\n",
    "        self.submit= pd.read_csv(\"data/gender_submission.csv\", index_col=\"PassengerId\")\n",
    "        self.submit[\"Survived\"]= self.predictions\n",
    "        self.submit.to_csv(\"data/\"+filename+\".csv\")\n",
    "        \n",
    "    @staticmethod\n",
    "    def showinfo():\n",
    "        pass\n"
   ]
  },
  {
   "cell_type": "code",
   "execution_count": 517,
   "metadata": {
    "collapsed": true
   },
   "outputs": [],
   "source": [
    "pp= PreProcessing()"
   ]
  },
  {
   "cell_type": "code",
   "execution_count": 518,
   "metadata": {
    "collapsed": true
   },
   "outputs": [],
   "source": [
    "ts= TreeSubmit()"
   ]
  },
  {
   "cell_type": "code",
   "execution_count": 519,
   "metadata": {
    "collapsed": true
   },
   "outputs": [],
   "source": [
    "# 한 번만 실행 가능\n",
    "pp.oneHotSex(train) \n",
    "pp.oneHotSex(test) \n",
    "\n",
    "pp.oneHotEmbarked(train) \n",
    "pp.oneHotEmbarked(test)\n",
    "\n",
    "# pp.oneHotAge(train) \n",
    "# pp.oneHotAge(test)\n",
    "\n",
    "# pp.oneHotFare(train) \n",
    "# pp.oneHotFare(test)"
   ]
  },
  {
   "cell_type": "code",
   "execution_count": 520,
   "metadata": {
    "collapsed": true
   },
   "outputs": [],
   "source": [
    "ts.wateringTree()"
   ]
  },
  {
   "cell_type": "code",
   "execution_count": 521,
   "metadata": {
    "collapsed": true
   },
   "outputs": [],
   "source": [
    "ts.toSave(\"myty1120\")"
   ]
  },
  {
   "cell_type": "code",
   "execution_count": 522,
   "metadata": {
    "collapsed": true,
    "scrolled": true
   },
   "outputs": [],
   "source": [
    "# PreProcessing.showCols()"
   ]
  }
 ],
 "metadata": {
  "kernelspec": {
   "display_name": "Python 3",
   "language": "python",
   "name": "python3"
  },
  "language_info": {
   "codemirror_mode": {
    "name": "ipython",
    "version": 3
   },
   "file_extension": ".py",
   "mimetype": "text/x-python",
   "name": "python",
   "nbconvert_exporter": "python",
   "pygments_lexer": "ipython3",
   "version": "3.6.3"
  },
  "varInspector": {
   "cols": {
    "lenName": 16,
    "lenType": 16,
    "lenVar": 40
   },
   "kernels_config": {
    "python": {
     "delete_cmd_postfix": "",
     "delete_cmd_prefix": "del ",
     "library": "var_list.py",
     "varRefreshCmd": "print(var_dic_list())"
    },
    "r": {
     "delete_cmd_postfix": ") ",
     "delete_cmd_prefix": "rm(",
     "library": "var_list.r",
     "varRefreshCmd": "cat(var_dic_list()) "
    }
   },
   "oldHeight": 123,
   "position": {
    "height": "40px",
    "left": "868px",
    "right": "20px",
    "top": "120px",
    "width": "250px"
   },
   "types_to_exclude": [
    "module",
    "function",
    "builtin_function_or_method",
    "instance",
    "_Feature"
   ],
   "varInspector_section_display": "none",
   "window_display": true
  }
 },
 "nbformat": 4,
 "nbformat_minor": 2
}
