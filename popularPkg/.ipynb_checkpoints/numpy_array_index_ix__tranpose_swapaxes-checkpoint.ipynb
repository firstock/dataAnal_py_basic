{
 "cells": [
  {
   "cell_type": "markdown",
   "metadata": {},
   "source": [
    "## 팬시색인== 정수색인\n",
    "###### 색인== index\n",
    "1. 있어보이려고 만든 용어\n",
    "2. 항상 깊은 복사 <<<<<<< 슬라이싱 색인과는 다르다!"
   ]
  },
  {
   "cell_type": "code",
   "execution_count": 1,
   "metadata": {
    "collapsed": true
   },
   "outputs": [],
   "source": [
    "import numpy as np"
   ]
  },
  {
   "cell_type": "code",
   "execution_count": 3,
   "metadata": {},
   "outputs": [
    {
     "data": {
      "text/plain": [
       "array([[  9.23354400e-315,   9.23336219e-315,   9.23334227e-315,\n",
       "          9.23334227e-315],\n",
       "       [  9.23334227e-315,   9.23334227e-315,   2.21970691e-316,\n",
       "          2.21977647e-316],\n",
       "       [  2.21976383e-316,   9.23336013e-315,   9.23334701e-315,\n",
       "          2.21976699e-316],\n",
       "       [  9.23334985e-315,   2.21975434e-316,   9.23334321e-315,\n",
       "          2.21976699e-316],\n",
       "       [  9.23335776e-315,   2.21976699e-316,   9.23335270e-315,\n",
       "          2.21970691e-316],\n",
       "       [  2.22081045e-316,   9.23334479e-315,   9.23334242e-315,\n",
       "          2.21987766e-316],\n",
       "       [  2.22081362e-316,   9.23334321e-315,   9.23334227e-315,\n",
       "          9.23334242e-315],\n",
       "       [  2.21976699e-316,   9.23335728e-315,   2.21971007e-316,\n",
       "          2.21975434e-316]])"
      ]
     },
     "execution_count": 3,
     "metadata": {},
     "output_type": "execute_result"
    }
   ],
   "source": [
    "arr= np.empty((8,4)); arr"
   ]
  },
  {
   "cell_type": "code",
   "execution_count": 4,
   "metadata": {
    "collapsed": true
   },
   "outputs": [],
   "source": [
    "for i in range(8):\n",
    "    arr[i]= i"
   ]
  },
  {
   "cell_type": "code",
   "execution_count": 5,
   "metadata": {},
   "outputs": [
    {
     "data": {
      "text/plain": [
       "array([[ 0.,  0.,  0.,  0.],\n",
       "       [ 1.,  1.,  1.,  1.],\n",
       "       [ 2.,  2.,  2.,  2.],\n",
       "       [ 3.,  3.,  3.,  3.],\n",
       "       [ 4.,  4.,  4.,  4.],\n",
       "       [ 5.,  5.,  5.,  5.],\n",
       "       [ 6.,  6.,  6.,  6.],\n",
       "       [ 7.,  7.,  7.,  7.]])"
      ]
     },
     "execution_count": 5,
     "metadata": {},
     "output_type": "execute_result"
    }
   ],
   "source": [
    "arr"
   ]
  },
  {
   "cell_type": "markdown",
   "metadata": {},
   "source": [
    "### [[정수]] 색인\n",
    "여기서 슬라이스를 쓰면 에러!"
   ]
  },
  {
   "cell_type": "code",
   "execution_count": 7,
   "metadata": {},
   "outputs": [
    {
     "data": {
      "text/plain": [
       "array([[ 4.,  4.,  4.,  4.],\n",
       "       [ 3.,  3.,  3.,  3.],\n",
       "       [ 0.,  0.,  0.,  0.]])"
      ]
     },
     "execution_count": 7,
     "metadata": {},
     "output_type": "execute_result"
    }
   ],
   "source": [
    "#5번째, 4번째, 1번째 행 선택\n",
    "arr[[4,3,0]]"
   ]
  },
  {
   "cell_type": "code",
   "execution_count": 10,
   "metadata": {},
   "outputs": [
    {
     "ename": "SyntaxError",
     "evalue": "invalid syntax (<ipython-input-10-4a363652a68b>, line 1)",
     "output_type": "error",
     "traceback": [
      "\u001b[1;36m  File \u001b[1;32m\"<ipython-input-10-4a363652a68b>\"\u001b[1;36m, line \u001b[1;32m1\u001b[0m\n\u001b[1;33m    arr[[2:3]]\u001b[0m\n\u001b[1;37m          ^\u001b[0m\n\u001b[1;31mSyntaxError\u001b[0m\u001b[1;31m:\u001b[0m invalid syntax\n"
     ]
    }
   ],
   "source": [
    "arr[[2:3]]"
   ]
  },
  {
   "cell_type": "code",
   "execution_count": 9,
   "metadata": {
    "scrolled": true
   },
   "outputs": [
    {
     "data": {
      "text/plain": [
       "array([[ 7.,  7.,  7.,  7.],\n",
       "       [ 5.,  5.,  5.,  5.]])"
      ]
     },
     "execution_count": 9,
     "metadata": {},
     "output_type": "execute_result"
    }
   ],
   "source": [
    "#끝에서 1번째, 3번째 행 선택\n",
    "arr[[-1,-3]]"
   ]
  },
  {
   "cell_type": "code",
   "execution_count": null,
   "metadata": {
    "collapsed": true
   },
   "outputs": [],
   "source": []
  },
  {
   "cell_type": "code",
   "execution_count": 12,
   "metadata": {},
   "outputs": [
    {
     "data": {
      "text/plain": [
       "array([[ 0,  1,  2,  3],\n",
       "       [ 4,  5,  6,  7],\n",
       "       [ 8,  9, 10, 11],\n",
       "       [12, 13, 14, 15],\n",
       "       [16, 17, 18, 19],\n",
       "       [20, 21, 22, 23],\n",
       "       [24, 25, 26, 27],\n",
       "       [28, 29, 30, 31]])"
      ]
     },
     "execution_count": 12,
     "metadata": {},
     "output_type": "execute_result"
    }
   ],
   "source": [
    "arr= np.arange(32).reshape((8,4)); arr"
   ]
  },
  {
   "cell_type": "markdown",
   "metadata": {},
   "source": [
    "##### 교차된 부분 값만 뽑아옴"
   ]
  },
  {
   "cell_type": "code",
   "execution_count": 22,
   "metadata": {},
   "outputs": [
    {
     "data": {
      "text/plain": [
       "array([12,  1,  6])"
      ]
     },
     "execution_count": 22,
     "metadata": {},
     "output_type": "execute_result"
    }
   ],
   "source": [
    "# 3행0열[3,0], 0행1열[0,1], 1행2열[1,2]\n",
    "arr[[3,0,1],[0,1,2]]"
   ]
  },
  {
   "cell_type": "code",
   "execution_count": 23,
   "metadata": {},
   "outputs": [
    {
     "name": "stdout",
     "output_type": "stream",
     "text": [
      "12\n",
      "1\n",
      "6\n"
     ]
    }
   ],
   "source": [
    "print(arr[3,0])\n",
    "print(arr[0,1])\n",
    "print(arr[1,2])"
   ]
  },
  {
   "cell_type": "markdown",
   "metadata": {},
   "source": [
    "##### 이거말고, 각 행에 대한 열을 싹 뽑아오고 싶다- 사각형 선택"
   ]
  },
  {
   "cell_type": "code",
   "execution_count": 28,
   "metadata": {},
   "outputs": [
    {
     "data": {
      "text/plain": [
       "array([[12, 13, 14],\n",
       "       [ 0,  1,  2],\n",
       "       [ 4,  5,  6]])"
      ]
     },
     "execution_count": 28,
     "metadata": {},
     "output_type": "execute_result"
    }
   ],
   "source": [
    "#3행의 0,1,2열, 0행의 0,1,2열, 1행의 0,1,2열\n",
    "arr[[3,0,1]][:,[0,1,2]]"
   ]
  },
  {
   "cell_type": "markdown",
   "metadata": {},
   "source": [
    "### np.ix_\n",
    "를 읽기 좋게- 사각형 선택\n",
    ". 이걸 주로 씀"
   ]
  },
  {
   "cell_type": "code",
   "execution_count": 26,
   "metadata": {
    "scrolled": true
   },
   "outputs": [
    {
     "data": {
      "text/plain": [
       "array([[12, 13, 14],\n",
       "       [ 0,  1,  2],\n",
       "       [ 4,  5,  6]])"
      ]
     },
     "execution_count": 26,
     "metadata": {},
     "output_type": "execute_result"
    }
   ],
   "source": [
    "#3, 0, 1행 각각의 0,1,2열 - 사각형 범위\n",
    "arr[np.ix_([3,0,1],[0,1,2])]"
   ]
  },
  {
   "cell_type": "code",
   "execution_count": null,
   "metadata": {
    "collapsed": true
   },
   "outputs": [],
   "source": []
  },
  {
   "cell_type": "markdown",
   "metadata": {},
   "source": [
    "### 정수 색인\n",
    "팬시 색인. p132\n",
    "\n",
    "arr= np.arange(32).reshape((8,4)); arr\n",
    "\n",
    "##### (1,0), (2,3) 에 대응되는 원소만 뽑힘\n",
    "\n",
    "arr[[1,2],[0,3]]\n",
    "\n",
    "#### 사각형으로 뽑기??\n",
    "\n",
    "arr[[1,2]][:,[0,3]]\n",
    "\n",
    "arr[np.ix_([1,2],[0,3])]"
   ]
  },
  {
   "cell_type": "code",
   "execution_count": null,
   "metadata": {
    "collapsed": true
   },
   "outputs": [],
   "source": []
  },
  {
   "cell_type": "markdown",
   "metadata": {},
   "source": [
    "## 배열 전치\n",
    "뷰(메모린 다른데 원본은 바꾸는) 형태로 반환"
   ]
  },
  {
   "cell_type": "code",
   "execution_count": 4,
   "metadata": {
    "collapsed": true
   },
   "outputs": [],
   "source": [
    "import numpy as np"
   ]
  },
  {
   "cell_type": "code",
   "execution_count": 5,
   "metadata": {},
   "outputs": [
    {
     "data": {
      "text/plain": [
       "array([[ 0,  1,  2,  3,  4],\n",
       "       [ 5,  6,  7,  8,  9],\n",
       "       [10, 11, 12, 13, 14]])"
      ]
     },
     "execution_count": 5,
     "metadata": {},
     "output_type": "execute_result"
    }
   ],
   "source": [
    "arr= np.arange(15).reshape((3,5)); arr"
   ]
  },
  {
   "cell_type": "code",
   "execution_count": 7,
   "metadata": {},
   "outputs": [
    {
     "ename": "AttributeError",
     "evalue": "'numpy.ndarray' object has no attribute 't'",
     "output_type": "error",
     "traceback": [
      "\u001b[1;31m---------------------------------------------------------------------------\u001b[0m",
      "\u001b[1;31mAttributeError\u001b[0m                            Traceback (most recent call last)",
      "\u001b[1;32m<ipython-input-7-7d89b6f1650a>\u001b[0m in \u001b[0;36m<module>\u001b[1;34m()\u001b[0m\n\u001b[1;32m----> 1\u001b[1;33m \u001b[0marr\u001b[0m\u001b[1;33m.\u001b[0m\u001b[0mt\u001b[0m\u001b[1;33m\u001b[0m\u001b[0m\n\u001b[0m",
      "\u001b[1;31mAttributeError\u001b[0m: 'numpy.ndarray' object has no attribute 't'"
     ]
    }
   ],
   "source": [
    "arr.t"
   ]
  },
  {
   "cell_type": "code",
   "execution_count": 8,
   "metadata": {},
   "outputs": [
    {
     "data": {
      "text/plain": [
       "array([[ 0,  5, 10],\n",
       "       [ 1,  6, 11],\n",
       "       [ 2,  7, 12],\n",
       "       [ 3,  8, 13],\n",
       "       [ 4,  9, 14]])"
      ]
     },
     "execution_count": 8,
     "metadata": {},
     "output_type": "execute_result"
    }
   ],
   "source": [
    "arr.T"
   ]
  },
  {
   "cell_type": "code",
   "execution_count": 9,
   "metadata": {},
   "outputs": [
    {
     "data": {
      "text/plain": [
       "array([[ 0,  1,  2,  3,  4],\n",
       "       [ 5,  6,  7,  8,  9],\n",
       "       [10, 11, 12, 13, 14]])"
      ]
     },
     "execution_count": 9,
     "metadata": {},
     "output_type": "execute_result"
    }
   ],
   "source": [
    "# 원본은 유지된다\n",
    "arr"
   ]
  },
  {
   "cell_type": "code",
   "execution_count": null,
   "metadata": {
    "collapsed": true
   },
   "outputs": [],
   "source": []
  },
  {
   "cell_type": "markdown",
   "metadata": {},
   "source": [
    "##### 내적 곱\n",
    "inner product"
   ]
  },
  {
   "cell_type": "code",
   "execution_count": 10,
   "metadata": {},
   "outputs": [
    {
     "data": {
      "text/plain": [
       "array([[ 0.56532329,  1.64861191, -0.11472574],\n",
       "       [-0.10055937,  1.57176122,  0.11080003],\n",
       "       [-0.05202826, -0.9824741 ,  1.22494986],\n",
       "       [-0.76224681,  0.66863926,  1.53960357],\n",
       "       [-0.4041108 , -0.71351483,  1.47216558],\n",
       "       [ 0.3984301 , -0.35336754, -2.3091614 ]])"
      ]
     },
     "execution_count": 10,
     "metadata": {},
     "output_type": "execute_result"
    }
   ],
   "source": [
    "arr= np.random.randn(6,3); arr"
   ]
  },
  {
   "cell_type": "code",
   "execution_count": 11,
   "metadata": {},
   "outputs": [
    {
     "data": {
      "text/plain": [
       "array([[  1.23548183,   0.46293846,  -2.82824645],\n",
       "       [  0.46293846,   7.23466043,  -0.42345844],\n",
       "       [ -2.82824645,  -0.42345844,  11.39581781]])"
      ]
     },
     "execution_count": 11,
     "metadata": {},
     "output_type": "execute_result"
    }
   ],
   "source": [
    "np.dot(arr.T, arr) # (3,6)x(6,3)= (3,3)"
   ]
  },
  {
   "cell_type": "code",
   "execution_count": 37,
   "metadata": {},
   "outputs": [
    {
     "name": "stdout",
     "output_type": "stream",
     "text": [
      "Wall time: 0 ns\n"
     ]
    },
    {
     "data": {
      "text/plain": [
       "array([[ 9.81094706, -1.72412635, -0.42393656],\n",
       "       [-1.72412635,  3.3258012 ,  0.18203715],\n",
       "       [-0.42393656,  0.18203715,  2.36334494]])"
      ]
     },
     "execution_count": 37,
     "metadata": {},
     "output_type": "execute_result"
    }
   ],
   "source": [
    "%time np.dot(arr.T, arr)"
   ]
  },
  {
   "cell_type": "code",
   "execution_count": null,
   "metadata": {
    "collapsed": true
   },
   "outputs": [],
   "source": []
  },
  {
   "cell_type": "markdown",
   "metadata": {},
   "source": [
    "### transpose\n",
    "원래 축(차원)번호 (i,j,k)= (0, 1, 2)"
   ]
  },
  {
   "cell_type": "code",
   "execution_count": 12,
   "metadata": {},
   "outputs": [
    {
     "data": {
      "text/plain": [
       "array([[[ 0,  1,  2,  3],\n",
       "        [ 4,  5,  6,  7],\n",
       "        [ 8,  9, 10, 11]],\n",
       "\n",
       "       [[12, 13, 14, 15],\n",
       "        [16, 17, 18, 19],\n",
       "        [20, 21, 22, 23]]])"
      ]
     },
     "execution_count": 12,
     "metadata": {},
     "output_type": "execute_result"
    }
   ],
   "source": [
    "arr= np.arange(24).reshape((2,3,4)); arr"
   ]
  },
  {
   "cell_type": "markdown",
   "metadata": {},
   "source": [
    "##### 축(0,1,2) => 축(1,0,2)\n",
    "1. 층 <=> 행\n",
    "2. 각 층의 첫 행들이 => 첫 층의 각행이 됨"
   ]
  },
  {
   "cell_type": "code",
   "execution_count": 13,
   "metadata": {},
   "outputs": [
    {
     "data": {
      "text/plain": [
       "array([[[ 0,  1,  2,  3],\n",
       "        [12, 13, 14, 15]],\n",
       "\n",
       "       [[ 4,  5,  6,  7],\n",
       "        [16, 17, 18, 19]],\n",
       "\n",
       "       [[ 8,  9, 10, 11],\n",
       "        [20, 21, 22, 23]]])"
      ]
     },
     "execution_count": 13,
     "metadata": {},
     "output_type": "execute_result"
    }
   ],
   "source": [
    "#각층의 첫 행 [0,1,2,3], [12,13,14,15] 가\n",
    "#첫 층의 구성요소가 되었다\n",
    "arr.transpose((1,0,2))"
   ]
  },
  {
   "cell_type": "code",
   "execution_count": null,
   "metadata": {
    "collapsed": true
   },
   "outputs": [],
   "source": []
  },
  {
   "cell_type": "markdown",
   "metadata": {},
   "source": [
    "### swapaxes\n",
    "1. 이미 정의된 축 값 (0,1,2)\n",
    "2. 인자 순서 상관X. 그저 swap인데 대상이 축 일뿐\n",
    "3. 인자는 딱 2개. a.swapaxes(axis1, axis2)"
   ]
  },
  {
   "cell_type": "code",
   "execution_count": 16,
   "metadata": {
    "scrolled": true
   },
   "outputs": [
    {
     "data": {
      "text/plain": [
       "array([[[ 0,  1,  2,  3],\n",
       "        [ 4,  5,  6,  7],\n",
       "        [ 8,  9, 10, 11]],\n",
       "\n",
       "       [[12, 13, 14, 15],\n",
       "        [16, 17, 18, 19],\n",
       "        [20, 21, 22, 23]]])"
      ]
     },
     "execution_count": 16,
     "metadata": {},
     "output_type": "execute_result"
    }
   ],
   "source": [
    "arr"
   ]
  },
  {
   "cell_type": "code",
   "execution_count": 15,
   "metadata": {},
   "outputs": [
    {
     "data": {
      "text/plain": [
       "array([[[ 0,  4,  8],\n",
       "        [ 1,  5,  9],\n",
       "        [ 2,  6, 10],\n",
       "        [ 3,  7, 11]],\n",
       "\n",
       "       [[12, 16, 20],\n",
       "        [13, 17, 21],\n",
       "        [14, 18, 22],\n",
       "        [15, 19, 23]]])"
      ]
     },
     "execution_count": 15,
     "metadata": {},
     "output_type": "execute_result"
    }
   ],
   "source": [
    "# 인자 순서 상관X\n",
    "arr.swapaxes(1,2)"
   ]
  },
  {
   "cell_type": "code",
   "execution_count": null,
   "metadata": {
    "collapsed": true
   },
   "outputs": [],
   "source": []
  },
  {
   "cell_type": "markdown",
   "metadata": {},
   "source": [
    "## 유니버셜 함수\n",
    "요소 각각에 대해 연산해서 배열 반환하는 함수 통칭\n",
    "> sqrt(), exp(), maximum(,), modf(), ..."
   ]
  },
  {
   "cell_type": "code",
   "execution_count": null,
   "metadata": {
    "collapsed": true
   },
   "outputs": [],
   "source": []
  },
  {
   "cell_type": "code",
   "execution_count": null,
   "metadata": {
    "collapsed": true
   },
   "outputs": [],
   "source": []
  },
  {
   "cell_type": "code",
   "execution_count": null,
   "metadata": {
    "collapsed": true
   },
   "outputs": [],
   "source": []
  },
  {
   "cell_type": "code",
   "execution_count": null,
   "metadata": {
    "collapsed": true
   },
   "outputs": [],
   "source": []
  },
  {
   "cell_type": "markdown",
   "metadata": {},
   "source": [
    "## 예제\n",
    "1. 5x4 배열. (1,0), (3,1) 값\n",
    "2. 위에서 arr[1:3,2:4] 와 동일하게 팬시색인\n",
    "3. 3x5x4 배열. 행<=>열\n",
    "4. 3x5x4 배열. 층<=>열\n",
    "5. 0~59 (3,5,4)배열. [[9,10],[13,14]], ...29...49 값만 반환하도록 팬시색인"
   ]
  },
  {
   "cell_type": "code",
   "execution_count": 57,
   "metadata": {
    "collapsed": true
   },
   "outputs": [],
   "source": [
    "import numpy as np"
   ]
  },
  {
   "cell_type": "code",
   "execution_count": 48,
   "metadata": {},
   "outputs": [
    {
     "data": {
      "text/plain": [
       "array([[  5.61129845e-316,   6.27463370e-322,   0.00000000e+000,\n",
       "          0.00000000e+000],\n",
       "       [  8.59046977e+183,   5.30276956e+180,   5.05117710e-038,\n",
       "          6.98205646e-076],\n",
       "       [  4.26048631e-086,   3.35659241e-143,   6.01433264e+175,\n",
       "          6.93885958e+218],\n",
       "       [  5.56218858e+180,   3.94356143e+180,   2.57319920e+184,\n",
       "          1.22221796e+165],\n",
       "       [  4.84883257e-033,   5.93852892e-038,   7.17522626e-144,\n",
       "          1.50008929e+248]])"
      ]
     },
     "execution_count": 48,
     "metadata": {},
     "output_type": "execute_result"
    }
   ],
   "source": [
    "p= np.empty((5,4)); p"
   ]
  },
  {
   "cell_type": "markdown",
   "metadata": {},
   "source": [
    "#### 1"
   ]
  },
  {
   "cell_type": "code",
   "execution_count": 50,
   "metadata": {},
   "outputs": [
    {
     "data": {
      "text/plain": [
       "array([  8.59046977e+183,   3.94356143e+180])"
      ]
     },
     "execution_count": 50,
     "metadata": {},
     "output_type": "execute_result"
    }
   ],
   "source": [
    "p[[1,3],[0,1]]"
   ]
  },
  {
   "cell_type": "markdown",
   "metadata": {},
   "source": [
    "#### 2"
   ]
  },
  {
   "cell_type": "code",
   "execution_count": 75,
   "metadata": {},
   "outputs": [
    {
     "data": {
      "text/plain": [
       "array([[  5.05117710e-038,   6.98205646e-076],\n",
       "       [  6.01433264e+175,   6.93885958e+218]])"
      ]
     },
     "execution_count": 75,
     "metadata": {},
     "output_type": "execute_result"
    }
   ],
   "source": [
    "p[[1,2]][:,[2,3]]\n",
    "# [2:4] 면 2, 3까지만 이다"
   ]
  },
  {
   "cell_type": "code",
   "execution_count": 58,
   "metadata": {},
   "outputs": [
    {
     "data": {
      "text/plain": [
       "array([[  5.05117710e-038,   6.98205646e-076],\n",
       "       [  6.01433264e+175,   6.93885958e+218]])"
      ]
     },
     "execution_count": 58,
     "metadata": {},
     "output_type": "execute_result"
    }
   ],
   "source": [
    "p[np.ix_([1,2],[2,3])]"
   ]
  },
  {
   "cell_type": "markdown",
   "metadata": {},
   "source": [
    "#### 3"
   ]
  },
  {
   "cell_type": "code",
   "execution_count": 59,
   "metadata": {},
   "outputs": [
    {
     "data": {
      "text/plain": [
       "array([[[  5.60442298e-316,   5.51366510e-316,   1.97626258e-323,\n",
       "           5.58633781e-316],\n",
       "        [  0.00000000e+000,   0.00000000e+000,   0.00000000e+000,\n",
       "           0.00000000e+000],\n",
       "        [  0.00000000e+000,   0.00000000e+000,   0.00000000e+000,\n",
       "           0.00000000e+000],\n",
       "        [  0.00000000e+000,   0.00000000e+000,   5.58633662e-316,\n",
       "           0.00000000e+000],\n",
       "        [  1.24949851e+243,   4.51703332e+257,   4.78104776e+180,\n",
       "           9.28824150e+242]],\n",
       "\n",
       "       [[  1.75122952e-317,   2.30054119e-316,   0.00000000e+000,\n",
       "           0.00000000e+000],\n",
       "        [  1.79444643e-320,   5.48985479e-316,   4.88059032e-313,\n",
       "           0.00000000e+000],\n",
       "        [  0.00000000e+000,   1.97626258e-323,   2.33419537e-313,\n",
       "           2.42869051e-313],\n",
       "        [  0.00000000e+000,   1.33360296e+241,   1.00200650e-310,\n",
       "           1.85505085e-229],\n",
       "        [  3.70188797e-313,   3.95580758e-308,   1.33360302e+241,\n",
       "           5.49015311e-316]],\n",
       "\n",
       "       [[  5.48993730e-316,   4.76288587e-313,   3.39953911e-308,\n",
       "           1.33360301e+241],\n",
       "        [  2.19711444e-310,   4.79020482e-109,   5.54041819e+228,\n",
       "           3.05533361e-310],\n",
       "        [  9.11390253e-304,   1.18499368e-303,   1.09385188e-303,\n",
       "           8.36326332e-299],\n",
       "        [  5.48247732e-294,   1.42165498e-096,   5.81355477e-034,\n",
       "           4.43484160e+154],\n",
       "        [  2.50376913e-024,   8.52675680e+014,   7.03043117e-010,\n",
       "           0.00000000e+000]]])"
      ]
     },
     "execution_count": 59,
     "metadata": {},
     "output_type": "execute_result"
    }
   ],
   "source": [
    "arr= np.empty((3,5,4)); arr"
   ]
  },
  {
   "cell_type": "code",
   "execution_count": 62,
   "metadata": {},
   "outputs": [
    {
     "data": {
      "text/plain": [
       "(3, 5, 4)"
      ]
     },
     "execution_count": 62,
     "metadata": {},
     "output_type": "execute_result"
    }
   ],
   "source": [
    "arr.shape"
   ]
  },
  {
   "cell_type": "code",
   "execution_count": 63,
   "metadata": {
    "collapsed": true
   },
   "outputs": [],
   "source": [
    "# arr.T #2차원에서만 가능"
   ]
  },
  {
   "cell_type": "code",
   "execution_count": 65,
   "metadata": {},
   "outputs": [
    {
     "ename": "ValueError",
     "evalue": "axes don't match array",
     "output_type": "error",
     "traceback": [
      "\u001b[1;31m---------------------------------------------------------------------------\u001b[0m",
      "\u001b[1;31mValueError\u001b[0m                                Traceback (most recent call last)",
      "\u001b[1;32m<ipython-input-65-5c8c7841d7b7>\u001b[0m in \u001b[0;36m<module>\u001b[1;34m()\u001b[0m\n\u001b[1;32m----> 1\u001b[1;33m \u001b[0marr\u001b[0m\u001b[1;33m.\u001b[0m\u001b[0mtranspose\u001b[0m\u001b[1;33m(\u001b[0m\u001b[1;36m2\u001b[0m\u001b[1;33m,\u001b[0m\u001b[1;36m1\u001b[0m\u001b[1;33m)\u001b[0m\u001b[1;33m\u001b[0m\u001b[0m\n\u001b[0m",
      "\u001b[1;31mValueError\u001b[0m: axes don't match array"
     ]
    }
   ],
   "source": [
    "arr.transpose(2,1)"
   ]
  },
  {
   "cell_type": "code",
   "execution_count": 66,
   "metadata": {},
   "outputs": [
    {
     "data": {
      "text/plain": [
       "array([[[  5.60442298e-316,   0.00000000e+000,   0.00000000e+000,\n",
       "           0.00000000e+000,   1.24949851e+243],\n",
       "        [  5.51366510e-316,   0.00000000e+000,   0.00000000e+000,\n",
       "           0.00000000e+000,   4.51703332e+257],\n",
       "        [  1.97626258e-323,   0.00000000e+000,   0.00000000e+000,\n",
       "           5.58633662e-316,   4.78104776e+180],\n",
       "        [  5.58633781e-316,   0.00000000e+000,   0.00000000e+000,\n",
       "           0.00000000e+000,   9.28824150e+242]],\n",
       "\n",
       "       [[  1.75122952e-317,   1.79444643e-320,   0.00000000e+000,\n",
       "           0.00000000e+000,   3.70188797e-313],\n",
       "        [  2.30054119e-316,   5.48985479e-316,   1.97626258e-323,\n",
       "           1.33360296e+241,   3.95580758e-308],\n",
       "        [  0.00000000e+000,   4.88059032e-313,   2.33419537e-313,\n",
       "           1.00200650e-310,   1.33360302e+241],\n",
       "        [  0.00000000e+000,   0.00000000e+000,   2.42869051e-313,\n",
       "           1.85505085e-229,   5.49015311e-316]],\n",
       "\n",
       "       [[  5.48993730e-316,   2.19711444e-310,   9.11390253e-304,\n",
       "           5.48247732e-294,   2.50376913e-024],\n",
       "        [  4.76288587e-313,   4.79020482e-109,   1.18499368e-303,\n",
       "           1.42165498e-096,   8.52675680e+014],\n",
       "        [  3.39953911e-308,   5.54041819e+228,   1.09385188e-303,\n",
       "           5.81355477e-034,   7.03043117e-010],\n",
       "        [  1.33360301e+241,   3.05533361e-310,   8.36326332e-299,\n",
       "           4.43484160e+154,   0.00000000e+000]]])"
      ]
     },
     "execution_count": 66,
     "metadata": {},
     "output_type": "execute_result"
    }
   ],
   "source": [
    "arr.transpose(0,2,1)"
   ]
  },
  {
   "cell_type": "code",
   "execution_count": 67,
   "metadata": {},
   "outputs": [
    {
     "data": {
      "text/plain": [
       "array([[[  5.60442298e-316,   0.00000000e+000,   0.00000000e+000,\n",
       "           0.00000000e+000,   1.24949851e+243],\n",
       "        [  5.51366510e-316,   0.00000000e+000,   0.00000000e+000,\n",
       "           0.00000000e+000,   4.51703332e+257],\n",
       "        [  1.97626258e-323,   0.00000000e+000,   0.00000000e+000,\n",
       "           5.58633662e-316,   4.78104776e+180],\n",
       "        [  5.58633781e-316,   0.00000000e+000,   0.00000000e+000,\n",
       "           0.00000000e+000,   9.28824150e+242]],\n",
       "\n",
       "       [[  1.75122952e-317,   1.79444643e-320,   0.00000000e+000,\n",
       "           0.00000000e+000,   3.70188797e-313],\n",
       "        [  2.30054119e-316,   5.48985479e-316,   1.97626258e-323,\n",
       "           1.33360296e+241,   3.95580758e-308],\n",
       "        [  0.00000000e+000,   4.88059032e-313,   2.33419537e-313,\n",
       "           1.00200650e-310,   1.33360302e+241],\n",
       "        [  0.00000000e+000,   0.00000000e+000,   2.42869051e-313,\n",
       "           1.85505085e-229,   5.49015311e-316]],\n",
       "\n",
       "       [[  5.48993730e-316,   2.19711444e-310,   9.11390253e-304,\n",
       "           5.48247732e-294,   2.50376913e-024],\n",
       "        [  4.76288587e-313,   4.79020482e-109,   1.18499368e-303,\n",
       "           1.42165498e-096,   8.52675680e+014],\n",
       "        [  3.39953911e-308,   5.54041819e+228,   1.09385188e-303,\n",
       "           5.81355477e-034,   7.03043117e-010],\n",
       "        [  1.33360301e+241,   3.05533361e-310,   8.36326332e-299,\n",
       "           4.43484160e+154,   0.00000000e+000]]])"
      ]
     },
     "execution_count": 67,
     "metadata": {},
     "output_type": "execute_result"
    }
   ],
   "source": [
    "arr.swapaxes(2,1)"
   ]
  },
  {
   "cell_type": "markdown",
   "metadata": {},
   "source": [
    "#### 4"
   ]
  },
  {
   "cell_type": "code",
   "execution_count": 68,
   "metadata": {},
   "outputs": [
    {
     "data": {
      "text/plain": [
       "array([[[  5.60442298e-316,   0.00000000e+000,   0.00000000e+000,\n",
       "           0.00000000e+000],\n",
       "        [  1.24949851e+243,   5.51366510e-316,   0.00000000e+000,\n",
       "           0.00000000e+000],\n",
       "        [  0.00000000e+000,   4.51703332e+257,   1.97626258e-323,\n",
       "           0.00000000e+000],\n",
       "        [  0.00000000e+000,   5.58633662e-316,   4.78104776e+180,\n",
       "           5.58633781e-316],\n",
       "        [  0.00000000e+000,   0.00000000e+000,   0.00000000e+000,\n",
       "           9.28824150e+242]],\n",
       "\n",
       "       [[  1.75122952e-317,   1.79444643e-320,   0.00000000e+000,\n",
       "           0.00000000e+000],\n",
       "        [  3.70188797e-313,   2.30054119e-316,   5.48985479e-316,\n",
       "           1.97626258e-323],\n",
       "        [  1.33360296e+241,   3.95580758e-308,   0.00000000e+000,\n",
       "           4.88059032e-313],\n",
       "        [  2.33419537e-313,   1.00200650e-310,   1.33360302e+241,\n",
       "           0.00000000e+000],\n",
       "        [  0.00000000e+000,   2.42869051e-313,   1.85505085e-229,\n",
       "           5.49015311e-316]],\n",
       "\n",
       "       [[  5.48993730e-316,   2.19711444e-310,   9.11390253e-304,\n",
       "           5.48247732e-294],\n",
       "        [  2.50376913e-024,   4.76288587e-313,   4.79020482e-109,\n",
       "           1.18499368e-303],\n",
       "        [  1.42165498e-096,   8.52675680e+014,   3.39953911e-308,\n",
       "           5.54041819e+228],\n",
       "        [  1.09385188e-303,   5.81355477e-034,   7.03043117e-010,\n",
       "           1.33360301e+241],\n",
       "        [  3.05533361e-310,   8.36326332e-299,   4.43484160e+154,\n",
       "           0.00000000e+000]]])"
      ]
     },
     "execution_count": 68,
     "metadata": {},
     "output_type": "execute_result"
    }
   ],
   "source": [
    "arr= np.empty((3,5,4)); arr"
   ]
  },
  {
   "cell_type": "code",
   "execution_count": 69,
   "metadata": {},
   "outputs": [
    {
     "data": {
      "text/plain": [
       "array([[[  5.60442298e-316,   1.75122952e-317,   5.48993730e-316],\n",
       "        [  1.24949851e+243,   3.70188797e-313,   2.50376913e-024],\n",
       "        [  0.00000000e+000,   1.33360296e+241,   1.42165498e-096],\n",
       "        [  0.00000000e+000,   2.33419537e-313,   1.09385188e-303],\n",
       "        [  0.00000000e+000,   0.00000000e+000,   3.05533361e-310]],\n",
       "\n",
       "       [[  0.00000000e+000,   1.79444643e-320,   2.19711444e-310],\n",
       "        [  5.51366510e-316,   2.30054119e-316,   4.76288587e-313],\n",
       "        [  4.51703332e+257,   3.95580758e-308,   8.52675680e+014],\n",
       "        [  5.58633662e-316,   1.00200650e-310,   5.81355477e-034],\n",
       "        [  0.00000000e+000,   2.42869051e-313,   8.36326332e-299]],\n",
       "\n",
       "       [[  0.00000000e+000,   0.00000000e+000,   9.11390253e-304],\n",
       "        [  0.00000000e+000,   5.48985479e-316,   4.79020482e-109],\n",
       "        [  1.97626258e-323,   0.00000000e+000,   3.39953911e-308],\n",
       "        [  4.78104776e+180,   1.33360302e+241,   7.03043117e-010],\n",
       "        [  0.00000000e+000,   1.85505085e-229,   4.43484160e+154]],\n",
       "\n",
       "       [[  0.00000000e+000,   0.00000000e+000,   5.48247732e-294],\n",
       "        [  0.00000000e+000,   1.97626258e-323,   1.18499368e-303],\n",
       "        [  0.00000000e+000,   4.88059032e-313,   5.54041819e+228],\n",
       "        [  5.58633781e-316,   0.00000000e+000,   1.33360301e+241],\n",
       "        [  9.28824150e+242,   5.49015311e-316,   0.00000000e+000]]])"
      ]
     },
     "execution_count": 69,
     "metadata": {},
     "output_type": "execute_result"
    }
   ],
   "source": [
    "arr.transpose(2,1,0)"
   ]
  },
  {
   "cell_type": "code",
   "execution_count": 70,
   "metadata": {},
   "outputs": [
    {
     "data": {
      "text/plain": [
       "array([[[  5.60442298e-316,   1.75122952e-317,   5.48993730e-316],\n",
       "        [  1.24949851e+243,   3.70188797e-313,   2.50376913e-024],\n",
       "        [  0.00000000e+000,   1.33360296e+241,   1.42165498e-096],\n",
       "        [  0.00000000e+000,   2.33419537e-313,   1.09385188e-303],\n",
       "        [  0.00000000e+000,   0.00000000e+000,   3.05533361e-310]],\n",
       "\n",
       "       [[  0.00000000e+000,   1.79444643e-320,   2.19711444e-310],\n",
       "        [  5.51366510e-316,   2.30054119e-316,   4.76288587e-313],\n",
       "        [  4.51703332e+257,   3.95580758e-308,   8.52675680e+014],\n",
       "        [  5.58633662e-316,   1.00200650e-310,   5.81355477e-034],\n",
       "        [  0.00000000e+000,   2.42869051e-313,   8.36326332e-299]],\n",
       "\n",
       "       [[  0.00000000e+000,   0.00000000e+000,   9.11390253e-304],\n",
       "        [  0.00000000e+000,   5.48985479e-316,   4.79020482e-109],\n",
       "        [  1.97626258e-323,   0.00000000e+000,   3.39953911e-308],\n",
       "        [  4.78104776e+180,   1.33360302e+241,   7.03043117e-010],\n",
       "        [  0.00000000e+000,   1.85505085e-229,   4.43484160e+154]],\n",
       "\n",
       "       [[  0.00000000e+000,   0.00000000e+000,   5.48247732e-294],\n",
       "        [  0.00000000e+000,   1.97626258e-323,   1.18499368e-303],\n",
       "        [  0.00000000e+000,   4.88059032e-313,   5.54041819e+228],\n",
       "        [  5.58633781e-316,   0.00000000e+000,   1.33360301e+241],\n",
       "        [  9.28824150e+242,   5.49015311e-316,   0.00000000e+000]]])"
      ]
     },
     "execution_count": 70,
     "metadata": {},
     "output_type": "execute_result"
    }
   ],
   "source": [
    "arr.swapaxes(0,2)"
   ]
  },
  {
   "cell_type": "markdown",
   "metadata": {},
   "source": [
    "#### 5"
   ]
  },
  {
   "cell_type": "code",
   "execution_count": 122,
   "metadata": {},
   "outputs": [
    {
     "data": {
      "text/plain": [
       "array([[[ 0,  1,  2,  3],\n",
       "        [ 4,  5,  6,  7],\n",
       "        [ 8,  9, 10, 11],\n",
       "        [12, 13, 14, 15],\n",
       "        [16, 17, 18, 19]],\n",
       "\n",
       "       [[20, 21, 22, 23],\n",
       "        [24, 25, 26, 27],\n",
       "        [28, 29, 30, 31],\n",
       "        [32, 33, 34, 35],\n",
       "        [36, 37, 38, 39]],\n",
       "\n",
       "       [[40, 41, 42, 43],\n",
       "        [44, 45, 46, 47],\n",
       "        [48, 49, 50, 51],\n",
       "        [52, 53, 54, 55],\n",
       "        [56, 57, 58, 59]]])"
      ]
     },
     "execution_count": 122,
     "metadata": {},
     "output_type": "execute_result"
    }
   ],
   "source": [
    "arr= np.arange(60).reshape((3,5,4)); arr # (60): 0~59"
   ]
  },
  {
   "cell_type": "code",
   "execution_count": 123,
   "metadata": {},
   "outputs": [
    {
     "data": {
      "text/plain": [
       "array([[[ 9, 10],\n",
       "        [13, 14]],\n",
       "\n",
       "       [[29, 30],\n",
       "        [33, 34]],\n",
       "\n",
       "       [[49, 50],\n",
       "        [53, 54]]])"
      ]
     },
     "execution_count": 123,
     "metadata": {},
     "output_type": "execute_result"
    }
   ],
   "source": [
    "#슬라이스 색인\n",
    "arr[:,2:4,1:3]"
   ]
  },
  {
   "cell_type": "code",
   "execution_count": 128,
   "metadata": {
    "scrolled": true
   },
   "outputs": [
    {
     "data": {
      "text/plain": [
       "array([[[ 9, 10],\n",
       "        [13, 14]],\n",
       "\n",
       "       [[29, 30],\n",
       "        [33, 34]],\n",
       "\n",
       "       [[49, 50],\n",
       "        [53, 54]]])"
      ]
     },
     "execution_count": 128,
     "metadata": {},
     "output_type": "execute_result"
    }
   ],
   "source": [
    "arr[[0,1,2]][:,[2,3]]#[:,:,[1,2]]\n",
    "arr[[0,1,2]][:,[2,3]][:,:,[1,2]]"
   ]
  },
  {
   "cell_type": "code",
   "execution_count": 83,
   "metadata": {},
   "outputs": [
    {
     "data": {
      "text/plain": [
       "array([[[ 9, 10],\n",
       "        [13, 14]],\n",
       "\n",
       "       [[29, 30],\n",
       "        [33, 34]],\n",
       "\n",
       "       [[49, 50],\n",
       "        [53, 54]]])"
      ]
     },
     "execution_count": 83,
     "metadata": {},
     "output_type": "execute_result"
    }
   ],
   "source": [
    "arr[np.ix_([0,1,2],[2,3],[1,2])]"
   ]
  },
  {
   "cell_type": "code",
   "execution_count": null,
   "metadata": {
    "collapsed": true
   },
   "outputs": [],
   "source": []
  },
  {
   "cell_type": "code",
   "execution_count": null,
   "metadata": {
    "collapsed": true
   },
   "outputs": [],
   "source": []
  },
  {
   "cell_type": "markdown",
   "metadata": {},
   "source": [
    "##### 팬시색인 좀더 연습\n",
    "http://studymake.tistory.com/405"
   ]
  },
  {
   "cell_type": "code",
   "execution_count": 108,
   "metadata": {
    "scrolled": true
   },
   "outputs": [
    {
     "data": {
      "text/plain": [
       "array([[[ 0.708562  , -0.53939293],\n",
       "        [-0.61613378,  0.68266683],\n",
       "        [ 0.16645041, -0.9782574 ],\n",
       "        [ 1.59575931, -0.99538194]],\n",
       "\n",
       "       [[ 1.52795937, -0.32430058],\n",
       "        [-1.58566849, -0.81255404],\n",
       "        [-1.09054574, -1.97220645],\n",
       "        [-0.01091433,  0.34239979]],\n",
       "\n",
       "       [[ 0.45661548, -0.11574098],\n",
       "        [ 1.13891438, -0.91249945],\n",
       "        [ 1.42442   ,  0.15511022],\n",
       "        [-0.94234305, -0.65956942]]])"
      ]
     },
     "execution_count": 108,
     "metadata": {},
     "output_type": "execute_result"
    }
   ],
   "source": [
    "#실행할때마다 바뀜에 유의\n",
    "arr= np.random.randn(3,4,2); arr"
   ]
  },
  {
   "cell_type": "code",
   "execution_count": null,
   "metadata": {
    "collapsed": true
   },
   "outputs": [],
   "source": []
  },
  {
   "cell_type": "markdown",
   "metadata": {},
   "source": [
    "### [[ ]] 랑 [ ] 차이?"
   ]
  },
  {
   "cell_type": "code",
   "execution_count": 134,
   "metadata": {
    "scrolled": true
   },
   "outputs": [
    {
     "data": {
      "text/plain": [
       "array([[ 0,  1,  2,  3],\n",
       "       [ 4,  5,  6,  7],\n",
       "       [ 8,  9, 10, 11],\n",
       "       [12, 13, 14, 15],\n",
       "       [16, 17, 18, 19],\n",
       "       [20, 21, 22, 23]])"
      ]
     },
     "execution_count": 134,
     "metadata": {},
     "output_type": "execute_result"
    }
   ],
   "source": [
    "ppp=np.arange(24).reshape((6,4)); ppp"
   ]
  },
  {
   "cell_type": "code",
   "execution_count": 130,
   "metadata": {
    "scrolled": true
   },
   "outputs": [
    {
     "data": {
      "text/plain": [
       "array([ 2,  6, 10, 14, 18, 22])"
      ]
     },
     "execution_count": 130,
     "metadata": {},
     "output_type": "execute_result"
    }
   ],
   "source": [
    "# 각층 2행\n",
    "ppp[:,2]"
   ]
  },
  {
   "cell_type": "code",
   "execution_count": 131,
   "metadata": {},
   "outputs": [
    {
     "data": {
      "text/plain": [
       "array([ 8,  9, 10, 11])"
      ]
     },
     "execution_count": 131,
     "metadata": {},
     "output_type": "execute_result"
    }
   ],
   "source": [
    "# 2층 전체 ???왜지\n",
    "ppp[:][2]"
   ]
  },
  {
   "cell_type": "code",
   "execution_count": 132,
   "metadata": {},
   "outputs": [
    {
     "data": {
      "text/plain": [
       "array([1])"
      ]
     },
     "execution_count": 132,
     "metadata": {},
     "output_type": "execute_result"
    }
   ],
   "source": [
    "# 0층 1행\n",
    "ppp[[0],1]"
   ]
  },
  {
   "cell_type": "markdown",
   "metadata": {},
   "source": [
    "#### 이게 됨\n",
    "왜죠. [[ ]] 랑 [ ] 의미가.?"
   ]
  },
  {
   "cell_type": "code",
   "execution_count": 162,
   "metadata": {
    "scrolled": true
   },
   "outputs": [
    {
     "data": {
      "text/plain": [
       "array([[ 0,  1,  2,  3],\n",
       "       [ 4,  5,  6,  7],\n",
       "       [ 8,  9, 10, 11],\n",
       "       [12, 13, 14, 15],\n",
       "       [16, 17, 18, 19],\n",
       "       [20, 21, 22, 23]])"
      ]
     },
     "execution_count": 162,
     "metadata": {},
     "output_type": "execute_result"
    }
   ],
   "source": [
    "pp=np.arange(24).reshape((6,4)); pp"
   ]
  },
  {
   "cell_type": "code",
   "execution_count": 163,
   "metadata": {},
   "outputs": [
    {
     "data": {
      "text/plain": [
       "array([ 8,  9, 10, 11])"
      ]
     },
     "execution_count": 163,
     "metadata": {},
     "output_type": "execute_result"
    }
   ],
   "source": [
    "# 1,2행 중에서 두(1)번째 것== 2행\n",
    "pp[[1,2]][1]"
   ]
  },
  {
   "cell_type": "code",
   "execution_count": 164,
   "metadata": {},
   "outputs": [
    {
     "data": {
      "text/plain": [
       "array([5, 9])"
      ]
     },
     "execution_count": 164,
     "metadata": {},
     "output_type": "execute_result"
    }
   ],
   "source": [
    "# 1,2행의 두(1)번째 열\n",
    "pp[[1,2],1]"
   ]
  },
  {
   "cell_type": "code",
   "execution_count": 165,
   "metadata": {},
   "outputs": [
    {
     "data": {
      "text/plain": [
       "array([5, 6])"
      ]
     },
     "execution_count": 165,
     "metadata": {},
     "output_type": "execute_result"
    }
   ],
   "source": [
    "# 1행의 1,2열\n",
    "pp[1][[1,2]]"
   ]
  },
  {
   "cell_type": "code",
   "execution_count": 166,
   "metadata": {},
   "outputs": [
    {
     "data": {
      "text/plain": [
       "array([5, 6])"
      ]
     },
     "execution_count": 166,
     "metadata": {},
     "output_type": "execute_result"
    }
   ],
   "source": [
    "# 1행의 1,2열\n",
    "pp[1,[1,2]]"
   ]
  },
  {
   "cell_type": "code",
   "execution_count": null,
   "metadata": {
    "collapsed": true
   },
   "outputs": [],
   "source": []
  },
  {
   "cell_type": "code",
   "execution_count": 153,
   "metadata": {
    "collapsed": true
   },
   "outputs": [],
   "source": [
    "arr= np.arange(720).reshape(6,5,4,3,2,1)"
   ]
  },
  {
   "cell_type": "code",
   "execution_count": 158,
   "metadata": {
    "collapsed": true
   },
   "outputs": [],
   "source": [
    "# 되는데, 너무 길어서\n",
    "# arr.transpose(5,3,2,1,0,4)"
   ]
  },
  {
   "cell_type": "code",
   "execution_count": null,
   "metadata": {
    "collapsed": true
   },
   "outputs": [],
   "source": []
  },
  {
   "cell_type": "code",
   "execution_count": 167,
   "metadata": {
    "scrolled": true
   },
   "outputs": [
    {
     "data": {
      "text/plain": [
       "array([[[ 0,  1,  2],\n",
       "        [ 3,  4,  5],\n",
       "        [ 6,  7,  8],\n",
       "        [ 9, 10, 11]],\n",
       "\n",
       "       [[12, 13, 14],\n",
       "        [15, 16, 17],\n",
       "        [18, 19, 20],\n",
       "        [21, 22, 23]],\n",
       "\n",
       "       [[24, 25, 26],\n",
       "        [27, 28, 29],\n",
       "        [30, 31, 32],\n",
       "        [33, 34, 35]],\n",
       "\n",
       "       [[36, 37, 38],\n",
       "        [39, 40, 41],\n",
       "        [42, 43, 44],\n",
       "        [45, 46, 47]],\n",
       "\n",
       "       [[48, 49, 50],\n",
       "        [51, 52, 53],\n",
       "        [54, 55, 56],\n",
       "        [57, 58, 59]]])"
      ]
     },
     "execution_count": 167,
     "metadata": {},
     "output_type": "execute_result"
    }
   ],
   "source": [
    "ppp=np.arange(60).reshape((5,4,3)); ppp"
   ]
  },
  {
   "cell_type": "code",
   "execution_count": 169,
   "metadata": {},
   "outputs": [
    {
     "data": {
      "text/plain": [
       "array([24, 25, 26])"
      ]
     },
     "execution_count": 169,
     "metadata": {},
     "output_type": "execute_result"
    }
   ],
   "source": [
    "# 1,2행 중에서 두(1)번째 것== 2행\n",
    "ppp[[1,2]][1][0]"
   ]
  },
  {
   "cell_type": "code",
   "execution_count": 170,
   "metadata": {},
   "outputs": [
    {
     "data": {
      "text/plain": [
       "array([15, 16, 17])"
      ]
     },
     "execution_count": 170,
     "metadata": {},
     "output_type": "execute_result"
    }
   ],
   "source": [
    "# 1,2행의 두(1)번째 열\n",
    "ppp[[1,2],1][0]"
   ]
  },
  {
   "cell_type": "code",
   "execution_count": 171,
   "metadata": {},
   "outputs": [
    {
     "data": {
      "text/plain": [
       "array([15, 16, 17])"
      ]
     },
     "execution_count": 171,
     "metadata": {},
     "output_type": "execute_result"
    }
   ],
   "source": [
    "# 1행의 1,2열\n",
    "ppp[1][[1,2]][0]"
   ]
  },
  {
   "cell_type": "code",
   "execution_count": 172,
   "metadata": {},
   "outputs": [
    {
     "data": {
      "text/plain": [
       "array([15, 16, 17])"
      ]
     },
     "execution_count": 172,
     "metadata": {},
     "output_type": "execute_result"
    }
   ],
   "source": [
    "# 1행의 1,2열\n",
    "ppp[1,[1,2]][0]"
   ]
  },
  {
   "cell_type": "code",
   "execution_count": null,
   "metadata": {
    "collapsed": true
   },
   "outputs": [],
   "source": []
  },
  {
   "cell_type": "code",
   "execution_count": null,
   "metadata": {
    "collapsed": true
   },
   "outputs": [],
   "source": []
  }
 ],
 "metadata": {
  "kernelspec": {
   "display_name": "Python 3",
   "language": "python",
   "name": "python3"
  },
  "language_info": {
   "codemirror_mode": {
    "name": "ipython",
    "version": 3
   },
   "file_extension": ".py",
   "mimetype": "text/x-python",
   "name": "python",
   "nbconvert_exporter": "python",
   "pygments_lexer": "ipython3",
   "version": "3.6.3"
  }
 },
 "nbformat": 4,
 "nbformat_minor": 2
}
