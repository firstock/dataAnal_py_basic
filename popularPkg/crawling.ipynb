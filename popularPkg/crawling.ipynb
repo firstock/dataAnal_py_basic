{
 "cells": [
  {
   "cell_type": "markdown",
   "metadata": {},
   "source": [
    "### scrapy, beautifulsoup4\n",
    "https://youtu.be/LQS6QfDQ9RA"
   ]
  },
  {
   "cell_type": "markdown",
   "metadata": {},
   "source": [
    "1. conda install -c conda-forge scrapy\n",
    "혹은\n",
    "2. pip install Scrapy\n",
    "3. pip freeze 로 확인\n",
    "4. 대상 사이트: https://about.gitlab.com/handbook/"
   ]
  },
  {
   "cell_type": "markdown",
   "metadata": {},
   "source": [
    "#### notebook을 파일로 저장\n",
    "!jupyter nbconvert --to script 노트북[경로및]이름.ipynb"
   ]
  },
  {
   "cell_type": "code",
   "execution_count": 2,
   "metadata": {},
   "outputs": [],
   "source": [
    "# !pip install scrapy\n",
    "from scrapy.selector import Selector"
   ]
  },
  {
   "cell_type": "code",
   "execution_count": 17,
   "metadata": {
    "scrolled": true
   },
   "outputs": [
    {
     "name": "stdout",
     "output_type": "stream",
     "text": [
      "New Scrapy project 'gitlab', using template directory 'C:\\\\Users\\\\optim\\\\Anaconda3\\\\lib\\\\site-packages\\\\scrapy\\\\templates\\\\project', created in:\n",
      "    D:\\github\\dataAnal_py_basic\\otherPackage\\gitlab\n",
      "\n",
      "You can start your first spider with:\n",
      "    cd gitlab\n",
      "    scrapy genspider example example.com\n"
     ]
    }
   ],
   "source": [
    "!scrapy startproject gitlab"
   ]
  },
  {
   "cell_type": "code",
   "execution_count": 18,
   "metadata": {},
   "outputs": [
    {
     "name": "stdout",
     "output_type": "stream",
     "text": [
      "Created spider 'handbook' using template 'basic' \n"
     ]
    }
   ],
   "source": [
    "# # 1번만 실행\n",
    "!cd gitlab\n",
    "!scrapy genspider handbook https://about.gitlab.com/handbook/"
   ]
  },
  {
   "cell_type": "code",
   "execution_count": 15,
   "metadata": {},
   "outputs": [
    {
     "ename": "NameError",
     "evalue": "name 'response' is not defined",
     "output_type": "error",
     "traceback": [
      "\u001b[1;31m---------------------------------------------------------------------------\u001b[0m",
      "\u001b[1;31mNameError\u001b[0m                                 Traceback (most recent call last)",
      "\u001b[1;32m<ipython-input-15-8316a3a45ce3>\u001b[0m in \u001b[0;36m<module>\u001b[1;34m()\u001b[0m\n\u001b[1;32m----> 1\u001b[1;33m \u001b[0mhxs\u001b[0m\u001b[1;33m=\u001b[0m \u001b[0mSelector\u001b[0m\u001b[1;33m(\u001b[0m\u001b[0mresponse\u001b[0m\u001b[1;33m)\u001b[0m\u001b[1;33m\u001b[0m\u001b[0m\n\u001b[0m\u001b[0;32m      2\u001b[0m \u001b[0mmembers\u001b[0m\u001b[1;33m=\u001b[0m \u001b[0mhsx\u001b[0m\u001b[1;33m.\u001b[0m\u001b[0mcss\u001b[0m\u001b[1;33m(\u001b[0m\u001b[1;34m\"div.container md-page\"\u001b[0m\u001b[1;33m)\u001b[0m\u001b[1;33m\u001b[0m\u001b[0m\n\u001b[0;32m      3\u001b[0m \u001b[1;32mfor\u001b[0m \u001b[0mindex\u001b[0m\u001b[1;33m,\u001b[0m \u001b[0mmember\u001b[0m \u001b[1;32min\u001b[0m \u001b[0menumerate\u001b[0m\u001b[1;33m(\u001b[0m\u001b[0mmembers\u001b[0m\u001b[1;33m)\u001b[0m\u001b[1;33m:\u001b[0m\u001b[1;33m\u001b[0m\u001b[0m\n\u001b[0;32m      4\u001b[0m     \u001b[0misWrited\u001b[0m\u001b[1;33m=\u001b[0m \u001b[0mlen\u001b[0m\u001b[1;33m(\u001b[0m\u001b[0mmember\u001b[0m\u001b[1;33m.\u001b[0m\u001b[0mxpath\u001b[0m\u001b[1;33m(\u001b[0m\u001b[1;34m'ul'\u001b[0m\u001b[1;33m)\u001b[0m\u001b[1;33m.\u001b[0m\u001b[0mextract\u001b[0m\u001b[1;33m(\u001b[0m\u001b[1;33m)\u001b[0m\u001b[1;33m)\u001b[0m\u001b[1;33m>\u001b[0m \u001b[1;36m0\u001b[0m \u001b[1;31m#and True\u001b[0m\u001b[1;33m\u001b[0m\u001b[0m\n\u001b[0;32m      5\u001b[0m     \u001b[0mtext\u001b[0m\u001b[1;33m=\u001b[0m \u001b[0mmember\u001b[0m\u001b[1;33m.\u001b[0m\u001b[0mextract\u001b[0m\u001b[1;33m(\u001b[0m\u001b[1;33m)\u001b[0m\u001b[1;33m\u001b[0m\u001b[0m\n",
      "\u001b[1;31mNameError\u001b[0m: name 'response' is not defined"
     ]
    }
   ],
   "source": [
    "hxs= Selector(response)\n",
    "members= hsx.css(\"div.container md-page\")\n",
    "for index, member in enumerate(members):\n",
    "    isWrited= len(member.xpath('ul').extract())> 0 #and True\n",
    "    text= member.extract()\n",
    "    print(isWrited)"
   ]
  },
  {
   "cell_type": "code",
   "execution_count": 7,
   "metadata": {},
   "outputs": [],
   "source": [
    "# a1= [1,2,3]\n",
    "# for index, member in enumerate(a1):\n",
    "#     print(index,member)\n",
    "# 0 1\n",
    "# 1 2\n",
    "# 2 3"
   ]
  },
  {
   "cell_type": "markdown",
   "metadata": {},
   "source": [
    "###### or이 and보다 우선순위 높다"
   ]
  },
  {
   "cell_type": "code",
   "execution_count": null,
   "metadata": {},
   "outputs": [],
   "source": []
  },
  {
   "cell_type": "code",
   "execution_count": 1,
   "metadata": {},
   "outputs": [],
   "source": [
    "import re"
   ]
  },
  {
   "cell_type": "code",
   "execution_count": 3,
   "metadata": {},
   "outputs": [
    {
     "data": {
      "text/plain": [
       "['',\n",
       " 'C:\\\\Users\\\\optim\\\\Anaconda3\\\\python36.zip',\n",
       " 'C:\\\\Users\\\\optim\\\\Anaconda3\\\\DLLs',\n",
       " 'C:\\\\Users\\\\optim\\\\Anaconda3\\\\lib',\n",
       " 'C:\\\\Users\\\\optim\\\\Anaconda3',\n",
       " 'C:\\\\Users\\\\optim\\\\Anaconda3\\\\lib\\\\site-packages',\n",
       " 'C:\\\\Users\\\\optim\\\\Anaconda3\\\\lib\\\\site-packages\\\\win32',\n",
       " 'C:\\\\Users\\\\optim\\\\Anaconda3\\\\lib\\\\site-packages\\\\win32\\\\lib',\n",
       " 'C:\\\\Users\\\\optim\\\\Anaconda3\\\\lib\\\\site-packages\\\\Pythonwin',\n",
       " 'C:\\\\Users\\\\optim\\\\Anaconda3\\\\lib\\\\site-packages\\\\IPython\\\\extensions',\n",
       " 'C:\\\\Users\\\\optim\\\\.ipython']"
      ]
     },
     "execution_count": 3,
     "metadata": {},
     "output_type": "execute_result"
    }
   ],
   "source": [
    "import sys\n",
    "sys.path"
   ]
  },
  {
   "cell_type": "code",
   "execution_count": 4,
   "metadata": {},
   "outputs": [
    {
     "name": "stdout",
     "output_type": "stream",
     "text": [
      "[zope.interface 4.4.3 (c:\\users\\optim\\anaconda3\\lib\\site-packages),\n",
      " zict 0.1.3 (c:\\users\\optim\\anaconda3\\lib\\site-packages),\n",
      " xlwt 1.3.0 (c:\\users\\optim\\anaconda3\\lib\\site-packages),\n",
      " xlwings 0.11.5 (c:\\users\\optim\\anaconda3\\lib\\site-packages),\n",
      " XlsxWriter 1.0.2 (c:\\users\\optim\\anaconda3\\lib\\site-packages),\n",
      " xlrd 1.1.0 (c:\\users\\optim\\anaconda3\\lib\\site-packages),\n",
      " wrapt 1.10.11 (c:\\users\\optim\\anaconda3\\lib\\site-packages),\n",
      " wincertstore 0.2 (c:\\users\\optim\\anaconda3\\lib\\site-packages),\n",
      " win-unicode-console 0.5 (c:\\users\\optim\\anaconda3\\lib\\site-packages),\n",
      " win-inet-pton 1.0.1 (c:\\users\\optim\\anaconda3\\lib\\site-packages),\n",
      " widgetsnbextension 3.1.0 (c:\\users\\optim\\anaconda3\\lib\\site-packages),\n",
      " wheel 0.30.0 (c:\\users\\optim\\anaconda3\\lib\\site-packages),\n",
      " Werkzeug 0.14.1 (c:\\users\\optim\\anaconda3\\lib\\site-packages),\n",
      " webencodings 0.5.1 (c:\\users\\optim\\anaconda3\\lib\\site-packages),\n",
      " wcwidth 0.1.7 (c:\\users\\optim\\anaconda3\\lib\\site-packages),\n",
      " w3lib 1.19.0 (c:\\users\\optim\\anaconda3\\lib\\site-packages),\n",
      " urllib3 1.22 (c:\\users\\optim\\anaconda3\\lib\\site-packages),\n",
      " unicodecsv 0.14.1 (c:\\users\\optim\\anaconda3\\lib\\site-packages),\n",
      " typing 3.6.2 (c:\\users\\optim\\anaconda3\\lib\\site-packages),\n",
      " Twisted 17.5.0 (c:\\users\\optim\\anaconda3\\lib\\site-packages),\n",
      " traitlets 4.3.2 (c:\\users\\optim\\anaconda3\\lib\\site-packages),\n",
      " tornado 4.5.3 (c:\\users\\optim\\anaconda3\\lib\\site-packages),\n",
      " toolz 0.9.0 (c:\\users\\optim\\anaconda3\\lib\\site-packages),\n",
      " testpath 0.3.1 (c:\\users\\optim\\anaconda3\\lib\\site-packages),\n",
      " terminado 0.8.1 (c:\\users\\optim\\anaconda3\\lib\\site-packages),\n",
      " tblib 1.3.2 (c:\\users\\optim\\anaconda3\\lib\\site-packages),\n",
      " tables 3.4.2 (c:\\users\\optim\\anaconda3\\lib\\site-packages),\n",
      " sympy 1.1.1 (c:\\users\\optim\\anaconda3\\lib\\site-packages),\n",
      " statsmodels 0.8.0 (c:\\users\\optim\\anaconda3\\lib\\site-packages),\n",
      " SQLAlchemy 1.2.1 (c:\\users\\optim\\anaconda3\\lib\\site-packages),\n",
      " spyder 3.2.6 (c:\\users\\optim\\anaconda3\\lib\\site-packages),\n",
      " sphinxcontrib-websupport 1.0.1 (c:\\users\\optim\\anaconda3\\lib\\site-packages),\n",
      " Sphinx 1.6.6 (c:\\users\\optim\\anaconda3\\lib\\site-packages),\n",
      " sortedcontainers 1.5.9 (c:\\users\\optim\\anaconda3\\lib\\site-packages),\n",
      " sortedcollections 0.5.3 (c:\\users\\optim\\anaconda3\\lib\\site-packages),\n",
      " snowballstemmer 1.2.1 (c:\\users\\optim\\anaconda3\\lib\\site-packages),\n",
      " six 1.11.0 (c:\\users\\optim\\anaconda3\\lib\\site-packages),\n",
      " singledispatch 3.4.0.3 (c:\\users\\optim\\anaconda3\\lib\\site-packages),\n",
      " simplegeneric 0.8.1 (c:\\users\\optim\\anaconda3\\lib\\site-packages),\n",
      " setuptools 38.4.0 (c:\\users\\optim\\anaconda3\\lib\\site-packages),\n",
      " service-identity 17.0.0 (c:\\users\\optim\\anaconda3\\lib\\site-packages),\n",
      " Send2Trash 1.4.2 (c:\\users\\optim\\anaconda3\\lib\\site-packages),\n",
      " seaborn 0.8.1 (c:\\users\\optim\\anaconda3\\lib\\site-packages),\n",
      " Scrapy 1.5.0 (c:\\users\\optim\\anaconda3\\lib\\site-packages),\n",
      " scipy 1.0.0 (c:\\users\\optim\\anaconda3\\lib\\site-packages),\n",
      " scikit-learn 0.19.1 (c:\\users\\optim\\anaconda3\\lib\\site-packages),\n",
      " scikit-image 0.13.1 (c:\\users\\optim\\anaconda3\\lib\\site-packages),\n",
      " ruamel-yaml 0.15.35 (c:\\users\\optim\\anaconda3\\lib\\site-packages),\n",
      " rope 0.10.7 (c:\\users\\optim\\anaconda3\\lib\\site-packages),\n",
      " requests 2.18.4 (c:\\users\\optim\\anaconda3\\lib\\site-packages),\n",
      " queuelib 1.4.2 (c:\\users\\optim\\anaconda3\\lib\\site-packages),\n",
      " QtPy 1.3.1 (c:\\users\\optim\\anaconda3\\lib\\site-packages),\n",
      " qtconsole 4.3.1 (c:\\users\\optim\\anaconda3\\lib\\site-packages),\n",
      " QtAwesome 0.4.4 (c:\\users\\optim\\anaconda3\\lib\\site-packages),\n",
      " pyzmq 16.0.3 (c:\\users\\optim\\anaconda3\\lib\\site-packages),\n",
      " PyYAML 3.12 (c:\\users\\optim\\anaconda3\\lib\\site-packages),\n",
      " pywinpty 0.5 (c:\\users\\optim\\anaconda3\\lib\\site-packages),\n",
      " pywin32 222 (c:\\users\\optim\\anaconda3\\lib\\site-packages),\n",
      " PyWavelets 0.5.2 (c:\\users\\optim\\anaconda3\\lib\\site-packages),\n",
      " pytz 2017.3 (c:\\users\\optim\\anaconda3\\lib\\site-packages),\n",
      " python-dateutil 2.6.1 (c:\\users\\optim\\anaconda3\\lib\\site-packages),\n",
      " pytest 3.3.2 (c:\\users\\optim\\anaconda3\\lib\\site-packages),\n",
      " PySocks 1.6.7 (c:\\users\\optim\\anaconda3\\lib\\site-packages),\n",
      " pypiwin32 220 (c:\\users\\optim\\anaconda3\\lib\\site-packages),\n",
      " pyparsing 2.2.0 (c:\\users\\optim\\anaconda3\\lib\\site-packages),\n",
      " pyOpenSSL 17.5.0 (c:\\users\\optim\\anaconda3\\lib\\site-packages),\n",
      " pyodbc 4.0.22 (c:\\users\\optim\\anaconda3\\lib\\site-packages),\n",
      " pylint 1.8.2 (c:\\users\\optim\\anaconda3\\lib\\site-packages),\n",
      " Pygments 2.2.0 (c:\\users\\optim\\anaconda3\\lib\\site-packages),\n",
      " pyflakes 1.6.0 (c:\\users\\optim\\anaconda3\\lib\\site-packages),\n",
      " PyDispatcher 2.0.5 (c:\\users\\optim\\anaconda3\\lib\\site-packages),\n",
      " pycurl 7.43.0.1 (c:\\users\\optim\\anaconda3\\lib\\site-packages),\n",
      " pycrypto 2.6.1 (c:\\users\\optim\\anaconda3\\lib\\site-packages),\n",
      " pycparser 2.18 (c:\\users\\optim\\anaconda3\\lib\\site-packages),\n",
      " pycosat 0.6.3 (c:\\users\\optim\\anaconda3\\lib\\site-packages),\n",
      " pycodestyle 2.3.1 (c:\\users\\optim\\anaconda3\\lib\\site-packages),\n",
      " pyasn1 0.4.2 (c:\\users\\optim\\anaconda3\\lib\\site-packages),\n",
      " pyasn1-modules 0.2.1 (c:\\users\\optim\\anaconda3\\lib\\site-packages),\n",
      " py 1.5.2 (c:\\users\\optim\\anaconda3\\lib\\site-packages),\n",
      " psutil 5.4.3 (c:\\users\\optim\\anaconda3\\lib\\site-packages),\n",
      " prompt-toolkit 1.0.15 (c:\\users\\optim\\anaconda3\\lib\\site-packages),\n",
      " ply 3.10 (c:\\users\\optim\\anaconda3\\lib\\site-packages),\n",
      " pluggy 0.6.0 (c:\\users\\optim\\anaconda3\\lib\\site-packages),\n",
      " pkginfo 1.4.1 (c:\\users\\optim\\anaconda3\\lib\\site-packages),\n",
      " pip 9.0.1 (c:\\users\\optim\\anaconda3\\lib\\site-packages),\n",
      " Pillow 5.0.0 (c:\\users\\optim\\anaconda3\\lib\\site-packages),\n",
      " pickleshare 0.7.4 (c:\\users\\optim\\anaconda3\\lib\\site-packages),\n",
      " pep8 1.7.1 (c:\\users\\optim\\anaconda3\\lib\\site-packages),\n",
      " patsy 0.5.0 (c:\\users\\optim\\anaconda3\\lib\\site-packages),\n",
      " pathlib2 2.3.0 (c:\\users\\optim\\anaconda3\\lib\\site-packages),\n",
      " path.py 10.5 (c:\\users\\optim\\anaconda3\\lib\\site-packages),\n",
      " partd 0.3.8 (c:\\users\\optim\\anaconda3\\lib\\site-packages),\n",
      " parso 0.1.1 (c:\\users\\optim\\anaconda3\\lib\\site-packages),\n",
      " parsel 1.4.0 (c:\\users\\optim\\anaconda3\\lib\\site-packages),\n",
      " pandocfilters 1.4.2 (c:\\users\\optim\\anaconda3\\lib\\site-packages),\n",
      " pandas 0.22.0 (c:\\users\\optim\\anaconda3\\lib\\site-packages),\n",
      " packaging 16.8 (c:\\users\\optim\\anaconda3\\lib\\site-packages),\n",
      " openpyxl 2.4.10 (c:\\users\\optim\\anaconda3\\lib\\site-packages),\n",
      " olefile 0.45.1 (c:\\users\\optim\\anaconda3\\lib\\site-packages),\n",
      " odo 0.5.1 (c:\\users\\optim\\anaconda3\\lib\\site-packages),\n",
      " numpydoc 0.7.0 (c:\\users\\optim\\anaconda3\\lib\\site-packages),\n",
      " numpy 1.14.0 (c:\\users\\optim\\anaconda3\\lib\\site-packages),\n",
      " numexpr 2.6.4 (c:\\users\\optim\\anaconda3\\lib\\site-packages),\n",
      " numba 0.36.2 (c:\\users\\optim\\anaconda3\\lib\\site-packages),\n",
      " notebook 5.4.0 (c:\\users\\optim\\anaconda3\\lib\\site-packages),\n",
      " nose 1.3.7 (c:\\users\\optim\\anaconda3\\lib\\site-packages),\n",
      " nltk 3.2.5 (c:\\users\\optim\\anaconda3\\lib\\site-packages),\n",
      " networkx 2.1 (c:\\users\\optim\\anaconda3\\lib\\site-packages),\n",
      " nbformat 4.4.0 (c:\\users\\optim\\anaconda3\\lib\\site-packages),\n",
      " nbconvert 5.3.1 (c:\\users\\optim\\anaconda3\\lib\\site-packages),\n",
      " navigator-updater 0.1.0 (c:\\users\\optim\\anaconda3\\lib\\site-packages),\n",
      " multipledispatch 0.4.9 (c:\\users\\optim\\anaconda3\\lib\\site-packages),\n",
      " msgpack-python 0.5.1 (c:\\users\\optim\\anaconda3\\lib\\site-packages),\n",
      " mpmath 1.0.0 (c:\\users\\optim\\anaconda3\\lib\\site-packages),\n",
      " mistune 0.8.3 (c:\\users\\optim\\anaconda3\\lib\\site-packages),\n",
      " menuinst 1.4.11 (c:\\users\\optim\\anaconda3\\lib\\site-packages),\n",
      " mccabe 0.6.1 (c:\\users\\optim\\anaconda3\\lib\\site-packages),\n",
      " matplotlib 2.1.2 (c:\\users\\optim\\anaconda3\\lib\\site-packages),\n",
      " MarkupSafe 1.0 (c:\\users\\optim\\anaconda3\\lib\\site-packages),\n",
      " lxml 4.1.1 (c:\\users\\optim\\anaconda3\\lib\\site-packages),\n",
      " locket 0.2.0 (c:\\users\\optim\\anaconda3\\lib\\site-packages),\n",
      " llvmlite 0.21.0 (c:\\users\\optim\\anaconda3\\lib\\site-packages),\n",
      " lazy-object-proxy 1.3.1 (c:\\users\\optim\\anaconda3\\lib\\site-packages),\n",
      " jupyterlab 0.31.4 (c:\\users\\optim\\anaconda3\\lib\\site-packages),\n",
      " jupyterlab-launcher 0.10.2 (c:\\users\\optim\\anaconda3\\lib\\site-packages),\n",
      " jupyter 1.0.0 (c:\\users\\optim\\anaconda3\\lib\\site-packages),\n",
      " jupyter-core 4.4.0 (c:\\users\\optim\\anaconda3\\lib\\site-packages),\n",
      " jupyter-console 5.2.0 (c:\\users\\optim\\anaconda3\\lib\\site-packages),\n",
      " jupyter-client 5.2.2 (c:\\users\\optim\\anaconda3\\lib\\site-packages),\n",
      " jsonschema 2.6.0 (c:\\users\\optim\\anaconda3\\lib\\site-packages),\n",
      " Jinja2 2.10 (c:\\users\\optim\\anaconda3\\lib\\site-packages),\n",
      " jedi 0.11.1 (c:\\users\\optim\\anaconda3\\lib\\site-packages),\n",
      " jdcal 1.3 (c:\\users\\optim\\anaconda3\\lib\\site-packages),\n",
      " itsdangerous 0.24 (c:\\users\\optim\\anaconda3\\lib\\site-packages),\n",
      " isort 4.2.15 (c:\\users\\optim\\anaconda3\\lib\\site-packages),\n",
      " ipywidgets 7.1.1 (c:\\users\\optim\\anaconda3\\lib\\site-packages),\n",
      " ipython 6.2.1 (c:\\users\\optim\\anaconda3\\lib\\site-packages),\n",
      " ipython-genutils 0.2.0 (c:\\users\\optim\\anaconda3\\lib\\site-packages),\n",
      " incremental 17.5.0 (c:\\users\\optim\\anaconda3\\lib\\site-packages),\n",
      " imagesize 0.7.1 (c:\\users\\optim\\anaconda3\\lib\\site-packages),\n",
      " imageio 2.2.0 (c:\\users\\optim\\anaconda3\\lib\\site-packages),\n",
      " idna 2.6 (c:\\users\\optim\\anaconda3\\lib\\site-packages),\n",
      " hyperlink 17.3.1 (c:\\users\\optim\\anaconda3\\lib\\site-packages),\n",
      " html5lib 1.0.1 (c:\\users\\optim\\anaconda3\\lib\\site-packages),\n",
      " heapdict 1.0.0 (c:\\users\\optim\\anaconda3\\lib\\site-packages),\n",
      " h5py 2.7.1 (c:\\users\\optim\\anaconda3\\lib\\site-packages),\n",
      " greenlet 0.4.12 (c:\\users\\optim\\anaconda3\\lib\\site-packages),\n",
      " glob2 0.6 (c:\\users\\optim\\anaconda3\\lib\\site-packages),\n",
      " gevent 1.2.2 (c:\\users\\optim\\anaconda3\\lib\\site-packages),\n",
      " Flask 0.12.2 (c:\\users\\optim\\anaconda3\\lib\\site-packages),\n",
      " Flask-Cors 3.0.3 (c:\\users\\optim\\anaconda3\\lib\\site-packages),\n",
      " filelock 2.0.13 (c:\\users\\optim\\anaconda3\\lib\\site-packages),\n",
      " fastcache 1.0.2 (c:\\users\\optim\\anaconda3\\lib\\site-packages),\n",
      " et-xmlfile 1.0.1 (c:\\users\\optim\\anaconda3\\lib\\site-packages),\n",
      " entrypoints 0.2.3 (c:\\users\\optim\\anaconda3\\lib\\site-packages),\n",
      " docutils 0.14 (c:\\users\\optim\\anaconda3\\lib\\site-packages),\n",
      " distributed 1.20.2 (c:\\users\\optim\\anaconda3\\lib\\site-packages),\n",
      " decorator 4.2.1 (c:\\users\\optim\\anaconda3\\lib\\site-packages),\n",
      " datashape 0.5.4 (c:\\users\\optim\\anaconda3\\lib\\site-packages),\n",
      " dask 0.16.1 (c:\\users\\optim\\anaconda3\\lib\\site-packages),\n",
      " cytoolz 0.9.0 (c:\\users\\optim\\anaconda3\\lib\\site-packages),\n",
      " Cython 0.27.3 (c:\\users\\optim\\anaconda3\\lib\\site-packages),\n",
      " cycler 0.10.0 (c:\\users\\optim\\anaconda3\\lib\\site-packages),\n",
      " cssselect 1.0.3 (c:\\users\\optim\\anaconda3\\lib\\site-packages),\n",
      " cryptography 2.1.4 (c:\\users\\optim\\anaconda3\\lib\\site-packages),\n",
      " contextlib2 0.5.5 (c:\\users\\optim\\anaconda3\\lib\\site-packages),\n",
      " constantly 15.1.0 (c:\\users\\optim\\anaconda3\\lib\\site-packages),\n",
      " conda 4.4.10 (c:\\users\\optim\\anaconda3\\lib\\site-packages),\n",
      " conda-verify 2.0.0 (c:\\users\\optim\\anaconda3\\lib\\site-packages),\n",
      " conda-build 3.4.1 (c:\\users\\optim\\anaconda3\\lib\\site-packages),\n",
      " comtypes 1.1.4 (c:\\users\\optim\\anaconda3\\lib\\site-packages),\n",
      " colorama 0.3.9 (c:\\users\\optim\\anaconda3\\lib\\site-packages),\n",
      " clyent 1.2.2 (c:\\users\\optim\\anaconda3\\lib\\site-packages),\n",
      " cloudpickle 0.5.2 (c:\\users\\optim\\anaconda3\\lib\\site-packages),\n",
      " click 6.7 (c:\\users\\optim\\anaconda3\\lib\\site-packages),\n",
      " chardet 3.0.4 (c:\\users\\optim\\anaconda3\\lib\\site-packages),\n",
      " cffi 1.11.4 (c:\\users\\optim\\anaconda3\\lib\\site-packages),\n",
      " certifi 2018.1.18 (c:\\users\\optim\\anaconda3\\lib\\site-packages),\n",
      " Bottleneck 1.2.1 (c:\\users\\optim\\anaconda3\\lib\\site-packages),\n",
      " boto 2.48.0 (c:\\users\\optim\\anaconda3\\lib\\site-packages),\n",
      " bokeh 0.12.13 (c:\\users\\optim\\anaconda3\\lib\\site-packages),\n",
      " bleach 2.1.2 (c:\\users\\optim\\anaconda3\\lib\\site-packages),\n",
      " blaze 0.11.3 (c:\\users\\optim\\anaconda3\\lib\\site-packages),\n",
      " bkcharts 0.2 (c:\\users\\optim\\anaconda3\\lib\\site-packages),\n",
      " bitarray 0.8.1 (c:\\users\\optim\\anaconda3\\lib\\site-packages),\n",
      " beautifulsoup4 4.6.0 (c:\\users\\optim\\anaconda3\\lib\\site-packages),\n",
      " backports.shutil-get-terminal-size 1.0.0 (c:\\users\\optim\\anaconda3\\lib\\site-packages),\n",
      " Babel 2.5.3 (c:\\users\\optim\\anaconda3\\lib\\site-packages),\n",
      " Automat 0.6.0 (c:\\users\\optim\\anaconda3\\lib\\site-packages),\n",
      " attrs 17.4.0 (c:\\users\\optim\\anaconda3\\lib\\site-packages),\n",
      " astropy 2.0.3 (c:\\users\\optim\\anaconda3\\lib\\site-packages),\n",
      " astroid 1.6.1 (c:\\users\\optim\\anaconda3\\lib\\site-packages),\n",
      " asn1crypto 0.24.0 (c:\\users\\optim\\anaconda3\\lib\\site-packages),\n",
      " anaconda-project 0.8.2 (c:\\users\\optim\\anaconda3\\lib\\site-packages),\n",
      " anaconda-navigator 1.7.0 (c:\\users\\optim\\anaconda3\\lib\\site-packages),\n",
      " anaconda-client 1.6.9 (c:\\users\\optim\\anaconda3\\lib\\site-packages),\n",
      " alabaster 0.7.10 (c:\\users\\optim\\anaconda3\\lib\\site-packages)]\n"
     ]
    }
   ],
   "source": [
    "import pip, pprint\n",
    "pprint.pprint(pip.get_installed_distributions())"
   ]
  }
 ],
 "metadata": {
  "kernelspec": {
   "display_name": "Python 3",
   "language": "python",
   "name": "python3"
  },
  "language_info": {
   "codemirror_mode": {
    "name": "ipython",
    "version": 3
   },
   "file_extension": ".py",
   "mimetype": "text/x-python",
   "name": "python",
   "nbconvert_exporter": "python",
   "pygments_lexer": "ipython3",
   "version": "3.6.4"
  }
 },
 "nbformat": 4,
 "nbformat_minor": 2
}
