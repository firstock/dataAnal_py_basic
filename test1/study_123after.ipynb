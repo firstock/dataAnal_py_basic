{
 "cells": [
  {
   "cell_type": "code",
   "execution_count": 1,
   "metadata": {},
   "outputs": [
    {
     "name": "stdout",
     "output_type": "stream",
     "text": [
      "1681857139400 <class 'list'>\n",
      "1500864736 <class 'int'>\n",
      "1681676944920 <class 'str'>\n",
      "1681857139208 <class 'list'>\n"
     ]
    }
   ],
   "source": [
    "lt= [1,'s',['b','c']]\n",
    "print(id(lt),type(lt))\n",
    "print(id(lt[0]),type(lt[0]))\n",
    "print(id(lt[1]),type(lt[1]))\n",
    "print(id(lt[2]),type(lt[2]))"
   ]
  },
  {
   "cell_type": "code",
   "execution_count": 18,
   "metadata": {},
   "outputs": [
    {
     "name": "stdout",
     "output_type": "stream",
     "text": [
      "array('b', [0, 1, 2, 3, 4, 5, 6, 7, 8, 9, 10, 11])\n",
      "b\n",
      "[0, 1, 2, 3, 4, 5, 6, 7, 8, 9, 10, 11]\n",
      "(1681843672000, 12)\n"
     ]
    }
   ],
   "source": [
    "import array\n",
    "L= list(range(12))\n",
    "A= array.array('b',L)\n",
    "print(A)\n",
    "print(A.typecode)\n",
    "print(A.tolist())\n",
    "print(A.buffer_info())\n"
   ]
  },
  {
   "cell_type": "code",
   "execution_count": 23,
   "metadata": {},
   "outputs": [
    {
     "name": "stdout",
     "output_type": "stream",
     "text": [
      "(5,)\n",
      "int32\n",
      "1\n",
      "(4,)\n",
      "[1, 2, 3, 4, 5]\n"
     ]
    }
   ],
   "source": [
    "import numpy as np\n",
    "nda= np.array([1,2,3,4,5])\n",
    "print(nda.shape)\n",
    "print(nda.dtype)\n",
    "print(nda.ndim)\n",
    "print(nda.strides)\n",
    "print(nda.data.tolist())\n"
   ]
  },
  {
   "cell_type": "code",
   "execution_count": 28,
   "metadata": {},
   "outputs": [
    {
     "name": "stdout",
     "output_type": "stream",
     "text": [
      "[1 4 2 5 3]\n",
      "int32\n",
      "[ 3.14  4.    2.    3.  ]\n",
      "float64\n",
      "[[2 3 4]\n",
      " [4 5 6]\n",
      " [6 7 8]]\n"
     ]
    }
   ],
   "source": [
    "import numpy as np\n",
    "#integer array\n",
    "i= np.array([1,4,2,5,3])\n",
    "print(i)\n",
    "print(i.dtype)\n",
    "\n",
    "#float array\n",
    "f= np.array([3.14,4,2,3])\n",
    "print(f)\n",
    "print(f.dtype)\n",
    "\n",
    "#nested lists result in multi-dimensional arrays\n",
    "mi= np.array([range(i,i+3) for i in [2,4,6]])\n",
    "print(mi)"
   ]
  },
  {
   "cell_type": "code",
   "execution_count": 32,
   "metadata": {},
   "outputs": [
    {
     "name": "stdout",
     "output_type": "stream",
     "text": [
      "[0 0 0 0 0 0 0 0 0 0]\n",
      "[[ 1.  1.  1.  1.  1.]\n",
      " [ 1.  1.  1.  1.  1.]\n",
      " [ 1.  1.  1.  1.  1.]]\n",
      "[[10 10 10 10 10]\n",
      " [10 10 10 10 10]\n",
      " [10 10 10 10 10]\n",
      " [10 10 10 10 10]\n",
      " [10 10 10 10 10]]\n"
     ]
    }
   ],
   "source": [
    "#create a length 10 integer array filled with zeros\n",
    "ze= np.zeros(10,dtype=int)\n",
    "print(ze)\n",
    "#create a 3x5 floating-point array filled with ones\n",
    "one= np.ones((3,5),dtype= float)\n",
    "print(one)\n",
    "#create a 3x5 array filled with 3.14\n",
    "fl= np.full((5,5),10)\n",
    "print(fl)"
   ]
  },
  {
   "cell_type": "code",
   "execution_count": 23,
   "metadata": {},
   "outputs": [
    {
     "name": "stdout",
     "output_type": "stream",
     "text": [
      "[[ 1.  0.  0.]\n",
      " [ 0.  1.  0.]\n",
      " [ 0.  0.  1.]]\n",
      "[  6.23042070e-307   1.42417221e-306   1.60219306e-306   9.79054228e-307\n",
      "   1.69119330e-306   8.01097889e-307]\n"
     ]
    },
    {
     "data": {
      "text/plain": [
       "array([[ 1.,  0.,  0.],\n",
       "       [ 0.,  1.,  0.],\n",
       "       [ 0.,  0.,  1.]])"
      ]
     },
     "execution_count": 23,
     "metadata": {},
     "output_type": "execute_result"
    }
   ],
   "source": [
    "import numpy as np\n",
    "#create a 3x3 identify matrix. eigen matrix?\n",
    "ey= np.eye(3)\n",
    "print(ey)\n",
    "\n",
    "#create an uninitialized array of three integers\n",
    "#the values will be whatever happens to already exist at that memory location\n",
    "em= np.empty(6)\n",
    "print(em)\n",
    "\n",
    "m1= list([\"gender\",\"age\",\"sb\"])\n",
    "m1= np.eye(3)\n",
    "m1"
   ]
  },
  {
   "cell_type": "markdown",
   "metadata": {},
   "source": [
    "##  93"
   ]
  },
  {
   "cell_type": "code",
   "execution_count": 17,
   "metadata": {},
   "outputs": [
    {
     "name": "stdout",
     "output_type": "stream",
     "text": [
      "[ 1 11 21 31 41 51 61 71 81]\n",
      "[ 0.          0.11111111  0.22222222  0.33333333  0.44444444  0.55555556\n",
      "  0.66666667  0.77777778  0.88888889  1.        ]\n"
     ]
    }
   ],
   "source": [
    "import numpy as np\n",
    "#create an array filled with a linear sequence\n",
    "#starting at 0, ending at 20, stepping by 2\n",
    "#(this is similar to the built-in range() function)\n",
    "ar= np.arange(1,88,10)\n",
    "print(ar)\n",
    "\n",
    "#create an array of five values evenly spaced between 0 and 1\n",
    "ls= np.linspace(0,1,10)\n",
    "print(ls)"
   ]
  },
  {
   "cell_type": "code",
   "execution_count": null,
   "metadata": {},
   "outputs": [],
   "source": [
    "import numpy as np\n",
    "#create a 3x3 array of uniformly distributed\n",
    "#random values between 0 and 1\n",
    "rr= np.random.random((3,3))\n",
    "print(rr)\n",
    "\n",
    "#create a 3x3 array of normally distributed random values\n",
    "#(mean, 표준deviation, (col,rows)) - deviation_일탈/편차. ex. +- 1\n",
    "rn= np.random.normal(0,0.1,(3,3))\n",
    "print(rn)\n",
    "\n",
    "#create a 3x3 array of random intergers in the interval [0,10)\n",
    "ri= np.random.randint(0,10,(3,3))\n",
    "print(ri)"
   ]
  },
  {
   "cell_type": "code",
   "execution_count": 171,
   "metadata": {},
   "outputs": [
    {
     "name": "stdout",
     "output_type": "stream",
     "text": [
      "[[ 30.  41.  44.  27.  13.  34.]\n",
      " [ 25.  18.  43.  12.  27.  41.]\n",
      " [ 29.  45.  22.  36.  37.  25.]\n",
      " [ 29.  37.  22.  35.  29.  41.]\n",
      " [ 50.  38.  21.  11.   1.  24.]\n",
      " [ 36.  10.  23.  56.  35.  15.]]\n"
     ]
    }
   ],
   "source": [
    "rni= abs(floor(np.random.normal(29.998,14.52649,(6,6))))\n",
    "print(rni)"
   ]
  },
  {
   "cell_type": "code",
   "execution_count": 176,
   "metadata": {},
   "outputs": [
    {
     "name": "stdout",
     "output_type": "stream",
     "text": [
      "[[0 0]\n",
      " [0 0]]\n",
      "int16\n",
      "[[1 1]\n",
      " [1 1]]\n",
      "int16\n",
      "[1 1 1 1 1 1 1 1 1 1]\n",
      "int16\n"
     ]
    }
   ],
   "source": [
    "z1= np.zeros((2,2),dtype='int16')\n",
    "print(z1)\n",
    "print(z1.dtype)\n",
    "\n",
    "z2= np.ones((2,2),dtype=np.int16)\n",
    "print(z2)\n",
    "print(z2.dtype)\n",
    "\n",
    "z3= np.ones(10,dtype=np.int16)\n",
    "print(z3)\n",
    "print(z3.dtype)"
   ]
  },
  {
   "cell_type": "code",
   "execution_count": 180,
   "metadata": {},
   "outputs": [
    {
     "ename": "SyntaxError",
     "evalue": "invalid syntax (<ipython-input-180-509b75a88881>, line 6)",
     "output_type": "error",
     "traceback": [
      "\u001b[1;36m  File \u001b[1;32m\"<ipython-input-180-509b75a88881>\"\u001b[1;36m, line \u001b[1;32m6\u001b[0m\n\u001b[1;33m    uint8 uint16 uint32 uint 64 - 딱2배+1\u001b[0m\n\u001b[1;37m               ^\u001b[0m\n\u001b[1;31mSyntaxError\u001b[0m\u001b[1;31m:\u001b[0m invalid syntax\n"
     ]
    }
   ],
   "source": [
    "int8 - 127   \n",
    "int16 +- 3.2*10^4   \n",
    "int32 +- 2.1*10^9   \n",
    "nt64 +- 9.2*10^18   \n",
    "\n",
    "uint8 uint16 uint32 uint 64 - 딱2배+1\n",
    "\n",
    "float_ float16 float32 float64 complex_ complex64 complex128"
   ]
  },
  {
   "cell_type": "code",
   "execution_count": 187,
   "metadata": {},
   "outputs": [
    {
     "name": "stdout",
     "output_type": "stream",
     "text": [
      "[5 8 0 5 1 5]\n",
      "x1 차원: 1\n",
      "x1 형태: (6,)\n",
      "x1 size: 6\n",
      "x1 dtype: int32\n",
      "원소당size itemsize:  4  bytes\n",
      "객체전체size nbytes:  24 bytes\n"
     ]
    }
   ],
   "source": [
    "import numpy as np\n",
    "np.random.seed() #seed for reproducibility\n",
    "\n",
    "x1= np.random.randint(10,size=6) #one-dimensional array\n",
    "print(x1.flatten())\n",
    "print(\"x1 차원:\", x1.ndim)\n",
    "print(\"x1 형태:\", x1.shape)\n",
    "print(\"x1 size:\", x1.size)\n",
    "print(\"x1 dtype:\", x1.dtype)\n",
    "print(\"원소당size itemsize: \", x1.itemsize,\" bytes\")\n",
    "print(\"객체전체size nbytes: \",x1.nbytes,\"bytes\")"
   ]
  },
  {
   "cell_type": "code",
   "execution_count": 190,
   "metadata": {},
   "outputs": [
    {
     "name": "stdout",
     "output_type": "stream",
     "text": [
      "[[5 0 3 3]\n",
      " [7 9 3 5]\n",
      " [2 4 7 6]]\n",
      "[5 0 3 3 7 9 3 5 2 4 7 6]\n",
      "x2 차원: 2\n",
      "x2 형태: (3, 4)\n",
      "x2 size: 12\n",
      "x2 dtype: int32\n",
      "원소당size itemsize:  4  bytes\n",
      "객체전체size nbytes:  48 bytes\n"
     ]
    }
   ],
   "source": [
    "import numpy as np\n",
    "np.random.seed(0)\n",
    "x2= np.random.randint(10,size=(3,4)) #two diemnsional array\n",
    "\n",
    "print(x2)\n",
    "print(x2.flatten()) #행단위로 펴짐\n",
    "print(\"x2 차원:\", x2.ndim)\n",
    "print(\"x2 형태:\", x2.shape)\n",
    "print(\"x2 size:\", x2.size)\n",
    "print(\"x2 dtype:\", x2.dtype)\n",
    "print(\"원소당size itemsize: \", x2.itemsize,\" bytes\")\n",
    "print(\"객체전체size nbytes: \",x2.nbytes,\"bytes\")"
   ]
  },
  {
   "cell_type": "code",
   "execution_count": 194,
   "metadata": {},
   "outputs": [
    {
     "name": "stdout",
     "output_type": "stream",
     "text": [
      "[[[5 0 3 3 7 9]\n",
      "  [3 5 2 4 7 6]\n",
      "  [8 8 1 6 7 7]]\n",
      "\n",
      " [[8 1 5 9 8 9]\n",
      "  [4 3 0 3 5 0]\n",
      "  [2 3 8 1 3 3]]]\n",
      "[5 0 3 3 7 9 3 5 2 4 7 6 8 8 1 6 7 7 8 1 5 9 8 9 4 3 0 3 5 0 2 3 8 1 3 3]\n",
      "x3 차원: 3\n",
      "x3 형태: (2, 3, 6)\n",
      "x3 size: 36\n",
      "x3 dtype: int32\n",
      "원소당size itemsize:  4 bytes\n",
      "객체전체size nbytes:  144 bytes\n"
     ]
    }
   ],
   "source": [
    "import numpy as np\n",
    "np.random.seed(0)\n",
    "x3= np.random.randint(10,size=(2,3,6))\n",
    "\n",
    "print(x3)\n",
    "print(x3.flatten()) #행단위로 펴짐\n",
    "print(\"x3 차원:\", x3.ndim)\n",
    "print(\"x3 형태:\", x3.shape)\n",
    "print(\"x3 size:\", x3.size)\n",
    "print(\"x3 dtype:\", x3.dtype)\n",
    "print(\"원소당size itemsize: \", x3.itemsize,\"bytes\")\n",
    "print(\"객체전체size nbytes: \",x3.nbytes,\"bytes\")"
   ]
  },
  {
   "cell_type": "code",
   "execution_count": 197,
   "metadata": {},
   "outputs": [
    {
     "name": "stdout",
     "output_type": "stream",
     "text": [
      "4\n",
      "[7 1]\n",
      "[[ 7  6  8  8]\n",
      " [10  1  6  7]]\n",
      "3\n",
      "[2 4]\n",
      "[[3 0 3 5]\n",
      " [0 2 3 8]]\n",
      "[[[ 7  6  8  8]\n",
      "  [10  1  6  7]]\n",
      "\n",
      " [[ 7  8  1  5]\n",
      "  [ 9  8  9  4]]\n",
      "\n",
      " [[ 3  0  3  5]\n",
      "  [ 0  2  3  8]]]\n"
     ]
    }
   ],
   "source": [
    "import numpy as np\n",
    "np.random.seed(0) #seed for reproducibility\n",
    "\n",
    "x1= np.random.randint(6,size=6) #1차원배열\n",
    "x2= np.random.randint(8,size=(3,2)) #2차원배열\n",
    "x3= np.random.randint(12,size=(3,2,4)) #3차원배열\n",
    "#첫 원소\n",
    "print(x1[0])\n",
    "print(x2[0])\n",
    "print(x3[0])\n",
    "#마지막 원소\n",
    "print(x1[-1])\n",
    "print(x2[-1])\n",
    "print(x3[-1])\n",
    "\n",
    "print(x3)\n"
   ]
  },
  {
   "cell_type": "code",
   "execution_count": 206,
   "metadata": {},
   "outputs": [
    {
     "name": "stdout",
     "output_type": "stream",
     "text": [
      "3:\n",
      "[3 3 3]\n",
      "[]\n",
      "[[[1 3 3 3]\n",
      "  [7 0 1 9]]]\n",
      ":3\n",
      "[4 5 0]\n",
      "[[7 1]\n",
      " [3 5]\n",
      " [2 4]]\n",
      "[[[ 7  6  8  8]\n",
      "  [10  1  6  7]]\n",
      "\n",
      " [[ 7  8  1  5]\n",
      "  [ 9  8  9  4]]\n",
      "\n",
      " [[ 3  0  3  5]\n",
      "  [ 0  2  3  8]]]\n",
      "-1:\n",
      "[3]\n",
      "[[2 4]]\n",
      "[[[1 3 3 3]\n",
      "  [7 0 1 9]]]\n",
      "x1\n",
      "[4 5 0 3 3 3]\n",
      "x3\n",
      "[[[ 7  6  8  8]\n",
      "  [10  1  6  7]]\n",
      "\n",
      " [[ 7  8  1  5]\n",
      "  [ 9  8  9  4]]\n",
      "\n",
      " [[ 3  0  3  5]\n",
      "  [ 0  2  3  8]]\n",
      "\n",
      " [[ 1  3  3  3]\n",
      "  [ 7  0  1  9]]]\n"
     ]
    }
   ],
   "source": [
    "import numpy as np\n",
    "np.random.seed(0)\n",
    "\n",
    "x1= np.random.randint(6,size=6)\n",
    "x2= np.random.randint(8, size=(3,2))\n",
    "x3= np.random.randint(12, size=(4,2,4))\n",
    "!echo 3:\n",
    "print(x1[3:])\n",
    "print(x2[3:])\n",
    "print(x3[3:])\n",
    "!echo :3\n",
    "print(x1[:3])\n",
    "print(x2[:3])\n",
    "print(x3[:3])\n",
    "!echo -1:\n",
    "print(x1[-1:])\n",
    "print(x2[-1:])\n",
    "print(x3[-1:])\n",
    "!echo x1\n",
    "print(x1)\n",
    "!echo x3\n",
    "print(x3)"
   ]
  },
  {
   "cell_type": "code",
   "execution_count": 213,
   "metadata": {},
   "outputs": [
    {
     "name": "stdout",
     "output_type": "stream",
     "text": [
      "[[4 7]\n",
      " [5 0]\n",
      " [3 3]]\n",
      "0\n",
      "[5 0]\n",
      "[7 0 3]\n",
      "거꾸로출력\n",
      "[3 5 4]\n",
      "[[3 3]\n",
      " [5 0]\n",
      " [4 7]]\n",
      "[[3 3]\n",
      " [0 5]\n",
      " [7 4]]\n"
     ]
    }
   ],
   "source": [
    "import numpy as np\n",
    "np.random.seed(0)\n",
    "x2= np.random.randint(8, size=(3,2))\n",
    "\n",
    "print(x2)\n",
    "print(x2[1,1]) #두번째 행, 두번째 열 원소 조회\n",
    "print(x2[1,:]) #두번째 행, 모든 열\n",
    "print(x2[:,1]) #모든 행, 두번째 열\n",
    "!echo 거꾸로출력\n",
    "print(x2[::-1,0]) #모든 행 첫 열, 역순\n",
    "print(x2[::-1,:]) #열 순서는 그대로 두고 행만 역순\n",
    "print(x2[::-1,::-1]) #행 순서, 열 순서 둘다 역순"
   ]
  },
  {
   "cell_type": "code",
   "execution_count": 219,
   "metadata": {},
   "outputs": [
    {
     "name": "stdout",
     "output_type": "stream",
     "text": [
      "원본\n",
      "[[6 7]\n",
      " [7 0]\n",
      " [2 3]]\n",
      "slice배열 조회\n",
      "[[6 7]\n",
      " [7 0]]\n",
      "slice배열 변경.(0~1,0~1)부분만 쪼개서 넣은것\n",
      "(0,0)99로 바꿈\n",
      "[[99  7]\n",
      " [ 7  0]]\n",
      "x2원래것도 (0,0)이 바뀌더라\n",
      "[[99  7]\n",
      " [ 7  0]\n",
      " [ 2  3]]\n"
     ]
    }
   ],
   "source": [
    "import numpy as np\n",
    "\n",
    "x2= np.random.randint(8,size=(3,2))\n",
    "!echo 원본\n",
    "print(x2)\n",
    "print(\"slice배열 조회\")\n",
    "\n",
    "x2_sub= x2[:2,:2]\n",
    "print(x2_sub)\n",
    "print(\"slice배열 변경.(0~1,0~1)부분만 쪼개서 넣은것\")\n",
    "!echo (0,0)99로 바꿈\n",
    "x2_sub[0,0]= 99\n",
    "print(x2_sub)\n",
    "!echo x2원래것도 (0,0)이 바뀌더라\n",
    "print(x2)"
   ]
  },
  {
   "cell_type": "markdown",
   "metadata": {},
   "source": [
    "#### 조각내서 붙여넣고 값바꾸면 원본도 바뀌니,\n",
    "### 원본유지하고프면 복사해둬야"
   ]
  },
  {
   "cell_type": "code",
   "execution_count": 218,
   "metadata": {},
   "outputs": [
    {
     "name": "stdout",
     "output_type": "stream",
     "text": [
      "원본\n",
      "[[1 4]\n",
      " [3 0]\n",
      " [3 5]]\n",
      "x2 0~1,0~1 부분복사해서 만듦\n",
      "[[1 4]\n",
      " [3 0]]\n",
      "0,0 바꿈\n",
      "[[88  4]\n",
      " [ 3  0]]\n",
      "원본\n",
      "[[1 4]\n",
      " [3 0]\n",
      " [3 5]]\n"
     ]
    }
   ],
   "source": [
    "import numpy as np\n",
    "x2= np.random.randint(8,size=(3,2))\n",
    "!echo 원본\n",
    "print(x2)\n",
    "!echo x2 0~1,0~1 부분복사해서 만듦\n",
    "x2_sub_copy= x2[:2,:2].copy()\n",
    "print(x2_sub_copy)\n",
    "!echo 0,0 바꿈\n",
    "x2_sub_copy[0,0]= 88\n",
    "print(x2_sub_copy)\n",
    "!echo 원본\n",
    "print(x2)"
   ]
  },
  {
   "cell_type": "code",
   "execution_count": 223,
   "metadata": {},
   "outputs": [
    {
     "name": "stdout",
     "output_type": "stream",
     "text": [
      "[1 2 3 4 5 6 7 8 9]\n",
      "reshape method\n",
      "[[1 2 3]\n",
      " [4 5 6]\n",
      " [7 8 9]]\n",
      "reshape function\n",
      "[[1 2 3]\n",
      " [4 5 6]]\n"
     ]
    }
   ],
   "source": [
    "import numpy as np\n",
    "grid= np.arange(1,10)\n",
    "print(grid)\n",
    "!echo reshape method\n",
    "grid= np.arange(1,10).reshape((3,3))\n",
    "print(grid)\n",
    "\n",
    "!echo reshape function\n",
    "x= np.array([1,2,3,4,5,6])\n",
    "xx= np.reshape(x,(2,3))\n",
    "print(xx)"
   ]
  },
  {
   "cell_type": "code",
   "execution_count": 43,
   "metadata": {},
   "outputs": [
    {
     "data": {
      "text/plain": [
       "Text(0.5,1,'simple chirp')"
      ]
     },
     "execution_count": 43,
     "metadata": {},
     "output_type": "execute_result"
    }
   ],
   "source": [
    "import matplotlib.pyplot as plt\n",
    "import numpy as np\n",
    "\n",
    "x= np.linspace(0, 3*np.pi,500)\n",
    "plt.plot(x, np.sin(x**2)) # 3**4= 81\n",
    "plt.title(\"simple chirp\")"
   ]
  },
  {
   "cell_type": "code",
   "execution_count": 39,
   "metadata": {},
   "outputs": [],
   "source": [
    "np.log?"
   ]
  },
  {
   "cell_type": "code",
   "execution_count": 17,
   "metadata": {},
   "outputs": [],
   "source": [
    "def amazing():\n",
    "    '''ㄷㄷ?'''\n",
    "    print('fct name: ',amazing.__name__)\n",
    "    print('docstring: ',amazing.__doc__)"
   ]
  },
  {
   "cell_type": "code",
   "execution_count": 18,
   "metadata": {},
   "outputs": [
    {
     "name": "stdout",
     "output_type": "stream",
     "text": [
      "fct name:  amazing\n",
      "docstring:  ㄷㄷ?\n"
     ]
    }
   ],
   "source": [
    "amazing()"
   ]
  },
  {
   "cell_type": "code",
   "execution_count": 2,
   "metadata": {},
   "outputs": [],
   "source": [
    "import numpy as np\n",
    "import matplotlib as mpl\n",
    "import matplotlib.pyplot as plt"
   ]
  },
  {
   "cell_type": "code",
   "execution_count": 20,
   "metadata": {},
   "outputs": [],
   "source": [
    "def sinplot(flip=1):\n",
    "    x= np.linspace(0,14,100)\n",
    "    for i in range(1,7):\n",
    "        plt.plot(x,np.sin(x+i*.5)*(7-i)*flip)"
   ]
  },
  {
   "cell_type": "code",
   "execution_count": 45,
   "metadata": {},
   "outputs": [
    {
     "data": {
      "text/plain": [
       "'c:\\\\myjupyter\\\\test1\\\\data'"
      ]
     },
     "execution_count": 45,
     "metadata": {},
     "output_type": "execute_result"
    }
   ],
   "source": [
    "%pwd"
   ]
  },
  {
   "cell_type": "code",
   "execution_count": 43,
   "metadata": {},
   "outputs": [
    {
     "name": "stdout",
     "output_type": "stream",
     "text": [
      "Warning: Cannot change to a different GUI toolkit: notebook. Using tk instead.\n"
     ]
    },
    {
     "ename": "NameError",
     "evalue": "name 'sinplot' is not defined",
     "output_type": "error",
     "traceback": [
      "\u001b[1;31m---------------------------------------------------------------------------\u001b[0m",
      "\u001b[1;31mNameError\u001b[0m                                 Traceback (most recent call last)",
      "\u001b[1;32m<ipython-input-43-b8db5e29f5cc>\u001b[0m in \u001b[0;36m<module>\u001b[1;34m()\u001b[0m\n\u001b[0;32m      1\u001b[0m \u001b[0mget_ipython\u001b[0m\u001b[1;33m(\u001b[0m\u001b[1;33m)\u001b[0m\u001b[1;33m.\u001b[0m\u001b[0mrun_line_magic\u001b[0m\u001b[1;33m(\u001b[0m\u001b[1;34m'matplotlib'\u001b[0m\u001b[1;33m,\u001b[0m \u001b[1;34m'notebook'\u001b[0m\u001b[1;33m)\u001b[0m\u001b[1;33m\u001b[0m\u001b[0m\n\u001b[1;32m----> 2\u001b[1;33m \u001b[0msinplot\u001b[0m\u001b[1;33m(\u001b[0m\u001b[1;33m)\u001b[0m\u001b[1;33m\u001b[0m\u001b[0m\n\u001b[0m",
      "\u001b[1;31mNameError\u001b[0m: name 'sinplot' is not defined"
     ]
    }
   ],
   "source": [
    "%matplotlib notebook\n",
    "sinplot()"
   ]
  },
  {
   "cell_type": "code",
   "execution_count": 52,
   "metadata": {},
   "outputs": [
    {
     "name": "stdout",
     "output_type": "stream",
     "text": [
      "/c/myjupyter/test1/data\n"
     ]
    },
    {
     "data": {
      "text/plain": [
       "'c:\\\\myjupyter\\\\test1\\\\data'"
      ]
     },
     "execution_count": 52,
     "metadata": {},
     "output_type": "execute_result"
    }
   ],
   "source": [
    "!pwd\n",
    "%pwd"
   ]
  },
  {
   "cell_type": "code",
   "execution_count": 53,
   "metadata": {},
   "outputs": [
    {
     "name": "stdout",
     "output_type": "stream",
     "text": [
      "c:\\myjupyter\\test1\\data\\nyc_data.csv\n"
     ]
    }
   ],
   "source": [
    "data_filename= \"c:\\\\myjupyter\\\\test1\\\\data\\\\nyc_data.csv\"\n",
    "print(data_filename)\n",
    "# fare_filename= \"\\\\data\\\\nyc_fare_01.csv\"\n",
    "# print(fare_filename)"
   ]
  },
  {
   "cell_type": "code",
   "execution_count": 4,
   "metadata": {},
   "outputs": [
    {
     "name": "stdout",
     "output_type": "stream",
     "text": [
      "data/nyc_data.csv\n"
     ]
    }
   ],
   "source": [
    "data_filename= \"data/nyc_data.csv\"\n",
    "print(data_filename)\n",
    "# fare_filename= \"\\\\data\\\\nyc_fare_01.csv\"\n",
    "# print(fare_filename)"
   ]
  },
  {
   "cell_type": "code",
   "execution_count": 5,
   "metadata": {},
   "outputs": [],
   "source": [
    "import pandas as pd\n",
    "data= pd.read_csv(data_filename)\n",
    "# fare= pd.read_csv(fare_filename)"
   ]
  },
  {
   "cell_type": "code",
   "execution_count": 6,
   "metadata": {},
   "outputs": [
    {
     "ename": "NameError",
     "evalue": "name 's' is not defined",
     "output_type": "error",
     "traceback": [
      "\u001b[1;31m---------------------------------------------------------------------------\u001b[0m",
      "\u001b[1;31mNameError\u001b[0m                                 Traceback (most recent call last)",
      "\u001b[1;32m<ipython-input-6-4176cc96425e>\u001b[0m in \u001b[0;36m<module>\u001b[1;34m()\u001b[0m\n\u001b[1;32m----> 1\u001b[1;33m \u001b[0mdata\u001b[0m\u001b[1;33m.\u001b[0m\u001b[0mhead\u001b[0m\u001b[1;33m(\u001b[0m\u001b[0ms\u001b[0m\u001b[1;33m)\u001b[0m\u001b[1;33m\u001b[0m\u001b[0m\n\u001b[0m",
      "\u001b[1;31mNameError\u001b[0m: name 's' is not defined"
     ]
    }
   ],
   "source": [
    "data.head(s)"
   ]
  },
  {
   "cell_type": "code",
   "execution_count": null,
   "metadata": {},
   "outputs": [],
   "source": [
    "data.describe(s)"
   ]
  },
  {
   "cell_type": "markdown",
   "metadata": {},
   "source": [
    "!pwd"
   ]
  },
  {
   "cell_type": "code",
   "execution_count": 9,
   "metadata": {},
   "outputs": [
    {
     "name": "stdout",
     "output_type": "stream",
     "text": [
      "/c/myjupyter/test1\n"
     ]
    }
   ],
   "source": [
    "!pwd"
   ]
  },
  {
   "cell_type": "code",
   "execution_count": 8,
   "metadata": {},
   "outputs": [],
   "source": [
    "!cd .."
   ]
  },
  {
   "cell_type": "code",
   "execution_count": 10,
   "metadata": {},
   "outputs": [
    {
     "name": "stdout",
     "output_type": "stream",
     "text": [
      "C:\\myjupyter\n"
     ]
    }
   ],
   "source": [
    "%cd .."
   ]
  },
  {
   "cell_type": "code",
   "execution_count": 11,
   "metadata": {},
   "outputs": [
    {
     "name": "stdout",
     "output_type": "stream",
     "text": [
      "test1\n",
      "titanic\n"
     ]
    }
   ],
   "source": [
    "!ls"
   ]
  },
  {
   "cell_type": "code",
   "execution_count": 12,
   "metadata": {},
   "outputs": [
    {
     "name": "stdout",
     "output_type": "stream",
     "text": [
      "C:\\myjupyter\\titanic\n"
     ]
    }
   ],
   "source": [
    "%cd titanic"
   ]
  },
  {
   "cell_type": "code",
   "execution_count": null,
   "metadata": {},
   "outputs": [],
   "source": []
  }
 ],
 "metadata": {
  "kernelspec": {
   "display_name": "Python 3",
   "language": "python",
   "name": "python3"
  },
  "language_info": {
   "codemirror_mode": {
    "name": "ipython",
    "version": 3
   },
   "file_extension": ".py",
   "mimetype": "text/x-python",
   "name": "python",
   "nbconvert_exporter": "python",
   "pygments_lexer": "ipython3",
   "version": "3.6.3"
  }
 },
 "nbformat": 4,
 "nbformat_minor": 2
}
