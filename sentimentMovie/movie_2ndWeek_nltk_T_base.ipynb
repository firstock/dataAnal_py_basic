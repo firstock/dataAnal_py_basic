{
 "cells": [
  {
   "cell_type": "code",
   "execution_count": 28,
   "metadata": {},
   "outputs": [],
   "source": [
    "import pandas as pd\n",
    "#원본 http://goo.gl/4oDg4Y"
   ]
  },
  {
   "cell_type": "markdown",
   "metadata": {},
   "source": [
    "### Load Dataset"
   ]
  },
  {
   "cell_type": "code",
   "execution_count": 29,
   "metadata": {},
   "outputs": [
    {
     "name": "stdout",
     "output_type": "stream",
     "text": [
      "(156060, 3)\n"
     ]
    },
    {
     "data": {
      "text/html": [
       "<div>\n",
       "<style scoped>\n",
       "    .dataframe tbody tr th:only-of-type {\n",
       "        vertical-align: middle;\n",
       "    }\n",
       "\n",
       "    .dataframe tbody tr th {\n",
       "        vertical-align: top;\n",
       "    }\n",
       "\n",
       "    .dataframe thead th {\n",
       "        text-align: right;\n",
       "    }\n",
       "</style>\n",
       "<table border=\"1\" class=\"dataframe\">\n",
       "  <thead>\n",
       "    <tr style=\"text-align: right;\">\n",
       "      <th></th>\n",
       "      <th>SentenceId</th>\n",
       "      <th>Phrase</th>\n",
       "      <th>Sentiment</th>\n",
       "    </tr>\n",
       "    <tr>\n",
       "      <th>PhraseId</th>\n",
       "      <th></th>\n",
       "      <th></th>\n",
       "      <th></th>\n",
       "    </tr>\n",
       "  </thead>\n",
       "  <tbody>\n",
       "    <tr>\n",
       "      <th>1</th>\n",
       "      <td>1</td>\n",
       "      <td>A series of escapades demonstrating the adage ...</td>\n",
       "      <td>1</td>\n",
       "    </tr>\n",
       "    <tr>\n",
       "      <th>2</th>\n",
       "      <td>1</td>\n",
       "      <td>A series of escapades demonstrating the adage ...</td>\n",
       "      <td>2</td>\n",
       "    </tr>\n",
       "    <tr>\n",
       "      <th>3</th>\n",
       "      <td>1</td>\n",
       "      <td>A series</td>\n",
       "      <td>2</td>\n",
       "    </tr>\n",
       "    <tr>\n",
       "      <th>4</th>\n",
       "      <td>1</td>\n",
       "      <td>A</td>\n",
       "      <td>2</td>\n",
       "    </tr>\n",
       "    <tr>\n",
       "      <th>5</th>\n",
       "      <td>1</td>\n",
       "      <td>series</td>\n",
       "      <td>2</td>\n",
       "    </tr>\n",
       "  </tbody>\n",
       "</table>\n",
       "</div>"
      ],
      "text/plain": [
       "          SentenceId                                             Phrase  \\\n",
       "PhraseId                                                                  \n",
       "1                  1  A series of escapades demonstrating the adage ...   \n",
       "2                  1  A series of escapades demonstrating the adage ...   \n",
       "3                  1                                           A series   \n",
       "4                  1                                                  A   \n",
       "5                  1                                             series   \n",
       "\n",
       "          Sentiment  \n",
       "PhraseId             \n",
       "1                 1  \n",
       "2                 2  \n",
       "3                 2  \n",
       "4                 2  \n",
       "5                 2  "
      ]
     },
     "execution_count": 29,
     "metadata": {},
     "output_type": "execute_result"
    }
   ],
   "source": [
    "train = pd.read_csv(\"data/train.tsv\", sep=\"\\t\", index_col=\"PhraseId\")\n",
    "\n",
    "print(train.shape)\n",
    "train.head()"
   ]
  },
  {
   "cell_type": "code",
   "execution_count": 30,
   "metadata": {},
   "outputs": [
    {
     "name": "stdout",
     "output_type": "stream",
     "text": [
      "(66292, 2)\n"
     ]
    },
    {
     "data": {
      "text/html": [
       "<div>\n",
       "<style scoped>\n",
       "    .dataframe tbody tr th:only-of-type {\n",
       "        vertical-align: middle;\n",
       "    }\n",
       "\n",
       "    .dataframe tbody tr th {\n",
       "        vertical-align: top;\n",
       "    }\n",
       "\n",
       "    .dataframe thead th {\n",
       "        text-align: right;\n",
       "    }\n",
       "</style>\n",
       "<table border=\"1\" class=\"dataframe\">\n",
       "  <thead>\n",
       "    <tr style=\"text-align: right;\">\n",
       "      <th></th>\n",
       "      <th>SentenceId</th>\n",
       "      <th>Phrase</th>\n",
       "    </tr>\n",
       "    <tr>\n",
       "      <th>PhraseId</th>\n",
       "      <th></th>\n",
       "      <th></th>\n",
       "    </tr>\n",
       "  </thead>\n",
       "  <tbody>\n",
       "    <tr>\n",
       "      <th>156061</th>\n",
       "      <td>8545</td>\n",
       "      <td>An intermittently pleasing but mostly routine ...</td>\n",
       "    </tr>\n",
       "    <tr>\n",
       "      <th>156062</th>\n",
       "      <td>8545</td>\n",
       "      <td>An intermittently pleasing but mostly routine ...</td>\n",
       "    </tr>\n",
       "    <tr>\n",
       "      <th>156063</th>\n",
       "      <td>8545</td>\n",
       "      <td>An</td>\n",
       "    </tr>\n",
       "    <tr>\n",
       "      <th>156064</th>\n",
       "      <td>8545</td>\n",
       "      <td>intermittently pleasing but mostly routine effort</td>\n",
       "    </tr>\n",
       "    <tr>\n",
       "      <th>156065</th>\n",
       "      <td>8545</td>\n",
       "      <td>intermittently pleasing but mostly routine</td>\n",
       "    </tr>\n",
       "  </tbody>\n",
       "</table>\n",
       "</div>"
      ],
      "text/plain": [
       "          SentenceId                                             Phrase\n",
       "PhraseId                                                               \n",
       "156061          8545  An intermittently pleasing but mostly routine ...\n",
       "156062          8545  An intermittently pleasing but mostly routine ...\n",
       "156063          8545                                                 An\n",
       "156064          8545  intermittently pleasing but mostly routine effort\n",
       "156065          8545         intermittently pleasing but mostly routine"
      ]
     },
     "execution_count": 30,
     "metadata": {},
     "output_type": "execute_result"
    }
   ],
   "source": [
    "test = pd.read_csv(\"data/test.tsv\", sep=\"\\t\", index_col=\"PhraseId\")\n",
    "\n",
    "print(test.shape)\n",
    "test.head()"
   ]
  },
  {
   "cell_type": "markdown",
   "metadata": {},
   "source": [
    "## Preprocessing"
   ]
  },
  {
   "cell_type": "code",
   "execution_count": 31,
   "metadata": {},
   "outputs": [
    {
     "name": "stdout",
     "output_type": "stream",
     "text": [
      "(156060, 4)\n"
     ]
    },
    {
     "data": {
      "text/html": [
       "<div>\n",
       "<style scoped>\n",
       "    .dataframe tbody tr th:only-of-type {\n",
       "        vertical-align: middle;\n",
       "    }\n",
       "\n",
       "    .dataframe tbody tr th {\n",
       "        vertical-align: top;\n",
       "    }\n",
       "\n",
       "    .dataframe thead th {\n",
       "        text-align: right;\n",
       "    }\n",
       "</style>\n",
       "<table border=\"1\" class=\"dataframe\">\n",
       "  <thead>\n",
       "    <tr style=\"text-align: right;\">\n",
       "      <th></th>\n",
       "      <th>Phrase</th>\n",
       "      <th>Phrase(Origin)</th>\n",
       "    </tr>\n",
       "    <tr>\n",
       "      <th>PhraseId</th>\n",
       "      <th></th>\n",
       "      <th></th>\n",
       "    </tr>\n",
       "  </thead>\n",
       "  <tbody>\n",
       "    <tr>\n",
       "      <th>1</th>\n",
       "      <td>A series of escapades demonstrating the adage ...</td>\n",
       "      <td>A series of escapades demonstrating the adage ...</td>\n",
       "    </tr>\n",
       "    <tr>\n",
       "      <th>2</th>\n",
       "      <td>A series of escapades demonstrating the adage ...</td>\n",
       "      <td>A series of escapades demonstrating the adage ...</td>\n",
       "    </tr>\n",
       "    <tr>\n",
       "      <th>3</th>\n",
       "      <td>A series</td>\n",
       "      <td>A series</td>\n",
       "    </tr>\n",
       "    <tr>\n",
       "      <th>4</th>\n",
       "      <td>A</td>\n",
       "      <td>A</td>\n",
       "    </tr>\n",
       "    <tr>\n",
       "      <th>5</th>\n",
       "      <td>series</td>\n",
       "      <td>series</td>\n",
       "    </tr>\n",
       "  </tbody>\n",
       "</table>\n",
       "</div>"
      ],
      "text/plain": [
       "                                                     Phrase  \\\n",
       "PhraseId                                                      \n",
       "1         A series of escapades demonstrating the adage ...   \n",
       "2         A series of escapades demonstrating the adage ...   \n",
       "3                                                  A series   \n",
       "4                                                         A   \n",
       "5                                                    series   \n",
       "\n",
       "                                             Phrase(Origin)  \n",
       "PhraseId                                                     \n",
       "1         A series of escapades demonstrating the adage ...  \n",
       "2         A series of escapades demonstrating the adage ...  \n",
       "3                                                  A series  \n",
       "4                                                         A  \n",
       "5                                                    series  "
      ]
     },
     "execution_count": 31,
     "metadata": {},
     "output_type": "execute_result"
    }
   ],
   "source": [
    "train[\"Phrase(Origin)\"] = train[\"Phrase\"].copy()\n",
    "\n",
    "print(train.shape)\n",
    "train[[\"Phrase\", \"Phrase(Origin)\"]].head()"
   ]
  },
  {
   "cell_type": "code",
   "execution_count": 32,
   "metadata": {},
   "outputs": [
    {
     "name": "stdout",
     "output_type": "stream",
     "text": [
      "(66292, 3)\n"
     ]
    },
    {
     "data": {
      "text/html": [
       "<div>\n",
       "<style scoped>\n",
       "    .dataframe tbody tr th:only-of-type {\n",
       "        vertical-align: middle;\n",
       "    }\n",
       "\n",
       "    .dataframe tbody tr th {\n",
       "        vertical-align: top;\n",
       "    }\n",
       "\n",
       "    .dataframe thead th {\n",
       "        text-align: right;\n",
       "    }\n",
       "</style>\n",
       "<table border=\"1\" class=\"dataframe\">\n",
       "  <thead>\n",
       "    <tr style=\"text-align: right;\">\n",
       "      <th></th>\n",
       "      <th>Phrase</th>\n",
       "      <th>Phrase(Origin)</th>\n",
       "    </tr>\n",
       "    <tr>\n",
       "      <th>PhraseId</th>\n",
       "      <th></th>\n",
       "      <th></th>\n",
       "    </tr>\n",
       "  </thead>\n",
       "  <tbody>\n",
       "    <tr>\n",
       "      <th>156061</th>\n",
       "      <td>An intermittently pleasing but mostly routine ...</td>\n",
       "      <td>An intermittently pleasing but mostly routine ...</td>\n",
       "    </tr>\n",
       "    <tr>\n",
       "      <th>156062</th>\n",
       "      <td>An intermittently pleasing but mostly routine ...</td>\n",
       "      <td>An intermittently pleasing but mostly routine ...</td>\n",
       "    </tr>\n",
       "    <tr>\n",
       "      <th>156063</th>\n",
       "      <td>An</td>\n",
       "      <td>An</td>\n",
       "    </tr>\n",
       "    <tr>\n",
       "      <th>156064</th>\n",
       "      <td>intermittently pleasing but mostly routine effort</td>\n",
       "      <td>intermittently pleasing but mostly routine effort</td>\n",
       "    </tr>\n",
       "    <tr>\n",
       "      <th>156065</th>\n",
       "      <td>intermittently pleasing but mostly routine</td>\n",
       "      <td>intermittently pleasing but mostly routine</td>\n",
       "    </tr>\n",
       "  </tbody>\n",
       "</table>\n",
       "</div>"
      ],
      "text/plain": [
       "                                                     Phrase  \\\n",
       "PhraseId                                                      \n",
       "156061    An intermittently pleasing but mostly routine ...   \n",
       "156062    An intermittently pleasing but mostly routine ...   \n",
       "156063                                                   An   \n",
       "156064    intermittently pleasing but mostly routine effort   \n",
       "156065           intermittently pleasing but mostly routine   \n",
       "\n",
       "                                             Phrase(Origin)  \n",
       "PhraseId                                                     \n",
       "156061    An intermittently pleasing but mostly routine ...  \n",
       "156062    An intermittently pleasing but mostly routine ...  \n",
       "156063                                                   An  \n",
       "156064    intermittently pleasing but mostly routine effort  \n",
       "156065           intermittently pleasing but mostly routine  "
      ]
     },
     "execution_count": 32,
     "metadata": {},
     "output_type": "execute_result"
    }
   ],
   "source": [
    "test[\"Phrase(Origin)\"] = test[\"Phrase\"].copy()\n",
    "\n",
    "print(test.shape)\n",
    "test[[\"Phrase\", \"Phrase(Origin)\"]].head()"
   ]
  },
  {
   "cell_type": "code",
   "execution_count": null,
   "metadata": {},
   "outputs": [],
   "source": []
  },
  {
   "cell_type": "code",
   "execution_count": null,
   "metadata": {},
   "outputs": [],
   "source": []
  },
  {
   "cell_type": "code",
   "execution_count": null,
   "metadata": {},
   "outputs": [],
   "source": []
  },
  {
   "cell_type": "markdown",
   "metadata": {},
   "source": [
    "## (2nd) NLTK"
   ]
  },
  {
   "cell_type": "markdown",
   "metadata": {},
   "source": [
    "# Stemmer"
   ]
  },
  {
   "cell_type": "code",
   "execution_count": 91,
   "metadata": {},
   "outputs": [
    {
     "name": "stdout",
     "output_type": "stream",
     "text": [
      "[nltk_data] Downloading package wordnet to\n",
      "[nltk_data]     C:\\Users\\optim\\AppData\\Roaming\\nltk_data...\n",
      "[nltk_data]   Package wordnet is already up-to-date!\n",
      "[nltk_data] Downloading package averaged_perceptron_tagger to\n",
      "[nltk_data]     C:\\Users\\optim\\AppData\\Roaming\\nltk_data...\n",
      "[nltk_data]   Package averaged_perceptron_tagger is already up-to-\n",
      "[nltk_data]       date!\n"
     ]
    },
    {
     "data": {
      "text/plain": [
       "<nltk.stem.snowball.SnowballStemmer at 0x2979277f390>"
      ]
     },
     "execution_count": 91,
     "metadata": {},
     "output_type": "execute_result"
    }
   ],
   "source": [
    "#nltk\n",
    "import nltk\n",
    "nltk.download('wordnet')\n",
    "nltk.download('averaged_perceptron_tagger')\n",
    "\n",
    "from nltk.stem.snowball import SnowballStemmer\n",
    "stemmer= SnowballStemmer('english')\n",
    "stemmer"
   ]
  },
  {
   "cell_type": "code",
   "execution_count": 97,
   "metadata": {},
   "outputs": [],
   "source": [
    "phrase = train.loc[2274][\"Phrase\"]"
   ]
  },
  {
   "cell_type": "code",
   "execution_count": 98,
   "metadata": {},
   "outputs": [
    {
     "name": "stderr",
     "output_type": "stream",
     "text": [
      "\n",
      "stemming...:   0%|                                                                          | 0/156060 [00:00<?, ?it/s]\n",
      "stemming...:   0%|▎                                                             | 776/156060 [00:00<00:20, 7739.10it/s]\n",
      "stemming...:   1%|▋                                                            | 1648/156060 [00:00<00:19, 8009.01it/s]\n",
      "stemming...:   2%|▉                                                            | 2439/156060 [00:00<00:19, 7972.64it/s]\n",
      "stemming...:   2%|█▎                                                           | 3234/156060 [00:00<00:19, 7959.33it/s]\n",
      "stemming...:   3%|█▌                                                           | 3918/156060 [00:00<00:20, 7580.08it/s]\n",
      "stemming...:   3%|█▊                                                           | 4551/156060 [00:00<00:21, 7149.56it/s]\n",
      "stemming...:   3%|██                                                           | 5211/156060 [00:00<00:21, 6969.39it/s]\n",
      "stemming...:   4%|██▎                                                          | 5852/156060 [00:00<00:22, 6785.79it/s]\n",
      "stemming...:   4%|██▌                                                          | 6492/156060 [00:00<00:22, 6659.74it/s]\n",
      "stemming...:   5%|██▊                                                          | 7170/156060 [00:01<00:22, 6690.09it/s]\n",
      "stemming...:   5%|███                                                          | 7821/156060 [00:01<00:22, 6629.60it/s]\n",
      "stemming...:   5%|███▎                                                         | 8472/156060 [00:01<00:22, 6592.83it/s]\n",
      "stemming...:   6%|███▌                                                         | 9123/156060 [00:01<00:22, 6562.48it/s]\n",
      "stemming...:   6%|███▉                                                         | 9983/156060 [00:01<00:21, 6804.18it/s]\n",
      "stemming...:   7%|████                                                        | 10662/156060 [00:01<00:21, 6794.35it/s]\n",
      "stemming...:   7%|████▎                                                       | 11340/156060 [00:01<00:21, 6786.66it/s]\n",
      "stemming...:   8%|████▌                                                       | 12018/156060 [00:01<00:21, 6779.22it/s]\n",
      "stemming...:   8%|████▉                                                       | 12696/156060 [00:01<00:21, 6774.00it/s]\n",
      "stemming...:   9%|█████▏                                                      | 13379/156060 [00:01<00:21, 6786.91it/s]\n",
      "stemming...:   9%|█████▍                                                      | 14090/156060 [00:02<00:20, 6875.41it/s]\n",
      "stemming...:   9%|█████▋                                                      | 14778/156060 [00:02<00:20, 6871.25it/s]\n",
      "stemming...:  10%|█████▉                                                      | 15499/156060 [00:02<00:21, 6671.51it/s]\n",
      "stemming...:  10%|██████▏                                                     | 16201/156060 [00:02<00:20, 6757.19it/s]\n",
      "stemming...:  11%|██████▍                                                     | 16878/156060 [00:02<00:20, 6755.41it/s]\n",
      "stemming...:  11%|██████▋                                                     | 17555/156060 [00:02<00:20, 6754.29it/s]\n",
      "stemming...:  12%|███████                                                     | 18238/156060 [00:02<00:20, 6771.39it/s]\n",
      "stemming...:  12%|███████▎                                                    | 18916/156060 [00:02<00:20, 6768.39it/s]\n",
      "stemming...:  13%|███████▌                                                    | 19594/156060 [00:02<00:21, 6464.03it/s]\n",
      "stemming...:  13%|███████▊                                                    | 20370/156060 [00:02<00:19, 6800.18it/s]\n",
      "stemming...:  14%|████████                                                    | 21107/156060 [00:03<00:19, 6956.36it/s]\n",
      "stemming...:  14%|████████▍                                                   | 21809/156060 [00:03<00:19, 6971.90it/s]\n",
      "stemming...:  14%|████████▋                                                   | 22511/156060 [00:03<00:19, 6980.58it/s]\n",
      "stemming...:  15%|████████▉                                                   | 23212/156060 [00:03<00:19, 6983.80it/s]\n",
      "stemming...:  15%|█████████▏                                                  | 23913/156060 [00:03<00:19, 6674.23it/s]\n",
      "stemming...:  16%|█████████▍                                                  | 24585/156060 [00:03<00:19, 6682.50it/s]\n",
      "stemming...:  16%|█████████▋                                                  | 25257/156060 [00:03<00:20, 6273.68it/s]\n",
      "stemming...:  17%|█████████▉                                                  | 25906/156060 [00:03<00:20, 6332.08it/s]\n",
      "stemming...:  17%|██████████▏                                                 | 26545/156060 [00:03<00:20, 6344.25it/s]\n",
      "stemming...:  17%|██████████▍                                                 | 27184/156060 [00:04<00:21, 6077.11it/s]\n",
      "stemming...:  18%|██████████▋                                                 | 27867/156060 [00:04<00:21, 6028.55it/s]\n",
      "stemming...:  18%|██████████▉                                                 | 28542/156060 [00:04<00:20, 6215.05it/s]\n",
      "stemming...:  19%|███████████▎                                                | 29291/156060 [00:04<00:19, 6544.91it/s]\n",
      "stemming...:  19%|███████████▌                                                | 29953/156060 [00:04<00:19, 6561.99it/s]\n",
      "stemming...:  20%|███████████▊                                                | 30627/156060 [00:04<00:18, 6609.16it/s]\n",
      "stemming...:  20%|████████████                                                | 31301/156060 [00:04<00:18, 6642.65it/s]\n",
      "stemming...:  21%|████████████▎                                               | 31993/156060 [00:04<00:18, 6722.60it/s]\n",
      "stemming...:  21%|████████████▌                                               | 32668/156060 [00:04<00:18, 6725.39it/s]\n",
      "stemming...:  21%|████████████▊                                               | 33342/156060 [00:04<00:19, 6423.76it/s]\n",
      "stemming...:  22%|█████████████                                               | 33989/156060 [00:05<00:18, 6432.34it/s]\n",
      "stemming...:  22%|█████████████▎                                              | 34635/156060 [00:05<00:18, 6435.40it/s]\n",
      "stemming...:  23%|█████████████▌                                              | 35307/156060 [00:05<00:18, 6513.08it/s]\n",
      "stemming...:  23%|█████████████▊                                              | 35960/156060 [00:05<00:18, 6512.80it/s]\n",
      "stemming...:  23%|██████████████                                              | 36613/156060 [00:05<00:18, 6512.60it/s]\n",
      "stemming...:  24%|██████████████▎                                             | 37266/156060 [00:05<00:19, 6223.04it/s]\n",
      "stemming...:  24%|██████████████▌                                             | 37892/156060 [00:05<00:19, 5951.44it/s]\n",
      "stemming...:  25%|██████████████▊                                             | 38607/156060 [00:05<00:18, 6262.16it/s]\n",
      "stemming...:  25%|███████████████                                             | 39241/156060 [00:05<00:18, 6280.33it/s]\n",
      "stemming...:  26%|███████████████▎                                            | 39875/156060 [00:05<00:18, 6293.06it/s]\n",
      "stemming...:  26%|███████████████▌                                            | 40510/156060 [00:06<00:18, 6304.96it/s]\n",
      "stemming...:  26%|███████████████▊                                            | 41154/156060 [00:06<00:18, 6339.82it/s]\n",
      "stemming...:  27%|████████████████                                            | 41790/156060 [00:06<00:18, 6040.32it/s]\n",
      "stemming...:  27%|████████████████▎                                           | 42450/156060 [00:06<00:18, 6193.29it/s]\n",
      "stemming...:  28%|████████████████▌                                           | 43074/156060 [00:06<00:18, 6129.12it/s]\n",
      "stemming...:  28%|████████████████▊                                           | 43690/156060 [00:06<00:18, 6115.11it/s]\n",
      "stemming...:  28%|█████████████████                                           | 44304/156060 [00:06<00:18, 6108.51it/s]\n",
      "stemming...:  29%|█████████████████▎                                          | 44917/156060 [00:06<00:18, 6110.01it/s]\n",
      "stemming...:  29%|█████████████████▌                                          | 45530/156060 [00:06<00:18, 6111.12it/s]\n",
      "stemming...:  30%|█████████████████▋                                          | 46142/156060 [00:07<00:17, 6108.93it/s]\n",
      "stemming...:  30%|█████████████████▉                                          | 46754/156060 [00:07<00:18, 5834.37it/s]\n",
      "stemming...:  30%|██████████████████▏                                         | 47384/156060 [00:07<00:18, 5962.16it/s]\n",
      "stemming...:  31%|██████████████████▍                                         | 48074/156060 [00:07<00:17, 6211.12it/s]\n",
      "stemming...:  31%|██████████████████▋                                         | 48700/156060 [00:07<00:17, 6222.59it/s]\n",
      "stemming...:  32%|██████████████████▉                                         | 49326/156060 [00:07<00:17, 6228.79it/s]\n",
      "stemming...:  32%|███████████████████▏                                        | 49952/156060 [00:07<00:17, 6233.15it/s]\n",
      "stemming...:  32%|███████████████████▍                                        | 50577/156060 [00:07<00:17, 5955.44it/s]\n",
      "stemming...:  33%|███████████████████▋                                        | 51198/156060 [00:07<00:17, 6024.88it/s]\n",
      "stemming...:  33%|███████████████████▉                                        | 51848/156060 [00:07<00:16, 6155.27it/s]\n",
      "stemming...:  34%|████████████████████▏                                       | 52565/156060 [00:08<00:16, 6423.60it/s]\n",
      "stemming...:  34%|████████████████████▍                                       | 53294/156060 [00:08<00:15, 6656.21it/s]\n",
      "stemming...:  35%|████████████████████▊                                       | 53975/156060 [00:08<00:15, 6696.35it/s]\n",
      "stemming...:  35%|█████████████████████                                       | 54649/156060 [00:08<00:15, 6706.12it/s]\n",
      "stemming...:  35%|█████████████████████▎                                      | 55323/156060 [00:08<00:15, 6713.97it/s]\n",
      "stemming...:  36%|█████████████████████▌                                      | 55997/156060 [00:08<00:15, 6416.61it/s]\n",
      "stemming...:  36%|█████████████████████▊                                      | 56677/156060 [00:08<00:15, 6526.18it/s]\n",
      "stemming...:  37%|██████████████████████                                      | 57333/156060 [00:08<00:15, 6531.08it/s]\n",
      "stemming...:  37%|██████████████████████▎                                     | 57989/156060 [00:08<00:15, 6242.80it/s]\n",
      "stemming...:  38%|██████████████████████▌                                     | 58618/156060 [00:09<00:16, 5973.53it/s]\n",
      "stemming...:  38%|██████████████████████▊                                     | 59221/156060 [00:09<00:17, 5670.88it/s]\n",
      "stemming...:  38%|██████████████████████▉                                     | 59809/156060 [00:09<00:16, 5727.54it/s]\n",
      "stemming...:  39%|███████████████████████▏                                    | 60422/156060 [00:09<00:16, 5838.07it/s]\n",
      "stemming...:  39%|███████████████████████▍                                    | 61010/156060 [00:09<00:16, 5845.90it/s]\n",
      "stemming...:  39%|███████████████████████▋                                    | 61598/156060 [00:09<00:16, 5799.40it/s]\n",
      "stemming...:  40%|███████████████████████▉                                    | 62181/156060 [00:09<00:16, 5795.03it/s]\n",
      "stemming...:  40%|████████████████████████▏                                   | 62879/156060 [00:09<00:15, 5864.72it/s]\n",
      "stemming...:  41%|████████████████████████▍                                   | 63467/156060 [00:09<00:15, 5864.58it/s]\n",
      "stemming...:  41%|████████████████████████▋                                   | 64055/156060 [00:09<00:15, 5864.50it/s]\n",
      "stemming...:  41%|████████████████████████▊                                   | 64643/156060 [00:10<00:15, 5864.45it/s]\n",
      "stemming...:  42%|█████████████████████████                                   | 65230/156060 [00:10<00:15, 5861.37it/s]\n",
      "stemming...:  42%|█████████████████████████▎                                  | 65850/156060 [00:10<00:15, 5954.39it/s]\n",
      "stemming...:  43%|█████████████████████████▌                                  | 66451/156060 [00:10<00:15, 5966.57it/s]\n",
      "stemming...:  43%|█████████████████████████▊                                  | 67107/156060 [00:10<00:14, 6128.46it/s]\n",
      "stemming...:  43%|██████████████████████████                                  | 67722/156060 [00:10<00:14, 6129.98it/s]\n",
      "stemming...:  44%|██████████████████████████▎                                 | 68336/156060 [00:10<00:14, 5856.47it/s]\n",
      "stemming...:  44%|██████████████████████████▍                                 | 68925/156060 [00:10<00:16, 5361.55it/s]\n",
      "stemming...:  45%|██████████████████████████▋                                 | 69472/156060 [00:10<00:16, 5287.65it/s]\n",
      "stemming...:  45%|██████████████████████████▉                                 | 70009/156060 [00:10<00:16, 5309.61it/s]\n",
      "stemming...:  45%|███████████████████████████                                 | 70546/156060 [00:11<00:17, 4788.69it/s]\n",
      "stemming...:  46%|███████████████████████████▎                                | 71039/156060 [00:11<00:18, 4484.75it/s]\n",
      "stemming...:  46%|███████████████████████████▌                                | 71555/156060 [00:11<00:18, 4493.55it/s]\n",
      "stemming...:  46%|███████████████████████████▋                                | 72068/156060 [00:11<00:18, 4663.82it/s]\n",
      "stemming...:  46%|███████████████████████████▉                                | 72543/156060 [00:11<00:17, 4685.61it/s]\n",
      "stemming...:  47%|████████████████████████████                                | 73028/156060 [00:11<00:17, 4730.04it/s]\n",
      "stemming...:  47%|████████████████████████████▎                               | 73527/156060 [00:11<00:17, 4801.40it/s]\n",
      "stemming...:  47%|████████████████████████████▍                               | 74011/156060 [00:11<00:17, 4809.03it/s]\n",
      "stemming...:  48%|████████████████████████████▋                               | 74495/156060 [00:11<00:17, 4599.84it/s]\n",
      "stemming...:  48%|████████████████████████████▊                               | 74959/156060 [00:12<00:18, 4403.09it/s]\n",
      "stemming...:  48%|████████████████████████████▉                               | 75404/156060 [00:12<00:22, 3661.58it/s]\n",
      "stemming...:  49%|█████████████████████████████▏                              | 75856/156060 [00:12<00:20, 3880.09it/s]\n",
      "stemming...:  49%|█████████████████████████████▎                              | 76341/156060 [00:12<00:19, 4124.88it/s]\n",
      "stemming...:  49%|█████████████████████████████▌                              | 76863/156060 [00:12<00:18, 4398.89it/s]\n",
      "stemming...:  50%|█████████████████████████████▋                              | 77370/156060 [00:12<00:17, 4577.43it/s]\n",
      "stemming...:  50%|█████████████████████████████▉                              | 77876/156060 [00:12<00:16, 4712.25it/s]\n",
      "stemming...:  50%|██████████████████████████████▏                             | 78363/156060 [00:12<00:16, 4754.76it/s]\n",
      "stemming...:  51%|██████████████████████████████▎                             | 78904/156060 [00:12<00:16, 4731.88it/s]\n",
      "stemming...:  51%|██████████████████████████████▌                             | 79402/156060 [00:13<00:15, 4799.94it/s]\n",
      "stemming...:  51%|██████████████████████████████▋                             | 79887/156060 [00:13<00:15, 4812.80it/s]\n",
      "stemming...:  52%|██████████████████████████████▉                             | 80372/156060 [00:13<00:15, 4821.88it/s]\n",
      "stemming...:  52%|███████████████████████████████                             | 80857/156060 [00:13<00:16, 4611.24it/s]\n",
      "stemming...:  52%|███████████████████████████████▎                            | 81322/156060 [00:13<00:16, 4619.00it/s]\n",
      "stemming...:  52%|███████████████████████████████▍                            | 81787/156060 [00:13<00:16, 4624.37it/s]\n",
      "stemming...:  53%|███████████████████████████████▌                            | 82252/156060 [00:13<00:15, 4628.30it/s]\n",
      "stemming...:  53%|███████████████████████████████▊                            | 82716/156060 [00:13<00:16, 4346.64it/s]\n",
      "stemming...:  53%|███████████████████████████████▉                            | 83155/156060 [00:13<00:16, 4350.88it/s]\n",
      "stemming...:  54%|████████████████████████████████▏                           | 83685/156060 [00:14<00:16, 4416.48it/s]\n",
      "stemming...:  54%|████████████████████████████████▎                           | 84146/156060 [00:14<00:16, 4469.32it/s]\n"
     ]
    },
    {
     "name": "stderr",
     "output_type": "stream",
     "text": [
      "stemming...:  54%|████████████████████████████████▌                           | 84613/156060 [00:14<00:15, 4524.18it/s]\n",
      "stemming...:  55%|████████████████████████████████▋                           | 85068/156060 [00:14<00:15, 4528.27it/s]\n",
      "stemming...:  55%|████████████████████████████████▉                           | 85584/156060 [00:14<00:15, 4510.23it/s]\n",
      "stemming...:  55%|█████████████████████████████████                           | 86080/156060 [00:14<00:15, 4632.88it/s]\n",
      "stemming...:  55%|█████████████████████████████████▎                          | 86545/156060 [00:14<00:15, 4634.28it/s]\n",
      "stemming...:  56%|█████████████████████████████████▍                          | 87010/156060 [00:14<00:14, 4635.29it/s]\n",
      "stemming...:  56%|█████████████████████████████████▋                          | 87475/156060 [00:14<00:14, 4635.96it/s]\n",
      "stemming...:  56%|█████████████████████████████████▊                          | 87940/156060 [00:14<00:15, 4429.38it/s]\n",
      "stemming...:  57%|█████████████████████████████████▉                          | 88408/156060 [00:15<00:15, 4498.22it/s]\n",
      "stemming...:  57%|██████████████████████████████████▏                         | 88873/156060 [00:15<00:14, 4540.01it/s]\n",
      "stemming...:  57%|██████████████████████████████████▍                         | 89421/156060 [00:15<00:14, 4599.13it/s]\n",
      "stemming...:  58%|██████████████████████████████████▌                         | 89916/156060 [00:15<00:14, 4695.47it/s]\n",
      "stemming...:  58%|██████████████████████████████████▊                         | 90387/156060 [00:15<00:13, 4696.05it/s]\n",
      "stemming...:  58%|██████████████████████████████████▉                         | 90858/156060 [00:15<00:16, 3895.02it/s]\n",
      "stemming...:  58%|███████████████████████████████████                         | 91271/156060 [00:15<00:17, 3788.94it/s]\n",
      "stemming...:  59%|███████████████████████████████████▎                        | 91758/156060 [00:15<00:15, 4056.54it/s]\n",
      "stemming...:  59%|███████████████████████████████████▍                        | 92181/156060 [00:15<00:15, 4103.88it/s]\n",
      "stemming...:  59%|███████████████████████████████████▌                        | 92647/156060 [00:16<00:14, 4253.09it/s]\n",
      "stemming...:  60%|███████████████████████████████████▊                        | 93137/156060 [00:16<00:14, 4425.28it/s]\n",
      "stemming...:  60%|███████████████████████████████████▉                        | 93627/156060 [00:16<00:13, 4554.31it/s]\n",
      "stemming...:  60%|████████████████████████████████████▏                       | 94184/156060 [00:16<00:12, 4814.54it/s]\n",
      "stemming...:  61%|████████████████████████████████████▍                       | 94690/156060 [00:16<00:12, 4881.84it/s]\n",
      "stemming...:  61%|████████████████████████████████████▌                       | 95185/156060 [00:16<00:12, 4901.06it/s]\n",
      "stemming...:  61%|████████████████████████████████████▊                       | 95689/156060 [00:16<00:12, 4938.02it/s]\n",
      "stemming...:  62%|████████████████████████████████████▉                       | 96187/156060 [00:16<00:12, 4946.56it/s]\n",
      "stemming...:  62%|█████████████████████████████████████▏                      | 96684/156060 [00:16<00:12, 4728.85it/s]\n",
      "stemming...:  62%|█████████████████████████████████████▎                      | 97161/156060 [00:16<00:12, 4737.32it/s]\n",
      "stemming...:  63%|█████████████████████████████████████▌                      | 97695/156060 [00:17<00:11, 4899.74it/s]\n",
      "stemming...:  63%|█████████████████████████████████████▊                      | 98262/156060 [00:17<00:11, 5104.20it/s]\n",
      "stemming...:  63%|█████████████████████████████████████▉                      | 98777/156060 [00:17<00:11, 5113.69it/s]\n",
      "stemming...:  64%|██████████████████████████████████████▏                     | 99292/156060 [00:17<00:11, 5120.43it/s]\n",
      "stemming...:  64%|██████████████████████████████████████▎                     | 99808/156060 [00:17<00:11, 4904.74it/s]\n",
      "stemming...:  64%|█████████████████████████████████████▉                     | 100316/156060 [00:17<00:11, 4952.16it/s]\n",
      "stemming...:  65%|██████████████████████████████████████▏                    | 100859/156060 [00:17<00:10, 5084.30it/s]\n",
      "stemming...:  65%|██████████████████████████████████████▎                    | 101371/156060 [00:17<00:10, 5090.91it/s]\n",
      "stemming...:  65%|██████████████████████████████████████▌                    | 101937/156060 [00:17<00:10, 5245.33it/s]\n",
      "stemming...:  66%|██████████████████████████████████████▋                    | 102465/156060 [00:18<00:10, 5251.47it/s]\n",
      "stemming...:  66%|██████████████████████████████████████▉                    | 102992/156060 [00:18<00:10, 5252.80it/s]\n",
      "stemming...:  66%|███████████████████████████████████████▏                   | 103519/156060 [00:18<00:10, 5253.74it/s]\n",
      "stemming...:  67%|███████████████████████████████████████▎                   | 104046/156060 [00:18<00:11, 4720.97it/s]\n",
      "stemming...:  67%|███████████████████████████████████████▌                   | 104529/156060 [00:18<00:10, 4752.08it/s]\n",
      "stemming...:  67%|███████████████████████████████████████▋                   | 105012/156060 [00:18<00:10, 4771.41it/s]\n",
      "stemming...:  68%|███████████████████████████████████████▉                   | 105495/156060 [00:18<00:10, 4785.06it/s]\n",
      "stemming...:  68%|████████████████████████████████████████                   | 105978/156060 [00:18<00:11, 4474.24it/s]\n",
      "stemming...:  68%|████████████████████████████████████████▎                  | 106466/156060 [00:18<00:10, 4586.59it/s]\n",
      "stemming...:  69%|████████████████████████████████████████▍                  | 107114/156060 [00:18<00:09, 5025.36it/s]\n",
      "stemming...:  69%|████████████████████████████████████████▋                  | 107633/156060 [00:19<00:09, 4970.56it/s]\n",
      "stemming...:  69%|████████████████████████████████████████▉                  | 108228/156060 [00:19<00:09, 5062.19it/s]\n",
      "stemming...:  70%|█████████████████████████████████████████▏                 | 108862/156060 [00:19<00:08, 5343.43it/s]\n",
      "stemming...:  70%|█████████████████████████████████████████▍                 | 109607/156060 [00:19<00:08, 5660.68it/s]\n",
      "stemming...:  71%|█████████████████████████████████████████▋                 | 110186/156060 [00:19<00:08, 5652.62it/s]\n",
      "stemming...:  71%|█████████████████████████████████████████▉                 | 110788/156060 [00:19<00:07, 5753.64it/s]\n",
      "stemming...:  71%|██████████████████████████████████████████▏                | 111429/156060 [00:19<00:07, 5931.57it/s]\n",
      "stemming...:  72%|██████████████████████████████████████████▎                | 112029/156060 [00:19<00:07, 5947.19it/s]\n",
      "stemming...:  72%|██████████████████████████████████████████▋                | 112765/156060 [00:19<00:07, 6067.35it/s]\n",
      "stemming...:  73%|██████████████████████████████████████████▊                | 113376/156060 [00:20<00:07, 6066.04it/s]\n",
      "stemming...:  73%|███████████████████████████████████████████                | 113986/156060 [00:20<00:07, 5964.38it/s]\n",
      "stemming...:  74%|███████████████████████████████████████████▍               | 114851/156060 [00:20<00:06, 6352.44it/s]\n",
      "stemming...:  74%|███████████████████████████████████████████▋               | 115522/156060 [00:20<00:06, 6450.64it/s]\n",
      "stemming...:  74%|███████████████████████████████████████████▉               | 116174/156060 [00:20<00:06, 6466.12it/s]\n",
      "stemming...:  75%|████████████████████████████████████████████▏              | 116825/156060 [00:20<00:06, 6185.67it/s]\n",
      "stemming...:  75%|████████████████████████████████████████████▍              | 117526/156060 [00:20<00:06, 6148.50it/s]\n",
      "stemming...:  76%|████████████████████████████████████████████▋              | 118156/156060 [00:20<00:06, 6189.05it/s]\n",
      "stemming...:  76%|████████████████████████████████████████████▉              | 118778/156060 [00:20<00:06, 6193.30it/s]\n",
      "stemming...:  77%|█████████████████████████████████████████████▏             | 119400/156060 [00:20<00:06, 5919.90it/s]\n",
      "stemming...:  77%|█████████████████████████████████████████████▎             | 119996/156060 [00:21<00:06, 5927.15it/s]\n",
      "stemming...:  77%|█████████████████████████████████████████████▌             | 120592/156060 [00:21<00:06, 5667.81it/s]\n",
      "stemming...:  78%|█████████████████████████████████████████████▊             | 121243/156060 [00:21<00:05, 5892.35it/s]\n",
      "stemming...:  78%|██████████████████████████████████████████████             | 121838/156060 [00:21<00:05, 5904.84it/s]\n",
      "stemming...:  78%|██████████████████████████████████████████████▎            | 122450/156060 [00:21<00:05, 5708.86it/s]\n",
      "stemming...:  79%|██████████████████████████████████████████████▌            | 123025/156060 [00:21<00:05, 5674.15it/s]\n",
      "stemming...:  79%|██████████████████████████████████████████████▋            | 123596/156060 [00:21<00:05, 5653.88it/s]\n",
      "stemming...:  80%|██████████████████████████████████████████████▉            | 124270/156060 [00:21<00:05, 5936.85it/s]\n",
      "stemming...:  80%|███████████████████████████████████████████████▏           | 124973/156060 [00:21<00:05, 6214.61it/s]\n",
      "stemming...:  80%|███████████████████████████████████████████████▍           | 125602/156060 [00:22<00:04, 6204.30it/s]\n",
      "stemming...:  81%|███████████████████████████████████████████████▊           | 126311/156060 [00:22<00:04, 6179.62it/s]\n",
      "stemming...:  81%|███████████████████████████████████████████████▉           | 126933/156060 [00:22<00:04, 6186.76it/s]\n",
      "stemming...:  82%|████████████████████████████████████████████████▎          | 127636/156060 [00:22<00:04, 6157.46it/s]\n",
      "stemming...:  82%|████████████████████████████████████████████████▌          | 128325/156060 [00:22<00:04, 6346.88it/s]\n",
      "stemming...:  83%|████████████████████████████████████████████████▊          | 128963/156060 [00:22<00:04, 6072.41it/s]\n",
      "stemming...:  83%|████████████████████████████████████████████████▉          | 129575/156060 [00:22<00:04, 6081.81it/s]\n",
      "stemming...:  83%|█████████████████████████████████████████████████▏         | 130187/156060 [00:22<00:04, 6091.21it/s]\n",
      "stemming...:  84%|█████████████████████████████████████████████████▍         | 130799/156060 [00:22<00:04, 5823.09it/s]\n",
      "stemming...:  84%|█████████████████████████████████████████████████▋         | 131386/156060 [00:23<00:04, 5832.38it/s]\n",
      "stemming...:  85%|█████████████████████████████████████████████████▉         | 131994/156060 [00:23<00:04, 5650.08it/s]\n",
      "stemming...:  85%|██████████████████████████████████████████████████▏        | 132606/156060 [00:23<00:04, 5539.84it/s]\n",
      "stemming...:  85%|██████████████████████████████████████████████████▎        | 133172/156060 [00:23<00:04, 5573.27it/s]\n",
      "stemming...:  86%|██████████████████████████████████████████████████▌        | 133828/156060 [00:23<00:03, 5824.59it/s]\n",
      "stemming...:  86%|██████████████████████████████████████████████████▊        | 134491/156060 [00:23<00:03, 6040.44it/s]\n",
      "stemming...:  87%|███████████████████████████████████████████████████        | 135169/156060 [00:23<00:03, 6240.14it/s]\n",
      "stemming...:  87%|███████████████████████████████████████████████████▎       | 135799/156060 [00:23<00:03, 6225.18it/s]\n",
      "stemming...:  87%|███████████████████████████████████████████████████▌       | 136509/156060 [00:23<00:03, 6458.95it/s]\n",
      "stemming...:  88%|███████████████████████████████████████████████████▊       | 137160/156060 [00:23<00:02, 6383.30it/s]\n",
      "stemming...:  88%|████████████████████████████████████████████████████       | 137802/156060 [00:24<00:02, 6389.16it/s]\n",
      "stemming...:  89%|████████████████████████████████████████████████████▎      | 138515/156060 [00:24<00:02, 6589.82it/s]\n",
      "stemming...:  89%|████████████████████████████████████████████████████▌      | 139178/156060 [00:24<00:02, 6596.52it/s]\n",
      "stemming...:  90%|████████████████████████████████████████████████████▉      | 139879/156060 [00:24<00:02, 6426.55it/s]\n",
      "stemming...:  90%|█████████████████████████████████████████████████████▏     | 140525/156060 [00:24<00:02, 6431.44it/s]\n",
      "stemming...:  90%|█████████████████████████████████████████████████████▎     | 141170/156060 [00:24<00:02, 6431.90it/s]\n",
      "stemming...:  91%|█████████████████████████████████████████████████████▌     | 141815/156060 [00:24<00:02, 6432.14it/s]\n",
      "stemming...:  91%|█████████████████████████████████████████████████████▊     | 142460/156060 [00:24<00:02, 5882.35it/s]\n",
      "stemming...:  92%|██████████████████████████████████████████████████████     | 143059/156060 [00:24<00:02, 5909.55it/s]\n",
      "stemming...:  92%|██████████████████████████████████████████████████████▎    | 143657/156060 [00:24<00:02, 5812.20it/s]\n",
      "stemming...:  92%|██████████████████████████████████████████████████████▌    | 144244/156060 [00:25<00:02, 5561.12it/s]\n",
      "stemming...:  93%|██████████████████████████████████████████████████████▋    | 144807/156060 [00:25<00:02, 5234.76it/s]\n",
      "stemming...:  93%|██████████████████████████████████████████████████████▉    | 145401/156060 [00:25<00:01, 5419.69it/s]\n",
      "stemming...:  94%|███████████████████████████████████████████████████████▏   | 145951/156060 [00:25<00:01, 5323.66it/s]\n",
      "stemming...:  94%|███████████████████████████████████████████████████████▍   | 146489/156060 [00:25<00:01, 5095.64it/s]\n",
      "stemming...:  94%|███████████████████████████████████████████████████████▌   | 147005/156060 [00:25<00:01, 4883.93it/s]\n",
      "stemming...:  95%|███████████████████████████████████████████████████████▊   | 147564/156060 [00:25<00:01, 4871.07it/s]\n",
      "stemming...:  95%|███████████████████████████████████████████████████████▉   | 148099/156060 [00:25<00:01, 4796.21it/s]\n",
      "stemming...:  95%|████████████████████████████████████████████████████████▏  | 148722/156060 [00:26<00:01, 4962.17it/s]\n",
      "stemming...:  96%|████████████████████████████████████████████████████████▍  | 149268/156060 [00:26<00:01, 5090.75it/s]\n",
      "stemming...:  96%|████████████████████████████████████████████████████████▋  | 149846/156060 [00:26<00:01, 5275.77it/s]\n",
      "stemming...:  96%|████████████████████████████████████████████████████████▊  | 150414/156060 [00:26<00:01, 5162.45it/s]\n",
      "stemming...:  97%|█████████████████████████████████████████████████████████  | 150958/156060 [00:26<00:00, 5238.60it/s]\n",
      "stemming...:  97%|█████████████████████████████████████████████████████████▎ | 151485/156060 [00:26<00:00, 5197.10it/s]\n",
      "stemming...:  97%|█████████████████████████████████████████████████████████▍ | 152036/156060 [00:26<00:00, 5275.47it/s]\n",
      "stemming...:  98%|█████████████████████████████████████████████████████████▋ | 152566/156060 [00:26<00:00, 5278.58it/s]\n",
      "stemming...:  98%|█████████████████████████████████████████████████████████▉ | 153108/156060 [00:26<00:00, 5316.00it/s]\n",
      "stemming...:  98%|██████████████████████████████████████████████████████████ | 153641/156060 [00:26<00:00, 5268.52it/s]\n",
      "stemming...:  99%|██████████████████████████████████████████████████████████▎| 154169/156060 [00:27<00:00, 5267.64it/s]\n",
      "stemming...:  99%|██████████████████████████████████████████████████████████▍| 154697/156060 [00:27<00:00, 5031.78it/s]\n",
      "stemming...:  99%|██████████████████████████████████████████████████████████▋| 155219/156060 [00:27<00:00, 5082.79it/s]\n",
      "stemming...: 100%|██████████████████████████████████████████████████████████▉| 155730/156060 [00:27<00:00, 5086.89it/s]\n",
      "stemming...: 100%|███████████████████████████████████████████████████████████| 156060/156060 [00:27<00:00, 5686.31it/s]"
     ]
    },
    {
     "data": {
      "text/html": [
       "<div>\n",
       "<style scoped>\n",
       "    .dataframe tbody tr th:only-of-type {\n",
       "        vertical-align: middle;\n",
       "    }\n",
       "\n",
       "    .dataframe tbody tr th {\n",
       "        vertical-align: top;\n",
       "    }\n",
       "\n",
       "    .dataframe thead th {\n",
       "        text-align: right;\n",
       "    }\n",
       "</style>\n",
       "<table border=\"1\" class=\"dataframe\">\n",
       "  <thead>\n",
       "    <tr style=\"text-align: right;\">\n",
       "      <th></th>\n",
       "      <th>SentenceId</th>\n",
       "      <th>Phrase</th>\n",
       "      <th>Sentiment</th>\n",
       "      <th>Phrase(Origin)</th>\n",
       "      <th>Phrase(Stemmed)</th>\n",
       "    </tr>\n",
       "    <tr>\n",
       "      <th>PhraseId</th>\n",
       "      <th></th>\n",
       "      <th></th>\n",
       "      <th></th>\n",
       "      <th></th>\n",
       "      <th></th>\n",
       "    </tr>\n",
       "  </thead>\n",
       "  <tbody>\n",
       "    <tr>\n",
       "      <th>1</th>\n",
       "      <td>1</td>\n",
       "      <td>A series of escapades demonstrating the adage ...</td>\n",
       "      <td>1</td>\n",
       "      <td>A series of escapades demonstrating the adage ...</td>\n",
       "      <td>a seri of escapad demonstr the adag that what ...</td>\n",
       "    </tr>\n",
       "    <tr>\n",
       "      <th>2</th>\n",
       "      <td>1</td>\n",
       "      <td>A series of escapades demonstrating the adage ...</td>\n",
       "      <td>2</td>\n",
       "      <td>A series of escapades demonstrating the adage ...</td>\n",
       "      <td>a seri of escapad demonstr the adag that what ...</td>\n",
       "    </tr>\n",
       "    <tr>\n",
       "      <th>3</th>\n",
       "      <td>1</td>\n",
       "      <td>A series</td>\n",
       "      <td>2</td>\n",
       "      <td>A series</td>\n",
       "      <td>a seri</td>\n",
       "    </tr>\n",
       "    <tr>\n",
       "      <th>4</th>\n",
       "      <td>1</td>\n",
       "      <td>A</td>\n",
       "      <td>2</td>\n",
       "      <td>A</td>\n",
       "      <td>a</td>\n",
       "    </tr>\n",
       "    <tr>\n",
       "      <th>5</th>\n",
       "      <td>1</td>\n",
       "      <td>series</td>\n",
       "      <td>2</td>\n",
       "      <td>series</td>\n",
       "      <td>seri</td>\n",
       "    </tr>\n",
       "  </tbody>\n",
       "</table>\n",
       "</div>"
      ],
      "text/plain": [
       "          SentenceId                                             Phrase  \\\n",
       "PhraseId                                                                  \n",
       "1                  1  A series of escapades demonstrating the adage ...   \n",
       "2                  1  A series of escapades demonstrating the adage ...   \n",
       "3                  1                                           A series   \n",
       "4                  1                                                  A   \n",
       "5                  1                                             series   \n",
       "\n",
       "          Sentiment                                     Phrase(Origin)  \\\n",
       "PhraseId                                                                 \n",
       "1                 1  A series of escapades demonstrating the adage ...   \n",
       "2                 2  A series of escapades demonstrating the adage ...   \n",
       "3                 2                                           A series   \n",
       "4                 2                                                  A   \n",
       "5                 2                                             series   \n",
       "\n",
       "                                            Phrase(Stemmed)  \n",
       "PhraseId                                                     \n",
       "1         a seri of escapad demonstr the adag that what ...  \n",
       "2         a seri of escapad demonstr the adag that what ...  \n",
       "3                                                    a seri  \n",
       "4                                                         a  \n",
       "5                                                      seri  "
      ]
     },
     "execution_count": 98,
     "metadata": {},
     "output_type": "execute_result"
    }
   ],
   "source": [
    "#진척도 표시. 뭔가 이상함- 하나로 안나오고 줄줄이. tqdm 자체 에러래. 신경 X\n",
    "from tqdm import tqdm\n",
    "\n",
    "def stem_phrase(phrase):\n",
    "    words = phrase.split(\" \")\n",
    "\n",
    "    stemmed_words = [stemmer.stem(w) for w in words]\n",
    "    stemmed_phrase = \" \".join(stemmed_words)\n",
    "\n",
    "    return stemmed_phrase\n",
    "\n",
    "tqdm.pandas(desc=\"stemming...\")\n",
    "train[\"Phrase(Stemmed)\"] = train[\"Phrase\"].progress_apply(stem_phrase)\n",
    "\n",
    "train.head()"
   ]
  },
  {
   "cell_type": "markdown",
   "metadata": {},
   "source": [
    "# Lemmatizer"
   ]
  },
  {
   "cell_type": "code",
   "execution_count": null,
   "metadata": {},
   "outputs": [],
   "source": [
    "from nltk.stem import WordNetLemmatizer\n",
    "lemmatizer= WordNetLemmatizer(); lemmatizer\n",
    "\n",
    "def clean_phrase_lemmatizer(phrase):\n",
    "    words = phrase.split(' ')\n",
    "    lemmatized_words = [lemmatizer.lemmatize(w) for w in words]\n",
    "    lemmatized_phrase = ' '.join(lemmatized_words)\n",
    "    return lemmatized_phrase\n",
    "\n",
    "#train에 적용\n",
    "train[\"Phrase\"] = train[\"Phrase\"].apply(clean_phrase_lemmatizer)"
   ]
  },
  {
   "cell_type": "markdown",
   "metadata": {},
   "source": [
    "# Pos tagger"
   ]
  },
  {
   "cell_type": "code",
   "execution_count": 95,
   "metadata": {},
   "outputs": [
    {
     "name": "stdout",
     "output_type": "stream",
     "text": [
      "[nltk_data] Downloading package punkt to\n",
      "[nltk_data]     C:\\Users\\optim\\AppData\\Roaming\\nltk_data...\n",
      "[nltk_data]   Package punkt is already up-to-date!\n"
     ]
    }
   ],
   "source": [
    "nltk.download('punkt')\n",
    "from nltk import pos_tag\n",
    "from nltk.tokenize import word_tokenize # pos tagger 전용\n",
    "phrase= train.loc[2274][\"Phrase\"]"
   ]
  },
  {
   "cell_type": "code",
   "execution_count": 96,
   "metadata": {},
   "outputs": [
    {
     "name": "stdout",
     "output_type": "stream",
     "text": [
      "[nltk_data] Downloading package punkt to\n",
      "[nltk_data]     C:\\Users\\optim\\AppData\\Roaming\\nltk_data...\n",
      "[nltk_data]   Package punkt is already up-to-date!\n"
     ]
    },
    {
     "data": {
      "text/plain": [
       "[('you', 'PRP'),\n",
       " ('should', 'MD'),\n",
       " ('close', 'VB'),\n",
       " ('the', 'DT'),\n",
       " ('door', 'NN')]"
      ]
     },
     "execution_count": 96,
     "metadata": {},
     "output_type": "execute_result"
    }
   ],
   "source": [
    "words_pos= pos_tag(word_tokenize(phrase))\n",
    "words_pos\n",
    "\n",
    "phrase= \"you should close the door\"\n",
    "words= phrase.split(\" \")\n",
    "\n",
    "stemmed_words= [stemmer.stem(w) for w in words]\n",
    "stemmed_phrase= \" \".join(stemmed_words)\n",
    "\n",
    "pos_tag(word_tokenize(stemmed_phrase))"
   ]
  },
  {
   "cell_type": "code",
   "execution_count": null,
   "metadata": {},
   "outputs": [],
   "source": []
  },
  {
   "cell_type": "code",
   "execution_count": null,
   "metadata": {},
   "outputs": [],
   "source": []
  },
  {
   "cell_type": "code",
   "execution_count": null,
   "metadata": {},
   "outputs": [],
   "source": []
  },
  {
   "cell_type": "markdown",
   "metadata": {},
   "source": [
    "### Clean Text"
   ]
  },
  {
   "cell_type": "code",
   "execution_count": 33,
   "metadata": {},
   "outputs": [],
   "source": [
    "def clean_text(phrase):\n",
    "    phrase = phrase.replace(\"ca n't\", \"can not\")\n",
    "    phrase = phrase.replace(\"does n't\", \"does not\")\n",
    "    phrase = phrase.replace(\"n't\", \"not\")\n",
    "\n",
    "    return phrase"
   ]
  },
  {
   "cell_type": "code",
   "execution_count": 34,
   "metadata": {},
   "outputs": [
    {
     "name": "stdout",
     "output_type": "stream",
     "text": [
      "(156060, 4)\n"
     ]
    },
    {
     "data": {
      "text/html": [
       "<div>\n",
       "<style scoped>\n",
       "    .dataframe tbody tr th:only-of-type {\n",
       "        vertical-align: middle;\n",
       "    }\n",
       "\n",
       "    .dataframe tbody tr th {\n",
       "        vertical-align: top;\n",
       "    }\n",
       "\n",
       "    .dataframe thead th {\n",
       "        text-align: right;\n",
       "    }\n",
       "</style>\n",
       "<table border=\"1\" class=\"dataframe\">\n",
       "  <thead>\n",
       "    <tr style=\"text-align: right;\">\n",
       "      <th></th>\n",
       "      <th>Phrase</th>\n",
       "      <th>Phrase(Origin)</th>\n",
       "    </tr>\n",
       "    <tr>\n",
       "      <th>PhraseId</th>\n",
       "      <th></th>\n",
       "      <th></th>\n",
       "    </tr>\n",
       "  </thead>\n",
       "  <tbody>\n",
       "    <tr>\n",
       "      <th>1</th>\n",
       "      <td>A series of escapades demonstrating the adage ...</td>\n",
       "      <td>A series of escapades demonstrating the adage ...</td>\n",
       "    </tr>\n",
       "    <tr>\n",
       "      <th>2</th>\n",
       "      <td>A series of escapades demonstrating the adage ...</td>\n",
       "      <td>A series of escapades demonstrating the adage ...</td>\n",
       "    </tr>\n",
       "    <tr>\n",
       "      <th>3</th>\n",
       "      <td>A series</td>\n",
       "      <td>A series</td>\n",
       "    </tr>\n",
       "    <tr>\n",
       "      <th>4</th>\n",
       "      <td>A</td>\n",
       "      <td>A</td>\n",
       "    </tr>\n",
       "    <tr>\n",
       "      <th>5</th>\n",
       "      <td>series</td>\n",
       "      <td>series</td>\n",
       "    </tr>\n",
       "  </tbody>\n",
       "</table>\n",
       "</div>"
      ],
      "text/plain": [
       "                                                     Phrase  \\\n",
       "PhraseId                                                      \n",
       "1         A series of escapades demonstrating the adage ...   \n",
       "2         A series of escapades demonstrating the adage ...   \n",
       "3                                                  A series   \n",
       "4                                                         A   \n",
       "5                                                    series   \n",
       "\n",
       "                                             Phrase(Origin)  \n",
       "PhraseId                                                     \n",
       "1         A series of escapades demonstrating the adage ...  \n",
       "2         A series of escapades demonstrating the adage ...  \n",
       "3                                                  A series  \n",
       "4                                                         A  \n",
       "5                                                    series  "
      ]
     },
     "execution_count": 34,
     "metadata": {},
     "output_type": "execute_result"
    }
   ],
   "source": [
    "train[\"Phrase\"] = train[\"Phrase\"].apply(clean_text)\n",
    "\n",
    "print(train.shape)\n",
    "train[[\"Phrase\", \"Phrase(Origin)\"]].head()"
   ]
  },
  {
   "cell_type": "code",
   "execution_count": 35,
   "metadata": {},
   "outputs": [
    {
     "name": "stdout",
     "output_type": "stream",
     "text": [
      "(66292, 3)\n"
     ]
    },
    {
     "data": {
      "text/html": [
       "<div>\n",
       "<style scoped>\n",
       "    .dataframe tbody tr th:only-of-type {\n",
       "        vertical-align: middle;\n",
       "    }\n",
       "\n",
       "    .dataframe tbody tr th {\n",
       "        vertical-align: top;\n",
       "    }\n",
       "\n",
       "    .dataframe thead th {\n",
       "        text-align: right;\n",
       "    }\n",
       "</style>\n",
       "<table border=\"1\" class=\"dataframe\">\n",
       "  <thead>\n",
       "    <tr style=\"text-align: right;\">\n",
       "      <th></th>\n",
       "      <th>Phrase</th>\n",
       "      <th>Phrase(Origin)</th>\n",
       "    </tr>\n",
       "    <tr>\n",
       "      <th>PhraseId</th>\n",
       "      <th></th>\n",
       "      <th></th>\n",
       "    </tr>\n",
       "  </thead>\n",
       "  <tbody>\n",
       "    <tr>\n",
       "      <th>156061</th>\n",
       "      <td>An intermittently pleasing but mostly routine ...</td>\n",
       "      <td>An intermittently pleasing but mostly routine ...</td>\n",
       "    </tr>\n",
       "    <tr>\n",
       "      <th>156062</th>\n",
       "      <td>An intermittently pleasing but mostly routine ...</td>\n",
       "      <td>An intermittently pleasing but mostly routine ...</td>\n",
       "    </tr>\n",
       "    <tr>\n",
       "      <th>156063</th>\n",
       "      <td>An</td>\n",
       "      <td>An</td>\n",
       "    </tr>\n",
       "    <tr>\n",
       "      <th>156064</th>\n",
       "      <td>intermittently pleasing but mostly routine effort</td>\n",
       "      <td>intermittently pleasing but mostly routine effort</td>\n",
       "    </tr>\n",
       "    <tr>\n",
       "      <th>156065</th>\n",
       "      <td>intermittently pleasing but mostly routine</td>\n",
       "      <td>intermittently pleasing but mostly routine</td>\n",
       "    </tr>\n",
       "  </tbody>\n",
       "</table>\n",
       "</div>"
      ],
      "text/plain": [
       "                                                     Phrase  \\\n",
       "PhraseId                                                      \n",
       "156061    An intermittently pleasing but mostly routine ...   \n",
       "156062    An intermittently pleasing but mostly routine ...   \n",
       "156063                                                   An   \n",
       "156064    intermittently pleasing but mostly routine effort   \n",
       "156065           intermittently pleasing but mostly routine   \n",
       "\n",
       "                                             Phrase(Origin)  \n",
       "PhraseId                                                     \n",
       "156061    An intermittently pleasing but mostly routine ...  \n",
       "156062    An intermittently pleasing but mostly routine ...  \n",
       "156063                                                   An  \n",
       "156064    intermittently pleasing but mostly routine effort  \n",
       "156065           intermittently pleasing but mostly routine  "
      ]
     },
     "execution_count": 35,
     "metadata": {},
     "output_type": "execute_result"
    }
   ],
   "source": [
    "test[\"Phrase\"] = test[\"Phrase\"].apply(clean_text)\n",
    "\n",
    "print(test.shape)\n",
    "test[[\"Phrase\", \"Phrase(Origin)\"]].head()"
   ]
  },
  {
   "cell_type": "markdown",
   "metadata": {},
   "source": [
    "### Vectorize Phrases"
   ]
  },
  {
   "cell_type": "code",
   "execution_count": 72,
   "metadata": {},
   "outputs": [
    {
     "data": {
      "text/plain": [
       "CountVectorizer(analyzer='word', binary=False, decode_error='strict',\n",
       "        dtype=<class 'numpy.int64'>, encoding='utf-8', input='content',\n",
       "        lowercase=True, max_df=1.0, max_features=10000, min_df=1,\n",
       "        ngram_range=(1, 5), preprocessor=None, stop_words=None,\n",
       "        strip_accents=None, token_pattern='(?u)\\\\b\\\\w\\\\w+\\\\b',\n",
       "        tokenizer=None, vocabulary=None)"
      ]
     },
     "execution_count": 72,
     "metadata": {},
     "output_type": "execute_result"
    }
   ],
   "source": [
    "from sklearn.feature_extraction.text import CountVectorizer\n",
    "\n",
    "vectorizer = CountVectorizer(max_features=10000, ngram_range=(1, 2))\n",
    "\n",
    "vectorizer"
   ]
  },
  {
   "cell_type": "code",
   "execution_count": 73,
   "metadata": {},
   "outputs": [
    {
     "data": {
      "text/plain": [
       "CountVectorizer(analyzer='word', binary=False, decode_error='strict',\n",
       "        dtype=<class 'numpy.int64'>, encoding='utf-8', input='content',\n",
       "        lowercase=True, max_df=1.0, max_features=10000, min_df=1,\n",
       "        ngram_range=(1, 5), preprocessor=None, stop_words=None,\n",
       "        strip_accents=None, token_pattern='(?u)\\\\b\\\\w\\\\w+\\\\b',\n",
       "        tokenizer=None, vocabulary=None)"
      ]
     },
     "execution_count": 73,
     "metadata": {},
     "output_type": "execute_result"
    }
   ],
   "source": [
    "vectorizer.fit(train[\"Phrase\"])"
   ]
  },
  {
   "cell_type": "code",
   "execution_count": 74,
   "metadata": {},
   "outputs": [
    {
     "data": {
      "text/plain": [
       "<156060x10000 sparse matrix of type '<class 'numpy.int64'>'\n",
       "\twith 1169502 stored elements in Compressed Sparse Row format>"
      ]
     },
     "execution_count": 74,
     "metadata": {},
     "output_type": "execute_result"
    }
   ],
   "source": [
    "X_train = vectorizer.transform(train[\"Phrase\"])\n",
    "X_train"
   ]
  },
  {
   "cell_type": "code",
   "execution_count": 75,
   "metadata": {},
   "outputs": [
    {
     "data": {
      "text/html": [
       "<div>\n",
       "<style scoped>\n",
       "    .dataframe tbody tr th:only-of-type {\n",
       "        vertical-align: middle;\n",
       "    }\n",
       "\n",
       "    .dataframe tbody tr th {\n",
       "        vertical-align: top;\n",
       "    }\n",
       "\n",
       "    .dataframe thead th {\n",
       "        text-align: right;\n",
       "    }\n",
       "</style>\n",
       "<table border=\"1\" class=\"dataframe\">\n",
       "  <thead>\n",
       "    <tr style=\"text-align: right;\">\n",
       "      <th></th>\n",
       "      <th>10</th>\n",
       "      <th>10 minutes</th>\n",
       "      <th>10 year</th>\n",
       "      <th>100</th>\n",
       "      <th>101</th>\n",
       "      <th>11</th>\n",
       "      <th>12</th>\n",
       "      <th>12 year</th>\n",
       "      <th>12 year old</th>\n",
       "      <th>13</th>\n",
       "      <th>...</th>\n",
       "      <th>your time</th>\n",
       "      <th>your watch</th>\n",
       "      <th>yourself</th>\n",
       "      <th>youth</th>\n",
       "      <th>youthful</th>\n",
       "      <th>zeal</th>\n",
       "      <th>zero</th>\n",
       "      <th>zhang</th>\n",
       "      <th>zombie</th>\n",
       "      <th>zone</th>\n",
       "    </tr>\n",
       "  </thead>\n",
       "  <tbody>\n",
       "    <tr>\n",
       "      <th>0</th>\n",
       "      <td>0</td>\n",
       "      <td>0</td>\n",
       "      <td>0</td>\n",
       "      <td>0</td>\n",
       "      <td>0</td>\n",
       "      <td>0</td>\n",
       "      <td>0</td>\n",
       "      <td>0</td>\n",
       "      <td>0</td>\n",
       "      <td>0</td>\n",
       "      <td>...</td>\n",
       "      <td>0</td>\n",
       "      <td>0</td>\n",
       "      <td>0</td>\n",
       "      <td>0</td>\n",
       "      <td>0</td>\n",
       "      <td>0</td>\n",
       "      <td>0</td>\n",
       "      <td>0</td>\n",
       "      <td>0</td>\n",
       "      <td>0</td>\n",
       "    </tr>\n",
       "    <tr>\n",
       "      <th>1</th>\n",
       "      <td>0</td>\n",
       "      <td>0</td>\n",
       "      <td>0</td>\n",
       "      <td>0</td>\n",
       "      <td>0</td>\n",
       "      <td>0</td>\n",
       "      <td>0</td>\n",
       "      <td>0</td>\n",
       "      <td>0</td>\n",
       "      <td>0</td>\n",
       "      <td>...</td>\n",
       "      <td>0</td>\n",
       "      <td>0</td>\n",
       "      <td>0</td>\n",
       "      <td>0</td>\n",
       "      <td>0</td>\n",
       "      <td>0</td>\n",
       "      <td>0</td>\n",
       "      <td>0</td>\n",
       "      <td>0</td>\n",
       "      <td>0</td>\n",
       "    </tr>\n",
       "    <tr>\n",
       "      <th>2</th>\n",
       "      <td>0</td>\n",
       "      <td>0</td>\n",
       "      <td>0</td>\n",
       "      <td>0</td>\n",
       "      <td>0</td>\n",
       "      <td>0</td>\n",
       "      <td>0</td>\n",
       "      <td>0</td>\n",
       "      <td>0</td>\n",
       "      <td>0</td>\n",
       "      <td>...</td>\n",
       "      <td>0</td>\n",
       "      <td>0</td>\n",
       "      <td>0</td>\n",
       "      <td>0</td>\n",
       "      <td>0</td>\n",
       "      <td>0</td>\n",
       "      <td>0</td>\n",
       "      <td>0</td>\n",
       "      <td>0</td>\n",
       "      <td>0</td>\n",
       "    </tr>\n",
       "    <tr>\n",
       "      <th>3</th>\n",
       "      <td>0</td>\n",
       "      <td>0</td>\n",
       "      <td>0</td>\n",
       "      <td>0</td>\n",
       "      <td>0</td>\n",
       "      <td>0</td>\n",
       "      <td>0</td>\n",
       "      <td>0</td>\n",
       "      <td>0</td>\n",
       "      <td>0</td>\n",
       "      <td>...</td>\n",
       "      <td>0</td>\n",
       "      <td>0</td>\n",
       "      <td>0</td>\n",
       "      <td>0</td>\n",
       "      <td>0</td>\n",
       "      <td>0</td>\n",
       "      <td>0</td>\n",
       "      <td>0</td>\n",
       "      <td>0</td>\n",
       "      <td>0</td>\n",
       "    </tr>\n",
       "    <tr>\n",
       "      <th>4</th>\n",
       "      <td>0</td>\n",
       "      <td>0</td>\n",
       "      <td>0</td>\n",
       "      <td>0</td>\n",
       "      <td>0</td>\n",
       "      <td>0</td>\n",
       "      <td>0</td>\n",
       "      <td>0</td>\n",
       "      <td>0</td>\n",
       "      <td>0</td>\n",
       "      <td>...</td>\n",
       "      <td>0</td>\n",
       "      <td>0</td>\n",
       "      <td>0</td>\n",
       "      <td>0</td>\n",
       "      <td>0</td>\n",
       "      <td>0</td>\n",
       "      <td>0</td>\n",
       "      <td>0</td>\n",
       "      <td>0</td>\n",
       "      <td>0</td>\n",
       "    </tr>\n",
       "  </tbody>\n",
       "</table>\n",
       "<p>5 rows × 10000 columns</p>\n",
       "</div>"
      ],
      "text/plain": [
       "   10  10 minutes  10 year  100  101  11  12  12 year  12 year old  13  ...   \\\n",
       "0   0           0        0    0    0   0   0        0            0   0  ...    \n",
       "1   0           0        0    0    0   0   0        0            0   0  ...    \n",
       "2   0           0        0    0    0   0   0        0            0   0  ...    \n",
       "3   0           0        0    0    0   0   0        0            0   0  ...    \n",
       "4   0           0        0    0    0   0   0        0            0   0  ...    \n",
       "\n",
       "   your time  your watch  yourself  youth  youthful  zeal  zero  zhang  \\\n",
       "0          0           0         0      0         0     0     0      0   \n",
       "1          0           0         0      0         0     0     0      0   \n",
       "2          0           0         0      0         0     0     0      0   \n",
       "3          0           0         0      0         0     0     0      0   \n",
       "4          0           0         0      0         0     0     0      0   \n",
       "\n",
       "   zombie  zone  \n",
       "0       0     0  \n",
       "1       0     0  \n",
       "2       0     0  \n",
       "3       0     0  \n",
       "4       0     0  \n",
       "\n",
       "[5 rows x 10000 columns]"
      ]
     },
     "execution_count": 75,
     "metadata": {},
     "output_type": "execute_result"
    }
   ],
   "source": [
    "vocabulary = vectorizer.get_feature_names()\n",
    "pd.DataFrame(X_train[0:100].toarray(), columns=vocabulary).head()"
   ]
  },
  {
   "cell_type": "code",
   "execution_count": 76,
   "metadata": {},
   "outputs": [
    {
     "data": {
      "text/plain": [
       "<66292x10000 sparse matrix of type '<class 'numpy.int64'>'\n",
       "\twith 426657 stored elements in Compressed Sparse Row format>"
      ]
     },
     "execution_count": 76,
     "metadata": {},
     "output_type": "execute_result"
    }
   ],
   "source": [
    "X_test = vectorizer.transform(test[\"Phrase\"])\n",
    "X_test"
   ]
  },
  {
   "cell_type": "code",
   "execution_count": 77,
   "metadata": {},
   "outputs": [
    {
     "name": "stdout",
     "output_type": "stream",
     "text": [
      "(156060,)\n"
     ]
    },
    {
     "data": {
      "text/plain": [
       "PhraseId\n",
       "1    1\n",
       "2    2\n",
       "3    2\n",
       "4    2\n",
       "5    2\n",
       "Name: Sentiment, dtype: int64"
      ]
     },
     "execution_count": 77,
     "metadata": {},
     "output_type": "execute_result"
    }
   ],
   "source": [
    "y_train = train[\"Sentiment\"]\n",
    "\n",
    "print(y_train.shape)\n",
    "y_train.head()"
   ]
  },
  {
   "cell_type": "markdown",
   "metadata": {},
   "source": [
    "### Train"
   ]
  },
  {
   "cell_type": "code",
   "execution_count": 78,
   "metadata": {},
   "outputs": [
    {
     "data": {
      "text/plain": [
       "SGDClassifier(alpha=0.0001, average=False, class_weight=None, epsilon=0.1,\n",
       "       eta0=0.0, fit_intercept=True, l1_ratio=0.15,\n",
       "       learning_rate='optimal', loss='hinge', max_iter=None, n_iter=None,\n",
       "       n_jobs=1, penalty='l2', power_t=0.5, random_state=37, shuffle=True,\n",
       "       tol=None, verbose=0, warm_start=False)"
      ]
     },
     "execution_count": 78,
     "metadata": {},
     "output_type": "execute_result"
    }
   ],
   "source": [
    "from sklearn.linear_model import SGDClassifier\n",
    "\n",
    "model = SGDClassifier(random_state=37)\n",
    "model"
   ]
  },
  {
   "cell_type": "markdown",
   "metadata": {},
   "source": [
    "### Scoring"
   ]
  },
  {
   "cell_type": "code",
   "execution_count": 79,
   "metadata": {},
   "outputs": [
    {
     "name": "stderr",
     "output_type": "stream",
     "text": [
      "c:\\program files\\python36\\lib\\site-packages\\sklearn\\linear_model\\stochastic_gradient.py:128: FutureWarning: max_iter and tol parameters have been added in <class 'sklearn.linear_model.stochastic_gradient.SGDClassifier'> in 0.19. If both are left unset, they default to max_iter=5 and tol=None. If tol is not None, max_iter defaults to max_iter=1000. From 0.21, default max_iter will be 1000, and default tol will be 1e-3.\n",
      "  \"and default tol will be 1e-3.\" % type(self), FutureWarning)\n",
      "c:\\program files\\python36\\lib\\site-packages\\sklearn\\linear_model\\stochastic_gradient.py:128: FutureWarning: max_iter and tol parameters have been added in <class 'sklearn.linear_model.stochastic_gradient.SGDClassifier'> in 0.19. If both are left unset, they default to max_iter=5 and tol=None. If tol is not None, max_iter defaults to max_iter=1000. From 0.21, default max_iter will be 1000, and default tol will be 1e-3.\n",
      "  \"and default tol will be 1e-3.\" % type(self), FutureWarning)\n",
      "c:\\program files\\python36\\lib\\site-packages\\sklearn\\linear_model\\stochastic_gradient.py:128: FutureWarning: max_iter and tol parameters have been added in <class 'sklearn.linear_model.stochastic_gradient.SGDClassifier'> in 0.19. If both are left unset, they default to max_iter=5 and tol=None. If tol is not None, max_iter defaults to max_iter=1000. From 0.21, default max_iter will be 1000, and default tol will be 1e-3.\n",
      "  \"and default tol will be 1e-3.\" % type(self), FutureWarning)\n",
      "c:\\program files\\python36\\lib\\site-packages\\sklearn\\linear_model\\stochastic_gradient.py:128: FutureWarning: max_iter and tol parameters have been added in <class 'sklearn.linear_model.stochastic_gradient.SGDClassifier'> in 0.19. If both are left unset, they default to max_iter=5 and tol=None. If tol is not None, max_iter defaults to max_iter=1000. From 0.21, default max_iter will be 1000, and default tol will be 1e-3.\n",
      "  \"and default tol will be 1e-3.\" % type(self), FutureWarning)\n",
      "c:\\program files\\python36\\lib\\site-packages\\sklearn\\linear_model\\stochastic_gradient.py:128: FutureWarning: max_iter and tol parameters have been added in <class 'sklearn.linear_model.stochastic_gradient.SGDClassifier'> in 0.19. If both are left unset, they default to max_iter=5 and tol=None. If tol is not None, max_iter defaults to max_iter=1000. From 0.21, default max_iter will be 1000, and default tol will be 1e-3.\n",
      "  \"and default tol will be 1e-3.\" % type(self), FutureWarning)\n"
     ]
    },
    {
     "name": "stdout",
     "output_type": "stream",
     "text": [
      "(156060,)\n"
     ]
    },
    {
     "data": {
      "text/plain": [
       "array([3, 3, 2, ..., 2, 2, 2], dtype=int64)"
      ]
     },
     "execution_count": 79,
     "metadata": {},
     "output_type": "execute_result"
    }
   ],
   "source": [
    "from sklearn.model_selection import cross_val_predict\n",
    "from sklearn.model_selection import GroupKFold\n",
    "\n",
    "kfold = GroupKFold(n_splits=5)\n",
    "\n",
    "y_predict = cross_val_predict(model, X_train, y_train,\n",
    "                              cv=kfold, groups=train[\"SentenceId\"])\n",
    "\n",
    "print(y_predict.shape)\n",
    "y_predict"
   ]
  },
  {
   "cell_type": "code",
   "execution_count": 80,
   "metadata": {},
   "outputs": [
    {
     "name": "stdout",
     "output_type": "stream",
     "text": [
      "Score = 0.583385\n"
     ]
    }
   ],
   "source": [
    "from sklearn.metrics import accuracy_score\n",
    "\n",
    "score = accuracy_score(y_train, y_predict)\n",
    "\n",
    "print(\"Score = {0:0.6f}\".format(score))"
   ]
  },
  {
   "cell_type": "markdown",
   "metadata": {},
   "source": [
    "### score init: 0.583602 (countVectorize: 1,2 가 max)"
   ]
  },
  {
   "cell_type": "code",
   "execution_count": 81,
   "metadata": {},
   "outputs": [
    {
     "data": {
      "text/html": [
       "<div>\n",
       "<style scoped>\n",
       "    .dataframe tbody tr th:only-of-type {\n",
       "        vertical-align: middle;\n",
       "    }\n",
       "\n",
       "    .dataframe tbody tr th {\n",
       "        vertical-align: top;\n",
       "    }\n",
       "\n",
       "    .dataframe thead th {\n",
       "        text-align: right;\n",
       "    }\n",
       "</style>\n",
       "<table border=\"1\" class=\"dataframe\">\n",
       "  <thead>\n",
       "    <tr style=\"text-align: right;\">\n",
       "      <th></th>\n",
       "      <th>SentenceId</th>\n",
       "      <th>Phrase</th>\n",
       "      <th>Sentiment</th>\n",
       "      <th>Phrase(Origin)</th>\n",
       "      <th>Sentiment(predict)</th>\n",
       "      <th>Distance</th>\n",
       "    </tr>\n",
       "    <tr>\n",
       "      <th>PhraseId</th>\n",
       "      <th></th>\n",
       "      <th></th>\n",
       "      <th></th>\n",
       "      <th></th>\n",
       "      <th></th>\n",
       "      <th></th>\n",
       "    </tr>\n",
       "  </thead>\n",
       "  <tbody>\n",
       "    <tr>\n",
       "      <th>14964</th>\n",
       "      <td>643</td>\n",
       "      <td>can such a cold movie claim to express warmth ...</td>\n",
       "      <td>0</td>\n",
       "      <td>can such a cold movie claim to express warmth ...</td>\n",
       "      <td>4</td>\n",
       "      <td>4</td>\n",
       "    </tr>\n",
       "    <tr>\n",
       "      <th>124187</th>\n",
       "      <td>6667</td>\n",
       "      <td>joy to watch and -- especially -- to listen to</td>\n",
       "      <td>4</td>\n",
       "      <td>joy to watch and -- especially -- to listen to</td>\n",
       "      <td>0</td>\n",
       "      <td>4</td>\n",
       "    </tr>\n",
       "    <tr>\n",
       "      <th>48041</th>\n",
       "      <td>2343</td>\n",
       "      <td>would be a shame if this was your introduction...</td>\n",
       "      <td>0</td>\n",
       "      <td>would be a shame if this was your introduction...</td>\n",
       "      <td>4</td>\n",
       "      <td>4</td>\n",
       "    </tr>\n",
       "    <tr>\n",
       "      <th>48040</th>\n",
       "      <td>2343</td>\n",
       "      <td>it would be a shame if this was your introduct...</td>\n",
       "      <td>0</td>\n",
       "      <td>it would be a shame if this was your introduct...</td>\n",
       "      <td>4</td>\n",
       "      <td>4</td>\n",
       "    </tr>\n",
       "    <tr>\n",
       "      <th>61625</th>\n",
       "      <td>3115</td>\n",
       "      <td>There is no substitute for on-screen chemistry...</td>\n",
       "      <td>4</td>\n",
       "      <td>There is no substitute for on-screen chemistry...</td>\n",
       "      <td>0</td>\n",
       "      <td>4</td>\n",
       "    </tr>\n",
       "  </tbody>\n",
       "</table>\n",
       "</div>"
      ],
      "text/plain": [
       "          SentenceId                                             Phrase  \\\n",
       "PhraseId                                                                  \n",
       "14964            643  can such a cold movie claim to express warmth ...   \n",
       "124187          6667     joy to watch and -- especially -- to listen to   \n",
       "48041           2343  would be a shame if this was your introduction...   \n",
       "48040           2343  it would be a shame if this was your introduct...   \n",
       "61625           3115  There is no substitute for on-screen chemistry...   \n",
       "\n",
       "          Sentiment                                     Phrase(Origin)  \\\n",
       "PhraseId                                                                 \n",
       "14964             0  can such a cold movie claim to express warmth ...   \n",
       "124187            4     joy to watch and -- especially -- to listen to   \n",
       "48041             0  would be a shame if this was your introduction...   \n",
       "48040             0  it would be a shame if this was your introduct...   \n",
       "61625             4  There is no substitute for on-screen chemistry...   \n",
       "\n",
       "          Sentiment(predict)  Distance  \n",
       "PhraseId                                \n",
       "14964                      4         4  \n",
       "124187                     0         4  \n",
       "48041                      4         4  \n",
       "48040                      4         4  \n",
       "61625                      0         4  "
      ]
     },
     "execution_count": 81,
     "metadata": {},
     "output_type": "execute_result"
    }
   ],
   "source": [
    "import numpy as np\n",
    "\n",
    "result = train.copy()\n",
    "result[\"Sentiment(predict)\"] = y_predict\n",
    "\n",
    "result[\"Distance\"] = result[\"Sentiment\"] - result[\"Sentiment(predict)\"]\n",
    "result[\"Distance\"] = np.abs(result[\"Distance\"])\n",
    "\n",
    "result = result.sort_values(by=\"Distance\", ascending=False)\n",
    "result.head()"
   ]
  },
  {
   "cell_type": "code",
   "execution_count": 82,
   "metadata": {},
   "outputs": [],
   "source": [
    "# result[result[\"Phrase\"].str.contains(\"can't\")]"
   ]
  },
  {
   "cell_type": "code",
   "execution_count": 83,
   "metadata": {},
   "outputs": [],
   "source": [
    "result[0:10000].to_csv(\"result.csv\")"
   ]
  },
  {
   "cell_type": "code",
   "execution_count": 84,
   "metadata": {},
   "outputs": [],
   "source": [
    "pd.DataFrame(vocabulary).to_csv(\"vocabulary.csv\")"
   ]
  },
  {
   "cell_type": "markdown",
   "metadata": {},
   "source": [
    "### Predict"
   ]
  },
  {
   "cell_type": "code",
   "execution_count": 85,
   "metadata": {},
   "outputs": [
    {
     "name": "stderr",
     "output_type": "stream",
     "text": [
      "c:\\program files\\python36\\lib\\site-packages\\sklearn\\linear_model\\stochastic_gradient.py:128: FutureWarning: max_iter and tol parameters have been added in <class 'sklearn.linear_model.stochastic_gradient.SGDClassifier'> in 0.19. If both are left unset, they default to max_iter=5 and tol=None. If tol is not None, max_iter defaults to max_iter=1000. From 0.21, default max_iter will be 1000, and default tol will be 1e-3.\n",
      "  \"and default tol will be 1e-3.\" % type(self), FutureWarning)\n"
     ]
    },
    {
     "data": {
      "text/plain": [
       "SGDClassifier(alpha=0.0001, average=False, class_weight=None, epsilon=0.1,\n",
       "       eta0=0.0, fit_intercept=True, l1_ratio=0.15,\n",
       "       learning_rate='optimal', loss='hinge', max_iter=None, n_iter=None,\n",
       "       n_jobs=1, penalty='l2', power_t=0.5, random_state=37, shuffle=True,\n",
       "       tol=None, verbose=0, warm_start=False)"
      ]
     },
     "execution_count": 85,
     "metadata": {},
     "output_type": "execute_result"
    }
   ],
   "source": [
    "model.fit(X_train, y_train)"
   ]
  },
  {
   "cell_type": "code",
   "execution_count": 86,
   "metadata": {},
   "outputs": [
    {
     "name": "stdout",
     "output_type": "stream",
     "text": [
      "(66292,)\n"
     ]
    },
    {
     "data": {
      "text/plain": [
       "array([3, 3, 2, ..., 2, 2, 2], dtype=int64)"
      ]
     },
     "execution_count": 86,
     "metadata": {},
     "output_type": "execute_result"
    }
   ],
   "source": [
    "predictions = model.predict(X_test)\n",
    "\n",
    "print(predictions.shape)\n",
    "predictions"
   ]
  },
  {
   "cell_type": "markdown",
   "metadata": {},
   "source": [
    "## Submit"
   ]
  },
  {
   "cell_type": "code",
   "execution_count": 87,
   "metadata": {},
   "outputs": [
    {
     "name": "stdout",
     "output_type": "stream",
     "text": [
      "(66292, 1)\n"
     ]
    },
    {
     "data": {
      "text/html": [
       "<div>\n",
       "<style scoped>\n",
       "    .dataframe tbody tr th:only-of-type {\n",
       "        vertical-align: middle;\n",
       "    }\n",
       "\n",
       "    .dataframe tbody tr th {\n",
       "        vertical-align: top;\n",
       "    }\n",
       "\n",
       "    .dataframe thead th {\n",
       "        text-align: right;\n",
       "    }\n",
       "</style>\n",
       "<table border=\"1\" class=\"dataframe\">\n",
       "  <thead>\n",
       "    <tr style=\"text-align: right;\">\n",
       "      <th></th>\n",
       "      <th>Sentiment</th>\n",
       "    </tr>\n",
       "    <tr>\n",
       "      <th>PhraseId</th>\n",
       "      <th></th>\n",
       "    </tr>\n",
       "  </thead>\n",
       "  <tbody>\n",
       "    <tr>\n",
       "      <th>156061</th>\n",
       "      <td>2</td>\n",
       "    </tr>\n",
       "    <tr>\n",
       "      <th>156062</th>\n",
       "      <td>2</td>\n",
       "    </tr>\n",
       "    <tr>\n",
       "      <th>156063</th>\n",
       "      <td>2</td>\n",
       "    </tr>\n",
       "    <tr>\n",
       "      <th>156064</th>\n",
       "      <td>2</td>\n",
       "    </tr>\n",
       "    <tr>\n",
       "      <th>156065</th>\n",
       "      <td>2</td>\n",
       "    </tr>\n",
       "  </tbody>\n",
       "</table>\n",
       "</div>"
      ],
      "text/plain": [
       "          Sentiment\n",
       "PhraseId           \n",
       "156061            2\n",
       "156062            2\n",
       "156063            2\n",
       "156064            2\n",
       "156065            2"
      ]
     },
     "execution_count": 87,
     "metadata": {},
     "output_type": "execute_result"
    }
   ],
   "source": [
    "submission = pd.read_csv(\"data/sampleSubmission.csv\", index_col=\"PhraseId\")\n",
    "\n",
    "print(submission.shape)\n",
    "submission.head()"
   ]
  },
  {
   "cell_type": "code",
   "execution_count": 88,
   "metadata": {},
   "outputs": [
    {
     "name": "stdout",
     "output_type": "stream",
     "text": [
      "(66292, 1)\n"
     ]
    },
    {
     "data": {
      "text/html": [
       "<div>\n",
       "<style scoped>\n",
       "    .dataframe tbody tr th:only-of-type {\n",
       "        vertical-align: middle;\n",
       "    }\n",
       "\n",
       "    .dataframe tbody tr th {\n",
       "        vertical-align: top;\n",
       "    }\n",
       "\n",
       "    .dataframe thead th {\n",
       "        text-align: right;\n",
       "    }\n",
       "</style>\n",
       "<table border=\"1\" class=\"dataframe\">\n",
       "  <thead>\n",
       "    <tr style=\"text-align: right;\">\n",
       "      <th></th>\n",
       "      <th>Sentiment</th>\n",
       "    </tr>\n",
       "    <tr>\n",
       "      <th>PhraseId</th>\n",
       "      <th></th>\n",
       "    </tr>\n",
       "  </thead>\n",
       "  <tbody>\n",
       "    <tr>\n",
       "      <th>156061</th>\n",
       "      <td>3</td>\n",
       "    </tr>\n",
       "    <tr>\n",
       "      <th>156062</th>\n",
       "      <td>3</td>\n",
       "    </tr>\n",
       "    <tr>\n",
       "      <th>156063</th>\n",
       "      <td>2</td>\n",
       "    </tr>\n",
       "    <tr>\n",
       "      <th>156064</th>\n",
       "      <td>3</td>\n",
       "    </tr>\n",
       "    <tr>\n",
       "      <th>156065</th>\n",
       "      <td>3</td>\n",
       "    </tr>\n",
       "  </tbody>\n",
       "</table>\n",
       "</div>"
      ],
      "text/plain": [
       "          Sentiment\n",
       "PhraseId           \n",
       "156061            3\n",
       "156062            3\n",
       "156063            2\n",
       "156064            3\n",
       "156065            3"
      ]
     },
     "execution_count": 88,
     "metadata": {},
     "output_type": "execute_result"
    }
   ],
   "source": [
    "submission[\"Sentiment\"] = predictions\n",
    "\n",
    "print(submission.shape)\n",
    "submission.head()"
   ]
  },
  {
   "cell_type": "code",
   "execution_count": 89,
   "metadata": {},
   "outputs": [],
   "source": [
    "# submission.to_csv(\"baseline-script.csv\")"
   ]
  }
 ],
 "metadata": {
  "kernelspec": {
   "display_name": "Python 3",
   "language": "python",
   "name": "python3"
  },
  "language_info": {
   "codemirror_mode": {
    "name": "ipython",
    "version": 3
   },
   "file_extension": ".py",
   "mimetype": "text/x-python",
   "name": "python",
   "nbconvert_exporter": "python",
   "pygments_lexer": "ipython3",
   "version": "3.6.3"
  }
 },
 "nbformat": 4,
 "nbformat_minor": 2
}
