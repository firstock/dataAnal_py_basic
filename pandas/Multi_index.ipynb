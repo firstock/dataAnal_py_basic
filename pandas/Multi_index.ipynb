{
 "cells": [
  {
   "cell_type": "markdown",
   "metadata": {},
   "source": [
    "# 계층적 색인 예제\n",
    "부러 Error나라고 만든 예제도 있으니 너무 안 된다 싶으면 링크 참조!"
   ]
  },
  {
   "cell_type": "markdown",
   "metadata": {},
   "source": [
    "https://goo.gl/LepW3h"
   ]
  },
  {
   "cell_type": "code",
   "execution_count": 35,
   "metadata": {
    "collapsed": true
   },
   "outputs": [],
   "source": [
    "import numpy as np\n",
    "import pandas as pd"
   ]
  },
  {
   "cell_type": "code",
   "execution_count": 43,
   "metadata": {},
   "outputs": [
    {
     "data": {
      "text/plain": [
       "[('bar', 'one'),\n",
       " ('bar', 'two'),\n",
       " ('baz', 'one'),\n",
       " ('baz', 'two'),\n",
       " ('foo', 'one'),\n",
       " ('foo', 'two'),\n",
       " ('qux', 'one'),\n",
       " ('qux', 'two')]"
      ]
     },
     "execution_count": 43,
     "metadata": {},
     "output_type": "execute_result"
    }
   ],
   "source": [
    "arrays = [['bar', 'bar', 'baz', 'baz', 'foo', 'foo', 'qux', 'qux'],\n",
    "           ['one', 'two', 'one', 'two', 'one', 'two', 'one', 'two']]\n",
    "tuples = list(zip(*arrays))\n",
    "tuples"
   ]
  },
  {
   "cell_type": "code",
   "execution_count": 14,
   "metadata": {
    "collapsed": true
   },
   "outputs": [],
   "source": [
    "arrays = [['bar', 'baz','foo', 'qux'],\n",
    "           ['one', 'three', 'two', 'four']]"
   ]
  },
  {
   "cell_type": "code",
   "execution_count": 15,
   "metadata": {
    "collapsed": true
   },
   "outputs": [],
   "source": [
    "# arrays = [['bar', 'baz','foo', 'qux'],\n",
    "#            ['one', 'three', 'two', 'four'],\n",
    "#            ['one', 'three', 'two', 'four']]"
   ]
  },
  {
   "cell_type": "code",
   "execution_count": 16,
   "metadata": {},
   "outputs": [
    {
     "data": {
      "text/plain": [
       "{'bar': 'one', 'baz': 'three', 'foo': 'two', 'qux': 'four'}"
      ]
     },
     "execution_count": 16,
     "metadata": {},
     "output_type": "execute_result"
    }
   ],
   "source": [
    "dict(zip(*arrays))"
   ]
  },
  {
   "cell_type": "markdown",
   "metadata": {},
   "source": [
    "### pd.MultiIndex.튜플로만들"
   ]
  },
  {
   "cell_type": "code",
   "execution_count": 18,
   "metadata": {
    "collapsed": true
   },
   "outputs": [],
   "source": [
    "pd.MultiIndex?"
   ]
  },
  {
   "cell_type": "markdown",
   "metadata": {},
   "source": [
    "(levels=None, labels=None, sortorder=None, names=None, copy=False, verify_integrity=True\n",
    " , _set_identity=True, name=None, **kwargs)"
   ]
  },
  {
   "cell_type": "markdown",
   "metadata": {},
   "source": [
    "#### names: 계층 인덱스 이름\n",
    "#### tuples: 계층 인덱스 내용"
   ]
  },
  {
   "cell_type": "markdown",
   "metadata": {},
   "source": [
    "#### levels: 각 index range. 수준\n",
    "#### labels: 각 index number. 라벨"
   ]
  },
  {
   "cell_type": "code",
   "execution_count": 44,
   "metadata": {},
   "outputs": [
    {
     "data": {
      "text/plain": [
       "MultiIndex(levels=[['bar', 'baz', 'foo', 'qux'], ['one', 'two']],\n",
       "           labels=[[0, 0, 1, 1, 2, 2, 3, 3], [0, 1, 0, 1, 0, 1, 0, 1]],\n",
       "           names=['first', 'second'])"
      ]
     },
     "execution_count": 44,
     "metadata": {},
     "output_type": "execute_result"
    }
   ],
   "source": [
    "index = pd.MultiIndex.from_tuples(tuples=tuples, names=['first', 'second'])\n",
    "index"
   ]
  },
  {
   "cell_type": "code",
   "execution_count": 18,
   "metadata": {},
   "outputs": [
    {
     "data": {
      "text/plain": [
       "first  second\n",
       "bar    one       0.633517\n",
       "       two       0.199881\n",
       "baz    one      -0.972950\n",
       "       two       0.473571\n",
       "foo    one      -0.832629\n",
       "       two       0.520085\n",
       "qux    one      -1.042000\n",
       "       two       0.928268\n",
       "dtype: float64"
      ]
     },
     "execution_count": 18,
     "metadata": {},
     "output_type": "execute_result"
    }
   ],
   "source": [
    "# s = pd.Series(np.random.randn(8), index=index)\n",
    "# s"
   ]
  },
  {
   "cell_type": "markdown",
   "metadata": {},
   "source": [
    "이건 왜만듦?"
   ]
  },
  {
   "cell_type": "code",
   "execution_count": 19,
   "metadata": {},
   "outputs": [
    {
     "data": {
      "text/plain": [
       "MultiIndex(levels=[['bar', 'baz', 'foo', 'qux'], ['one', 'two']],\n",
       "           labels=[[0, 0, 1, 1, 2, 2, 3, 3], [0, 1, 0, 1, 0, 1, 0, 1]],\n",
       "           names=['first', 'second'])"
      ]
     },
     "execution_count": 19,
     "metadata": {},
     "output_type": "execute_result"
    }
   ],
   "source": [
    "# iterables = [['bar', 'baz', 'foo', 'qux'], ['one', 'two']]\n",
    "# pd.MultiIndex.from_product(iterables, names=['first', 'second'])"
   ]
  },
  {
   "cell_type": "markdown",
   "metadata": {},
   "source": [
    "##### "
   ]
  },
  {
   "cell_type": "code",
   "execution_count": 37,
   "metadata": {},
   "outputs": [
    {
     "data": {
      "text/plain": [
       "bar  one   -0.492678\n",
       "     two   -1.990430\n",
       "baz  one    0.765525\n",
       "     two    1.165741\n",
       "foo  one   -0.310917\n",
       "     two   -1.198828\n",
       "qux  one   -0.368185\n",
       "     two   -0.903922\n",
       "dtype: float64"
      ]
     },
     "execution_count": 37,
     "metadata": {},
     "output_type": "execute_result"
    }
   ],
   "source": [
    "arrays = [np.array(['bar', 'bar', 'baz', 'baz', 'foo', 'foo', 'qux', 'qux']),\n",
    "           np.array(['one', 'two', 'one', 'two', 'one', 'two', 'one', 'two'])]\n",
    "s = pd.Series(np.random.randn(8), index=arrays)\n",
    "s"
   ]
  },
  {
   "cell_type": "code",
   "execution_count": 38,
   "metadata": {},
   "outputs": [
    {
     "data": {
      "text/html": [
       "<div>\n",
       "<style>\n",
       "    .dataframe thead tr:only-child th {\n",
       "        text-align: right;\n",
       "    }\n",
       "\n",
       "    .dataframe thead th {\n",
       "        text-align: left;\n",
       "    }\n",
       "\n",
       "    .dataframe tbody tr th {\n",
       "        vertical-align: top;\n",
       "    }\n",
       "</style>\n",
       "<table border=\"1\" class=\"dataframe\">\n",
       "  <thead>\n",
       "    <tr style=\"text-align: right;\">\n",
       "      <th></th>\n",
       "      <th></th>\n",
       "      <th>0</th>\n",
       "      <th>1</th>\n",
       "      <th>2</th>\n",
       "      <th>3</th>\n",
       "    </tr>\n",
       "  </thead>\n",
       "  <tbody>\n",
       "    <tr>\n",
       "      <th rowspan=\"2\" valign=\"top\">bar</th>\n",
       "      <th>one</th>\n",
       "      <td>-0.369008</td>\n",
       "      <td>-0.381573</td>\n",
       "      <td>-1.228168</td>\n",
       "      <td>0.022951</td>\n",
       "    </tr>\n",
       "    <tr>\n",
       "      <th>two</th>\n",
       "      <td>2.909884</td>\n",
       "      <td>-0.440824</td>\n",
       "      <td>-1.110126</td>\n",
       "      <td>0.528189</td>\n",
       "    </tr>\n",
       "    <tr>\n",
       "      <th rowspan=\"2\" valign=\"top\">baz</th>\n",
       "      <th>one</th>\n",
       "      <td>0.436536</td>\n",
       "      <td>-0.772680</td>\n",
       "      <td>-1.110837</td>\n",
       "      <td>0.562889</td>\n",
       "    </tr>\n",
       "    <tr>\n",
       "      <th>two</th>\n",
       "      <td>-0.890370</td>\n",
       "      <td>-0.847707</td>\n",
       "      <td>0.114568</td>\n",
       "      <td>-0.847533</td>\n",
       "    </tr>\n",
       "    <tr>\n",
       "      <th rowspan=\"2\" valign=\"top\">foo</th>\n",
       "      <th>one</th>\n",
       "      <td>0.842767</td>\n",
       "      <td>-2.050896</td>\n",
       "      <td>-1.296419</td>\n",
       "      <td>-0.011165</td>\n",
       "    </tr>\n",
       "    <tr>\n",
       "      <th>two</th>\n",
       "      <td>0.678723</td>\n",
       "      <td>0.079178</td>\n",
       "      <td>1.771048</td>\n",
       "      <td>-1.274606</td>\n",
       "    </tr>\n",
       "    <tr>\n",
       "      <th rowspan=\"2\" valign=\"top\">qux</th>\n",
       "      <th>one</th>\n",
       "      <td>-1.317148</td>\n",
       "      <td>-0.472475</td>\n",
       "      <td>-1.581595</td>\n",
       "      <td>0.050681</td>\n",
       "    </tr>\n",
       "    <tr>\n",
       "      <th>two</th>\n",
       "      <td>0.928881</td>\n",
       "      <td>-0.869859</td>\n",
       "      <td>-0.305348</td>\n",
       "      <td>0.278929</td>\n",
       "    </tr>\n",
       "  </tbody>\n",
       "</table>\n",
       "</div>"
      ],
      "text/plain": [
       "                0         1         2         3\n",
       "bar one -0.369008 -0.381573 -1.228168  0.022951\n",
       "    two  2.909884 -0.440824 -1.110126  0.528189\n",
       "baz one  0.436536 -0.772680 -1.110837  0.562889\n",
       "    two -0.890370 -0.847707  0.114568 -0.847533\n",
       "foo one  0.842767 -2.050896 -1.296419 -0.011165\n",
       "    two  0.678723  0.079178  1.771048 -1.274606\n",
       "qux one -1.317148 -0.472475 -1.581595  0.050681\n",
       "    two  0.928881 -0.869859 -0.305348  0.278929"
      ]
     },
     "execution_count": 38,
     "metadata": {},
     "output_type": "execute_result"
    }
   ],
   "source": [
    "df = pd.DataFrame(np.random.randn(8, 4), index=arrays)\n",
    "df"
   ]
  },
  {
   "cell_type": "markdown",
   "metadata": {},
   "source": [
    "#### reindex는 어찌 써먹는지?\n",
    "https://github.com/pandas-dev/pandas/issues/7895"
   ]
  },
  {
   "cell_type": "code",
   "execution_count": 106,
   "metadata": {},
   "outputs": [],
   "source": [
    "d1 = pd.date_range('1/1/2018', '3/1/2018', freq='MS')\n",
    "d21 = pd.DataFrame({'A': [1, 2, 3], 'B': [4, 5, 6]}, index=d1)\n",
    "dfu = d21.unstack()"
   ]
  },
  {
   "cell_type": "code",
   "execution_count": 107,
   "metadata": {},
   "outputs": [
    {
     "data": {
      "text/plain": [
       "DatetimeIndex(['2018-01-01', '2018-02-01', '2018-03-01'], dtype='datetime64[ns]', freq='MS')"
      ]
     },
     "execution_count": 107,
     "metadata": {},
     "output_type": "execute_result"
    }
   ],
   "source": [
    "d1"
   ]
  },
  {
   "cell_type": "code",
   "execution_count": 87,
   "metadata": {},
   "outputs": [
    {
     "data": {
      "text/html": [
       "<div>\n",
       "<style>\n",
       "    .dataframe thead tr:only-child th {\n",
       "        text-align: right;\n",
       "    }\n",
       "\n",
       "    .dataframe thead th {\n",
       "        text-align: left;\n",
       "    }\n",
       "\n",
       "    .dataframe tbody tr th {\n",
       "        vertical-align: top;\n",
       "    }\n",
       "</style>\n",
       "<table border=\"1\" class=\"dataframe\">\n",
       "  <thead>\n",
       "    <tr style=\"text-align: right;\">\n",
       "      <th></th>\n",
       "      <th>A</th>\n",
       "      <th>B</th>\n",
       "    </tr>\n",
       "  </thead>\n",
       "  <tbody>\n",
       "    <tr>\n",
       "      <th>0</th>\n",
       "      <td>1</td>\n",
       "      <td>4</td>\n",
       "    </tr>\n",
       "    <tr>\n",
       "      <th>1</th>\n",
       "      <td>2</td>\n",
       "      <td>5</td>\n",
       "    </tr>\n",
       "    <tr>\n",
       "      <th>2</th>\n",
       "      <td>3</td>\n",
       "      <td>6</td>\n",
       "    </tr>\n",
       "  </tbody>\n",
       "</table>\n",
       "</div>"
      ],
      "text/plain": [
       "   A  B\n",
       "0  1  4\n",
       "1  2  5\n",
       "2  3  6"
      ]
     },
     "execution_count": 87,
     "metadata": {},
     "output_type": "execute_result"
    }
   ],
   "source": [
    "d2"
   ]
  },
  {
   "cell_type": "code",
   "execution_count": 108,
   "metadata": {},
   "outputs": [
    {
     "data": {
      "text/html": [
       "<div>\n",
       "<style>\n",
       "    .dataframe thead tr:only-child th {\n",
       "        text-align: right;\n",
       "    }\n",
       "\n",
       "    .dataframe thead th {\n",
       "        text-align: left;\n",
       "    }\n",
       "\n",
       "    .dataframe tbody tr th {\n",
       "        vertical-align: top;\n",
       "    }\n",
       "</style>\n",
       "<table border=\"1\" class=\"dataframe\">\n",
       "  <thead>\n",
       "    <tr style=\"text-align: right;\">\n",
       "      <th></th>\n",
       "      <th>A</th>\n",
       "      <th>B</th>\n",
       "    </tr>\n",
       "  </thead>\n",
       "  <tbody>\n",
       "    <tr>\n",
       "      <th>2018-01-01</th>\n",
       "      <td>1</td>\n",
       "      <td>4</td>\n",
       "    </tr>\n",
       "    <tr>\n",
       "      <th>2018-02-01</th>\n",
       "      <td>2</td>\n",
       "      <td>5</td>\n",
       "    </tr>\n",
       "    <tr>\n",
       "      <th>2018-03-01</th>\n",
       "      <td>3</td>\n",
       "      <td>6</td>\n",
       "    </tr>\n",
       "  </tbody>\n",
       "</table>\n",
       "</div>"
      ],
      "text/plain": [
       "            A  B\n",
       "2018-01-01  1  4\n",
       "2018-02-01  2  5\n",
       "2018-03-01  3  6"
      ]
     },
     "execution_count": 108,
     "metadata": {},
     "output_type": "execute_result"
    }
   ],
   "source": [
    "#index= d1\n",
    "d21"
   ]
  },
  {
   "cell_type": "code",
   "execution_count": 109,
   "metadata": {},
   "outputs": [
    {
     "data": {
      "text/plain": [
       "A  2018-01-01    1\n",
       "   2018-02-01    2\n",
       "   2018-03-01    3\n",
       "B  2018-01-01    4\n",
       "   2018-02-01    5\n",
       "   2018-03-01    6\n",
       "dtype: int64"
      ]
     },
     "execution_count": 109,
     "metadata": {},
     "output_type": "execute_result"
    }
   ],
   "source": [
    "dfu"
   ]
  },
  {
   "cell_type": "code",
   "execution_count": 110,
   "metadata": {},
   "outputs": [
    {
     "data": {
      "text/plain": [
       "DatetimeIndex(['2018-01-01', '2018-01-02', '2018-01-03', '2018-01-04',\n",
       "               '2018-01-05', '2018-01-06', '2018-01-07', '2018-01-08',\n",
       "               '2018-01-09', '2018-01-10', '2018-01-11', '2018-01-12',\n",
       "               '2018-01-13', '2018-01-14', '2018-01-15', '2018-01-16',\n",
       "               '2018-01-17', '2018-01-18', '2018-01-19', '2018-01-20',\n",
       "               '2018-01-21', '2018-01-22', '2018-01-23', '2018-01-24',\n",
       "               '2018-01-25', '2018-01-26', '2018-01-27', '2018-01-28',\n",
       "               '2018-01-29', '2018-01-30', '2018-01-31', '2018-02-01',\n",
       "               '2018-02-02', '2018-02-03', '2018-02-04', '2018-02-05',\n",
       "               '2018-02-06', '2018-02-07', '2018-02-08', '2018-02-09',\n",
       "               '2018-02-10', '2018-02-11', '2018-02-12', '2018-02-13',\n",
       "               '2018-02-14', '2018-02-15', '2018-02-16', '2018-02-17',\n",
       "               '2018-02-18', '2018-02-19', '2018-02-20', '2018-02-21',\n",
       "               '2018-02-22', '2018-02-23', '2018-02-24', '2018-02-25',\n",
       "               '2018-02-26', '2018-02-27', '2018-02-28', '2018-03-01',\n",
       "               '2018-03-02', '2018-03-03', '2018-03-04', '2018-03-05',\n",
       "               '2018-03-06', '2018-03-07', '2018-03-08', '2018-03-09',\n",
       "               '2018-03-10', '2018-03-11', '2018-03-12', '2018-03-13',\n",
       "               '2018-03-14', '2018-03-15', '2018-03-16', '2018-03-17',\n",
       "               '2018-03-18', '2018-03-19', '2018-03-20', '2018-03-21',\n",
       "               '2018-03-22', '2018-03-23', '2018-03-24', '2018-03-25',\n",
       "               '2018-03-26', '2018-03-27', '2018-03-28', '2018-03-29',\n",
       "               '2018-03-30', '2018-03-31'],\n",
       "              dtype='datetime64[ns]', freq='D')"
      ]
     },
     "execution_count": 110,
     "metadata": {},
     "output_type": "execute_result"
    }
   ],
   "source": [
    "d2= pd.date_range('1/1/2018','3/31/2018', freq='D')\n",
    "d2"
   ]
  },
  {
   "cell_type": "code",
   "execution_count": 111,
   "metadata": {},
   "outputs": [
    {
     "data": {
      "text/plain": [
       "A  2018-01-01    1\n",
       "   2018-02-01    2\n",
       "   2018-03-01    3\n",
       "B  2018-01-01    4\n",
       "   2018-02-01    5\n",
       "   2018-03-01    6\n",
       "dtype: int64"
      ]
     },
     "execution_count": 111,
     "metadata": {},
     "output_type": "execute_result"
    }
   ],
   "source": [
    "dfu.reindex(d2, level=1)"
   ]
  },
  {
   "cell_type": "code",
   "execution_count": null,
   "metadata": {
    "collapsed": true
   },
   "outputs": [],
   "source": []
  },
  {
   "cell_type": "code",
   "execution_count": 117,
   "metadata": {},
   "outputs": [
    {
     "data": {
      "text/html": [
       "<div>\n",
       "<style>\n",
       "    .dataframe thead tr:only-child th {\n",
       "        text-align: right;\n",
       "    }\n",
       "\n",
       "    .dataframe thead th {\n",
       "        text-align: left;\n",
       "    }\n",
       "\n",
       "    .dataframe tbody tr th {\n",
       "        vertical-align: top;\n",
       "    }\n",
       "</style>\n",
       "<table border=\"1\" class=\"dataframe\">\n",
       "  <thead>\n",
       "    <tr>\n",
       "      <th>first</th>\n",
       "      <th colspan=\"2\" halign=\"left\">bar</th>\n",
       "      <th colspan=\"2\" halign=\"left\">baz</th>\n",
       "      <th colspan=\"2\" halign=\"left\">foo</th>\n",
       "      <th colspan=\"2\" halign=\"left\">qux</th>\n",
       "    </tr>\n",
       "    <tr>\n",
       "      <th>second</th>\n",
       "      <th>one</th>\n",
       "      <th>two</th>\n",
       "      <th>one</th>\n",
       "      <th>two</th>\n",
       "      <th>one</th>\n",
       "      <th>two</th>\n",
       "      <th>one</th>\n",
       "      <th>two</th>\n",
       "    </tr>\n",
       "  </thead>\n",
       "  <tbody>\n",
       "    <tr>\n",
       "      <th>A</th>\n",
       "      <td>-1.748029</td>\n",
       "      <td>0.222223</td>\n",
       "      <td>-0.607143</td>\n",
       "      <td>-0.867040</td>\n",
       "      <td>0.143805</td>\n",
       "      <td>0.491981</td>\n",
       "      <td>-0.443701</td>\n",
       "      <td>0.840398</td>\n",
       "    </tr>\n",
       "    <tr>\n",
       "      <th>B</th>\n",
       "      <td>-0.505348</td>\n",
       "      <td>0.199575</td>\n",
       "      <td>1.108229</td>\n",
       "      <td>0.560155</td>\n",
       "      <td>-0.150386</td>\n",
       "      <td>1.572379</td>\n",
       "      <td>-1.032304</td>\n",
       "      <td>-2.470173</td>\n",
       "    </tr>\n",
       "    <tr>\n",
       "      <th>C</th>\n",
       "      <td>-1.741546</td>\n",
       "      <td>0.493594</td>\n",
       "      <td>0.554962</td>\n",
       "      <td>-0.332353</td>\n",
       "      <td>0.391301</td>\n",
       "      <td>-0.343377</td>\n",
       "      <td>-0.530045</td>\n",
       "      <td>-0.324707</td>\n",
       "    </tr>\n",
       "  </tbody>\n",
       "</table>\n",
       "</div>"
      ],
      "text/plain": [
       "first        bar                 baz                 foo                 qux  \\\n",
       "second       one       two       one       two       one       two       one   \n",
       "A      -1.748029  0.222223 -0.607143 -0.867040  0.143805  0.491981 -0.443701   \n",
       "B      -0.505348  0.199575  1.108229  0.560155 -0.150386  1.572379 -1.032304   \n",
       "C      -1.741546  0.493594  0.554962 -0.332353  0.391301 -0.343377 -0.530045   \n",
       "\n",
       "first             \n",
       "second       two  \n",
       "A       0.840398  \n",
       "B      -2.470173  \n",
       "C      -0.324707  "
      ]
     },
     "execution_count": 117,
     "metadata": {},
     "output_type": "execute_result"
    }
   ],
   "source": [
    "df = pd.DataFrame(np.random.randn(3, 8), index=['A', 'B', 'C'], columns=index)\n",
    "df"
   ]
  },
  {
   "cell_type": "code",
   "execution_count": 118,
   "metadata": {},
   "outputs": [
    {
     "data": {
      "text/html": [
       "<div>\n",
       "<style>\n",
       "    .dataframe thead tr:only-child th {\n",
       "        text-align: right;\n",
       "    }\n",
       "\n",
       "    .dataframe thead th {\n",
       "        text-align: left;\n",
       "    }\n",
       "\n",
       "    .dataframe tbody tr th {\n",
       "        vertical-align: top;\n",
       "    }\n",
       "</style>\n",
       "<table border=\"1\" class=\"dataframe\">\n",
       "  <thead>\n",
       "    <tr>\n",
       "      <th></th>\n",
       "      <th>first</th>\n",
       "      <th colspan=\"2\" halign=\"left\">bar</th>\n",
       "      <th colspan=\"2\" halign=\"left\">baz</th>\n",
       "      <th colspan=\"2\" halign=\"left\">foo</th>\n",
       "    </tr>\n",
       "    <tr>\n",
       "      <th></th>\n",
       "      <th>second</th>\n",
       "      <th>one</th>\n",
       "      <th>two</th>\n",
       "      <th>one</th>\n",
       "      <th>two</th>\n",
       "      <th>one</th>\n",
       "      <th>two</th>\n",
       "    </tr>\n",
       "    <tr>\n",
       "      <th>first</th>\n",
       "      <th>second</th>\n",
       "      <th></th>\n",
       "      <th></th>\n",
       "      <th></th>\n",
       "      <th></th>\n",
       "      <th></th>\n",
       "      <th></th>\n",
       "    </tr>\n",
       "  </thead>\n",
       "  <tbody>\n",
       "    <tr>\n",
       "      <th rowspan=\"2\" valign=\"top\">bar</th>\n",
       "      <th>one</th>\n",
       "      <td>0.607540</td>\n",
       "      <td>-1.959886</td>\n",
       "      <td>-1.094737</td>\n",
       "      <td>-0.104094</td>\n",
       "      <td>0.927988</td>\n",
       "      <td>-1.527563</td>\n",
       "    </tr>\n",
       "    <tr>\n",
       "      <th>two</th>\n",
       "      <td>1.275691</td>\n",
       "      <td>-0.418625</td>\n",
       "      <td>-2.264986</td>\n",
       "      <td>-1.441696</td>\n",
       "      <td>-0.356607</td>\n",
       "      <td>-0.184928</td>\n",
       "    </tr>\n",
       "    <tr>\n",
       "      <th rowspan=\"2\" valign=\"top\">baz</th>\n",
       "      <th>one</th>\n",
       "      <td>-0.256822</td>\n",
       "      <td>0.573849</td>\n",
       "      <td>-0.585332</td>\n",
       "      <td>-0.428418</td>\n",
       "      <td>-1.372085</td>\n",
       "      <td>0.340705</td>\n",
       "    </tr>\n",
       "    <tr>\n",
       "      <th>two</th>\n",
       "      <td>0.406001</td>\n",
       "      <td>-0.253006</td>\n",
       "      <td>0.032920</td>\n",
       "      <td>-0.902973</td>\n",
       "      <td>0.836854</td>\n",
       "      <td>-0.596103</td>\n",
       "    </tr>\n",
       "    <tr>\n",
       "      <th rowspan=\"2\" valign=\"top\">foo</th>\n",
       "      <th>one</th>\n",
       "      <td>1.772844</td>\n",
       "      <td>-0.386423</td>\n",
       "      <td>-0.081279</td>\n",
       "      <td>1.439368</td>\n",
       "      <td>-0.512405</td>\n",
       "      <td>1.292672</td>\n",
       "    </tr>\n",
       "    <tr>\n",
       "      <th>two</th>\n",
       "      <td>1.568678</td>\n",
       "      <td>-0.749958</td>\n",
       "      <td>-2.149776</td>\n",
       "      <td>-1.361539</td>\n",
       "      <td>-1.050318</td>\n",
       "      <td>0.062901</td>\n",
       "    </tr>\n",
       "  </tbody>\n",
       "</table>\n",
       "</div>"
      ],
      "text/plain": [
       "first              bar                 baz                 foo          \n",
       "second             one       two       one       two       one       two\n",
       "first second                                                            \n",
       "bar   one     0.607540 -1.959886 -1.094737 -0.104094  0.927988 -1.527563\n",
       "      two     1.275691 -0.418625 -2.264986 -1.441696 -0.356607 -0.184928\n",
       "baz   one    -0.256822  0.573849 -0.585332 -0.428418 -1.372085  0.340705\n",
       "      two     0.406001 -0.253006  0.032920 -0.902973  0.836854 -0.596103\n",
       "foo   one     1.772844 -0.386423 -0.081279  1.439368 -0.512405  1.292672\n",
       "      two     1.568678 -0.749958 -2.149776 -1.361539 -1.050318  0.062901"
      ]
     },
     "execution_count": 118,
     "metadata": {},
     "output_type": "execute_result"
    }
   ],
   "source": [
    "pd.DataFrame(np.random.randn(6, 6), index=index[:6], columns=index[:6])"
   ]
  },
  {
   "cell_type": "code",
   "execution_count": 119,
   "metadata": {},
   "outputs": [
    {
     "data": {
      "text/plain": [
       "(bar, one)    0.307289\n",
       "(bar, two)   -0.067744\n",
       "(baz, one)   -0.732908\n",
       "(baz, two)    0.210659\n",
       "(foo, one)    0.689795\n",
       "(foo, two)    1.354773\n",
       "(qux, one)    0.195875\n",
       "(qux, two)    1.260014\n",
       "dtype: float64"
      ]
     },
     "execution_count": 119,
     "metadata": {},
     "output_type": "execute_result"
    }
   ],
   "source": [
    "pd.Series(np.random.randn(8), index=tuples)"
   ]
  },
  {
   "cell_type": "code",
   "execution_count": 120,
   "metadata": {},
   "outputs": [
    {
     "data": {
      "text/html": [
       "<div>\n",
       "<style>\n",
       "    .dataframe thead tr:only-child th {\n",
       "        text-align: right;\n",
       "    }\n",
       "\n",
       "    .dataframe thead th {\n",
       "        text-align: left;\n",
       "    }\n",
       "\n",
       "    .dataframe tbody tr th {\n",
       "        vertical-align: top;\n",
       "    }\n",
       "</style>\n",
       "<table border=\"1\" class=\"dataframe\">\n",
       "  <thead>\n",
       "    <tr>\n",
       "      <th>first</th>\n",
       "      <th>bar</th>\n",
       "      <th>bar</th>\n",
       "      <th>baz</th>\n",
       "      <th>baz</th>\n",
       "      <th>foo</th>\n",
       "      <th>foo</th>\n",
       "      <th>qux</th>\n",
       "      <th>qux</th>\n",
       "    </tr>\n",
       "    <tr>\n",
       "      <th>second</th>\n",
       "      <th>one</th>\n",
       "      <th>two</th>\n",
       "      <th>one</th>\n",
       "      <th>two</th>\n",
       "      <th>one</th>\n",
       "      <th>two</th>\n",
       "      <th>one</th>\n",
       "      <th>two</th>\n",
       "    </tr>\n",
       "  </thead>\n",
       "  <tbody>\n",
       "    <tr>\n",
       "      <th>A</th>\n",
       "      <td>-1.748029</td>\n",
       "      <td>0.222223</td>\n",
       "      <td>-0.607143</td>\n",
       "      <td>-0.867040</td>\n",
       "      <td>0.143805</td>\n",
       "      <td>0.491981</td>\n",
       "      <td>-0.443701</td>\n",
       "      <td>0.840398</td>\n",
       "    </tr>\n",
       "    <tr>\n",
       "      <th>B</th>\n",
       "      <td>-0.505348</td>\n",
       "      <td>0.199575</td>\n",
       "      <td>1.108229</td>\n",
       "      <td>0.560155</td>\n",
       "      <td>-0.150386</td>\n",
       "      <td>1.572379</td>\n",
       "      <td>-1.032304</td>\n",
       "      <td>-2.470173</td>\n",
       "    </tr>\n",
       "    <tr>\n",
       "      <th>C</th>\n",
       "      <td>-1.741546</td>\n",
       "      <td>0.493594</td>\n",
       "      <td>0.554962</td>\n",
       "      <td>-0.332353</td>\n",
       "      <td>0.391301</td>\n",
       "      <td>-0.343377</td>\n",
       "      <td>-0.530045</td>\n",
       "      <td>-0.324707</td>\n",
       "    </tr>\n",
       "  </tbody>\n",
       "</table>\n",
       "</div>"
      ],
      "text/plain": [
       "first        bar       bar       baz       baz       foo       foo       qux  \\\n",
       "second       one       two       one       two       one       two       one   \n",
       "A      -1.748029  0.222223 -0.607143 -0.867040  0.143805  0.491981 -0.443701   \n",
       "B      -0.505348  0.199575  1.108229  0.560155 -0.150386  1.572379 -1.032304   \n",
       "C      -1.741546  0.493594  0.554962 -0.332353  0.391301 -0.343377 -0.530045   \n",
       "\n",
       "first        qux  \n",
       "second       two  \n",
       "A       0.840398  \n",
       "B      -2.470173  \n",
       "C      -0.324707  "
      ]
     },
     "execution_count": 120,
     "metadata": {},
     "output_type": "execute_result"
    }
   ],
   "source": [
    "pd.set_option('display.multi_sparse', False)\n",
    "df"
   ]
  },
  {
   "cell_type": "code",
   "execution_count": 121,
   "metadata": {
    "scrolled": true
   },
   "outputs": [
    {
     "data": {
      "text/html": [
       "<div>\n",
       "<style>\n",
       "    .dataframe thead tr:only-child th {\n",
       "        text-align: right;\n",
       "    }\n",
       "\n",
       "    .dataframe thead th {\n",
       "        text-align: left;\n",
       "    }\n",
       "\n",
       "    .dataframe tbody tr th {\n",
       "        vertical-align: top;\n",
       "    }\n",
       "</style>\n",
       "<table border=\"1\" class=\"dataframe\">\n",
       "  <thead>\n",
       "    <tr>\n",
       "      <th>first</th>\n",
       "      <th colspan=\"2\" halign=\"left\">bar</th>\n",
       "      <th colspan=\"2\" halign=\"left\">baz</th>\n",
       "      <th colspan=\"2\" halign=\"left\">foo</th>\n",
       "      <th colspan=\"2\" halign=\"left\">qux</th>\n",
       "    </tr>\n",
       "    <tr>\n",
       "      <th>second</th>\n",
       "      <th>one</th>\n",
       "      <th>two</th>\n",
       "      <th>one</th>\n",
       "      <th>two</th>\n",
       "      <th>one</th>\n",
       "      <th>two</th>\n",
       "      <th>one</th>\n",
       "      <th>two</th>\n",
       "    </tr>\n",
       "  </thead>\n",
       "  <tbody>\n",
       "    <tr>\n",
       "      <th>A</th>\n",
       "      <td>-1.748029</td>\n",
       "      <td>0.222223</td>\n",
       "      <td>-0.607143</td>\n",
       "      <td>-0.867040</td>\n",
       "      <td>0.143805</td>\n",
       "      <td>0.491981</td>\n",
       "      <td>-0.443701</td>\n",
       "      <td>0.840398</td>\n",
       "    </tr>\n",
       "    <tr>\n",
       "      <th>B</th>\n",
       "      <td>-0.505348</td>\n",
       "      <td>0.199575</td>\n",
       "      <td>1.108229</td>\n",
       "      <td>0.560155</td>\n",
       "      <td>-0.150386</td>\n",
       "      <td>1.572379</td>\n",
       "      <td>-1.032304</td>\n",
       "      <td>-2.470173</td>\n",
       "    </tr>\n",
       "    <tr>\n",
       "      <th>C</th>\n",
       "      <td>-1.741546</td>\n",
       "      <td>0.493594</td>\n",
       "      <td>0.554962</td>\n",
       "      <td>-0.332353</td>\n",
       "      <td>0.391301</td>\n",
       "      <td>-0.343377</td>\n",
       "      <td>-0.530045</td>\n",
       "      <td>-0.324707</td>\n",
       "    </tr>\n",
       "  </tbody>\n",
       "</table>\n",
       "</div>"
      ],
      "text/plain": [
       "first        bar                 baz                 foo                 qux  \\\n",
       "second       one       two       one       two       one       two       one   \n",
       "A      -1.748029  0.222223 -0.607143 -0.867040  0.143805  0.491981 -0.443701   \n",
       "B      -0.505348  0.199575  1.108229  0.560155 -0.150386  1.572379 -1.032304   \n",
       "C      -1.741546  0.493594  0.554962 -0.332353  0.391301 -0.343377 -0.530045   \n",
       "\n",
       "first             \n",
       "second       two  \n",
       "A       0.840398  \n",
       "B      -2.470173  \n",
       "C      -0.324707  "
      ]
     },
     "execution_count": 121,
     "metadata": {},
     "output_type": "execute_result"
    }
   ],
   "source": [
    "pd.set_option('display.multi_sparse', True)\n",
    "df"
   ]
  },
  {
   "cell_type": "code",
   "execution_count": 122,
   "metadata": {},
   "outputs": [
    {
     "data": {
      "text/plain": [
       "Index(['bar', 'bar', 'baz', 'baz', 'foo', 'foo', 'qux', 'qux'], dtype='object', name='first')"
      ]
     },
     "execution_count": 122,
     "metadata": {},
     "output_type": "execute_result"
    }
   ],
   "source": [
    "index.get_level_values(0)"
   ]
  },
  {
   "cell_type": "code",
   "execution_count": 54,
   "metadata": {},
   "outputs": [
    {
     "data": {
      "text/plain": [
       "Index(['bar', 'bar', 'baz', 'baz', 'foo', 'foo', 'qux', 'qux'], dtype='object', name='first')"
      ]
     },
     "execution_count": 54,
     "metadata": {},
     "output_type": "execute_result"
    }
   ],
   "source": [
    "index.get_level_values('first')"
   ]
  },
  {
   "cell_type": "code",
   "execution_count": 53,
   "metadata": {},
   "outputs": [
    {
     "data": {
      "text/plain": [
       "Index(['one', 'two', 'one', 'two', 'one', 'two', 'one', 'two'], dtype='object', name='second')"
      ]
     },
     "execution_count": 53,
     "metadata": {},
     "output_type": "execute_result"
    }
   ],
   "source": [
    "index.get_level_values(1)"
   ]
  },
  {
   "cell_type": "code",
   "execution_count": 52,
   "metadata": {},
   "outputs": [
    {
     "data": {
      "text/plain": [
       "Index(['one', 'two', 'one', 'two', 'one', 'two', 'one', 'two'], dtype='object', name='second')"
      ]
     },
     "execution_count": 52,
     "metadata": {},
     "output_type": "execute_result"
    }
   ],
   "source": [
    "index.get_level_values('second')"
   ]
  },
  {
   "cell_type": "code",
   "execution_count": 131,
   "metadata": {},
   "outputs": [
    {
     "data": {
      "text/html": [
       "<div>\n",
       "<style>\n",
       "    .dataframe thead tr:only-child th {\n",
       "        text-align: right;\n",
       "    }\n",
       "\n",
       "    .dataframe thead th {\n",
       "        text-align: left;\n",
       "    }\n",
       "\n",
       "    .dataframe tbody tr th {\n",
       "        vertical-align: top;\n",
       "    }\n",
       "</style>\n",
       "<table border=\"1\" class=\"dataframe\">\n",
       "  <thead>\n",
       "    <tr style=\"text-align: right;\">\n",
       "      <th></th>\n",
       "      <th>first</th>\n",
       "      <th>bar</th>\n",
       "      <th>baz</th>\n",
       "      <th>foo</th>\n",
       "      <th>qux</th>\n",
       "    </tr>\n",
       "    <tr>\n",
       "      <th></th>\n",
       "      <th>second</th>\n",
       "      <th></th>\n",
       "      <th></th>\n",
       "      <th></th>\n",
       "      <th></th>\n",
       "    </tr>\n",
       "  </thead>\n",
       "  <tbody>\n",
       "    <tr>\n",
       "      <th rowspan=\"2\" valign=\"top\">A</th>\n",
       "      <th>one</th>\n",
       "      <td>-1.748029</td>\n",
       "      <td>-0.607143</td>\n",
       "      <td>0.143805</td>\n",
       "      <td>-0.443701</td>\n",
       "    </tr>\n",
       "    <tr>\n",
       "      <th>two</th>\n",
       "      <td>0.222223</td>\n",
       "      <td>-0.867040</td>\n",
       "      <td>0.491981</td>\n",
       "      <td>0.840398</td>\n",
       "    </tr>\n",
       "    <tr>\n",
       "      <th rowspan=\"2\" valign=\"top\">B</th>\n",
       "      <th>one</th>\n",
       "      <td>-0.505348</td>\n",
       "      <td>1.108229</td>\n",
       "      <td>-0.150386</td>\n",
       "      <td>-1.032304</td>\n",
       "    </tr>\n",
       "    <tr>\n",
       "      <th>two</th>\n",
       "      <td>0.199575</td>\n",
       "      <td>0.560155</td>\n",
       "      <td>1.572379</td>\n",
       "      <td>-2.470173</td>\n",
       "    </tr>\n",
       "    <tr>\n",
       "      <th rowspan=\"2\" valign=\"top\">C</th>\n",
       "      <th>one</th>\n",
       "      <td>-1.741546</td>\n",
       "      <td>0.554962</td>\n",
       "      <td>0.391301</td>\n",
       "      <td>-0.530045</td>\n",
       "    </tr>\n",
       "    <tr>\n",
       "      <th>two</th>\n",
       "      <td>0.493594</td>\n",
       "      <td>-0.332353</td>\n",
       "      <td>-0.343377</td>\n",
       "      <td>-0.324707</td>\n",
       "    </tr>\n",
       "  </tbody>\n",
       "</table>\n",
       "</div>"
      ],
      "text/plain": [
       "first          bar       baz       foo       qux\n",
       "  second                                        \n",
       "A one    -1.748029 -0.607143  0.143805 -0.443701\n",
       "  two     0.222223 -0.867040  0.491981  0.840398\n",
       "B one    -0.505348  1.108229 -0.150386 -1.032304\n",
       "  two     0.199575  0.560155  1.572379 -2.470173\n",
       "C one    -1.741546  0.554962  0.391301 -0.530045\n",
       "  two     0.493594 -0.332353 -0.343377 -0.324707"
      ]
     },
     "execution_count": 131,
     "metadata": {},
     "output_type": "execute_result"
    }
   ],
   "source": [
    "df.stack()"
   ]
  },
  {
   "cell_type": "markdown",
   "metadata": {},
   "source": [
    "## index 특별취급 ㄴㄴ염\n",
    "기존 알던걸로 충분히 접근 가능!\n",
    "- 그래 물론 index 이름 설정하는 거랑\n",
    "- index 이름 기반으로 접근하는 걸 몰라서 그렇지\n",
    "- .xs랑 level=값 이 언제 등장하는지도"
   ]
  },
  {
   "cell_type": "code",
   "execution_count": 149,
   "metadata": {},
   "outputs": [
    {
     "data": {
      "text/html": [
       "<div>\n",
       "<style>\n",
       "    .dataframe thead tr:only-child th {\n",
       "        text-align: right;\n",
       "    }\n",
       "\n",
       "    .dataframe thead th {\n",
       "        text-align: left;\n",
       "    }\n",
       "\n",
       "    .dataframe tbody tr th {\n",
       "        vertical-align: top;\n",
       "    }\n",
       "</style>\n",
       "<table border=\"1\" class=\"dataframe\">\n",
       "  <thead>\n",
       "    <tr style=\"text-align: right;\">\n",
       "      <th>first</th>\n",
       "      <th>bar</th>\n",
       "      <th>baz</th>\n",
       "      <th>foo</th>\n",
       "      <th>qux</th>\n",
       "    </tr>\n",
       "  </thead>\n",
       "  <tbody>\n",
       "    <tr>\n",
       "      <th>A</th>\n",
       "      <td>0.222223</td>\n",
       "      <td>-0.867040</td>\n",
       "      <td>0.491981</td>\n",
       "      <td>0.840398</td>\n",
       "    </tr>\n",
       "    <tr>\n",
       "      <th>B</th>\n",
       "      <td>0.199575</td>\n",
       "      <td>0.560155</td>\n",
       "      <td>1.572379</td>\n",
       "      <td>-2.470173</td>\n",
       "    </tr>\n",
       "    <tr>\n",
       "      <th>C</th>\n",
       "      <td>0.493594</td>\n",
       "      <td>-0.332353</td>\n",
       "      <td>-0.343377</td>\n",
       "      <td>-0.324707</td>\n",
       "    </tr>\n",
       "  </tbody>\n",
       "</table>\n",
       "</div>"
      ],
      "text/plain": [
       "first       bar       baz       foo       qux\n",
       "A      0.222223 -0.867040  0.491981  0.840398\n",
       "B      0.199575  0.560155  1.572379 -2.470173\n",
       "C      0.493594 -0.332353 -0.343377 -0.324707"
      ]
     },
     "execution_count": 149,
     "metadata": {},
     "output_type": "execute_result"
    }
   ],
   "source": [
    "df.stack().xs('two', level=1)"
   ]
  },
  {
   "cell_type": "code",
   "execution_count": 169,
   "metadata": {},
   "outputs": [
    {
     "name": "stdout",
     "output_type": "stream",
     "text": [
      "<class 'pandas.core.frame.DataFrame'>\n"
     ]
    },
    {
     "data": {
      "text/html": [
       "<div>\n",
       "<style>\n",
       "    .dataframe thead tr:only-child th {\n",
       "        text-align: right;\n",
       "    }\n",
       "\n",
       "    .dataframe thead th {\n",
       "        text-align: left;\n",
       "    }\n",
       "\n",
       "    .dataframe tbody tr th {\n",
       "        vertical-align: top;\n",
       "    }\n",
       "</style>\n",
       "<table border=\"1\" class=\"dataframe\">\n",
       "  <thead>\n",
       "    <tr style=\"text-align: right;\">\n",
       "      <th></th>\n",
       "      <th>first</th>\n",
       "      <th>bar</th>\n",
       "      <th>baz</th>\n",
       "      <th>foo</th>\n",
       "      <th>qux</th>\n",
       "    </tr>\n",
       "    <tr>\n",
       "      <th></th>\n",
       "      <th>second</th>\n",
       "      <th></th>\n",
       "      <th></th>\n",
       "      <th></th>\n",
       "      <th></th>\n",
       "    </tr>\n",
       "  </thead>\n",
       "  <tbody>\n",
       "    <tr>\n",
       "      <th rowspan=\"2\" valign=\"top\">A</th>\n",
       "      <th>one</th>\n",
       "      <td>-1.748029</td>\n",
       "      <td>-0.607143</td>\n",
       "      <td>0.143805</td>\n",
       "      <td>-0.443701</td>\n",
       "    </tr>\n",
       "    <tr>\n",
       "      <th>two</th>\n",
       "      <td>0.222223</td>\n",
       "      <td>-0.867040</td>\n",
       "      <td>0.491981</td>\n",
       "      <td>0.840398</td>\n",
       "    </tr>\n",
       "    <tr>\n",
       "      <th rowspan=\"2\" valign=\"top\">B</th>\n",
       "      <th>one</th>\n",
       "      <td>-0.505348</td>\n",
       "      <td>1.108229</td>\n",
       "      <td>-0.150386</td>\n",
       "      <td>-1.032304</td>\n",
       "    </tr>\n",
       "    <tr>\n",
       "      <th>two</th>\n",
       "      <td>0.199575</td>\n",
       "      <td>0.560155</td>\n",
       "      <td>1.572379</td>\n",
       "      <td>-2.470173</td>\n",
       "    </tr>\n",
       "    <tr>\n",
       "      <th rowspan=\"2\" valign=\"top\">C</th>\n",
       "      <th>one</th>\n",
       "      <td>-1.741546</td>\n",
       "      <td>0.554962</td>\n",
       "      <td>0.391301</td>\n",
       "      <td>-0.530045</td>\n",
       "    </tr>\n",
       "    <tr>\n",
       "      <th>two</th>\n",
       "      <td>0.493594</td>\n",
       "      <td>-0.332353</td>\n",
       "      <td>-0.343377</td>\n",
       "      <td>-0.324707</td>\n",
       "    </tr>\n",
       "  </tbody>\n",
       "</table>\n",
       "</div>"
      ],
      "text/plain": [
       "first          bar       baz       foo       qux\n",
       "  second                                        \n",
       "A one    -1.748029 -0.607143  0.143805 -0.443701\n",
       "  two     0.222223 -0.867040  0.491981  0.840398\n",
       "B one    -0.505348  1.108229 -0.150386 -1.032304\n",
       "  two     0.199575  0.560155  1.572379 -2.470173\n",
       "C one    -1.741546  0.554962  0.391301 -0.530045\n",
       "  two     0.493594 -0.332353 -0.343377 -0.324707"
      ]
     },
     "execution_count": 169,
     "metadata": {},
     "output_type": "execute_result"
    }
   ],
   "source": [
    "print(type(df.stack()))\n",
    "df.stack()"
   ]
  },
  {
   "cell_type": "code",
   "execution_count": 168,
   "metadata": {},
   "outputs": [
    {
     "data": {
      "text/html": [
       "<div>\n",
       "<style>\n",
       "    .dataframe thead tr:only-child th {\n",
       "        text-align: right;\n",
       "    }\n",
       "\n",
       "    .dataframe thead th {\n",
       "        text-align: left;\n",
       "    }\n",
       "\n",
       "    .dataframe tbody tr th {\n",
       "        vertical-align: top;\n",
       "    }\n",
       "</style>\n",
       "<table border=\"1\" class=\"dataframe\">\n",
       "  <thead>\n",
       "    <tr style=\"text-align: right;\">\n",
       "      <th>first</th>\n",
       "      <th>bar</th>\n",
       "      <th>baz</th>\n",
       "      <th>foo</th>\n",
       "      <th>qux</th>\n",
       "    </tr>\n",
       "  </thead>\n",
       "  <tbody>\n",
       "    <tr>\n",
       "      <th>A</th>\n",
       "      <td>-1.748029</td>\n",
       "      <td>-0.607143</td>\n",
       "      <td>0.143805</td>\n",
       "      <td>-0.443701</td>\n",
       "    </tr>\n",
       "    <tr>\n",
       "      <th>B</th>\n",
       "      <td>-0.505348</td>\n",
       "      <td>1.108229</td>\n",
       "      <td>-0.150386</td>\n",
       "      <td>-1.032304</td>\n",
       "    </tr>\n",
       "    <tr>\n",
       "      <th>C</th>\n",
       "      <td>-1.741546</td>\n",
       "      <td>0.554962</td>\n",
       "      <td>0.391301</td>\n",
       "      <td>-0.530045</td>\n",
       "    </tr>\n",
       "  </tbody>\n",
       "</table>\n",
       "</div>"
      ],
      "text/plain": [
       "first       bar       baz       foo       qux\n",
       "A     -1.748029 -0.607143  0.143805 -0.443701\n",
       "B     -0.505348  1.108229 -0.150386 -1.032304\n",
       "C     -1.741546  0.554962  0.391301 -0.530045"
      ]
     },
     "execution_count": 168,
     "metadata": {},
     "output_type": "execute_result"
    }
   ],
   "source": [
    "# df.stack()['one'] 이건 그냥 안됨\n",
    "# df.stack()[['one']] 마찬가지 ㄴㄴ\n",
    "# df.stack().loc['one'] 안됨 ㅇㅇ\n",
    "# df.stack().loc[['one']] 안되구요\n",
    "# df.stack().xs(['one']) 응 안되\n",
    "# df.stack()['second'] ㅇㅇㄷ\n",
    "# df.stack()[['second']] ㅇㅇㄷ\n",
    "# df.stack()['first'] ㅇㅇㄷ\n",
    "# df.stack()[['first']] ㅇㅇㄷ\n",
    "# df.stack().xs('one') ㅇㅇㄷ\n",
    "df.stack().xs('one', level=1)\n"
   ]
  },
  {
   "cell_type": "code",
   "execution_count": 180,
   "metadata": {},
   "outputs": [
    {
     "data": {
      "text/html": [
       "<div>\n",
       "<style>\n",
       "    .dataframe thead tr:only-child th {\n",
       "        text-align: right;\n",
       "    }\n",
       "\n",
       "    .dataframe thead th {\n",
       "        text-align: left;\n",
       "    }\n",
       "\n",
       "    .dataframe tbody tr th {\n",
       "        vertical-align: top;\n",
       "    }\n",
       "</style>\n",
       "<table border=\"1\" class=\"dataframe\">\n",
       "  <thead>\n",
       "    <tr style=\"text-align: right;\">\n",
       "      <th></th>\n",
       "      <th>first</th>\n",
       "      <th>bar</th>\n",
       "      <th>baz</th>\n",
       "      <th>foo</th>\n",
       "      <th>qux</th>\n",
       "    </tr>\n",
       "    <tr>\n",
       "      <th></th>\n",
       "      <th>second</th>\n",
       "      <th></th>\n",
       "      <th></th>\n",
       "      <th></th>\n",
       "      <th></th>\n",
       "    </tr>\n",
       "  </thead>\n",
       "  <tbody>\n",
       "    <tr>\n",
       "      <th>A</th>\n",
       "      <th>one</th>\n",
       "      <td>-1.748029</td>\n",
       "      <td>-0.607143</td>\n",
       "      <td>0.143805</td>\n",
       "      <td>-0.443701</td>\n",
       "    </tr>\n",
       "    <tr>\n",
       "      <th>B</th>\n",
       "      <th>one</th>\n",
       "      <td>-0.505348</td>\n",
       "      <td>1.108229</td>\n",
       "      <td>-0.150386</td>\n",
       "      <td>-1.032304</td>\n",
       "    </tr>\n",
       "    <tr>\n",
       "      <th>C</th>\n",
       "      <th>one</th>\n",
       "      <td>-1.741546</td>\n",
       "      <td>0.554962</td>\n",
       "      <td>0.391301</td>\n",
       "      <td>-0.530045</td>\n",
       "    </tr>\n",
       "  </tbody>\n",
       "</table>\n",
       "</div>"
      ],
      "text/plain": [
       "first          bar       baz       foo       qux\n",
       "  second                                        \n",
       "A one    -1.748029 -0.607143  0.143805 -0.443701\n",
       "B one    -0.505348  1.108229 -0.150386 -1.032304\n",
       "C one    -1.741546  0.554962  0.391301 -0.530045"
      ]
     },
     "execution_count": 180,
     "metadata": {},
     "output_type": "execute_result"
    }
   ],
   "source": [
    "df.stack().xs('one',level=1, drop_level=False)"
   ]
  },
  {
   "cell_type": "code",
   "execution_count": 178,
   "metadata": {},
   "outputs": [],
   "source": [
    "# df.xs('one') KeyError: 'one'\n",
    "#     ----> 1 df.xs('one')\n",
    "#       2 # df.xs(key, axis=0, level=None, drop_level=True)\n",
    "\n",
    "# df.xs(key, axis=0, level=None, drop_level=True)"
   ]
  },
  {
   "cell_type": "code",
   "execution_count": null,
   "metadata": {
    "collapsed": true
   },
   "outputs": [],
   "source": [
    "df.stack().xs"
   ]
  },
  {
   "cell_type": "code",
   "execution_count": null,
   "metadata": {
    "collapsed": true
   },
   "outputs": [],
   "source": [
    "df.stack().xs"
   ]
  },
  {
   "cell_type": "code",
   "execution_count": 137,
   "metadata": {},
   "outputs": [
    {
     "data": {
      "text/html": [
       "<div>\n",
       "<style>\n",
       "    .dataframe thead tr:only-child th {\n",
       "        text-align: right;\n",
       "    }\n",
       "\n",
       "    .dataframe thead th {\n",
       "        text-align: left;\n",
       "    }\n",
       "\n",
       "    .dataframe tbody tr th {\n",
       "        vertical-align: top;\n",
       "    }\n",
       "</style>\n",
       "<table border=\"1\" class=\"dataframe\">\n",
       "  <thead>\n",
       "    <tr>\n",
       "      <th>first</th>\n",
       "      <th colspan=\"2\" halign=\"left\">bar</th>\n",
       "      <th colspan=\"2\" halign=\"left\">baz</th>\n",
       "      <th colspan=\"2\" halign=\"left\">foo</th>\n",
       "      <th colspan=\"2\" halign=\"left\">qux</th>\n",
       "    </tr>\n",
       "    <tr>\n",
       "      <th>second</th>\n",
       "      <th>one</th>\n",
       "      <th>two</th>\n",
       "      <th>one</th>\n",
       "      <th>two</th>\n",
       "      <th>one</th>\n",
       "      <th>two</th>\n",
       "      <th>one</th>\n",
       "      <th>two</th>\n",
       "    </tr>\n",
       "  </thead>\n",
       "  <tbody>\n",
       "    <tr>\n",
       "      <th>A</th>\n",
       "      <td>-1.748029</td>\n",
       "      <td>0.222223</td>\n",
       "      <td>-0.607143</td>\n",
       "      <td>-0.86704</td>\n",
       "      <td>0.143805</td>\n",
       "      <td>0.491981</td>\n",
       "      <td>-0.443701</td>\n",
       "      <td>0.840398</td>\n",
       "    </tr>\n",
       "  </tbody>\n",
       "</table>\n",
       "</div>"
      ],
      "text/plain": [
       "first        bar                 baz                foo                 qux  \\\n",
       "second       one       two       one      two       one       two       one   \n",
       "A      -1.748029  0.222223 -0.607143 -0.86704  0.143805  0.491981 -0.443701   \n",
       "\n",
       "first             \n",
       "second       two  \n",
       "A       0.840398  "
      ]
     },
     "execution_count": 137,
     "metadata": {},
     "output_type": "execute_result"
    }
   ],
   "source": [
    "df.loc[['A']]"
   ]
  },
  {
   "cell_type": "code",
   "execution_count": 134,
   "metadata": {},
   "outputs": [
    {
     "data": {
      "text/html": [
       "<div>\n",
       "<style>\n",
       "    .dataframe thead tr:only-child th {\n",
       "        text-align: right;\n",
       "    }\n",
       "\n",
       "    .dataframe thead th {\n",
       "        text-align: left;\n",
       "    }\n",
       "\n",
       "    .dataframe tbody tr th {\n",
       "        vertical-align: top;\n",
       "    }\n",
       "</style>\n",
       "<table border=\"1\" class=\"dataframe\">\n",
       "  <thead>\n",
       "    <tr style=\"text-align: right;\">\n",
       "      <th></th>\n",
       "      <th>first</th>\n",
       "      <th>bar</th>\n",
       "      <th>baz</th>\n",
       "      <th>foo</th>\n",
       "      <th>qux</th>\n",
       "    </tr>\n",
       "    <tr>\n",
       "      <th></th>\n",
       "      <th>second</th>\n",
       "      <th></th>\n",
       "      <th></th>\n",
       "      <th></th>\n",
       "      <th></th>\n",
       "    </tr>\n",
       "  </thead>\n",
       "  <tbody>\n",
       "    <tr>\n",
       "      <th rowspan=\"2\" valign=\"top\">A</th>\n",
       "      <th>one</th>\n",
       "      <td>-1.748029</td>\n",
       "      <td>-0.607143</td>\n",
       "      <td>0.143805</td>\n",
       "      <td>-0.443701</td>\n",
       "    </tr>\n",
       "    <tr>\n",
       "      <th>two</th>\n",
       "      <td>0.222223</td>\n",
       "      <td>-0.867040</td>\n",
       "      <td>0.491981</td>\n",
       "      <td>0.840398</td>\n",
       "    </tr>\n",
       "  </tbody>\n",
       "</table>\n",
       "</div>"
      ],
      "text/plain": [
       "first          bar       baz       foo       qux\n",
       "  second                                        \n",
       "A one    -1.748029 -0.607143  0.143805 -0.443701\n",
       "  two     0.222223 -0.867040  0.491981  0.840398"
      ]
     },
     "execution_count": 134,
     "metadata": {},
     "output_type": "execute_result"
    }
   ],
   "source": [
    "df.stack().loc[['A']]"
   ]
  },
  {
   "cell_type": "code",
   "execution_count": 138,
   "metadata": {},
   "outputs": [
    {
     "data": {
      "text/plain": [
       "   second  first\n",
       "A  one     bar     -1.748029\n",
       "           baz     -0.607143\n",
       "           foo      0.143805\n",
       "           qux     -0.443701\n",
       "   two     bar      0.222223\n",
       "           baz     -0.867040\n",
       "           foo      0.491981\n",
       "           qux      0.840398\n",
       "dtype: float64"
      ]
     },
     "execution_count": 138,
     "metadata": {},
     "output_type": "execute_result"
    }
   ],
   "source": [
    "df.stack().loc[['A']].stack()"
   ]
  },
  {
   "cell_type": "code",
   "execution_count": null,
   "metadata": {
    "collapsed": true
   },
   "outputs": [],
   "source": []
  },
  {
   "cell_type": "markdown",
   "metadata": {},
   "source": [
    "### Series 에는 그냥 ['뭐'] 로 접근 가능한거고,\n",
    "### DataFrame에선 .loc나 .iloc로 해야"
   ]
  },
  {
   "cell_type": "code",
   "execution_count": 128,
   "metadata": {},
   "outputs": [
    {
     "data": {
      "text/plain": [
       "a  1    2.020021\n",
       "   2   -0.631511\n",
       "   3    1.677604\n",
       "b  1   -0.722345\n",
       "   2   -0.789350\n",
       "   3    1.752175\n",
       "c  1    0.078530\n",
       "   2   -0.179255\n",
       "d  2    0.936439\n",
       "   3   -0.835384\n",
       "dtype: float64"
      ]
     },
     "execution_count": 128,
     "metadata": {},
     "output_type": "execute_result"
    }
   ],
   "source": [
    "data22= Series(np.random.randn(10), index= [['a','a','a','b','b','b','c','c','d','d'],\n",
    "                                           [1,2,3,1,2,3,1,2,2,3]])\n",
    "data22"
   ]
  },
  {
   "cell_type": "code",
   "execution_count": 129,
   "metadata": {},
   "outputs": [
    {
     "data": {
      "text/plain": [
       "1   -0.722345\n",
       "2   -0.789350\n",
       "3    1.752175\n",
       "dtype: float64"
      ]
     },
     "execution_count": 129,
     "metadata": {},
     "output_type": "execute_result"
    }
   ],
   "source": [
    "data22['b']"
   ]
  },
  {
   "cell_type": "code",
   "execution_count": null,
   "metadata": {
    "collapsed": true
   },
   "outputs": [],
   "source": []
  },
  {
   "cell_type": "code",
   "execution_count": 127,
   "metadata": {},
   "outputs": [
    {
     "data": {
      "text/html": [
       "<div>\n",
       "<style>\n",
       "    .dataframe thead tr:only-child th {\n",
       "        text-align: right;\n",
       "    }\n",
       "\n",
       "    .dataframe thead th {\n",
       "        text-align: left;\n",
       "    }\n",
       "\n",
       "    .dataframe tbody tr th {\n",
       "        vertical-align: top;\n",
       "    }\n",
       "</style>\n",
       "<table border=\"1\" class=\"dataframe\">\n",
       "  <thead>\n",
       "    <tr style=\"text-align: right;\">\n",
       "      <th>second</th>\n",
       "      <th>one</th>\n",
       "      <th>two</th>\n",
       "    </tr>\n",
       "  </thead>\n",
       "  <tbody>\n",
       "    <tr>\n",
       "      <th>A</th>\n",
       "      <td>-1.748029</td>\n",
       "      <td>0.222223</td>\n",
       "    </tr>\n",
       "    <tr>\n",
       "      <th>B</th>\n",
       "      <td>-0.505348</td>\n",
       "      <td>0.199575</td>\n",
       "    </tr>\n",
       "    <tr>\n",
       "      <th>C</th>\n",
       "      <td>-1.741546</td>\n",
       "      <td>0.493594</td>\n",
       "    </tr>\n",
       "  </tbody>\n",
       "</table>\n",
       "</div>"
      ],
      "text/plain": [
       "second       one       two\n",
       "A      -1.748029  0.222223\n",
       "B      -0.505348  0.199575\n",
       "C      -1.741546  0.493594"
      ]
     },
     "execution_count": 127,
     "metadata": {},
     "output_type": "execute_result"
    }
   ],
   "source": [
    "df['bar']"
   ]
  },
  {
   "cell_type": "code",
   "execution_count": 56,
   "metadata": {},
   "outputs": [
    {
     "data": {
      "text/plain": [
       "A   -0.972391\n",
       "B    0.765927\n",
       "C   -0.441737\n",
       "Name: (bar, one), dtype: float64"
      ]
     },
     "execution_count": 56,
     "metadata": {},
     "output_type": "execute_result"
    }
   ],
   "source": [
    "df['bar', 'one']"
   ]
  },
  {
   "cell_type": "code",
   "execution_count": 57,
   "metadata": {},
   "outputs": [
    {
     "data": {
      "text/plain": [
       "A   -0.972391\n",
       "B    0.765927\n",
       "C   -0.441737\n",
       "Name: one, dtype: float64"
      ]
     },
     "execution_count": 57,
     "metadata": {},
     "output_type": "execute_result"
    }
   ],
   "source": [
    "df['bar']['one']"
   ]
  },
  {
   "cell_type": "code",
   "execution_count": 59,
   "metadata": {},
   "outputs": [],
   "source": [
    "#\"['one'] not in index\" df[['bar', 'one']]"
   ]
  },
  {
   "cell_type": "code",
   "execution_count": 61,
   "metadata": {},
   "outputs": [
    {
     "data": {
      "text/plain": [
       "bar  one   -0.492678\n",
       "     two   -1.990430\n",
       "baz  one    0.765525\n",
       "     two    1.165741\n",
       "foo  one   -0.310917\n",
       "     two   -1.198828\n",
       "qux  one   -0.368185\n",
       "     two   -0.903922\n",
       "dtype: float64"
      ]
     },
     "execution_count": 61,
     "metadata": {},
     "output_type": "execute_result"
    }
   ],
   "source": [
    "s"
   ]
  },
  {
   "cell_type": "code",
   "execution_count": 60,
   "metadata": {},
   "outputs": [
    {
     "data": {
      "text/plain": [
       "one   -0.368185\n",
       "two   -0.903922\n",
       "dtype: float64"
      ]
     },
     "execution_count": 60,
     "metadata": {},
     "output_type": "execute_result"
    }
   ],
   "source": [
    "s['qux']"
   ]
  },
  {
   "cell_type": "code",
   "execution_count": 62,
   "metadata": {},
   "outputs": [
    {
     "data": {
      "text/plain": [
       "MultiIndex(levels=[['bar', 'baz', 'foo', 'qux'], ['one', 'two']],\n",
       "           labels=[[0, 0, 1, 1, 2, 2, 3, 3], [0, 1, 0, 1, 0, 1, 0, 1]],\n",
       "           names=['first', 'second'])"
      ]
     },
     "execution_count": 62,
     "metadata": {},
     "output_type": "execute_result"
    }
   ],
   "source": [
    "df.columns"
   ]
  },
  {
   "cell_type": "code",
   "execution_count": 63,
   "metadata": {},
   "outputs": [
    {
     "data": {
      "text/plain": [
       "MultiIndex(levels=[['bar', 'baz', 'foo', 'qux'], ['one', 'two']],\n",
       "           labels=[[2, 2, 3, 3], [0, 1, 0, 1]],\n",
       "           names=['first', 'second'])"
      ]
     },
     "execution_count": 63,
     "metadata": {},
     "output_type": "execute_result"
    }
   ],
   "source": [
    "df[['foo','qux']].columns"
   ]
  },
  {
   "cell_type": "code",
   "execution_count": null,
   "metadata": {
    "collapsed": true
   },
   "outputs": [],
   "source": [
    "df[['foo','qux']].columns.values\n",
    "df[['foo','qux']].columns.get_level_values(0)\n",
    "df[['foo','qux']].columns.remove_unused_levels()\n",
    "s + s[:-2]\n",
    "s + s[::2]\n",
    "s.reindex(index[:3])\n",
    "s.reindex([('foo', 'two'), ('bar', 'one'), ('qux', 'one'), ('baz', 'one')])\n",
    "df = df.T\n",
    "df\n",
    "df.loc['bar']\n",
    "df.loc['bar', 'two']\n",
    "df.loc['baz':'foo']\n",
    "df.loc[('baz', 'two'):('qux', 'one')]\n",
    "df.loc[('baz', 'two'):'foo']\n",
    "df.loc[[('bar', 'two'), ('qux', 'one')]]\n",
    "def mklbl(prefix,n):\n",
    "    return [\"%s%s\" % (prefix,i)  for i in range(n)]\n",
    "\n",
    "miindex = pd.MultiIndex.from_product([mklbl('A',4),\n",
    "                                      mklbl('B',2),\n",
    "                                      mklbl('C',4),\n",
    "                                      mklbl('D',2)])\n",
    "micolumns = pd.MultiIndex.from_tuples([('a','foo'),('a','bar'),\n",
    "                                       ('b','foo'),('b','bah')],\n",
    "                                      names=['lvl0', 'lvl1'])\n",
    "dfmi = pd.DataFrame(np.arange(len(miindex)*len(micolumns)).reshape((len(miindex),len(micolumns))),\n",
    "                    index=miindex,\n",
    "                    columns=micolumns).sort_index().sort_index(axis=1)\n",
    "dfmi\n",
    "dfmi.loc[(slice('A1','A3'), slice(None), ['C1', 'C3']), :]\n",
    "idx = pd.IndexSlice\n",
    "dfmi.loc[idx[:, :, ['C1', 'C3']], idx[:, 'foo']]\n",
    "dfmi.loc['A1', (slice(None), 'foo')]\n",
    "dfmi.loc[idx[:, :, ['C1', 'C3']], idx[:, 'foo']]\n",
    "mask = dfmi[('a', 'foo')] > 200\n",
    "dfmi.loc[idx[mask, :, ['C1', 'C3']], idx[:, 'foo']]\n",
    "dfmi.loc(axis=0)[:, :, ['C1', 'C3']]\n",
    "df2 = dfmi.copy()\n",
    "df2.loc(axis=0)[:, :, ['C1', 'C3']] = -10\n",
    "df2\n",
    "df2 = dfmi.copy()\n",
    "df2.loc[idx[:, :, ['C1', 'C3']], :] = df2 * 1000\n",
    "df2\n",
    "df\n",
    "df.xs('one', level='second')\n",
    "df.loc[(slice(None),'one'),:]\n",
    "df = df.T\n",
    "df.xs('one', level='second', axis=1)\n",
    "df.loc[:,(slice(None),'one')]\n",
    "df.xs(('one', 'bar'), level=('second', 'first'), axis=1)\n",
    "df.loc[:,('bar','one')]\n",
    "df.xs('one', level='second', axis=1, drop_level=False)\n",
    "df.xs('one', level='second', axis=1, drop_level=True)\n",
    "midx = pd.MultiIndex(levels=[['zero', 'one'], ['x','y']],\n",
    "                      labels=[[1,1,0,0],[1,0,1,0]])\n",
    "df = pd.DataFrame(np.random.randn(4,2), index=midx)\n",
    "df\n",
    "df2 = df.mean(level=0)\n",
    "df2\n",
    "df2.reindex(df.index, level=0)\n",
    "df_aligned, df2_aligned = df.align(df2, level=0)\n",
    "df_aligned\n",
    "df2_aligned\n",
    "df[:5]\n",
    "df[:5].swaplevel(0, 1, axis=0)\n",
    "df[:5].reorder_levels([1,0], axis=0)\n",
    "import random; random.shuffle(tuples)\n",
    "s = pd.Series(np.random.randn(8), index=pd.MultiIndex.from_tuples(tuples))\n",
    "s\n",
    "s.sort_index()\n",
    "s.sort_index(level=0)\n",
    "s.sort_index(level=1)\n",
    "s.index.set_names(['L1', 'L2'], inplace=True)\n",
    "s.sort_index(level='L1')\n",
    "s.sort_index(level='L2')\n",
    "df.T.sort_index(level=1, axis=1)\n",
    "dfm = pd.DataFrame({'jim': [0, 0, 1, 1],\n",
    "                     'joe': ['x', 'x', 'z', 'y'],\n",
    "                     'jolie': np.random.rand(4)})\n",
    "dfm = dfm.set_index(['jim', 'joe'])\n",
    "dfm\n",
    "dfm.loc[(1, 'z')]\n",
    "# dfm.loc[(0,'y'):(1, 'z')]\n",
    "dfm.index.is_lexsorted()\n",
    "dfm.index.lexsort_depth\n",
    "dfm = dfm.sort_index()\n",
    "dfm\n",
    "dfm.index.is_lexsorted()\n",
    "dfm.index.lexsort_depth\n",
    "dfm.loc[(0,'y'):(1, 'z')]\n",
    "index = pd.Index(np.random.randint(0, 1000, 10))\n",
    "index\n",
    "positions = [0, 9, 3]\n",
    "index[positions]\n",
    "index.take(positions)\n",
    "ser = pd.Series(np.random.randn(10))\n",
    "ser.iloc[positions]\n",
    "ser.take(positions)\n",
    "frm = pd.DataFrame(np.random.randn(5, 3))\n",
    "frm.take([1, 4, 3])\n",
    "frm.take([0, 2], axis=1)\n",
    "arr = np.random.randn(10)\n",
    "arr.take([False, False, True, True])\n",
    "arr[[0, 1]]\n",
    "ser = pd.Series(np.random.randn(10))\n",
    "ser.take([False, False, True, True])\n",
    "ser.iloc[[0, 1]]\n",
    "from pandas.api.types import CategoricalDtype\n",
    "df = pd.DataFrame({'A': np.arange(6),\n",
    "                    'B': list('aabbca')})\n",
    "# df['B'] = df['B'].astype(CategoricalDtype(list('cab')))\n",
    "df\n",
    "df.dtypes\n",
    "# df.B.cat.categories\n",
    "df2 = df.set_index('B')\n",
    "df2.index\n",
    "df2.loc['a']\n",
    "df2.loc['a'].index\n",
    "df2.sort_index()\n",
    "df2.groupby(level=0).sum()\n",
    "df2.groupby(level=0).sum().index\n",
    "# df2.reindex(['a','e'])\n",
    "# df2.reindex(['a','e']).index\n",
    "# df2.reindex(pd.Categorical(['a','e'],categories=list('abcde')))\n",
    "# df2.reindex(pd.Categorical(['a','e'],categories=list('abcde'))).index\n",
    "df3 = pd.DataFrame({'A' : np.arange(6),\n",
    "                    'B' : pd.Series(list('aabbca')).astype('category')})\n",
    "df3 = df3.set_index('B')\n",
    "df3.index\n",
    "pd.concat([df2, df3])\n",
    "indexf = pd.Index([1.5, 2, 3, 4.5, 5])\n",
    "indexf\n",
    "sf = pd.Series(range(5), index=indexf)\n",
    "sf\n",
    "sf[3]\n",
    "sf[3.0]\n",
    "sf.loc[3]\n",
    "sf.loc[3.0]\n",
    "sf.iloc[3]\n",
    "sf[2:4]\n",
    "sf.loc[2:4]\n",
    "sf.iloc[2:4]\n",
    "sf[2.1:4.6]\n",
    "sf.loc[2.1:4.6]\n",
    "# pd.Series(range(5))[3.5]\n",
    "# pd.Series(range(5))[3.5:4.5]\n",
    "# pd.Series(range(5)).iloc[3.0]\n",
    "dfir = pd.concat([pd.DataFrame(np.random.randn(5,2),\n",
    "                                index=np.arange(5) * 250.0,\n",
    "                                columns=list('AB')),\n",
    "                   pd.DataFrame(np.random.randn(6,2),\n",
    "                                index=np.arange(4,10) * 250.1,\n",
    "                                columns=list('AB'))])\n",
    "dfir\n",
    "dfir[0:1000.4]\n",
    "dfir.loc[0:1001,'A']\n",
    "dfir.loc[1000.4]\n",
    "dfir[0:1000]\n",
    "dfir.iloc[0:5]\n",
    "df = pd.DataFrame({'A': [1, 2, 3, 4]},\n",
    "                    index=pd.IntervalIndex.from_breaks([0, 1, 2, 3, 4]))\n",
    "df\n",
    "df.loc[2]\n",
    "df.loc[[2, 3]]\n",
    "df.loc[2.5]\n",
    "df.loc[[2.5, 3.5]]\n",
    "c = pd.cut(range(4), bins=2)\n",
    "c\n",
    "c.categories\n",
    "pd.cut([0, 3, 5, 1], bins=c.categories)\n",
    "df = pd.DataFrame(index=[2,3,3,4,5], columns=['data'], data=list(range(5)))\n",
    "df.index.is_monotonic_increasing\n",
    "# df.loc[0:4, :]\n",
    "df.loc[13:15, :]\n",
    "df = pd.DataFrame(index=[2,3,1,4,3,5], columns=['data'], data=list(range(6)))\n",
    "df.index.is_monotonic_increasing\n",
    "df.loc[2:4, :]\n",
    "df3 = pd.DataFrame({'A' : np.arange(6),\n",
    "                            'B' : pd.Series(list('aabbca')).astype('category')})\n",
    "# df.loc[2:3, :]\n",
    "weakly_monotonic = pd.Index(['a', 'b', 'c', 'c'])\n",
    "weakly_monotonic\n",
    "weakly_monotonic.is_monotonic_increasing\n",
    "weakly_monotonic.is_monotonic_increasing & weakly_monotonic.is_unique\n",
    "s = pd.Series(np.random.randn(6), index=list('abcdef'))\n",
    "s\n",
    "s[2:5]\n",
    "s.loc['c':'e']\n",
    "series1 = pd.Series([1, 2, 3])\n",
    "series1.dtype\n",
    "res = series1.reindex([0, 4])\n",
    "res.dtype\n",
    "res\n",
    "series2 = pd.Series([True])\n",
    "series2.dtype\n",
    "res = series2.reindex_like(series1)\n",
    "res.dtype\n",
    "res"
   ]
  },
  {
   "cell_type": "code",
   "execution_count": null,
   "metadata": {
    "collapsed": true
   },
   "outputs": [],
   "source": []
  },
  {
   "cell_type": "markdown",
   "metadata": {},
   "source": [
    "## 프린트 for test"
   ]
  },
  {
   "cell_type": "code",
   "execution_count": 4,
   "metadata": {
    "collapsed": true
   },
   "outputs": [],
   "source": [
    "from pandas import DataFrame, Series\n",
    "import numpy as np"
   ]
  },
  {
   "cell_type": "code",
   "execution_count": 6,
   "metadata": {},
   "outputs": [],
   "source": [
    "data= Series(np.random.randn(10), index=[['a','a','a','b','b','b','c','c','d','d'],\n",
    "                                       [1,2,3,1,2,3,1,2,2,3]])"
   ]
  },
  {
   "cell_type": "code",
   "execution_count": 7,
   "metadata": {},
   "outputs": [
    {
     "data": {
      "text/plain": [
       "a  1   -0.321765\n",
       "   2    0.473064\n",
       "   3   -0.900450\n",
       "b  1   -0.794525\n",
       "   2    0.373607\n",
       "   3   -0.883934\n",
       "c  1    0.422836\n",
       "   2    0.206000\n",
       "d  2    0.416403\n",
       "   3    1.097390\n",
       "dtype: float64"
      ]
     },
     "execution_count": 7,
     "metadata": {},
     "output_type": "execute_result"
    }
   ],
   "source": [
    "data"
   ]
  },
  {
   "cell_type": "code",
   "execution_count": 8,
   "metadata": {},
   "outputs": [
    {
     "data": {
      "text/plain": [
       "MultiIndex(levels=[['a', 'b', 'c', 'd'], [1, 2, 3]],\n",
       "           labels=[[0, 0, 0, 1, 1, 1, 2, 2, 3, 3], [0, 1, 2, 0, 1, 2, 0, 1, 1, 2]])"
      ]
     },
     "execution_count": 8,
     "metadata": {},
     "output_type": "execute_result"
    }
   ],
   "source": [
    "data.index"
   ]
  },
  {
   "cell_type": "code",
   "execution_count": 9,
   "metadata": {},
   "outputs": [
    {
     "data": {
      "text/plain": [
       "1   -0.794525\n",
       "2    0.373607\n",
       "3   -0.883934\n",
       "dtype: float64"
      ]
     },
     "execution_count": 9,
     "metadata": {},
     "output_type": "execute_result"
    }
   ],
   "source": [
    "data['b']"
   ]
  },
  {
   "cell_type": "code",
   "execution_count": 10,
   "metadata": {},
   "outputs": [
    {
     "data": {
      "text/plain": [
       "b  1   -0.794525\n",
       "   2    0.373607\n",
       "   3   -0.883934\n",
       "c  1    0.422836\n",
       "   2    0.206000\n",
       "dtype: float64"
      ]
     },
     "execution_count": 10,
     "metadata": {},
     "output_type": "execute_result"
    }
   ],
   "source": [
    "data['b':'c']"
   ]
  },
  {
   "cell_type": "code",
   "execution_count": 14,
   "metadata": {},
   "outputs": [
    {
     "data": {
      "text/plain": [
       "b  1   -0.794525\n",
       "   2    0.373607\n",
       "   3   -0.883934\n",
       "d  2    0.416403\n",
       "   3    1.097390\n",
       "dtype: float64"
      ]
     },
     "execution_count": 14,
     "metadata": {},
     "output_type": "execute_result"
    }
   ],
   "source": [
    "data[['b','d']]"
   ]
  },
  {
   "cell_type": "code",
   "execution_count": 16,
   "metadata": {},
   "outputs": [],
   "source": [
    "# data['b','d']"
   ]
  },
  {
   "cell_type": "code",
   "execution_count": 11,
   "metadata": {},
   "outputs": [
    {
     "name": "stderr",
     "output_type": "stream",
     "text": [
      "C:\\Users\\kitcoop\\Anaconda3\\lib\\site-packages\\ipykernel_launcher.py:1: DeprecationWarning: \n",
      ".ix is deprecated. Please use\n",
      ".loc for label based indexing or\n",
      ".iloc for positional indexing\n",
      "\n",
      "See the documentation here:\n",
      "http://pandas.pydata.org/pandas-docs/stable/indexing.html#ix-indexer-is-deprecated\n",
      "  \"\"\"Entry point for launching an IPython kernel.\n"
     ]
    },
    {
     "data": {
      "text/plain": [
       "b  1   -0.794525\n",
       "   2    0.373607\n",
       "   3   -0.883934\n",
       "d  2    0.416403\n",
       "   3    1.097390\n",
       "dtype: float64"
      ]
     },
     "execution_count": 11,
     "metadata": {},
     "output_type": "execute_result"
    }
   ],
   "source": [
    "data.ix[['b','d']]"
   ]
  },
  {
   "cell_type": "code",
   "execution_count": 12,
   "metadata": {},
   "outputs": [
    {
     "data": {
      "text/plain": [
       "b  1   -0.794525\n",
       "   2    0.373607\n",
       "   3   -0.883934\n",
       "d  2    0.416403\n",
       "   3    1.097390\n",
       "dtype: float64"
      ]
     },
     "execution_count": 12,
     "metadata": {},
     "output_type": "execute_result"
    }
   ],
   "source": [
    "data.loc[['b','d']]"
   ]
  },
  {
   "cell_type": "code",
   "execution_count": 13,
   "metadata": {},
   "outputs": [
    {
     "data": {
      "text/plain": [
       "a    0.473064\n",
       "b    0.373607\n",
       "c    0.206000\n",
       "d    0.416403\n",
       "dtype: float64"
      ]
     },
     "execution_count": 13,
     "metadata": {},
     "output_type": "execute_result"
    }
   ],
   "source": [
    "data[:,2]"
   ]
  },
  {
   "cell_type": "code",
   "execution_count": null,
   "metadata": {
    "collapsed": true
   },
   "outputs": [],
   "source": []
  },
  {
   "cell_type": "code",
   "execution_count": 18,
   "metadata": {},
   "outputs": [
    {
     "data": {
      "text/plain": [
       "a  1   -0.321765\n",
       "   2    0.473064\n",
       "   3   -0.900450\n",
       "b  1   -0.794525\n",
       "   2    0.373607\n",
       "   3   -0.883934\n",
       "c  1    0.422836\n",
       "   2    0.206000\n",
       "d  2    0.416403\n",
       "   3    1.097390\n",
       "dtype: float64"
      ]
     },
     "execution_count": 18,
     "metadata": {},
     "output_type": "execute_result"
    }
   ],
   "source": [
    "data"
   ]
  },
  {
   "cell_type": "markdown",
   "metadata": {},
   "source": [
    "### .unstack(): 2번째(최하위) index가 칼럼으로\n",
    "### .stack(): 칼럼이 최하위 index로"
   ]
  },
  {
   "cell_type": "code",
   "execution_count": 17,
   "metadata": {},
   "outputs": [
    {
     "data": {
      "text/html": [
       "<div>\n",
       "<style>\n",
       "    .dataframe thead tr:only-child th {\n",
       "        text-align: right;\n",
       "    }\n",
       "\n",
       "    .dataframe thead th {\n",
       "        text-align: left;\n",
       "    }\n",
       "\n",
       "    .dataframe tbody tr th {\n",
       "        vertical-align: top;\n",
       "    }\n",
       "</style>\n",
       "<table border=\"1\" class=\"dataframe\">\n",
       "  <thead>\n",
       "    <tr style=\"text-align: right;\">\n",
       "      <th></th>\n",
       "      <th>1</th>\n",
       "      <th>2</th>\n",
       "      <th>3</th>\n",
       "    </tr>\n",
       "  </thead>\n",
       "  <tbody>\n",
       "    <tr>\n",
       "      <th>a</th>\n",
       "      <td>-0.321765</td>\n",
       "      <td>0.473064</td>\n",
       "      <td>-0.900450</td>\n",
       "    </tr>\n",
       "    <tr>\n",
       "      <th>b</th>\n",
       "      <td>-0.794525</td>\n",
       "      <td>0.373607</td>\n",
       "      <td>-0.883934</td>\n",
       "    </tr>\n",
       "    <tr>\n",
       "      <th>c</th>\n",
       "      <td>0.422836</td>\n",
       "      <td>0.206000</td>\n",
       "      <td>NaN</td>\n",
       "    </tr>\n",
       "    <tr>\n",
       "      <th>d</th>\n",
       "      <td>NaN</td>\n",
       "      <td>0.416403</td>\n",
       "      <td>1.097390</td>\n",
       "    </tr>\n",
       "  </tbody>\n",
       "</table>\n",
       "</div>"
      ],
      "text/plain": [
       "          1         2         3\n",
       "a -0.321765  0.473064 -0.900450\n",
       "b -0.794525  0.373607 -0.883934\n",
       "c  0.422836  0.206000       NaN\n",
       "d       NaN  0.416403  1.097390"
      ]
     },
     "execution_count": 17,
     "metadata": {},
     "output_type": "execute_result"
    }
   ],
   "source": [
    "data.unstack()"
   ]
  },
  {
   "cell_type": "code",
   "execution_count": 19,
   "metadata": {},
   "outputs": [
    {
     "data": {
      "text/plain": [
       "a  1   -0.321765\n",
       "   2    0.473064\n",
       "   3   -0.900450\n",
       "b  1   -0.794525\n",
       "   2    0.373607\n",
       "   3   -0.883934\n",
       "c  1    0.422836\n",
       "   2    0.206000\n",
       "d  2    0.416403\n",
       "   3    1.097390\n",
       "dtype: float64"
      ]
     },
     "execution_count": 19,
     "metadata": {},
     "output_type": "execute_result"
    }
   ],
   "source": [
    "data.unstack().stack()"
   ]
  },
  {
   "cell_type": "code",
   "execution_count": null,
   "metadata": {
    "collapsed": true
   },
   "outputs": [],
   "source": []
  },
  {
   "cell_type": "code",
   "execution_count": 20,
   "metadata": {},
   "outputs": [
    {
     "data": {
      "text/html": [
       "<div>\n",
       "<style>\n",
       "    .dataframe thead tr:only-child th {\n",
       "        text-align: right;\n",
       "    }\n",
       "\n",
       "    .dataframe thead th {\n",
       "        text-align: left;\n",
       "    }\n",
       "\n",
       "    .dataframe tbody tr th {\n",
       "        vertical-align: top;\n",
       "    }\n",
       "</style>\n",
       "<table border=\"1\" class=\"dataframe\">\n",
       "  <thead>\n",
       "    <tr>\n",
       "      <th></th>\n",
       "      <th></th>\n",
       "      <th>ohio</th>\n",
       "      <th>Ohio</th>\n",
       "      <th>Colorado</th>\n",
       "    </tr>\n",
       "    <tr>\n",
       "      <th></th>\n",
       "      <th></th>\n",
       "      <th>Green</th>\n",
       "      <th>Red</th>\n",
       "      <th>Green</th>\n",
       "    </tr>\n",
       "  </thead>\n",
       "  <tbody>\n",
       "    <tr>\n",
       "      <th rowspan=\"2\" valign=\"top\">a</th>\n",
       "      <th>1</th>\n",
       "      <td>0</td>\n",
       "      <td>1</td>\n",
       "      <td>2</td>\n",
       "    </tr>\n",
       "    <tr>\n",
       "      <th>2</th>\n",
       "      <td>3</td>\n",
       "      <td>4</td>\n",
       "      <td>5</td>\n",
       "    </tr>\n",
       "    <tr>\n",
       "      <th rowspan=\"2\" valign=\"top\">b</th>\n",
       "      <th>1</th>\n",
       "      <td>6</td>\n",
       "      <td>7</td>\n",
       "      <td>8</td>\n",
       "    </tr>\n",
       "    <tr>\n",
       "      <th>2</th>\n",
       "      <td>9</td>\n",
       "      <td>10</td>\n",
       "      <td>11</td>\n",
       "    </tr>\n",
       "  </tbody>\n",
       "</table>\n",
       "</div>"
      ],
      "text/plain": [
       "     ohio Ohio Colorado\n",
       "    Green  Red    Green\n",
       "a 1     0    1        2\n",
       "  2     3    4        5\n",
       "b 1     6    7        8\n",
       "  2     9   10       11"
      ]
     },
     "execution_count": 20,
     "metadata": {},
     "output_type": "execute_result"
    }
   ],
   "source": [
    "frame= DataFrame(np.arange(12).reshape((4,3)),\n",
    "                index= [['a','a','b','b'],[1,2,1,2]],\n",
    "                columns=[['ohio','Ohio','Colorado'],['Green','Red','Green']])\n",
    "frame"
   ]
  },
  {
   "cell_type": "code",
   "execution_count": 23,
   "metadata": {},
   "outputs": [
    {
     "data": {
      "text/html": [
       "<div>\n",
       "<style>\n",
       "    .dataframe thead tr:only-child th {\n",
       "        text-align: right;\n",
       "    }\n",
       "\n",
       "    .dataframe thead th {\n",
       "        text-align: left;\n",
       "    }\n",
       "\n",
       "    .dataframe tbody tr th {\n",
       "        vertical-align: top;\n",
       "    }\n",
       "</style>\n",
       "<table border=\"1\" class=\"dataframe\">\n",
       "  <thead>\n",
       "    <tr style=\"text-align: right;\">\n",
       "      <th></th>\n",
       "      <th></th>\n",
       "      <th>A</th>\n",
       "      <th>B</th>\n",
       "      <th>C</th>\n",
       "    </tr>\n",
       "  </thead>\n",
       "  <tbody>\n",
       "    <tr>\n",
       "      <th rowspan=\"2\" valign=\"top\">a</th>\n",
       "      <th>1</th>\n",
       "      <td>0</td>\n",
       "      <td>1</td>\n",
       "      <td>2</td>\n",
       "    </tr>\n",
       "    <tr>\n",
       "      <th>2</th>\n",
       "      <td>3</td>\n",
       "      <td>4</td>\n",
       "      <td>5</td>\n",
       "    </tr>\n",
       "    <tr>\n",
       "      <th rowspan=\"2\" valign=\"top\">b</th>\n",
       "      <th>1</th>\n",
       "      <td>6</td>\n",
       "      <td>7</td>\n",
       "      <td>8</td>\n",
       "    </tr>\n",
       "    <tr>\n",
       "      <th>2</th>\n",
       "      <td>9</td>\n",
       "      <td>10</td>\n",
       "      <td>11</td>\n",
       "    </tr>\n",
       "  </tbody>\n",
       "</table>\n",
       "</div>"
      ],
      "text/plain": [
       "     A   B   C\n",
       "a 1  0   1   2\n",
       "  2  3   4   5\n",
       "b 1  6   7   8\n",
       "  2  9  10  11"
      ]
     },
     "execution_count": 23,
     "metadata": {},
     "output_type": "execute_result"
    }
   ],
   "source": [
    "frame2= DataFrame(np.arange(12).reshape(4,3),\n",
    "         index= [['a','a','b','b'],[1,2,1,2]],\n",
    "         columns= [['A','B','C']])\n",
    "frame2"
   ]
  },
  {
   "cell_type": "code",
   "execution_count": 25,
   "metadata": {},
   "outputs": [
    {
     "data": {
      "text/plain": [
       "a  1    0\n",
       "   2    3\n",
       "b  1    6\n",
       "   2    9\n",
       "Name: A, dtype: int32"
      ]
     },
     "execution_count": 25,
     "metadata": {},
     "output_type": "execute_result"
    }
   ],
   "source": [
    "frame2['A']\n"
   ]
  },
  {
   "cell_type": "code",
   "execution_count": 30,
   "metadata": {},
   "outputs": [
    {
     "data": {
      "text/html": [
       "<div>\n",
       "<style>\n",
       "    .dataframe thead tr:only-child th {\n",
       "        text-align: right;\n",
       "    }\n",
       "\n",
       "    .dataframe thead th {\n",
       "        text-align: left;\n",
       "    }\n",
       "\n",
       "    .dataframe tbody tr th {\n",
       "        vertical-align: top;\n",
       "    }\n",
       "</style>\n",
       "<table border=\"1\" class=\"dataframe\">\n",
       "  <thead>\n",
       "    <tr style=\"text-align: right;\">\n",
       "      <th></th>\n",
       "      <th></th>\n",
       "      <th>A</th>\n",
       "      <th>B</th>\n",
       "      <th>C</th>\n",
       "    </tr>\n",
       "  </thead>\n",
       "  <tbody>\n",
       "    <tr>\n",
       "      <th rowspan=\"2\" valign=\"top\">a</th>\n",
       "      <th>1</th>\n",
       "      <td>0</td>\n",
       "      <td>1</td>\n",
       "      <td>2</td>\n",
       "    </tr>\n",
       "    <tr>\n",
       "      <th>2</th>\n",
       "      <td>3</td>\n",
       "      <td>4</td>\n",
       "      <td>5</td>\n",
       "    </tr>\n",
       "    <tr>\n",
       "      <th rowspan=\"2\" valign=\"top\">b</th>\n",
       "      <th>1</th>\n",
       "      <td>6</td>\n",
       "      <td>7</td>\n",
       "      <td>8</td>\n",
       "    </tr>\n",
       "    <tr>\n",
       "      <th>2</th>\n",
       "      <td>9</td>\n",
       "      <td>10</td>\n",
       "      <td>11</td>\n",
       "    </tr>\n",
       "  </tbody>\n",
       "</table>\n",
       "</div>"
      ],
      "text/plain": [
       "     A   B   C\n",
       "a 1  0   1   2\n",
       "  2  3   4   5\n",
       "b 1  6   7   8\n",
       "  2  9  10  11"
      ]
     },
     "execution_count": 30,
     "metadata": {},
     "output_type": "execute_result"
    }
   ],
   "source": [
    "frame2= DataFrame(np.arange(12).reshape(4,3),\n",
    "         index= [['a','a','b','b'],[1,2,1,2]],\n",
    "#          names= [['알벳','넘버']],\n",
    "         columns= [['A','B','C']])\n",
    "frame2"
   ]
  },
  {
   "cell_type": "code",
   "execution_count": 32,
   "metadata": {},
   "outputs": [
    {
     "ename": "ValueError",
     "evalue": "Length mismatch: Expected axis has 4 elements, new values have 2 elements",
     "output_type": "error",
     "traceback": [
      "\u001b[1;31m---------------------------------------------------------------------------\u001b[0m",
      "\u001b[1;31mValueError\u001b[0m                                Traceback (most recent call last)",
      "\u001b[1;32m<ipython-input-32-8e1ce627a823>\u001b[0m in \u001b[0;36m<module>\u001b[1;34m()\u001b[0m\n\u001b[1;32m----> 1\u001b[1;33m \u001b[0mframe2\u001b[0m\u001b[1;33m.\u001b[0m\u001b[0mset_index\u001b[0m\u001b[1;33m(\u001b[0m\u001b[1;33m[\u001b[0m\u001b[1;33m[\u001b[0m\u001b[1;34m'알벳'\u001b[0m\u001b[1;33m,\u001b[0m\u001b[1;34m'넘버'\u001b[0m\u001b[1;33m]\u001b[0m\u001b[1;33m]\u001b[0m\u001b[1;33m)\u001b[0m\u001b[1;33m\u001b[0m\u001b[0m\n\u001b[0m",
      "\u001b[1;32m~\\Anaconda3\\lib\\site-packages\\pandas\\core\\frame.py\u001b[0m in \u001b[0;36mset_index\u001b[1;34m(self, keys, drop, append, inplace, verify_integrity)\u001b[0m\n\u001b[0;32m   2846\u001b[0m         \u001b[0mindex\u001b[0m\u001b[1;33m.\u001b[0m\u001b[0m_cleanup\u001b[0m\u001b[1;33m(\u001b[0m\u001b[1;33m)\u001b[0m\u001b[1;33m\u001b[0m\u001b[0m\n\u001b[0;32m   2847\u001b[0m \u001b[1;33m\u001b[0m\u001b[0m\n\u001b[1;32m-> 2848\u001b[1;33m         \u001b[0mframe\u001b[0m\u001b[1;33m.\u001b[0m\u001b[0mindex\u001b[0m \u001b[1;33m=\u001b[0m \u001b[0mindex\u001b[0m\u001b[1;33m\u001b[0m\u001b[0m\n\u001b[0m\u001b[0;32m   2849\u001b[0m \u001b[1;33m\u001b[0m\u001b[0m\n\u001b[0;32m   2850\u001b[0m         \u001b[1;32mif\u001b[0m \u001b[1;32mnot\u001b[0m \u001b[0minplace\u001b[0m\u001b[1;33m:\u001b[0m\u001b[1;33m\u001b[0m\u001b[0m\n",
      "\u001b[1;32m~\\Anaconda3\\lib\\site-packages\\pandas\\core\\generic.py\u001b[0m in \u001b[0;36m__setattr__\u001b[1;34m(self, name, value)\u001b[0m\n\u001b[0;32m   3092\u001b[0m         \u001b[1;32mtry\u001b[0m\u001b[1;33m:\u001b[0m\u001b[1;33m\u001b[0m\u001b[0m\n\u001b[0;32m   3093\u001b[0m             \u001b[0mobject\u001b[0m\u001b[1;33m.\u001b[0m\u001b[0m__getattribute__\u001b[0m\u001b[1;33m(\u001b[0m\u001b[0mself\u001b[0m\u001b[1;33m,\u001b[0m \u001b[0mname\u001b[0m\u001b[1;33m)\u001b[0m\u001b[1;33m\u001b[0m\u001b[0m\n\u001b[1;32m-> 3094\u001b[1;33m             \u001b[1;32mreturn\u001b[0m \u001b[0mobject\u001b[0m\u001b[1;33m.\u001b[0m\u001b[0m__setattr__\u001b[0m\u001b[1;33m(\u001b[0m\u001b[0mself\u001b[0m\u001b[1;33m,\u001b[0m \u001b[0mname\u001b[0m\u001b[1;33m,\u001b[0m \u001b[0mvalue\u001b[0m\u001b[1;33m)\u001b[0m\u001b[1;33m\u001b[0m\u001b[0m\n\u001b[0m\u001b[0;32m   3095\u001b[0m         \u001b[1;32mexcept\u001b[0m \u001b[0mAttributeError\u001b[0m\u001b[1;33m:\u001b[0m\u001b[1;33m\u001b[0m\u001b[0m\n\u001b[0;32m   3096\u001b[0m             \u001b[1;32mpass\u001b[0m\u001b[1;33m\u001b[0m\u001b[0m\n",
      "\u001b[1;32mpandas/_libs/src\\properties.pyx\u001b[0m in \u001b[0;36mpandas._libs.lib.AxisProperty.__set__\u001b[1;34m()\u001b[0m\n",
      "\u001b[1;32m~\\Anaconda3\\lib\\site-packages\\pandas\\core\\generic.py\u001b[0m in \u001b[0;36m_set_axis\u001b[1;34m(self, axis, labels)\u001b[0m\n\u001b[0;32m    471\u001b[0m \u001b[1;33m\u001b[0m\u001b[0m\n\u001b[0;32m    472\u001b[0m     \u001b[1;32mdef\u001b[0m \u001b[0m_set_axis\u001b[0m\u001b[1;33m(\u001b[0m\u001b[0mself\u001b[0m\u001b[1;33m,\u001b[0m \u001b[0maxis\u001b[0m\u001b[1;33m,\u001b[0m \u001b[0mlabels\u001b[0m\u001b[1;33m)\u001b[0m\u001b[1;33m:\u001b[0m\u001b[1;33m\u001b[0m\u001b[0m\n\u001b[1;32m--> 473\u001b[1;33m         \u001b[0mself\u001b[0m\u001b[1;33m.\u001b[0m\u001b[0m_data\u001b[0m\u001b[1;33m.\u001b[0m\u001b[0mset_axis\u001b[0m\u001b[1;33m(\u001b[0m\u001b[0maxis\u001b[0m\u001b[1;33m,\u001b[0m \u001b[0mlabels\u001b[0m\u001b[1;33m)\u001b[0m\u001b[1;33m\u001b[0m\u001b[0m\n\u001b[0m\u001b[0;32m    474\u001b[0m         \u001b[0mself\u001b[0m\u001b[1;33m.\u001b[0m\u001b[0m_clear_item_cache\u001b[0m\u001b[1;33m(\u001b[0m\u001b[1;33m)\u001b[0m\u001b[1;33m\u001b[0m\u001b[0m\n\u001b[0;32m    475\u001b[0m \u001b[1;33m\u001b[0m\u001b[0m\n",
      "\u001b[1;32m~\\Anaconda3\\lib\\site-packages\\pandas\\core\\internals.py\u001b[0m in \u001b[0;36mset_axis\u001b[1;34m(self, axis, new_labels)\u001b[0m\n\u001b[0;32m   2834\u001b[0m             raise ValueError('Length mismatch: Expected axis has %d elements, '\n\u001b[0;32m   2835\u001b[0m                              \u001b[1;34m'new values have %d elements'\u001b[0m \u001b[1;33m%\u001b[0m\u001b[1;33m\u001b[0m\u001b[0m\n\u001b[1;32m-> 2836\u001b[1;33m                              (old_len, new_len))\n\u001b[0m\u001b[0;32m   2837\u001b[0m \u001b[1;33m\u001b[0m\u001b[0m\n\u001b[0;32m   2838\u001b[0m         \u001b[0mself\u001b[0m\u001b[1;33m.\u001b[0m\u001b[0maxes\u001b[0m\u001b[1;33m[\u001b[0m\u001b[0maxis\u001b[0m\u001b[1;33m]\u001b[0m \u001b[1;33m=\u001b[0m \u001b[0mnew_labels\u001b[0m\u001b[1;33m\u001b[0m\u001b[0m\n",
      "\u001b[1;31mValueError\u001b[0m: Length mismatch: Expected axis has 4 elements, new values have 2 elements"
     ]
    }
   ],
   "source": [
    "frame2.set_index([['알벳','넘버']])"
   ]
  }
 ],
 "metadata": {
  "kernelspec": {
   "display_name": "Python 3",
   "language": "python",
   "name": "python3"
  },
  "language_info": {
   "codemirror_mode": {
    "name": "ipython",
    "version": 3
   },
   "file_extension": ".py",
   "mimetype": "text/x-python",
   "name": "python",
   "nbconvert_exporter": "python",
   "pygments_lexer": "ipython3",
   "version": "3.6.3"
  },
  "varInspector": {
   "cols": {
    "lenName": 16,
    "lenType": 16,
    "lenVar": 40
   },
   "kernels_config": {
    "python": {
     "delete_cmd_postfix": "",
     "delete_cmd_prefix": "del ",
     "library": "var_list.py",
     "varRefreshCmd": "print(var_dic_list())"
    },
    "r": {
     "delete_cmd_postfix": ") ",
     "delete_cmd_prefix": "rm(",
     "library": "var_list.r",
     "varRefreshCmd": "cat(var_dic_list()) "
    }
   },
   "types_to_exclude": [
    "module",
    "function",
    "builtin_function_or_method",
    "instance",
    "_Feature"
   ],
   "window_display": true
  }
 },
 "nbformat": 4,
 "nbformat_minor": 2
}
