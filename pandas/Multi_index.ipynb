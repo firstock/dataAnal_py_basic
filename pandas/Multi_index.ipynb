{
 "cells": [
  {
   "cell_type": "markdown",
   "metadata": {},
   "source": [
    "# 계층적 색인 예제\n",
    "부러 Error나라고 만든 예제도 있으니 너무 안 된다 싶으면 링크 참조!"
   ]
  },
  {
   "cell_type": "markdown",
   "metadata": {},
   "source": [
    "https://goo.gl/LepW3h"
   ]
  },
  {
   "cell_type": "code",
   "execution_count": 1,
   "metadata": {
    "collapsed": true
   },
   "outputs": [],
   "source": [
    "import numpy as np\n",
    "import pandas as pd"
   ]
  },
  {
   "cell_type": "code",
   "execution_count": 2,
   "metadata": {},
   "outputs": [
    {
     "data": {
      "text/plain": [
       "[('bar', 'one'),\n",
       " ('bar', 'two'),\n",
       " ('baz', 'one'),\n",
       " ('baz', 'two'),\n",
       " ('foo', 'one'),\n",
       " ('foo', 'two'),\n",
       " ('qux', 'one'),\n",
       " ('qux', 'two')]"
      ]
     },
     "execution_count": 2,
     "metadata": {},
     "output_type": "execute_result"
    }
   ],
   "source": [
    "arrays = [['bar', 'bar', 'baz', 'baz', 'foo', 'foo', 'qux', 'qux'],\n",
    "           ['one', 'two', 'one', 'two', 'one', 'two', 'one', 'two']]\n",
    "tuples = list(zip(*arrays))\n",
    "tuples"
   ]
  },
  {
   "cell_type": "code",
   "execution_count": 9,
   "metadata": {
    "collapsed": true
   },
   "outputs": [],
   "source": [
    "arrays = [['bar', 'baz','foo', 'qux'],\n",
    "           ['one', 'three', 'two', 'four']]"
   ]
  },
  {
   "cell_type": "code",
   "execution_count": 11,
   "metadata": {
    "collapsed": true
   },
   "outputs": [],
   "source": [
    "# arrays = [['bar', 'baz','foo', 'qux'],\n",
    "#            ['one', 'three', 'two', 'four'],\n",
    "#            ['one', 'three', 'two', 'four']]"
   ]
  },
  {
   "cell_type": "code",
   "execution_count": 10,
   "metadata": {},
   "outputs": [
    {
     "data": {
      "text/plain": [
       "{'bar': 'one', 'baz': 'three', 'foo': 'two', 'qux': 'four'}"
      ]
     },
     "execution_count": 10,
     "metadata": {},
     "output_type": "execute_result"
    }
   ],
   "source": [
    "dict(zip(*arrays))"
   ]
  },
  {
   "cell_type": "markdown",
   "metadata": {},
   "source": [
    "### pd.MultiIndex.튜플로만들"
   ]
  },
  {
   "cell_type": "code",
   "execution_count": 18,
   "metadata": {
    "collapsed": true
   },
   "outputs": [],
   "source": [
    "pd.MultiIndex?"
   ]
  },
  {
   "cell_type": "markdown",
   "metadata": {},
   "source": [
    "(levels=None, labels=None, sortorder=None, names=None, copy=False, verify_integrity=True\n",
    " , _set_identity=True, name=None, **kwargs)"
   ]
  },
  {
   "cell_type": "markdown",
   "metadata": {},
   "source": [
    "#### names: 계층 인덱스 이름\n",
    "#### tuples: 계층 인덱스 내용"
   ]
  },
  {
   "cell_type": "code",
   "execution_count": 15,
   "metadata": {},
   "outputs": [
    {
     "data": {
      "text/plain": [
       "MultiIndex(levels=[['bar', 'baz', 'foo', 'qux'], ['one', 'two']],\n",
       "           labels=[[0, 0, 1, 1, 2, 2, 3, 3], [0, 1, 0, 1, 0, 1, 0, 1]],\n",
       "           names=['first', 'second'])"
      ]
     },
     "execution_count": 15,
     "metadata": {},
     "output_type": "execute_result"
    }
   ],
   "source": [
    "index = pd.MultiIndex.from_tuples(tuples=tuples, names=['first', 'second'])\n",
    "index"
   ]
  },
  {
   "cell_type": "code",
   "execution_count": 16,
   "metadata": {},
   "outputs": [
    {
     "data": {
      "text/plain": [
       "first  second\n",
       "bar    one       2.532080\n",
       "       two       0.020801\n",
       "baz    one      -0.025382\n",
       "       two      -0.045115\n",
       "foo    one       0.533102\n",
       "       two       0.914743\n",
       "qux    one       0.987376\n",
       "       two       0.612614\n",
       "dtype: float64"
      ]
     },
     "execution_count": 16,
     "metadata": {},
     "output_type": "execute_result"
    }
   ],
   "source": [
    "s = pd.Series(np.random.randn(8), index=index)\n",
    "s"
   ]
  },
  {
   "cell_type": "markdown",
   "metadata": {},
   "source": [
    "이건 왜만듦?"
   ]
  },
  {
   "cell_type": "code",
   "execution_count": 29,
   "metadata": {},
   "outputs": [
    {
     "data": {
      "text/plain": [
       "MultiIndex(levels=[['bar', 'baz', 'foo', 'qux'], ['one', 'two']],\n",
       "           labels=[[0, 0, 1, 1, 2, 2, 3, 3], [0, 1, 0, 1, 0, 1, 0, 1]],\n",
       "           names=['first', 'second'])"
      ]
     },
     "execution_count": 29,
     "metadata": {},
     "output_type": "execute_result"
    }
   ],
   "source": [
    "iterables = [['bar', 'baz', 'foo', 'qux'], ['one', 'two']]\n",
    "pd.MultiIndex.from_product(iterables, names=['first', 'second'])"
   ]
  },
  {
   "cell_type": "markdown",
   "metadata": {},
   "source": [
    "##### "
   ]
  },
  {
   "cell_type": "code",
   "execution_count": 28,
   "metadata": {},
   "outputs": [
    {
     "data": {
      "text/plain": [
       "bar  one    1.459561\n",
       "     two   -0.251993\n",
       "baz  one   -1.145599\n",
       "     two    0.370457\n",
       "foo  one    2.300646\n",
       "     two   -0.929326\n",
       "qux  one   -1.006717\n",
       "     two    0.584433\n",
       "dtype: float64"
      ]
     },
     "execution_count": 28,
     "metadata": {},
     "output_type": "execute_result"
    }
   ],
   "source": [
    "arrays = [np.array(['bar', 'bar', 'baz', 'baz', 'foo', 'foo', 'qux', 'qux']),\n",
    "           np.array(['one', 'two', 'one', 'two', 'one', 'two', 'one', 'two'])]\n",
    "s = pd.Series(np.random.randn(8), index=arrays)\n",
    "s"
   ]
  },
  {
   "cell_type": "code",
   "execution_count": 30,
   "metadata": {},
   "outputs": [
    {
     "data": {
      "text/html": [
       "<div>\n",
       "<style>\n",
       "    .dataframe thead tr:only-child th {\n",
       "        text-align: right;\n",
       "    }\n",
       "\n",
       "    .dataframe thead th {\n",
       "        text-align: left;\n",
       "    }\n",
       "\n",
       "    .dataframe tbody tr th {\n",
       "        vertical-align: top;\n",
       "    }\n",
       "</style>\n",
       "<table border=\"1\" class=\"dataframe\">\n",
       "  <thead>\n",
       "    <tr style=\"text-align: right;\">\n",
       "      <th></th>\n",
       "      <th></th>\n",
       "      <th>0</th>\n",
       "      <th>1</th>\n",
       "      <th>2</th>\n",
       "      <th>3</th>\n",
       "    </tr>\n",
       "  </thead>\n",
       "  <tbody>\n",
       "    <tr>\n",
       "      <th rowspan=\"2\" valign=\"top\">bar</th>\n",
       "      <th>one</th>\n",
       "      <td>-1.762363</td>\n",
       "      <td>1.073666</td>\n",
       "      <td>-1.141811</td>\n",
       "      <td>1.118294</td>\n",
       "    </tr>\n",
       "    <tr>\n",
       "      <th>two</th>\n",
       "      <td>-1.343121</td>\n",
       "      <td>-0.758182</td>\n",
       "      <td>0.549056</td>\n",
       "      <td>0.286925</td>\n",
       "    </tr>\n",
       "    <tr>\n",
       "      <th rowspan=\"2\" valign=\"top\">baz</th>\n",
       "      <th>one</th>\n",
       "      <td>1.357293</td>\n",
       "      <td>-0.258956</td>\n",
       "      <td>0.397229</td>\n",
       "      <td>0.983182</td>\n",
       "    </tr>\n",
       "    <tr>\n",
       "      <th>two</th>\n",
       "      <td>-1.490832</td>\n",
       "      <td>-1.027219</td>\n",
       "      <td>-0.299171</td>\n",
       "      <td>1.135998</td>\n",
       "    </tr>\n",
       "    <tr>\n",
       "      <th rowspan=\"2\" valign=\"top\">foo</th>\n",
       "      <th>one</th>\n",
       "      <td>0.201411</td>\n",
       "      <td>0.848635</td>\n",
       "      <td>-1.599460</td>\n",
       "      <td>-0.882256</td>\n",
       "    </tr>\n",
       "    <tr>\n",
       "      <th>two</th>\n",
       "      <td>0.397829</td>\n",
       "      <td>-0.342437</td>\n",
       "      <td>-0.370612</td>\n",
       "      <td>-0.394783</td>\n",
       "    </tr>\n",
       "    <tr>\n",
       "      <th rowspan=\"2\" valign=\"top\">qux</th>\n",
       "      <th>one</th>\n",
       "      <td>1.451476</td>\n",
       "      <td>1.391907</td>\n",
       "      <td>1.064644</td>\n",
       "      <td>-0.772185</td>\n",
       "    </tr>\n",
       "    <tr>\n",
       "      <th>two</th>\n",
       "      <td>1.266212</td>\n",
       "      <td>-1.637327</td>\n",
       "      <td>0.670003</td>\n",
       "      <td>-1.567791</td>\n",
       "    </tr>\n",
       "  </tbody>\n",
       "</table>\n",
       "</div>"
      ],
      "text/plain": [
       "                0         1         2         3\n",
       "bar one -1.762363  1.073666 -1.141811  1.118294\n",
       "    two -1.343121 -0.758182  0.549056  0.286925\n",
       "baz one  1.357293 -0.258956  0.397229  0.983182\n",
       "    two -1.490832 -1.027219 -0.299171  1.135998\n",
       "foo one  0.201411  0.848635 -1.599460 -0.882256\n",
       "    two  0.397829 -0.342437 -0.370612 -0.394783\n",
       "qux one  1.451476  1.391907  1.064644 -0.772185\n",
       "    two  1.266212 -1.637327  0.670003 -1.567791"
      ]
     },
     "execution_count": 30,
     "metadata": {},
     "output_type": "execute_result"
    }
   ],
   "source": [
    "df = pd.DataFrame(np.random.randn(8, 4), index=arrays)\n",
    "df"
   ]
  },
  {
   "cell_type": "code",
   "execution_count": null,
   "metadata": {},
   "outputs": [],
   "source": [
    "df.index.names\n",
    "df = pd.DataFrame(np.random.randn(3, 8), index=['A', 'B', 'C'], columns=index)\n",
    "df\n",
    "pd.DataFrame(np.random.randn(6, 6), index=index[:6], columns=index[:6])\n",
    "pd.Series(np.random.randn(8), index=tuples)\n",
    "pd.set_option('display.multi_sparse', False)\n",
    "df\n",
    "pd.set_option('display.multi_sparse', True)\n",
    "index.get_level_values(0)\n",
    "index.get_level_values('second')\n",
    "df['bar']\n",
    "df['bar', 'one']\n",
    "df['bar']['one']\n",
    "s['qux']\n",
    "df.columns\n",
    "df[['foo','qux']].columns\n",
    "df[['foo','qux']].columns.values\n",
    "df[['foo','qux']].columns.get_level_values(0)\n",
    "df[['foo','qux']].columns.remove_unused_levels()\n",
    "s + s[:-2]\n",
    "s + s[::2]\n",
    "s.reindex(index[:3])\n",
    "s.reindex([('foo', 'two'), ('bar', 'one'), ('qux', 'one'), ('baz', 'one')])\n",
    "df = df.T\n",
    "df\n",
    "df.loc['bar']\n",
    "df.loc['bar', 'two']\n",
    "df.loc['baz':'foo']\n",
    "df.loc[('baz', 'two'):('qux', 'one')]\n",
    "df.loc[('baz', 'two'):'foo']\n",
    "df.loc[[('bar', 'two'), ('qux', 'one')]]\n",
    "def mklbl(prefix,n):\n",
    "    return [\"%s%s\" % (prefix,i)  for i in range(n)]\n",
    "\n",
    "miindex = pd.MultiIndex.from_product([mklbl('A',4),\n",
    "                                      mklbl('B',2),\n",
    "                                      mklbl('C',4),\n",
    "                                      mklbl('D',2)])\n",
    "micolumns = pd.MultiIndex.from_tuples([('a','foo'),('a','bar'),\n",
    "                                       ('b','foo'),('b','bah')],\n",
    "                                      names=['lvl0', 'lvl1'])\n",
    "dfmi = pd.DataFrame(np.arange(len(miindex)*len(micolumns)).reshape((len(miindex),len(micolumns))),\n",
    "                    index=miindex,\n",
    "                    columns=micolumns).sort_index().sort_index(axis=1)\n",
    "dfmi\n",
    "dfmi.loc[(slice('A1','A3'), slice(None), ['C1', 'C3']), :]\n",
    "idx = pd.IndexSlice\n",
    "dfmi.loc[idx[:, :, ['C1', 'C3']], idx[:, 'foo']]\n",
    "dfmi.loc['A1', (slice(None), 'foo')]\n",
    "dfmi.loc[idx[:, :, ['C1', 'C3']], idx[:, 'foo']]\n",
    "mask = dfmi[('a', 'foo')] > 200\n",
    "dfmi.loc[idx[mask, :, ['C1', 'C3']], idx[:, 'foo']]\n",
    "dfmi.loc(axis=0)[:, :, ['C1', 'C3']]\n",
    "df2 = dfmi.copy()\n",
    "df2.loc(axis=0)[:, :, ['C1', 'C3']] = -10\n",
    "df2\n",
    "df2 = dfmi.copy()\n",
    "df2.loc[idx[:, :, ['C1', 'C3']], :] = df2 * 1000\n",
    "df2\n",
    "df\n",
    "df.xs('one', level='second')\n",
    "df.loc[(slice(None),'one'),:]\n",
    "df = df.T\n",
    "df.xs('one', level='second', axis=1)\n",
    "df.loc[:,(slice(None),'one')]\n",
    "df.xs(('one', 'bar'), level=('second', 'first'), axis=1)\n",
    "df.loc[:,('bar','one')]\n",
    "df.xs('one', level='second', axis=1, drop_level=False)\n",
    "df.xs('one', level='second', axis=1, drop_level=True)\n",
    "midx = pd.MultiIndex(levels=[['zero', 'one'], ['x','y']],\n",
    "                      labels=[[1,1,0,0],[1,0,1,0]])\n",
    "df = pd.DataFrame(np.random.randn(4,2), index=midx)\n",
    "df\n",
    "df2 = df.mean(level=0)\n",
    "df2\n",
    "df2.reindex(df.index, level=0)\n",
    "df_aligned, df2_aligned = df.align(df2, level=0)\n",
    "df_aligned\n",
    "df2_aligned\n",
    "df[:5]\n",
    "df[:5].swaplevel(0, 1, axis=0)\n",
    "df[:5].reorder_levels([1,0], axis=0)\n",
    "import random; random.shuffle(tuples)\n",
    "s = pd.Series(np.random.randn(8), index=pd.MultiIndex.from_tuples(tuples))\n",
    "s\n",
    "s.sort_index()\n",
    "s.sort_index(level=0)\n",
    "s.sort_index(level=1)\n",
    "s.index.set_names(['L1', 'L2'], inplace=True)\n",
    "s.sort_index(level='L1')\n",
    "s.sort_index(level='L2')\n",
    "df.T.sort_index(level=1, axis=1)\n",
    "dfm = pd.DataFrame({'jim': [0, 0, 1, 1],\n",
    "                     'joe': ['x', 'x', 'z', 'y'],\n",
    "                     'jolie': np.random.rand(4)})\n",
    "dfm = dfm.set_index(['jim', 'joe'])\n",
    "dfm\n",
    "dfm.loc[(1, 'z')]\n",
    "# dfm.loc[(0,'y'):(1, 'z')]\n",
    "dfm.index.is_lexsorted()\n",
    "dfm.index.lexsort_depth\n",
    "dfm = dfm.sort_index()\n",
    "dfm\n",
    "dfm.index.is_lexsorted()\n",
    "dfm.index.lexsort_depth\n",
    "dfm.loc[(0,'y'):(1, 'z')]\n",
    "index = pd.Index(np.random.randint(0, 1000, 10))\n",
    "index\n",
    "positions = [0, 9, 3]\n",
    "index[positions]\n",
    "index.take(positions)\n",
    "ser = pd.Series(np.random.randn(10))\n",
    "ser.iloc[positions]\n",
    "ser.take(positions)\n",
    "frm = pd.DataFrame(np.random.randn(5, 3))\n",
    "frm.take([1, 4, 3])\n",
    "frm.take([0, 2], axis=1)\n",
    "arr = np.random.randn(10)\n",
    "arr.take([False, False, True, True])\n",
    "arr[[0, 1]]\n",
    "ser = pd.Series(np.random.randn(10))\n",
    "ser.take([False, False, True, True])\n",
    "ser.iloc[[0, 1]]\n",
    "from pandas.api.types import CategoricalDtype\n",
    "df = pd.DataFrame({'A': np.arange(6),\n",
    "                    'B': list('aabbca')})\n",
    "# df['B'] = df['B'].astype(CategoricalDtype(list('cab')))\n",
    "df\n",
    "df.dtypes\n",
    "# df.B.cat.categories\n",
    "df2 = df.set_index('B')\n",
    "df2.index\n",
    "df2.loc['a']\n",
    "df2.loc['a'].index\n",
    "df2.sort_index()\n",
    "df2.groupby(level=0).sum()\n",
    "df2.groupby(level=0).sum().index\n",
    "# df2.reindex(['a','e'])\n",
    "# df2.reindex(['a','e']).index\n",
    "# df2.reindex(pd.Categorical(['a','e'],categories=list('abcde')))\n",
    "# df2.reindex(pd.Categorical(['a','e'],categories=list('abcde'))).index\n",
    "df3 = pd.DataFrame({'A' : np.arange(6),\n",
    "                    'B' : pd.Series(list('aabbca')).astype('category')})\n",
    "df3 = df3.set_index('B')\n",
    "df3.index\n",
    "pd.concat([df2, df3])\n",
    "indexf = pd.Index([1.5, 2, 3, 4.5, 5])\n",
    "indexf\n",
    "sf = pd.Series(range(5), index=indexf)\n",
    "sf\n",
    "sf[3]\n",
    "sf[3.0]\n",
    "sf.loc[3]\n",
    "sf.loc[3.0]\n",
    "sf.iloc[3]\n",
    "sf[2:4]\n",
    "sf.loc[2:4]\n",
    "sf.iloc[2:4]\n",
    "sf[2.1:4.6]\n",
    "sf.loc[2.1:4.6]\n",
    "# pd.Series(range(5))[3.5]\n",
    "# pd.Series(range(5))[3.5:4.5]\n",
    "# pd.Series(range(5)).iloc[3.0]\n",
    "dfir = pd.concat([pd.DataFrame(np.random.randn(5,2),\n",
    "                                index=np.arange(5) * 250.0,\n",
    "                                columns=list('AB')),\n",
    "                   pd.DataFrame(np.random.randn(6,2),\n",
    "                                index=np.arange(4,10) * 250.1,\n",
    "                                columns=list('AB'))])\n",
    "dfir\n",
    "dfir[0:1000.4]\n",
    "dfir.loc[0:1001,'A']\n",
    "dfir.loc[1000.4]\n",
    "dfir[0:1000]\n",
    "dfir.iloc[0:5]\n",
    "df = pd.DataFrame({'A': [1, 2, 3, 4]},\n",
    "                    index=pd.IntervalIndex.from_breaks([0, 1, 2, 3, 4]))\n",
    "df\n",
    "df.loc[2]\n",
    "df.loc[[2, 3]]\n",
    "df.loc[2.5]\n",
    "df.loc[[2.5, 3.5]]\n",
    "c = pd.cut(range(4), bins=2)\n",
    "c\n",
    "c.categories\n",
    "pd.cut([0, 3, 5, 1], bins=c.categories)\n",
    "df = pd.DataFrame(index=[2,3,3,4,5], columns=['data'], data=list(range(5)))\n",
    "df.index.is_monotonic_increasing\n",
    "# df.loc[0:4, :]\n",
    "df.loc[13:15, :]\n",
    "df = pd.DataFrame(index=[2,3,1,4,3,5], columns=['data'], data=list(range(6)))\n",
    "df.index.is_monotonic_increasing\n",
    "df.loc[2:4, :]\n",
    "df3 = pd.DataFrame({'A' : np.arange(6),\n",
    "                            'B' : pd.Series(list('aabbca')).astype('category')})\n",
    "# df.loc[2:3, :]\n",
    "weakly_monotonic = pd.Index(['a', 'b', 'c', 'c'])\n",
    "weakly_monotonic\n",
    "weakly_monotonic.is_monotonic_increasing\n",
    "weakly_monotonic.is_monotonic_increasing & weakly_monotonic.is_unique\n",
    "s = pd.Series(np.random.randn(6), index=list('abcdef'))\n",
    "s\n",
    "s[2:5]\n",
    "s.loc['c':'e']\n",
    "series1 = pd.Series([1, 2, 3])\n",
    "series1.dtype\n",
    "res = series1.reindex([0, 4])\n",
    "res.dtype\n",
    "res\n",
    "series2 = pd.Series([True])\n",
    "series2.dtype\n",
    "res = series2.reindex_like(series1)\n",
    "res.dtype\n",
    "res"
   ]
  }
 ],
 "metadata": {
  "kernelspec": {
   "display_name": "Python 3",
   "language": "python",
   "name": "python3"
  },
  "language_info": {
   "codemirror_mode": {
    "name": "ipython",
    "version": 3
   },
   "file_extension": ".py",
   "mimetype": "text/x-python",
   "name": "python",
   "nbconvert_exporter": "python",
   "pygments_lexer": "ipython3",
   "version": "3.6.3"
  },
  "varInspector": {
   "cols": {
    "lenName": 16,
    "lenType": 16,
    "lenVar": 40
   },
   "kernels_config": {
    "python": {
     "delete_cmd_postfix": "",
     "delete_cmd_prefix": "del ",
     "library": "var_list.py",
     "varRefreshCmd": "print(var_dic_list())"
    },
    "r": {
     "delete_cmd_postfix": ") ",
     "delete_cmd_prefix": "rm(",
     "library": "var_list.r",
     "varRefreshCmd": "cat(var_dic_list()) "
    }
   },
   "types_to_exclude": [
    "module",
    "function",
    "builtin_function_or_method",
    "instance",
    "_Feature"
   ],
   "window_display": true
  }
 },
 "nbformat": 4,
 "nbformat_minor": 2
}
