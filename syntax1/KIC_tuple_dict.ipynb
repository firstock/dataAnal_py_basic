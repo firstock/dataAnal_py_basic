{
 "cells": [
  {
   "cell_type": "markdown",
   "metadata": {},
   "source": [
    "### 튜플"
   ]
  },
  {
   "cell_type": "code",
   "execution_count": 4,
   "metadata": {},
   "outputs": [
    {
     "name": "stdout",
     "output_type": "stream",
     "text": [
      "10\n",
      "10\n",
      "(10,)\n",
      "(10,)\n"
     ]
    }
   ],
   "source": [
    "tt3= (10); print(tt3)\n",
    "tt4= 10; print(tt4)\n",
    "tt5= (10,); print(tt5)\n",
    "tt6= 10,; print(tt6)"
   ]
  },
  {
   "cell_type": "code",
   "execution_count": 6,
   "metadata": {},
   "outputs": [
    {
     "name": "stdout",
     "output_type": "stream",
     "text": [
      "10\n",
      "40 60\n"
     ]
    }
   ],
   "source": [
    "tt1= 10,20,30,40\n",
    "print(tt1[0])\n",
    "print(tt1[0]+tt1[2], tt1[1]+tt1[3])"
   ]
  },
  {
   "cell_type": "code",
   "execution_count": 10,
   "metadata": {},
   "outputs": [
    {
     "name": "stdout",
     "output_type": "stream",
     "text": [
      "(20, 30)\n",
      "(10, 20, 30)\n",
      "(10, 20, 30, 40)\n"
     ]
    }
   ],
   "source": [
    "print(tt1[1:3])\n",
    "print(tt1[:3])\n",
    "print(tt1[0:])"
   ]
  },
  {
   "cell_type": "code",
   "execution_count": null,
   "metadata": {
    "collapsed": true
   },
   "outputs": [],
   "source": []
  },
  {
   "cell_type": "code",
   "execution_count": 12,
   "metadata": {
    "scrolled": true
   },
   "outputs": [
    {
     "name": "stdout",
     "output_type": "stream",
     "text": [
      "('a', 'b')\n",
      "(10, 20, 30, 40, 'a', 'b')\n",
      "('a', 'b', 'a', 'b', 'a', 'b')\n"
     ]
    }
   ],
   "source": [
    "tt2= 'a','b'; print(tt2)\n",
    "print(tt1+tt2)\n",
    "print(tt2*3)"
   ]
  },
  {
   "cell_type": "code",
   "execution_count": 13,
   "metadata": {},
   "outputs": [
    {
     "data": {
      "text/plain": [
       "((1, 2, 3), (4, 5, 6), (7, 8, 9))"
      ]
     },
     "execution_count": 13,
     "metadata": {},
     "output_type": "execute_result"
    }
   ],
   "source": [
    "tt= ((1,2,3),(4,5,6),(7,8,9)); tt"
   ]
  },
  {
   "cell_type": "code",
   "execution_count": 24,
   "metadata": {},
   "outputs": [
    {
     "data": {
      "text/plain": [
       "((1, 2, 3), (4, 5, 6), (7, 8, 9))"
      ]
     },
     "execution_count": 24,
     "metadata": {},
     "output_type": "execute_result"
    }
   ],
   "source": [
    "tt= tuple(tuple(j+3*i for j in range(1,3+1)) for i in range(0,3)); tt"
   ]
  },
  {
   "cell_type": "code",
   "execution_count": null,
   "metadata": {
    "collapsed": true
   },
   "outputs": [],
   "source": []
  },
  {
   "cell_type": "code",
   "execution_count": 5,
   "metadata": {},
   "outputs": [
    {
     "data": {
      "text/plain": [
       "((0, 1, 2, 3), (4, 5, 6, 7, 8), (8, 9, 10, 11, 12, 13))"
      ]
     },
     "execution_count": 5,
     "metadata": {},
     "output_type": "execute_result"
    }
   ],
   "source": [
    "n_i= 3\n",
    "n_k= 4\n",
    "# print(\"몇행 만들래\")\n",
    "# n_i= int(input())\n",
    "# print(\"몇열 만들래\")\n",
    "# n_j= int(input())\n",
    "\n",
    "tuple( tuple(k+ i*n_k for k in range(n_k+i)) for i in range(n_i))"
   ]
  },
  {
   "cell_type": "code",
   "execution_count": null,
   "metadata": {
    "collapsed": true
   },
   "outputs": [],
   "source": []
  },
  {
   "cell_type": "code",
   "execution_count": 32,
   "metadata": {},
   "outputs": [
    {
     "data": {
      "text/plain": [
       "int"
      ]
     },
     "execution_count": 32,
     "metadata": {},
     "output_type": "execute_result"
    }
   ],
   "source": [
    "type(random.randrange(10))"
   ]
  },
  {
   "cell_type": "markdown",
   "metadata": {},
   "source": [
    "###### random으로 만들자고 한 시점부터 이미 val을 예쁘게 넣기는.. 절레절레"
   ]
  },
  {
   "cell_type": "code",
   "execution_count": 102,
   "metadata": {},
   "outputs": [
    {
     "name": "stdout",
     "output_type": "stream",
     "text": [
      "몇행 만들래\n",
      "몇열 만들래\n"
     ]
    },
    {
     "data": {
      "text/plain": [
       "((0, 1), (4, 5, 6), (8, 9, 10, 11, 12, 13))"
      ]
     },
     "execution_count": 102,
     "metadata": {},
     "output_type": "execute_result"
    }
   ],
   "source": [
    "import random\n",
    "n_i= 3; n_j= 5; # input 귀찮잖아\n",
    "print(\"몇행 만들래\")\n",
    "# n_i= int(input())\n",
    "print(\"몇열 만들래\")\n",
    "# n_j= int(input())\n",
    "tt= tuple(tuple(j+4*i for j in range(random.randrange(i+1,i+n_j))) for i in range(0,n_i)); tt"
   ]
  },
  {
   "cell_type": "code",
   "execution_count": 65,
   "metadata": {},
   "outputs": [
    {
     "data": {
      "text/plain": [
       "((0, 1), (3, 4, 5, 6, 7), (6, 7))"
      ]
     },
     "execution_count": 65,
     "metadata": {},
     "output_type": "execute_result"
    }
   ],
   "source": [
    "import random\n",
    "tt= tuple(tuple(j+3*i for j in range(random.randrange(2,6))) for i in range(0,3)); tt"
   ]
  },
  {
   "cell_type": "code",
   "execution_count": 38,
   "metadata": {},
   "outputs": [
    {
     "data": {
      "text/plain": [
       "0"
      ]
     },
     "execution_count": 38,
     "metadata": {},
     "output_type": "execute_result"
    }
   ],
   "source": [
    "# tt(0)(0) 응 아니야\n",
    "tt[0][0]"
   ]
  },
  {
   "cell_type": "code",
   "execution_count": 43,
   "metadata": {},
   "outputs": [
    {
     "name": "stdout",
     "output_type": "stream",
     "text": [
      "3\n",
      "5\n"
     ]
    }
   ],
   "source": [
    "n_i= len(tt); print(n_i)\n",
    "print(len(tt[1]))"
   ]
  },
  {
   "cell_type": "code",
   "execution_count": 52,
   "metadata": {
    "scrolled": true
   },
   "outputs": [
    {
     "name": "stdout",
     "output_type": "stream",
     "text": [
      "  0  1  2\n",
      "  3  4  5  6  7\n",
      "  6  7  8  9 10 11 12\n"
     ]
    }
   ],
   "source": [
    "line= \"\"\n",
    "for i in range(len(tt)):\n",
    "    for j in range(len(tt[i])):\n",
    "        line+= str(\"{0:3}\".format(tt[i][j]))\n",
    "    line+='\\n'\n",
    "print(line, end=\"\")"
   ]
  },
  {
   "cell_type": "code",
   "execution_count": null,
   "metadata": {
    "collapsed": true
   },
   "outputs": [],
   "source": []
  },
  {
   "cell_type": "markdown",
   "metadata": {},
   "source": [
    "###### 언패킹"
   ]
  },
  {
   "cell_type": "code",
   "execution_count": 54,
   "metadata": {},
   "outputs": [
    {
     "name": "stdout",
     "output_type": "stream",
     "text": [
      "((0, 1, 2), (3, 4, 5, 6, 7), (6, 7, 8, 9, 10, 11, 12))\n"
     ]
    }
   ],
   "source": [
    "print(tt)"
   ]
  },
  {
   "cell_type": "code",
   "execution_count": 57,
   "metadata": {},
   "outputs": [
    {
     "name": "stdout",
     "output_type": "stream",
     "text": [
      "0\n",
      "1\n",
      "2\n",
      "(3, 4, 5, 6, 7)\n",
      "(6, 7, 8, 9, 10, 11, 12)\n"
     ]
    }
   ],
   "source": [
    "(tt11,tt12,tt13), tt2, tt3= tt\n",
    "print(tt11)\n",
    "print(tt12)\n",
    "print(tt13)\n",
    "print(tt2)\n",
    "print(tt3)"
   ]
  },
  {
   "cell_type": "code",
   "execution_count": null,
   "metadata": {
    "collapsed": true
   },
   "outputs": [],
   "source": []
  },
  {
   "cell_type": "code",
   "execution_count": null,
   "metadata": {
    "collapsed": true
   },
   "outputs": [],
   "source": [
    "import numpy as np"
   ]
  },
  {
   "cell_type": "code",
   "execution_count": 48,
   "metadata": {
    "scrolled": true
   },
   "outputs": [
    {
     "data": {
      "text/plain": [
       "(1, 2, nan, 3)"
      ]
     },
     "execution_count": 48,
     "metadata": {},
     "output_type": "execute_result"
    }
   ],
   "source": [
    "# NAN 들어가네\n",
    "a= (1,2,np.nan,3);a"
   ]
  }
 ],
 "metadata": {
  "kernelspec": {
   "display_name": "Python 3",
   "language": "python",
   "name": "python3"
  },
  "language_info": {
   "codemirror_mode": {
    "name": "ipython",
    "version": 3
   },
   "file_extension": ".py",
   "mimetype": "text/x-python",
   "name": "python",
   "nbconvert_exporter": "python",
   "pygments_lexer": "ipython3",
   "version": "3.6.3"
  }
 },
 "nbformat": 4,
 "nbformat_minor": 2
}
