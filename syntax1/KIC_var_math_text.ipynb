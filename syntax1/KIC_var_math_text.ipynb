{
 "cells": [
  {
   "cell_type": "markdown",
   "metadata": {},
   "source": [
    "## 데분양성\n",
    "첫 수업. 2018.2.20.화"
   ]
  },
  {
   "cell_type": "markdown",
   "metadata": {},
   "source": [
    "#### 사칙연산, math"
   ]
  },
  {
   "cell_type": "code",
   "execution_count": 1,
   "metadata": {},
   "outputs": [
    {
     "data": {
      "text/plain": [
       "4"
      ]
     },
     "execution_count": 1,
     "metadata": {},
     "output_type": "execute_result"
    }
   ],
   "source": [
    "30//7"
   ]
  },
  {
   "cell_type": "code",
   "execution_count": 2,
   "metadata": {},
   "outputs": [
    {
     "data": {
      "text/plain": [
       "2"
      ]
     },
     "execution_count": 2,
     "metadata": {},
     "output_type": "execute_result"
    }
   ],
   "source": [
    "30%7"
   ]
  },
  {
   "cell_type": "code",
   "execution_count": 3,
   "metadata": {},
   "outputs": [
    {
     "data": {
      "text/plain": [
       "4.285714285714286"
      ]
     },
     "execution_count": 3,
     "metadata": {},
     "output_type": "execute_result"
    }
   ],
   "source": [
    "#부동소수형 8Byte. 소수이하 15자리까지만 가능\n",
    "30/7"
   ]
  },
  {
   "cell_type": "code",
   "execution_count": 4,
   "metadata": {
    "collapsed": true
   },
   "outputs": [],
   "source": [
    "import math"
   ]
  },
  {
   "cell_type": "code",
   "execution_count": 5,
   "metadata": {},
   "outputs": [
    {
     "data": {
      "text/plain": [
       "3.141592653589793"
      ]
     },
     "execution_count": 5,
     "metadata": {},
     "output_type": "execute_result"
    }
   ],
   "source": [
    "math.pi"
   ]
  },
  {
   "cell_type": "code",
   "execution_count": 6,
   "metadata": {},
   "outputs": [
    {
     "data": {
      "text/plain": [
       "2.718281828459045"
      ]
     },
     "execution_count": 6,
     "metadata": {},
     "output_type": "execute_result"
    }
   ],
   "source": [
    "math.e"
   ]
  },
  {
   "cell_type": "code",
   "execution_count": 7,
   "metadata": {},
   "outputs": [
    {
     "name": "stdout",
     "output_type": "stream",
     "text": [
      "-1\n",
      "-1\n"
     ]
    }
   ],
   "source": [
    "#버림\n",
    "print(math.trunc(-1.1))\n",
    "print(math.trunc(-1.7))"
   ]
  },
  {
   "cell_type": "code",
   "execution_count": 8,
   "metadata": {},
   "outputs": [
    {
     "name": "stdout",
     "output_type": "stream",
     "text": [
      "-1\n",
      "-2\n"
     ]
    }
   ],
   "source": [
    "#반올림\n",
    "print(round(-1.1))\n",
    "print(round(-1.7))"
   ]
  },
  {
   "cell_type": "code",
   "execution_count": null,
   "metadata": {
    "collapsed": true
   },
   "outputs": [],
   "source": []
  },
  {
   "cell_type": "code",
   "execution_count": 9,
   "metadata": {},
   "outputs": [
    {
     "data": {
      "text/plain": [
       "1"
      ]
     },
     "execution_count": 9,
     "metadata": {},
     "output_type": "execute_result"
    }
   ],
   "source": [
    "math.factorial(0)"
   ]
  },
  {
   "cell_type": "code",
   "execution_count": 10,
   "metadata": {},
   "outputs": [
    {
     "data": {
      "text/plain": [
       "24"
      ]
     },
     "execution_count": 10,
     "metadata": {},
     "output_type": "execute_result"
    }
   ],
   "source": [
    "math.factorial(4)"
   ]
  },
  {
   "cell_type": "code",
   "execution_count": 11,
   "metadata": {},
   "outputs": [
    {
     "data": {
      "text/plain": [
       "93326215443944152681699238856266700490715968264381621468592963895217599993229915608941463976156518286253697920827223758251185210916864000000000000000000000000"
      ]
     },
     "execution_count": 11,
     "metadata": {},
     "output_type": "execute_result"
    }
   ],
   "source": [
    "math.factorial(100)"
   ]
  },
  {
   "cell_type": "code",
   "execution_count": null,
   "metadata": {
    "collapsed": true
   },
   "outputs": [],
   "source": []
  },
  {
   "cell_type": "code",
   "execution_count": 12,
   "metadata": {},
   "outputs": [
    {
     "name": "stdout",
     "output_type": "stream",
     "text": [
      "<class 'float'>\n"
     ]
    },
    {
     "data": {
      "text/plain": [
       "81.0"
      ]
     },
     "execution_count": 12,
     "metadata": {},
     "output_type": "execute_result"
    }
   ],
   "source": [
    "#return float\n",
    "print(type(math.pow(3,4)))\n",
    "math.pow(3,4)"
   ]
  },
  {
   "cell_type": "code",
   "execution_count": 13,
   "metadata": {},
   "outputs": [
    {
     "name": "stdout",
     "output_type": "stream",
     "text": [
      "<class 'int'>\n"
     ]
    },
    {
     "data": {
      "text/plain": [
       "81"
      ]
     },
     "execution_count": 13,
     "metadata": {},
     "output_type": "execute_result"
    }
   ],
   "source": [
    "#return int\n",
    "print(type(3**4))\n",
    "3**4"
   ]
  },
  {
   "cell_type": "code",
   "execution_count": 14,
   "metadata": {},
   "outputs": [
    {
     "data": {
      "text/plain": [
       "7"
      ]
     },
     "execution_count": 14,
     "metadata": {},
     "output_type": "execute_result"
    }
   ],
   "source": [
    "#011 xor 100 = 111\n",
    "3^4"
   ]
  },
  {
   "cell_type": "code",
   "execution_count": null,
   "metadata": {
    "collapsed": true
   },
   "outputs": [],
   "source": []
  },
  {
   "cell_type": "code",
   "execution_count": 15,
   "metadata": {},
   "outputs": [
    {
     "name": "stdout",
     "output_type": "stream",
     "text": [
      "<class 'float'>\n"
     ]
    },
    {
     "data": {
      "text/plain": [
       "2.0"
      ]
     },
     "execution_count": 15,
     "metadata": {},
     "output_type": "execute_result"
    }
   ],
   "source": [
    "print(type(math.sqrt(4)))\n",
    "math.sqrt(4)"
   ]
  },
  {
   "cell_type": "code",
   "execution_count": 16,
   "metadata": {},
   "outputs": [
    {
     "data": {
      "text/plain": [
       "(-1+0j)"
      ]
     },
     "execution_count": 16,
     "metadata": {},
     "output_type": "execute_result"
    }
   ],
   "source": [
    "#math.sqrt(-1) #error!\n",
    "a= complex(-1); a"
   ]
  },
  {
   "cell_type": "code",
   "execution_count": null,
   "metadata": {
    "collapsed": true
   },
   "outputs": [],
   "source": []
  },
  {
   "cell_type": "code",
   "execution_count": 17,
   "metadata": {},
   "outputs": [
    {
     "data": {
      "text/plain": [
       "2.302585092994046"
      ]
     },
     "execution_count": 17,
     "metadata": {},
     "output_type": "execute_result"
    }
   ],
   "source": [
    "math.log(10)"
   ]
  },
  {
   "cell_type": "code",
   "execution_count": 18,
   "metadata": {},
   "outputs": [
    {
     "name": "stdout",
     "output_type": "stream",
     "text": [
      "<class 'float'>\n"
     ]
    },
    {
     "data": {
      "text/plain": [
       "1.0"
      ]
     },
     "execution_count": 18,
     "metadata": {},
     "output_type": "execute_result"
    }
   ],
   "source": [
    "print(type(math.log(math.e)))\n",
    "math.log(math.e)"
   ]
  },
  {
   "cell_type": "code",
   "execution_count": 19,
   "metadata": {},
   "outputs": [
    {
     "data": {
      "text/plain": [
       "1.0"
      ]
     },
     "execution_count": 19,
     "metadata": {},
     "output_type": "execute_result"
    }
   ],
   "source": [
    "math.log10(10)"
   ]
  },
  {
   "cell_type": "markdown",
   "metadata": {},
   "source": [
    "#### 문자열, 슬라이싱, in_포함여부"
   ]
  },
  {
   "cell_type": "code",
   "execution_count": 20,
   "metadata": {},
   "outputs": [
    {
     "data": {
      "text/plain": [
       "'\\n어섯 파잇 처음잇\\n'"
      ]
     },
     "execution_count": 20,
     "metadata": {},
     "output_type": "execute_result"
    }
   ],
   "source": [
    "c= \"\"\"\n",
    "어섯 파잇 처음잇\n",
    "\"\"\"; c"
   ]
  },
  {
   "cell_type": "code",
   "execution_count": 64,
   "metadata": {},
   "outputs": [
    {
     "name": "stdout",
     "output_type": "stream",
     "text": [
      "\\n이게뭐지 \\t \\\" \\\\\n",
      "\n",
      "이게뭐지 \t \" \\\n"
     ]
    }
   ],
   "source": [
    "print(r\"\\n이게뭐지 \\t \\\" \\\\\")\n",
    "print(\"\\n이게뭐지 \\t \\\" \\\\\")"
   ]
  },
  {
   "cell_type": "code",
   "execution_count": 66,
   "metadata": {},
   "outputs": [
    {
     "name": "stdout",
     "output_type": "stream",
     "text": [
      "300 200 100\n"
     ]
    }
   ],
   "source": [
    "print(\"{2:d} {1:d} {0:d}\".format(100,200,300)) #뒤집"
   ]
  },
  {
   "cell_type": "code",
   "execution_count": 76,
   "metadata": {},
   "outputs": [
    {
     "name": "stdout",
     "output_type": "stream",
     "text": [
      "abcd*3ㅇㅇ???\b\b\bㅁㅁㅁ\n",
      "\n",
      "\n",
      "슥슥슥슥슥슥\n"
     ]
    }
   ],
   "source": [
    "print(\"abcd*3ㅇㅇ???\"+\"\\b\"*3+\"ㅁㅁㅁ\"+\"\\n\"*3+\"슥슥\"*3)"
   ]
  },
  {
   "cell_type": "code",
   "execution_count": 1,
   "metadata": {},
   "outputs": [
    {
     "name": "stdout",
     "output_type": "stream",
     "text": [
      "양념감자\n",
      "핡\n",
      "양념감자\n",
      "핡\n",
      "양념감자\n",
      "핡\n",
      "양념감자\n",
      "핡\n",
      "양념감자\n",
      "핡\n",
      "양념감자\n",
      "핡\n",
      "양념감자\n",
      "핡\n",
      "양념감자\n",
      "핡\n",
      "양념감자\n",
      "핡\n",
      "양념감자\n",
      "핡\n",
      "\n"
     ]
    }
   ],
   "source": [
    "print(\"양념감자\\n핡\\n\"*10)"
   ]
  },
  {
   "cell_type": "code",
   "execution_count": null,
   "metadata": {
    "collapsed": true
   },
   "outputs": [],
   "source": []
  },
  {
   "cell_type": "code",
   "execution_count": 21,
   "metadata": {},
   "outputs": [
    {
     "name": "stdout",
     "output_type": "stream",
     "text": [
      "hell\n",
      "o wo\n",
      "rldrldrld\n"
     ]
    }
   ],
   "source": [
    "c= \"hello world\"\n",
    "c1= c[:4]; print(c1)\n",
    "c2= c[4:8]; print(c2)\n",
    "c3= c[8:]*3; print(c3)"
   ]
  },
  {
   "cell_type": "code",
   "execution_count": 22,
   "metadata": {},
   "outputs": [
    {
     "name": "stdout",
     "output_type": "stream",
     "text": [
      "True\n",
      "False\n",
      "False\n",
      "True\n"
     ]
    }
   ],
   "source": [
    "c= \"Good Will Hunting\"\n",
    "c1= 'Good' in c; print(c1)\n",
    "c2= 'Wis' in c; print(c2)\n",
    "c3= 'hunt' in c; print(c3)\n",
    "c4= 'hunt' in c.lower(); print(c4)"
   ]
  },
  {
   "cell_type": "code",
   "execution_count": 23,
   "metadata": {},
   "outputs": [
    {
     "name": "stdout",
     "output_type": "stream",
     "text": [
      "17\n"
     ]
    }
   ],
   "source": [
    "print(len(c))"
   ]
  },
  {
   "cell_type": "markdown",
   "metadata": {},
   "source": [
    "#### 문자열 메소드\n",
    ".startswith(), .endswith(), .find()"
   ]
  },
  {
   "cell_type": "code",
   "execution_count": 24,
   "metadata": {
    "collapsed": true
   },
   "outputs": [],
   "source": [
    "c= \"Snake is goint to the left wall of monitor\""
   ]
  },
  {
   "cell_type": "code",
   "execution_count": 25,
   "metadata": {
    "scrolled": true
   },
   "outputs": [
    {
     "name": "stdout",
     "output_type": "stream",
     "text": [
      "False\n",
      "False\n",
      "True\n"
     ]
    }
   ],
   "source": [
    "print(c.startswith('is'))\n",
    "print(c.startswith('snake'))\n",
    "print(c.startswith('Snake'))"
   ]
  },
  {
   "cell_type": "code",
   "execution_count": 26,
   "metadata": {},
   "outputs": [
    {
     "name": "stdout",
     "output_type": "stream",
     "text": [
      "True\n",
      "True\n"
     ]
    }
   ],
   "source": [
    "print(c.endswith('r'))\n",
    "print(c.endswith('')) ## ㄷㄷ ?\n",
    "# print(c.endswith(NULL))"
   ]
  },
  {
   "cell_type": "code",
   "execution_count": 27,
   "metadata": {},
   "outputs": [
    {
     "name": "stdout",
     "output_type": "stream",
     "text": [
      "-1\n",
      "9\n",
      "g\n"
     ]
    }
   ],
   "source": [
    "print(c.find('going')) # 못 찾으면 -1 return\n",
    "print(c.find('goint'))\n",
    "# print(c[9:10])\n",
    "c1= c.find('goint')\n",
    "print(c[c1:c1+1])"
   ]
  },
  {
   "cell_type": "markdown",
   "metadata": {},
   "source": [
    "###### .find() 는 앞에서부터 찾는다"
   ]
  },
  {
   "cell_type": "code",
   "execution_count": 28,
   "metadata": {
    "collapsed": true
   },
   "outputs": [],
   "source": [
    "def ffStr(findStr):\n",
    "    if -1 == c.find(findStr):\n",
    "        print(findStr+' 없엉')\n",
    "    else:\n",
    "        print(findStr+' 있음ㅇㅇ')"
   ]
  },
  {
   "cell_type": "code",
   "execution_count": 29,
   "metadata": {},
   "outputs": [
    {
     "name": "stdout",
     "output_type": "stream",
     "text": [
      "goint 있음ㅇㅇ\n",
      "going 없엉\n"
     ]
    }
   ],
   "source": [
    "findStr= 'goint'\n",
    "ffStr(findStr)\n",
    "findStr= 'going'\n",
    "ffStr(findStr)"
   ]
  },
  {
   "cell_type": "markdown",
   "metadata": {},
   "source": [
    "###### .rfind() 는 뒤에서부터 찾는다"
   ]
  },
  {
   "cell_type": "code",
   "execution_count": 30,
   "metadata": {
    "collapsed": true
   },
   "outputs": [],
   "source": [
    "c= \" is as is a\""
   ]
  },
  {
   "cell_type": "code",
   "execution_count": 31,
   "metadata": {},
   "outputs": [
    {
     "name": "stdout",
     "output_type": "stream",
     "text": [
      "6\n",
      " is a\n",
      "10\n",
      "11\n"
     ]
    }
   ],
   "source": [
    "c1= c.rfind(' is')\n",
    "print(c1) #뒤에 있는 is를 나타냄\n",
    "print(c[c1:])\n",
    "print(c.rfind('a'))\n",
    "print(c.rfind('')) #꼭 끝. 처음 아니고"
   ]
  },
  {
   "cell_type": "markdown",
   "metadata": {},
   "source": [
    "#### count, strip\n",
    "그게 포함되있는 개수, 공백제거"
   ]
  },
  {
   "cell_type": "code",
   "execution_count": 32,
   "metadata": {},
   "outputs": [
    {
     "name": "stdout",
     "output_type": "stream",
     "text": [
      "2\n",
      "1\n"
     ]
    }
   ],
   "source": [
    "c= '  Hello  '\n",
    "print(c.count('l'))\n",
    "print(c.count('ll'))"
   ]
  },
  {
   "cell_type": "code",
   "execution_count": 33,
   "metadata": {},
   "outputs": [
    {
     "data": {
      "text/plain": [
       "'Hello  '"
      ]
     },
     "execution_count": 33,
     "metadata": {},
     "output_type": "execute_result"
    }
   ],
   "source": [
    "c.lstrip()"
   ]
  },
  {
   "cell_type": "code",
   "execution_count": 34,
   "metadata": {},
   "outputs": [
    {
     "data": {
      "text/plain": [
       "'  Hello'"
      ]
     },
     "execution_count": 34,
     "metadata": {},
     "output_type": "execute_result"
    }
   ],
   "source": [
    "c.rstrip()"
   ]
  },
  {
   "cell_type": "code",
   "execution_count": 35,
   "metadata": {},
   "outputs": [
    {
     "data": {
      "text/plain": [
       "'Hello'"
      ]
     },
     "execution_count": 35,
     "metadata": {},
     "output_type": "execute_result"
    }
   ],
   "source": [
    "c.strip()"
   ]
  },
  {
   "cell_type": "markdown",
   "metadata": {},
   "source": [
    "#### .isalpha() .isnumeric() .isalnum()\n",
    "뭘로 이뤄져있는지"
   ]
  },
  {
   "cell_type": "code",
   "execution_count": 36,
   "metadata": {
    "collapsed": true
   },
   "outputs": [],
   "source": [
    "c= 'abcdABCD1234'"
   ]
  },
  {
   "cell_type": "code",
   "execution_count": 37,
   "metadata": {},
   "outputs": [
    {
     "name": "stdout",
     "output_type": "stream",
     "text": [
      "abcd\n",
      "True\n",
      "abcdABCD1234\n",
      "False\n"
     ]
    }
   ],
   "source": [
    "#알파벳(영문, 한글)로만 이뤄져있는지\n",
    "print(c[0:4])\n",
    "print(c[0:4].isalpha())\n",
    "print(c)\n",
    "print(c.isalpha())"
   ]
  },
  {
   "cell_type": "code",
   "execution_count": 38,
   "metadata": {},
   "outputs": [
    {
     "name": "stdout",
     "output_type": "stream",
     "text": [
      "1234\n",
      "True\n",
      "abcdABCD1234\n",
      "False\n"
     ]
    }
   ],
   "source": [
    "#숫자로만 이뤄져있는지\n",
    "print(c[-4:])\n",
    "print(c[-4:].isnumeric())\n",
    "print(c)\n",
    "print(c.isnumeric())"
   ]
  },
  {
   "cell_type": "code",
   "execution_count": 39,
   "metadata": {},
   "outputs": [
    {
     "name": "stdout",
     "output_type": "stream",
     "text": [
      "abcdABCD1234\n",
      "True\n",
      "abcd ABCD1234\n",
      "False\n"
     ]
    }
   ],
   "source": [
    "#알파뱃(영문,한글), 숫자로만 이뤄져있는지\n",
    "print(c)\n",
    "print(c.isalnum())\n",
    "print(c[:4]+' '+c[4:])\n",
    "print((c[:4]+' '+c[4:]).isalnum())"
   ]
  },
  {
   "cell_type": "markdown",
   "metadata": {},
   "source": [
    "#### .replace() .split() .upper()"
   ]
  },
  {
   "cell_type": "code",
   "execution_count": 40,
   "metadata": {
    "collapsed": true
   },
   "outputs": [],
   "source": [
    "c= \"hello, world\""
   ]
  },
  {
   "cell_type": "code",
   "execution_count": 41,
   "metadata": {},
   "outputs": [
    {
     "name": "stdout",
     "output_type": "stream",
     "text": [
      "hello, world\n",
      "hello, world\n"
     ]
    }
   ],
   "source": [
    "# regex 안 먹는듯\n",
    "c1= c.replace(\"\\\\s\",\"믕\")\n",
    "print(c)\n",
    "print(c1)"
   ]
  },
  {
   "cell_type": "code",
   "execution_count": 42,
   "metadata": {},
   "outputs": [
    {
     "data": {
      "text/plain": [
       "'hell로 어서 world'"
      ]
     },
     "execution_count": 42,
     "metadata": {},
     "output_type": "execute_result"
    }
   ],
   "source": [
    "c2= c.replace('o,','로 어서'); c2"
   ]
  },
  {
   "cell_type": "code",
   "execution_count": 43,
   "metadata": {},
   "outputs": [
    {
     "data": {
      "text/plain": [
       "'HELLO'"
      ]
     },
     "execution_count": 43,
     "metadata": {},
     "output_type": "execute_result"
    }
   ],
   "source": [
    "c3= c[:5].upper(); c3"
   ]
  },
  {
   "cell_type": "code",
   "execution_count": 44,
   "metadata": {},
   "outputs": [
    {
     "data": {
      "text/plain": [
       "'HEllo'"
      ]
     },
     "execution_count": 44,
     "metadata": {},
     "output_type": "execute_result"
    }
   ],
   "source": [
    "c3= c3[:2]+c3[2:].lower(); c3"
   ]
  },
  {
   "cell_type": "markdown",
   "metadata": {},
   "source": [
    "#### .format()"
   ]
  },
  {
   "cell_type": "code",
   "execution_count": 45,
   "metadata": {},
   "outputs": [
    {
     "data": {
      "text/plain": [
       "'apple is fruit. it is delicious'"
      ]
     },
     "execution_count": 45,
     "metadata": {},
     "output_type": "execute_result"
    }
   ],
   "source": [
    "c= \"apple is {0}. it is {favor}\".format('fruit',favor='delicious'); c"
   ]
  },
  {
   "cell_type": "code",
   "execution_count": null,
   "metadata": {
    "collapsed": true
   },
   "outputs": [],
   "source": []
  },
  {
   "cell_type": "markdown",
   "metadata": {},
   "source": [
    "### input()\n",
    "임의값 입력하기. return이 str_문자열. 숫자 연산하려면 강제 형변환!"
   ]
  },
  {
   "cell_type": "code",
   "execution_count": 46,
   "metadata": {},
   "outputs": [
    {
     "name": "stdout",
     "output_type": "stream",
     "text": [
      "숫자하나 입력해봐: 34\n",
      "<class 'str'>\n"
     ]
    }
   ],
   "source": [
    "# in1= input(\"숫자하나 입력해봐: \")\n",
    "# print(type(in1))"
   ]
  },
  {
   "cell_type": "markdown",
   "metadata": {},
   "source": [
    "##### 예제: 거스름돈 계산"
   ]
  },
  {
   "cell_type": "code",
   "execution_count": 47,
   "metadata": {
    "collapsed": true
   },
   "outputs": [],
   "source": [
    "def whatChng(price, pay):\n",
    "    changes= int(pay)- int(price)\n",
    "    if 0< changes:\n",
    "        print(\"잔 돈: {0}\".format(changes))\n",
    "    elif 0> changes:\n",
    "        print(\"돈 더내렴: {0}\".format(-changes))\n",
    "    else:\n",
    "        print(\"딱 맞아\")"
   ]
  },
  {
   "cell_type": "code",
   "execution_count": 49,
   "metadata": {
    "collapsed": true
   },
   "outputs": [],
   "source": [
    "# while 0< int(pay):\n",
    "#     price= input(\"상품가: \")\n",
    "#     pay= input(\"낸 돈: \")\n",
    "#     whatChng(price, pay)"
   ]
  },
  {
   "cell_type": "code",
   "execution_count": 50,
   "metadata": {},
   "outputs": [
    {
     "data": {
      "text/plain": [
       "1"
      ]
     },
     "execution_count": 50,
     "metadata": {},
     "output_type": "execute_result"
    }
   ],
   "source": [
    "9//2\n",
    "9%2"
   ]
  },
  {
   "cell_type": "markdown",
   "metadata": {},
   "source": [
    "예제: 지폐로 교환할돈은?"
   ]
  },
  {
   "cell_type": "code",
   "execution_count": 61,
   "metadata": {},
   "outputs": [
    {
     "name": "stdout",
     "output_type": "stream",
     "text": [
      "지폐로 교환할 돈은 얼마? 12345\n",
      "5만원짜리:    0장\n",
      "1만원짜리:    1장\n",
      "5천원짜리:    0장\n",
      "1천원짜리:    2장\n",
      "지폐 미만:  345원\n"
     ]
    }
   ],
   "source": [
    "money= input(\"지폐로 교환할 돈은 얼마? \")\n",
    "int_money= int(money)\n",
    "man5= int_money//50000\n",
    "man1= (int_money%50000)//10000\n",
    "cheon5= (int_money%10000)//5000\n",
    "cheon1= (int_money%5000)//1000\n",
    "changes= int_money%1000\n",
    "\n",
    "print(\"5만원짜리: %4d장\" % (man5))\n",
    "print(\"1만원짜리: %4d장\" % (man1))\n",
    "print(\"5천원짜리: %4d장\" % cheon5)\n",
    "print(\"1천원짜리: %4d장\" % cheon1)\n",
    "print(\"지폐 미만: %4d원\" % changes)"
   ]
  },
  {
   "cell_type": "code",
   "execution_count": 53,
   "metadata": {
    "scrolled": true
   },
   "outputs": [
    {
     "name": "stdout",
     "output_type": "stream",
     "text": [
      "50\n",
      "50\n",
      "-1\n"
     ]
    }
   ],
   "source": [
    "money= \"50\"\n",
    "int1_money= int(money); print(int1_money)\n",
    "int2_money= int(int1_money); print(int2_money)\n",
    "print(money.find('-'))"
   ]
  },
  {
   "cell_type": "code",
   "execution_count": 54,
   "metadata": {
    "collapsed": true
   },
   "outputs": [],
   "source": [
    "def changes_paper(input_money):\n",
    "    money= int(input_money)\n",
    "    man5= money//50000\n",
    "    man1= (money%50000)//10000\n",
    "    cheon5= (money%10000)//5000\n",
    "    cheon1= (money%5000)//1000\n",
    "    changes= money%1000\n",
    "    \n",
    "    print(\"5만원짜리: %4d장\" % man5)\n",
    "    print(\"1만원짜리: %4d장\" % man1)\n",
    "    print(\"5천원짜리: %4d장\" % cheon5)\n",
    "    print(\"1천원짜리: %4d장\" % cheon1)\n",
    "    print(\"지폐 미만: %4d원\" % changes)"
   ]
  },
  {
   "cell_type": "code",
   "execution_count": 57,
   "metadata": {},
   "outputs": [
    {
     "name": "stdout",
     "output_type": "stream",
     "text": [
      "지폐로 교환할 돈은 얼마? 없엉\n",
      "니네돈은 문자냐\n",
      "지폐로 교환할 돈은 얼마? 37400\n",
      "5만원짜리:    0장\n",
      "1만원짜리:    3장\n",
      "5천원짜리:    1장\n",
      "1천원짜리:    2장\n",
      "지폐 미만:  400원\n",
      "지폐로 교환할 돈은 얼마? -1\n"
     ]
    }
   ],
   "source": [
    "while 1==1:\n",
    "    money= input(\"지폐로 교환할 돈은 얼마? \")\n",
    "    if -1 != money.find('-'):\n",
    "        break\n",
    "    elif money.isnumeric():\n",
    "        changes_paper(money)\n",
    "    else:\n",
    "        print(\"니네돈은 문자냐\")"
   ]
  },
  {
   "cell_type": "code",
   "execution_count": null,
   "metadata": {
    "collapsed": true
   },
   "outputs": [],
   "source": []
  },
  {
   "cell_type": "code",
   "execution_count": 60,
   "metadata": {
    "scrolled": true
   },
   "outputs": [
    {
     "name": "stdout",
     "output_type": "stream",
     "text": [
      "첨부터감싸면 되잖1df3\n"
     ]
    },
    {
     "ename": "ValueError",
     "evalue": "invalid literal for int() with base 10: '1df3'",
     "output_type": "error",
     "traceback": [
      "\u001b[1;31m---------------------------------------------------------------------------\u001b[0m",
      "\u001b[1;31mValueError\u001b[0m                                Traceback (most recent call last)",
      "\u001b[1;32m<ipython-input-60-2ebc58979939>\u001b[0m in \u001b[0;36m<module>\u001b[1;34m()\u001b[0m\n\u001b[0;32m      1\u001b[0m \u001b[1;31m#그냥\u001b[0m\u001b[1;33m\u001b[0m\u001b[1;33m\u001b[0m\u001b[0m\n\u001b[1;32m----> 2\u001b[1;33m \u001b[0mnum1\u001b[0m\u001b[1;33m=\u001b[0m \u001b[0mint\u001b[0m\u001b[1;33m(\u001b[0m\u001b[0minput\u001b[0m\u001b[1;33m(\u001b[0m\u001b[1;34m\"첨부터감싸면 되잖\"\u001b[0m\u001b[1;33m)\u001b[0m\u001b[1;33m)\u001b[0m\u001b[1;33m\u001b[0m\u001b[0m\n\u001b[0m\u001b[0;32m      3\u001b[0m \u001b[0mprint\u001b[0m\u001b[1;33m(\u001b[0m\u001b[0mnum1\u001b[0m\u001b[1;33m)\u001b[0m\u001b[1;33m\u001b[0m\u001b[0m\n",
      "\u001b[1;31mValueError\u001b[0m: invalid literal for int() with base 10: '1df3'"
     ]
    }
   ],
   "source": [
    "# #문자넣으면 터짐\n",
    "#input(\"뭐시기\") 보단, print(\"뭐시기\\\\\") 가 낫다. input안에는 escape 문자가 안 들어가서\n",
    "# num1= int(input(\"첨부터감싸면 되잖\"))\n",
    "# print(num1)"
   ]
  },
  {
   "cell_type": "code",
   "execution_count": null,
   "metadata": {
    "collapsed": true
   },
   "outputs": [],
   "source": []
  },
  {
   "cell_type": "markdown",
   "metadata": {},
   "source": [
    "### if\n",
    "180221"
   ]
  },
  {
   "cell_type": "code",
   "execution_count": 8,
   "metadata": {},
   "outputs": [
    {
     "name": "stdout",
     "output_type": "stream",
     "text": [
      "oh no\n"
     ]
    }
   ],
   "source": [
    "a= 4;\n",
    "if 5==a:\n",
    "    print(\"에이 몇 {0}\".format(a))\n",
    "else:\n",
    "    print(\"oh no\")"
   ]
  },
  {
   "cell_type": "markdown",
   "metadata": {},
   "source": [
    "##### 학점 출력"
   ]
  },
  {
   "cell_type": "code",
   "execution_count": 32,
   "metadata": {
    "scrolled": true
   },
   "outputs": [
    {
     "name": "stdout",
     "output_type": "stream",
     "text": [
      "점수를 입력하세요: \n",
      "101\n",
      "100밑으로 입력점\n",
      "합격\n"
     ]
    }
   ],
   "source": [
    "print(\"점수를 입력하세요: \")\n",
    "score= input()\n",
    "\n",
    "if score.isnumeric():\n",
    "    score= int(score)\n",
    "else:\n",
    "    print(\"숫자로만 입력해줘\")\n",
    "\n",
    "if 100< score:\n",
    "    print(\"100밑으로 입력점\")\n",
    "elif 95<= score:\n",
    "    print(\"A+\")\n",
    "elif 90<= score:\n",
    "    print(\"A\")\n",
    "elif 85<= score:\n",
    "    print(\"B+\")\n",
    "elif 80<= score:\n",
    "    print(\"B\")\n",
    "elif 75<= score:\n",
    "    print(\"C+ 재수강가능\")\n",
    "elif 70<= score:\n",
    "    print(\"C0 재수강ㅊㅊ\")\n",
    "elif 65<= score:\n",
    "    print(\"D+ 교수님이 너 싫어함\")\n",
    "elif 60<= score:\n",
    "    print(\"D0 교수님이 너진짜 싫어함 ㅇㅇ\")\n",
    "else:\n",
    "    print(\"F\")\n",
    "\n",
    "# 삼항 연산자: T일때 if 조건 else F일때\n",
    "res= '합격' if 70<= score else '불합격'; print(res)"
   ]
  },
  {
   "cell_type": "code",
   "execution_count": null,
   "metadata": {
    "collapsed": true
   },
   "outputs": [],
   "source": []
  },
  {
   "cell_type": "code",
   "execution_count": 31,
   "metadata": {},
   "outputs": [
    {
     "name": "stdout",
     "output_type": "stream",
     "text": [
      "100보다 작음\n",
      "if랑 무관\n"
     ]
    }
   ],
   "source": [
    "a= 80\n",
    "if a< 100:\n",
    "    print(\"100보다 작음\")\n",
    "    pass\n",
    "print(\"if랑 무관\")"
   ]
  },
  {
   "cell_type": "code",
   "execution_count": null,
   "metadata": {
    "collapsed": true
   },
   "outputs": [],
   "source": []
  },
  {
   "cell_type": "code",
   "execution_count": 25,
   "metadata": {},
   "outputs": [
    {
     "name": "stdout",
     "output_type": "stream",
     "text": [
      "['사과', '배']\n"
     ]
    }
   ],
   "source": [
    "fruit= ['사과','배']; print(fruit)"
   ]
  },
  {
   "cell_type": "code",
   "execution_count": 26,
   "metadata": {},
   "outputs": [
    {
     "data": {
      "text/plain": [
       "['사과', '배', '귤']"
      ]
     },
     "execution_count": 26,
     "metadata": {},
     "output_type": "execute_result"
    }
   ],
   "source": [
    "fruit+= '귤'; fruit"
   ]
  },
  {
   "cell_type": "code",
   "execution_count": 27,
   "metadata": {},
   "outputs": [
    {
     "data": {
      "text/plain": [
       "['사과', '배', '귤', '포도', '토끼']"
      ]
     },
     "execution_count": 27,
     "metadata": {},
     "output_type": "execute_result"
    }
   ],
   "source": [
    "fruit+= ['포도','토끼']; fruit"
   ]
  },
  {
   "cell_type": "code",
   "execution_count": 28,
   "metadata": {},
   "outputs": [
    {
     "data": {
      "text/plain": [
       "'토끼'"
      ]
     },
     "execution_count": 28,
     "metadata": {},
     "output_type": "execute_result"
    }
   ],
   "source": [
    "fruit.pop()"
   ]
  },
  {
   "cell_type": "code",
   "execution_count": null,
   "metadata": {
    "collapsed": true
   },
   "outputs": [],
   "source": []
  },
  {
   "cell_type": "code",
   "execution_count": null,
   "metadata": {
    "collapsed": true
   },
   "outputs": [],
   "source": []
  },
  {
   "cell_type": "markdown",
   "metadata": {},
   "source": [
    "#### for, range"
   ]
  },
  {
   "cell_type": "code",
   "execution_count": 35,
   "metadata": {
    "collapsed": true
   },
   "outputs": [],
   "source": [
    "import random"
   ]
  },
  {
   "cell_type": "code",
   "execution_count": 38,
   "metadata": {},
   "outputs": [
    {
     "data": {
      "text/plain": [
       "[9, 3, 0, 1, 3, 6, 3, 9, 1, 1]"
      ]
     },
     "execution_count": 38,
     "metadata": {},
     "output_type": "execute_result"
    }
   ],
   "source": [
    "numbers= []\n",
    "for num in range(0,10):\n",
    "    numbers.append(random.randrange(0,10))\n",
    "    #     numbers+= random.randrange(0,10)\n",
    "numbers"
   ]
  },
  {
   "cell_type": "code",
   "execution_count": 40,
   "metadata": {},
   "outputs": [
    {
     "data": {
      "text/plain": [
       "[0, 1, 0, 1, 1, 3, 5, 1, 9, 5]"
      ]
     },
     "execution_count": 40,
     "metadata": {},
     "output_type": "execute_result"
    }
   ],
   "source": [
    "[random.randrange(0,10) for num1 in range(0,10)]"
   ]
  },
  {
   "cell_type": "code",
   "execution_count": null,
   "metadata": {
    "collapsed": true
   },
   "outputs": [],
   "source": []
  },
  {
   "cell_type": "code",
   "execution_count": 42,
   "metadata": {},
   "outputs": [
    {
     "data": {
      "text/plain": [
       "[0, 1, 2, 3, 4, 5, 6, 7, 8, 9]"
      ]
     },
     "execution_count": 42,
     "metadata": {},
     "output_type": "execute_result"
    }
   ],
   "source": [
    "[num2 for num2 in range(0,10)]"
   ]
  },
  {
   "cell_type": "code",
   "execution_count": 43,
   "metadata": {},
   "outputs": [
    {
     "data": {
      "text/plain": [
       "[0, 1, 2, 3, 4, 5, 6, 7, 8]"
      ]
     },
     "execution_count": 43,
     "metadata": {},
     "output_type": "execute_result"
    }
   ],
   "source": [
    "[num2 for num2 in range(0,9)]"
   ]
  },
  {
   "cell_type": "code",
   "execution_count": 44,
   "metadata": {},
   "outputs": [
    {
     "name": "stdout",
     "output_type": "stream",
     "text": [
      "[1, 2, 3, 4, 5]\n",
      "[6, 7, 8]\n"
     ]
    }
   ],
   "source": [
    "st1= [1,2,3,4,5,6,7,8,9]\n",
    "print(st1[0:5])\n",
    "print(st1[5:8])"
   ]
  },
  {
   "cell_type": "code",
   "execution_count": null,
   "metadata": {
    "collapsed": true
   },
   "outputs": [],
   "source": []
  },
  {
   "cell_type": "markdown",
   "metadata": {},
   "source": [
    "#### eval()\n",
    "evil"
   ]
  },
  {
   "cell_type": "code",
   "execution_count": 46,
   "metadata": {},
   "outputs": [
    {
     "data": {
      "text/plain": [
       "'6'"
      ]
     },
     "execution_count": 46,
     "metadata": {},
     "output_type": "execute_result"
    }
   ],
   "source": [
    "a= str(1+2+3); a"
   ]
  },
  {
   "cell_type": "code",
   "execution_count": 47,
   "metadata": {},
   "outputs": [
    {
     "data": {
      "text/plain": [
       "6"
      ]
     },
     "execution_count": 47,
     "metadata": {},
     "output_type": "execute_result"
    }
   ],
   "source": [
    "eval(a)"
   ]
  },
  {
   "cell_type": "code",
   "execution_count": null,
   "metadata": {
    "collapsed": true
   },
   "outputs": [],
   "source": []
  },
  {
   "cell_type": "markdown",
   "metadata": {},
   "source": [
    "#### 종합계산기\n",
    "1. 입력한 수식 계산 2. 두수 사이 합계"
   ]
  },
  {
   "cell_type": "code",
   "execution_count": 93,
   "metadata": {},
   "outputs": [
    {
     "name": "stdout",
     "output_type": "stream",
     "text": [
      "1.입력한 수식 계산\n",
      "2. 두 수 사이 합계\n",
      "\n",
      "1\n",
      "***수식을 입력하세요:\n",
      "12ㅁㄴㅇㄹ\n",
      "수식을 바르게 입력해주세요\n"
     ]
    }
   ],
   "source": [
    "print(\"1.입력한 수식 계산\\n2. 두 수 사이 합계\\n\")\n",
    "user_choice= input()\n",
    "\n",
    "if -1!= user_choice.find('1'):\n",
    "    print(\"*\"*3+\"수식을 입력하세요:\")\n",
    "    user_input= input()\n",
    "    \n",
    "    if -1!= user_input.find('r'):\n",
    "        print(\"^0^\")\n",
    "    elif user_input.isalpha() or user_input.isalnum():\n",
    "        print(\"수식을 바르게 입력해주세요\")\n",
    "    else:    \n",
    "        res= eval(user_input)\n",
    "        print(\"{0:10} 결과는 {1:5} 입니다\".format(user_input, res))\n",
    "elif -1!= user_choice.find('2'):\n",
    "    print(\"정수 2개 입력이염: \")\n",
    "    user_val1= input()\n",
    "    user_val2= input()\n",
    "    \n",
    "    if user_val1 > user_val2:\n",
    "        user_val1, user_val2= user_val2, user_val1\n",
    "    #print(\"%s %s\" % (user_val1, user_val2))\n",
    "    \n",
    "    user_val1= int(user_val1)\n",
    "    user_val2= int(user_val2)\n",
    "    #print(\"%d %d\" % (user_val1, user_val2))\n",
    "    \n",
    "    sum1= 0\n",
    "    for val in range(user_val1+1, user_val2):\n",
    "        sum1+= val\n",
    "    \n",
    "    print(\"{0}, {1} 사이값들 합계: {2}\".format(user_val1, user_val2, sum1))"
   ]
  },
  {
   "cell_type": "code",
   "execution_count": null,
   "metadata": {
    "collapsed": true
   },
   "outputs": [],
   "source": []
  },
  {
   "cell_type": "code",
   "execution_count": 85,
   "metadata": {},
   "outputs": [
    {
     "name": "stdout",
     "output_type": "stream",
     "text": [
      "['5', '4*2/1-3']\n",
      "['4', '2/1-3']\n"
     ]
    }
   ],
   "source": [
    "# C에서 eval없이 계산기 가능했었지. 근데 비추\n",
    "# a= '5+4*2/1-3'\n",
    "# a1= a.split('+'); print(a1)\n",
    "# a2= a1[1].split('*'); print(a2)\n",
    "# #.split('/').split('-')"
   ]
  },
  {
   "cell_type": "code",
   "execution_count": null,
   "metadata": {
    "collapsed": true
   },
   "outputs": [],
   "source": []
  },
  {
   "cell_type": "code",
   "execution_count": 150,
   "metadata": {},
   "outputs": [
    {
     "name": "stdout",
     "output_type": "stream",
     "text": [
      "1에서 10까지 합계: 55\n"
     ]
    }
   ],
   "source": [
    "sum1= 0\n",
    "for i in range(1,10+1):\n",
    "    sum1+= i\n",
    "print(\"1에서 10까지 합계: {0}\".format(sum1))"
   ]
  },
  {
   "cell_type": "code",
   "execution_count": null,
   "metadata": {
    "collapsed": true
   },
   "outputs": [],
   "source": []
  },
  {
   "cell_type": "markdown",
   "metadata": {},
   "source": [
    "#### 구구단 수평출력"
   ]
  },
  {
   "cell_type": "code",
   "execution_count": 106,
   "metadata": {},
   "outputs": [
    {
     "data": {
      "text/plain": [
       "[1, 3, 5, 7, 9]"
      ]
     },
     "execution_count": 106,
     "metadata": {},
     "output_type": "execute_result"
    }
   ],
   "source": [
    "[a for a in range(1,10,2)]"
   ]
  },
  {
   "cell_type": "code",
   "execution_count": 115,
   "metadata": {},
   "outputs": [
    {
     "data": {
      "text/plain": [
       "[2, 1, 0, -1, -2]"
      ]
     },
     "execution_count": 115,
     "metadata": {},
     "output_type": "execute_result"
    }
   ],
   "source": [
    "[a for a in range(2,-3,-1)]"
   ]
  },
  {
   "cell_type": "code",
   "execution_count": 96,
   "metadata": {},
   "outputs": [
    {
     "data": {
      "text/plain": [
       "[1, 2, 3, 4, 5, 6, 7, 8, 9]"
      ]
     },
     "execution_count": 96,
     "metadata": {},
     "output_type": "execute_result"
    }
   ],
   "source": [
    "[1*_19 for _19 in range(1,10)]"
   ]
  },
  {
   "cell_type": "code",
   "execution_count": null,
   "metadata": {
    "collapsed": true
   },
   "outputs": [],
   "source": []
  },
  {
   "cell_type": "code",
   "execution_count": 119,
   "metadata": {},
   "outputs": [
    {
     "name": "stdout",
     "output_type": "stream",
     "text": [
      "12345\n",
      "\n",
      "1\n",
      "2\n",
      "3\n",
      "4\n",
      "5\n"
     ]
    }
   ],
   "source": [
    "# print 수평 출력\n",
    "for i in range(1,6,1):\n",
    "    print(\"%d\" %i, end= \"\" )\n",
    "print(\"\\n\")\n",
    "for i in range(1,6,1):\n",
    "    print(\"%d\" %i, end= \"\\n\" )"
   ]
  },
  {
   "cell_type": "code",
   "execution_count": 120,
   "metadata": {},
   "outputs": [
    {
     "name": "stdout",
     "output_type": "stream",
     "text": [
      " # 2단 #  # 3단 #  # 4단 #  # 5단 #  # 6단 #  # 7단 #  # 8단 #  # 9단 # \n"
     ]
    }
   ],
   "source": [
    "# print 옵션 end를 몰랐을 때\n",
    "prn99= ''\n",
    "for i in range(2,10):\n",
    "    prn99= prn99+\" # \"+str(i)+\"단 # \"\n",
    "    \n",
    "print(prn99)"
   ]
  },
  {
   "cell_type": "code",
   "execution_count": 121,
   "metadata": {},
   "outputs": [
    {
     "name": "stdout",
     "output_type": "stream",
     "text": [
      " # 2단 #  # 3단 #  # 4단 #  # 5단 #  # 6단 #  # 7단 #  # 8단 #  # 9단 # "
     ]
    }
   ],
   "source": [
    "for i in range(2,10):\n",
    "    print(\" # %d단 # \"%i, end=\"\")"
   ]
  },
  {
   "cell_type": "code",
   "execution_count": null,
   "metadata": {
    "collapsed": true
   },
   "outputs": [],
   "source": []
  },
  {
   "cell_type": "code",
   "execution_count": 131,
   "metadata": {},
   "outputs": [
    {
     "name": "stdout",
     "output_type": "stream",
     "text": [
      "#  2단  #  #  3단  #  #  4단  #  #  5단  #  #  6단  #  #  7단  #  #  8단  #  #  9단  #  \n",
      "\n",
      "2X  1=  2  3X  1=  3  4X  1=  4  5X  1=  5  6X  1=  6  7X  1=  7  8X  1=  8  9X  1=  9  \n",
      "\n",
      "2X  2=  4  3X  2=  6  4X  2=  8  5X  2= 10  6X  2= 12  7X  2= 14  8X  2= 16  9X  2= 18  \n",
      "\n",
      "2X  3=  6  3X  3=  9  4X  3= 12  5X  3= 15  6X  3= 18  7X  3= 21  8X  3= 24  9X  3= 27  \n",
      "\n",
      "2X  4=  8  3X  4= 12  4X  4= 16  5X  4= 20  6X  4= 24  7X  4= 28  8X  4= 32  9X  4= 36  \n",
      "\n",
      "2X  5= 10  3X  5= 15  4X  5= 20  5X  5= 25  6X  5= 30  7X  5= 35  8X  5= 40  9X  5= 45  \n",
      "\n",
      "2X  6= 12  3X  6= 18  4X  6= 24  5X  6= 30  6X  6= 36  7X  6= 42  8X  6= 48  9X  6= 54  \n",
      "\n",
      "2X  7= 14  3X  7= 21  4X  7= 28  5X  7= 35  6X  7= 42  7X  7= 49  8X  7= 56  9X  7= 63  \n",
      "\n",
      "2X  8= 16  3X  8= 24  4X  8= 32  5X  8= 40  6X  8= 48  7X  8= 56  8X  8= 64  9X  8= 72  \n",
      "\n",
      "2X  9= 18  3X  9= 27  4X  9= 36  5X  9= 45  6X  9= 54  7X  9= 63  8X  9= 72  9X  9= 81  \n",
      "\n"
     ]
    }
   ],
   "source": [
    "n= 9\n",
    "for title in range(2,10):\n",
    "    print(\"#%3d단  #  \"%title, end=\"\")\n",
    "\n",
    "print(\"\\n\")\n",
    "for i in range(1, n+1):\n",
    "    for j in range(2, 10):\n",
    "        print(\"{0}X{1:3}={2:3}  \".format(j,i,j*i), end= \"\")\n",
    "    if 9==j:\n",
    "        print(\"\\n\")"
   ]
  },
  {
   "cell_type": "code",
   "execution_count": null,
   "metadata": {
    "collapsed": true
   },
   "outputs": [],
   "source": []
  },
  {
   "cell_type": "code",
   "execution_count": null,
   "metadata": {
    "collapsed": true
   },
   "outputs": [],
   "source": []
  },
  {
   "cell_type": "markdown",
   "metadata": {},
   "source": [
    "#### 다이아 출력"
   ]
  },
  {
   "cell_type": "code",
   "execution_count": 133,
   "metadata": {},
   "outputs": [
    {
     "name": "stdout",
     "output_type": "stream",
     "text": [
      "    *\n"
     ]
    }
   ],
   "source": [
    "# print('%'+str(i)+'s' % '*' ) 응 안 돼\n",
    "print('%5s' % '*')"
   ]
  },
  {
   "cell_type": "code",
   "execution_count": 167,
   "metadata": {},
   "outputs": [
    {
     "name": "stdout",
     "output_type": "stream",
     "text": [
      "    \n",
      "   \n",
      "  *\n",
      " ***\n",
      "*****\n",
      " ***\n",
      "  *\n",
      "   \n",
      "    \n"
     ]
    }
   ],
   "source": [
    "n= 5\n",
    "for i in range(n-1,-n,-1):\n",
    "    print(' '*abs(i)+'*'*(n-abs(i)*2), end= \"\")\n",
    "    print(\"\\n\", end= \"\")"
   ]
  },
  {
   "cell_type": "code",
   "execution_count": 144,
   "metadata": {},
   "outputs": [
    {
     "data": {
      "text/plain": [
       "[4, 2, 0, -2, -4]"
      ]
     },
     "execution_count": 144,
     "metadata": {},
     "output_type": "execute_result"
    }
   ],
   "source": [
    "[i for i in range(4,-4-1,-2)]"
   ]
  }
 ],
 "metadata": {
  "kernelspec": {
   "display_name": "Python 3",
   "language": "python",
   "name": "python3"
  },
  "language_info": {
   "codemirror_mode": {
    "name": "ipython",
    "version": 3
   },
   "file_extension": ".py",
   "mimetype": "text/x-python",
   "name": "python",
   "nbconvert_exporter": "python",
   "pygments_lexer": "ipython3",
   "version": "3.6.3"
  }
 },
 "nbformat": 4,
 "nbformat_minor": 2
}
