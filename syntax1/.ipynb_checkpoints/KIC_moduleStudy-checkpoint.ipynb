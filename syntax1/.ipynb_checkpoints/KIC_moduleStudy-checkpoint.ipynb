{
 "cells": [
  {
   "cell_type": "markdown",
   "metadata": {},
   "source": [
    "##### module 자체에 에러가 있으면 import 불가"
   ]
  },
  {
   "cell_type": "code",
   "execution_count": 10,
   "metadata": {},
   "outputs": [
    {
     "data": {
      "text/plain": [
       "'E:\\\\github'"
      ]
     },
     "execution_count": 10,
     "metadata": {},
     "output_type": "execute_result"
    }
   ],
   "source": [
    "%pwd"
   ]
  },
  {
   "cell_type": "code",
   "execution_count": 8,
   "metadata": {
    "scrolled": true
   },
   "outputs": [
    {
     "name": "stdout",
     "output_type": "stream",
     "text": [
      "\n",
      "C:\\Users\\kitcoop\\Anaconda3\\python36.zip\n",
      "C:\\Users\\kitcoop\\Anaconda3\\DLLs\n",
      "C:\\Users\\kitcoop\\Anaconda3\\lib\n",
      "C:\\Users\\kitcoop\\Anaconda3\n",
      "C:\\Users\\kitcoop\\Anaconda3\\lib\\site-packages\n",
      "C:\\Users\\kitcoop\\Anaconda3\\lib\\site-packages\\Babel-2.5.0-py3.6.egg\n",
      "C:\\Users\\kitcoop\\Anaconda3\\lib\\site-packages\\win32\n",
      "C:\\Users\\kitcoop\\Anaconda3\\lib\\site-packages\\win32\\lib\n",
      "C:\\Users\\kitcoop\\Anaconda3\\lib\\site-packages\\Pythonwin\n",
      "C:\\Users\\kitcoop\\Anaconda3\\lib\\site-packages\\IPython\\extensions\n",
      "C:\\Users\\kitcoop\\.ipython\n"
     ]
    }
   ],
   "source": [
    "# 서드파티 모듈 실행할때, import로 안 불러와지면 경로 어디어디잡혀있는지 확인하기\n",
    "import sys\n",
    "for sp in sys.path:\n",
    "    print(sp)"
   ]
  },
  {
   "cell_type": "markdown",
   "metadata": {},
   "source": [
    "#### 내장모듈\n",
    "sys.builtin_module_names"
   ]
  },
  {
   "cell_type": "code",
   "execution_count": 9,
   "metadata": {},
   "outputs": [
    {
     "name": "stdout",
     "output_type": "stream",
     "text": [
      "('_ast', '_bisect', '_blake2', '_codecs', '_codecs_cn', '_codecs_hk', '_codecs_iso2022', '_codecs_jp', '_codecs_kr', '_codecs_tw', '_collections', '_csv', '_datetime', '_findvs', '_functools', '_heapq', '_imp', '_io', '_json', '_locale', '_lsprof', '_md5', '_multibytecodec', '_opcode', '_operator', '_pickle', '_random', '_sha1', '_sha256', '_sha3', '_sha512', '_signal', '_sre', '_stat', '_string', '_struct', '_symtable', '_thread', '_tracemalloc', '_warnings', '_weakref', '_winapi', 'array', 'atexit', 'audioop', 'binascii', 'builtins', 'cmath', 'errno', 'faulthandler', 'gc', 'itertools', 'marshal', 'math', 'mmap', 'msvcrt', 'nt', 'parser', 'sys', 'time', 'winreg', 'xxsubtype', 'zipimport', 'zlib')\n"
     ]
    }
   ],
   "source": [
    "import sys\n",
    "print(sys.builtin_module_names)"
   ]
  },
  {
   "cell_type": "code",
   "execution_count": 13,
   "metadata": {},
   "outputs": [
    {
     "data": {
      "text/plain": [
       "['ArithmeticError',\n",
       " 'AssertionError',\n",
       " 'AttributeError',\n",
       " 'BaseException',\n",
       " 'BlockingIOError',\n",
       " 'BrokenPipeError',\n",
       " 'BufferError',\n",
       " 'BytesWarning',\n",
       " 'ChildProcessError',\n",
       " 'ConnectionAbortedError',\n",
       " 'ConnectionError',\n",
       " 'ConnectionRefusedError',\n",
       " 'ConnectionResetError',\n",
       " 'DeprecationWarning',\n",
       " 'EOFError',\n",
       " 'Ellipsis',\n",
       " 'EnvironmentError',\n",
       " 'Exception',\n",
       " 'False',\n",
       " 'FileExistsError',\n",
       " 'FileNotFoundError',\n",
       " 'FloatingPointError',\n",
       " 'FutureWarning',\n",
       " 'GeneratorExit',\n",
       " 'IOError',\n",
       " 'ImportError',\n",
       " 'ImportWarning',\n",
       " 'IndentationError',\n",
       " 'IndexError',\n",
       " 'InterruptedError',\n",
       " 'IsADirectoryError',\n",
       " 'KeyError',\n",
       " 'KeyboardInterrupt',\n",
       " 'LookupError',\n",
       " 'MemoryError',\n",
       " 'ModuleNotFoundError',\n",
       " 'NameError',\n",
       " 'None',\n",
       " 'NotADirectoryError',\n",
       " 'NotImplemented',\n",
       " 'NotImplementedError',\n",
       " 'OSError',\n",
       " 'OverflowError',\n",
       " 'PendingDeprecationWarning',\n",
       " 'PermissionError',\n",
       " 'ProcessLookupError',\n",
       " 'RecursionError',\n",
       " 'ReferenceError',\n",
       " 'ResourceWarning',\n",
       " 'RuntimeError',\n",
       " 'RuntimeWarning',\n",
       " 'StopAsyncIteration',\n",
       " 'StopIteration',\n",
       " 'SyntaxError',\n",
       " 'SyntaxWarning',\n",
       " 'SystemError',\n",
       " 'SystemExit',\n",
       " 'TabError',\n",
       " 'TimeoutError',\n",
       " 'True',\n",
       " 'TypeError',\n",
       " 'UnboundLocalError',\n",
       " 'UnicodeDecodeError',\n",
       " 'UnicodeEncodeError',\n",
       " 'UnicodeError',\n",
       " 'UnicodeTranslateError',\n",
       " 'UnicodeWarning',\n",
       " 'UserWarning',\n",
       " 'ValueError',\n",
       " 'Warning',\n",
       " 'WindowsError',\n",
       " 'ZeroDivisionError',\n",
       " '__IPYTHON__',\n",
       " '__build_class__',\n",
       " '__debug__',\n",
       " '__doc__',\n",
       " '__import__',\n",
       " '__loader__',\n",
       " '__name__',\n",
       " '__package__',\n",
       " '__spec__',\n",
       " 'abs',\n",
       " 'all',\n",
       " 'any',\n",
       " 'ascii',\n",
       " 'bin',\n",
       " 'bool',\n",
       " 'bytearray',\n",
       " 'bytes',\n",
       " 'callable',\n",
       " 'chr',\n",
       " 'classmethod',\n",
       " 'compile',\n",
       " 'complex',\n",
       " 'copyright',\n",
       " 'credits',\n",
       " 'delattr',\n",
       " 'dict',\n",
       " 'dir',\n",
       " 'display',\n",
       " 'divmod',\n",
       " 'enumerate',\n",
       " 'eval',\n",
       " 'exec',\n",
       " 'filter',\n",
       " 'float',\n",
       " 'format',\n",
       " 'frozenset',\n",
       " 'get_ipython',\n",
       " 'getattr',\n",
       " 'globals',\n",
       " 'hasattr',\n",
       " 'hash',\n",
       " 'help',\n",
       " 'hex',\n",
       " 'id',\n",
       " 'input',\n",
       " 'int',\n",
       " 'isinstance',\n",
       " 'issubclass',\n",
       " 'iter',\n",
       " 'len',\n",
       " 'license',\n",
       " 'list',\n",
       " 'locals',\n",
       " 'map',\n",
       " 'max',\n",
       " 'memoryview',\n",
       " 'min',\n",
       " 'next',\n",
       " 'object',\n",
       " 'oct',\n",
       " 'open',\n",
       " 'ord',\n",
       " 'pow',\n",
       " 'print',\n",
       " 'property',\n",
       " 'range',\n",
       " 'repr',\n",
       " 'reversed',\n",
       " 'round',\n",
       " 'set',\n",
       " 'setattr',\n",
       " 'slice',\n",
       " 'sorted',\n",
       " 'staticmethod',\n",
       " 'str',\n",
       " 'sum',\n",
       " 'super',\n",
       " 'tuple',\n",
       " 'type',\n",
       " 'vars',\n",
       " 'zip']"
      ]
     },
     "execution_count": 13,
     "metadata": {},
     "output_type": "execute_result"
    }
   ],
   "source": [
    "dir(__builtins__)"
   ]
  },
  {
   "cell_type": "code",
   "execution_count": null,
   "metadata": {
    "collapsed": true
   },
   "outputs": [],
   "source": []
  },
  {
   "cell_type": "code",
   "execution_count": null,
   "metadata": {
    "collapsed": true
   },
   "outputs": [],
   "source": []
  },
  {
   "cell_type": "code",
   "execution_count": 17,
   "metadata": {
    "scrolled": true
   },
   "outputs": [],
   "source": [
    "# import KIC_function_module\n",
    "from KIC_function_module import fct_parm\n"
   ]
  },
  {
   "cell_type": "code",
   "execution_count": 21,
   "metadata": {},
   "outputs": [
    {
     "data": {
      "text/plain": [
       "10"
      ]
     },
     "execution_count": 21,
     "metadata": {},
     "output_type": "execute_result"
    }
   ],
   "source": [
    "fct_parm(10)"
   ]
  },
  {
   "cell_type": "code",
   "execution_count": 18,
   "metadata": {},
   "outputs": [
    {
     "data": {
      "text/plain": [
       "['__builtins__',\n",
       " '__cached__',\n",
       " '__doc__',\n",
       " '__file__',\n",
       " '__loader__',\n",
       " '__name__',\n",
       " '__package__',\n",
       " '__spec__',\n",
       " 'a',\n",
       " 'a1',\n",
       " 'fct1',\n",
       " 'fct2',\n",
       " 'fct_dic',\n",
       " 'fct_parm']"
      ]
     },
     "execution_count": 18,
     "metadata": {},
     "output_type": "execute_result"
    }
   ],
   "source": [
    "dir(KIC_function_module)"
   ]
  },
  {
   "cell_type": "code",
   "execution_count": 5,
   "metadata": {
    "collapsed": true
   },
   "outputs": [],
   "source": [
    "# ____ 붙어있는건 아니고,\n",
    "\n",
    "# ['__builtins__',\n",
    "#  '__cached__',\n",
    "#  '__doc__',\n",
    "#  '__file__',\n",
    "#  '__loader__',\n",
    "#  '__name__',\n",
    "#  '__package__',\n",
    "#  '__spec__',"
   ]
  },
  {
   "cell_type": "markdown",
   "metadata": {},
   "source": [
    "### 암것도 안 붙어 있는 게 쓸 수 있는 함수!\n",
    " 'a',\n",
    " 'a1',\n",
    " 'fct1',\n",
    " 'fct2',\n",
    " 'fct_dic',\n",
    "'fct_parm'"
   ]
  },
  {
   "cell_type": "code",
   "execution_count": 16,
   "metadata": {},
   "outputs": [
    {
     "data": {
      "text/plain": [
       "10"
      ]
     },
     "execution_count": 16,
     "metadata": {},
     "output_type": "execute_result"
    }
   ],
   "source": [
    "KIC_function.fct1(v1=10)"
   ]
  },
  {
   "cell_type": "code",
   "execution_count": 8,
   "metadata": {},
   "outputs": [
    {
     "data": {
      "text/plain": [
       "'E:\\\\github'"
      ]
     },
     "execution_count": 8,
     "metadata": {},
     "output_type": "execute_result"
    }
   ],
   "source": [
    "%pwd"
   ]
  },
  {
   "cell_type": "code",
   "execution_count": 7,
   "metadata": {},
   "outputs": [
    {
     "name": "stdout",
     "output_type": "stream",
     "text": [
      "E:\\github\n"
     ]
    }
   ],
   "source": [
    "# 뭘로 바꿔도 커널 restart 하면 돌아옴\n",
    "%cd ./github"
   ]
  },
  {
   "cell_type": "code",
   "execution_count": 11,
   "metadata": {},
   "outputs": [
    {
     "name": "stdout",
     "output_type": "stream",
     "text": [
      " E 드라이브의 볼륨에는 이름이 없습니다.\n",
      " 볼륨 일련 번호: 2468-0A05\n",
      "\n",
      " E:\\github 디렉터리\n",
      "\n",
      "2018-02-22  오후 06:37    <DIR>          .\n",
      "2018-02-22  오후 06:37    <DIR>          ..\n",
      "2018-02-23  오전 11:32             4,090 .Rhistory\n",
      "2018-02-19  오전 09:36    <DIR>          dataAnal_proj1\n",
      "2018-02-21  오후 03:05    <DIR>          dataAnal_py_basic\n",
      "2018-02-22  오전 11:46    <DIR>          dataAnal_R_basic\n",
      "2018-02-22  오후 07:49    <DIR>          pyCharm1\n",
      "2018-02-19  오전 09:41    <DIR>          sql_basic_kic\n",
      "               1개 파일               4,090 바이트\n",
      "               7개 디렉터리  226,658,717,696 바이트 남음\n"
     ]
    }
   ],
   "source": [
    "%ls"
   ]
  },
  {
   "cell_type": "code",
   "execution_count": 22,
   "metadata": {},
   "outputs": [
    {
     "name": "stdout",
     "output_type": "stream",
     "text": [
      "특정 명령어에 대한 자세한 내용이 필요하면 HELP 명령어 이름을 입력하십시오.\n",
      "ASSOC    파일 확장명 연결을 보여주거나 수정합니다.\n",
      "ATTRIB   파일 속성을 표시하거나 바꿉니다.\n",
      "BREAK    확장된 CTRL+C 검사를 설정하거나 지웁니다.\n",
      "BCDEDIT        부팅 로딩을 제어하기 위해 부팅 데이터베이스에서 속성을 설정합니다.\n",
      "CACLS    파일의 액세스 컨트롤 목록(ACL)을 표시하거나 수정합니다.\n",
      "CALL     한 일괄 프로그램에서 다른 일괄 프로그램을 호출합니다.\n",
      "CD       현재 디렉터리 이름을 보여주거나 바꿉니다.\n",
      "CHCP     활성화된 코드 페이지의 번호를 표시하거나 설정합니다.\n",
      "CHDIR    현재 디렉터리 이름을 보여주거나 바꿉니다.\n",
      "CHKDSK   디스크를 검사하고 상태 보고서를 표시합니다.\n",
      "CHKNTFS  부팅하는 동안 디스크 확인을 화면에 표시하거나 변경합니다.\n",
      "CLS      화면을 지웁니다.\n",
      "CMD      Windows 명령 인터프리터의 새 인스턴스를 시작합니다.\n",
      "COLOR    콘솔의 기본색과 배경색을 설정합니다.\n",
      "COMP     두 개 또는 여러 개의 파일을 비교합니다.\n",
      "COMPACT  NTFS 분할 영역에 있는 파일의 압축을 표시하거나 변경합니다.\n",
      "CONVERT  FAT 볼륨을 NTFS로 변환합니다. 현재 드라이브는\n",
      "         변환할 수 없습니다.\n",
      "COPY     하나 이상의 파일을 다른 위치로 복사합니다.\n",
      "DATE     날짜를 보여주거나 설정합니다.\n",
      "DEL      하나 이상의 파일을 지웁니다.\n",
      "DIR      디렉터리에 있는 파일과 하위 디렉터리 목록을 보여줍니다.\n",
      "DISKCOMP 두 플로피 디스크의 내용을 비교합니다.\n",
      "DISKCOPY 플로피 디스크의 내용을 다른 플로피 디스크로 복사합니다.\n",
      "DISKPART 디스크 파티션 속성을 표시하거나 구성합니다.\n",
      "DOSKEY   명령줄을 편집하고, Windows 명령을 다시 호출하고, 매크로를 만듭니다.\n",
      "DRIVERQUERY  현재 장치 드라이버 상태와 속성을 표시합니다.\n",
      "ECHO     메시지를 표시하거나 ECHO를 사용 또는 사용하지 않습니다.\n",
      "ENDLOCAL 배치 파일에서 환경 변경의 지역화를 끝냅니다.\n",
      "ERASE    하나 이상의 파일을 지웁니다.\n",
      "EXIT     CMD.EXE 프로그램(명령 인터프리터)을 마칩니다.\n",
      "FC       두 파일 또는 파일의 집합을 비교하여 다른 점을\n",
      "         표시합니다.\n",
      "FIND     파일에서 텍스트 문자열을 찾습니다.\n",
      "FINDSTR  파일에서 문자열을 찾습니다.\n",
      "FOR      파일 집합에서 각 파일에 대해 지정된 명령을 실행합니다.\n",
      "FORMAT   Windows에서 사용할 디스크를 포맷합니다.\n",
      "FSUTIL   파일 시스템 속성을 표시하거나 구성합니다.\n",
      "FTYPE    파일 확장 연결에 사용되는 파일 형식을 표시하거나 수정합니다.\n",
      "GOTO     Windows 명령 인터프리터가 일괄 프로그램에서\n",
      "         이름표가 붙여진 줄로 이동합니다.\n",
      "GPRESULT 컴퓨터 또는 사용자에 대한 그룹 정책 정보를 표시합니다.\n",
      "GRAFTABL Windows가 그래픽 모드에서 확장 문자 세트를 표시할\n",
      "         수 있게 합니다.\n",
      "HELP     Windows 명령어에 관한 도움말을 제공합니다.\n",
      "ICACLS         파일과 디렉터리에 대한 ACL을 표시, 수정, 백업 또는 \n",
      "               복원합니다.\n",
      "IF       일괄 프로그램에서 조건 처리를 수행합니다.\n",
      "LABEL    디스크의 볼륨 이름을 만들거나, 바꾸거나, 지웁니다.\n",
      "MD       디렉터리를 만듭니다.\n",
      "MKDIR    디렉터리를 만듭니다.\n",
      "MKLINK         기호화된 링크와 하드 링크를 만듭니다.\n",
      "MODE     시스템 장치를 구성합니다.\n",
      "MORE     출력을 한번에 한 화면씩 표시합니다.\n",
      "MOVE     하나 이상의 파일을 한 디렉터리에서 다른 디렉터리로 옮깁니다.\n",
      "OPENFILES  파일 공유에서 원격 사용자에 의해 열린 파일을 표시합니다.\n",
      "PATH     실행 파일의 찾기 경로를 보여주거나 설정합니다.\n",
      "PAUSE    배치 파일의 처리를 보류하고 메시지를 보여줍니다.\n",
      "POPD     PUSHD 명령으로 저장된 디렉터리로 바꿉니다.\n",
      "PRINT    텍스트 파일을 인쇄합니다.\n",
      "PROMPT   Windows 명령 프롬프트를 바꿉니다.\n",
      "PUSHD    현재 디렉터리를 저장한 후 디렉터리를 바꿉니다.\n",
      "RD       디렉터리를 지웁니다.\n",
      "RECOVER  불량이거나 결함이 있는 디스크에서 읽을 수 있는 정보를 복구합니다.\n",
      "REM      배치 파일 또는 CONFIG.SYS에서 주석을 기록합니다.\n",
      "REN      파일 이름을 바꿉니다.\n",
      "RENAME   파일 이름을 바꿉니다.\n",
      "REPLACE  파일을 대체합니다.\n",
      "RMDIR    디렉터리를 지웁니다.\n",
      "ROBOCOPY       파일과 디렉터리 트리를 복사할 수 있는 고급 유틸리티입니다.\n",
      "SET      Windows 환경 변수를 보여주거나, 설정하거나, 지웁니다.\n",
      "SETLOCAL 배치 파일에서 환경 변경의 지역화를 시작합니다.\n",
      "SC       서비스를 표시하거나 구성합니다(백그라운드 작업).\n",
      "SCHTASKS 컴퓨터에서 실행할 명령과 프로그램을 예약합니다.\n",
      "SHIFT    배치 파일에서 바꿀 수 있는 매개 변수의 위치를 바꿉니다.\n",
      "SHUTDOWN 컴퓨터의 로컬 또는 원격 종료를 허용합니다.\n",
      "SORT     입력을 정렬합니다.\n",
      "START    지정된 프로그램이나 명령을 별도의 창에서 시작합니다.\n",
      "SUBST    경로를 드라이브 문자로 지정합니다.\n",
      "SYSTEMINFO  특정 컴퓨터의 속성과 구성을 표시합니다.\n",
      "TASKLIST 서비스를 포함한 실행 중인 모든 작업을 표시합니다.\n",
      "TASKKILL 실행 중인 프로세스나 응용 프로그램을 중지합니다.\n",
      "TIME     시스템 시간을 보여주거나 설정합니다.\n",
      "TITLE    CMD.EXE 세션에 대한 창의 창 제목을 설정합니다.\n",
      "TREE     드라이브 또는 경로의 디렉터리 구조를 그래픽으로 화면에 표시합니다.\n",
      "TYPE     텍스트 파일의 내용을 보여줍니다.\n",
      "VER      Windows 버전을 보여줍니다.\n",
      "VERIFY   파일이 디스크에 올바로 쓰였는지 검증할지\n",
      "         여부를 지정합니다.\n",
      "VOL      디스크 볼륨 이름과 일련 번호를 보여줍니다.\n",
      "XCOPY    파일과 디렉터리 트리를 복사합니다.\n",
      "WMIC     대화형 명령 셸 내의 WMI 정보를 표시합니다.\n",
      "\n",
      "도구에 대한 자세한 정보는 온라인 도움말의 명령줄 참조를 확인하십시오.\n"
     ]
    }
   ],
   "source": [
    "!help"
   ]
  }
 ],
 "metadata": {
  "kernelspec": {
   "display_name": "Python 3",
   "language": "python",
   "name": "python3"
  },
  "language_info": {
   "codemirror_mode": {
    "name": "ipython",
    "version": 3
   },
   "file_extension": ".py",
   "mimetype": "text/x-python",
   "name": "python",
   "nbconvert_exporter": "python",
   "pygments_lexer": "ipython3",
   "version": "3.6.3"
  }
 },
 "nbformat": 4,
 "nbformat_minor": 2
}
