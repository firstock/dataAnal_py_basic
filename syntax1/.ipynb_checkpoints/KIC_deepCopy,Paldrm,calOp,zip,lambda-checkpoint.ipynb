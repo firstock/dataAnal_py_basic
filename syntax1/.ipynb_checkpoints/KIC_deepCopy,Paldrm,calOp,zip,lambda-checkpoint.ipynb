{
 "cells": [
  {
   "cell_type": "markdown",
   "metadata": {},
   "source": [
    "### 얕은 복사\n",
    "비추. 원본도 바뀌어버림"
   ]
  },
  {
   "cell_type": "code",
   "execution_count": 1,
   "metadata": {},
   "outputs": [
    {
     "name": "stdout",
     "output_type": "stream",
     "text": [
      "['a', 'b', 'c']\n"
     ]
    }
   ],
   "source": [
    "a1= ['a','b','c']\n",
    "b1= a1\n",
    "print(b1)"
   ]
  },
  {
   "cell_type": "markdown",
   "metadata": {},
   "source": [
    "###### 같은걸 가리킴"
   ]
  },
  {
   "cell_type": "code",
   "execution_count": 3,
   "metadata": {},
   "outputs": [
    {
     "name": "stdout",
     "output_type": "stream",
     "text": [
      "a1주소값 92935688\n",
      "b1주소값 92935688\n"
     ]
    }
   ],
   "source": [
    "print(\"a1주소값\",id(a1))\n",
    "print(\"b1주소값\",id(b1))"
   ]
  },
  {
   "cell_type": "code",
   "execution_count": 20,
   "metadata": {
    "collapsed": true
   },
   "outputs": [],
   "source": [
    "oldList= ['자장면','탕수육','군만두']"
   ]
  },
  {
   "cell_type": "code",
   "execution_count": 21,
   "metadata": {},
   "outputs": [
    {
     "name": "stdout",
     "output_type": "stream",
     "text": [
      "원본: ['자장면', '탕수육', '군만두']\n",
      "원본: ['짬뽕', '탕수육', '군만두']\n",
      "새거: ['짬뽕', '탕수육', '군만두']\n"
     ]
    }
   ],
   "source": [
    "#원본이 바뀌었다\n",
    "newList_shallow= oldList\n",
    "print(\"원본:\",oldList)\n",
    "newList_shallow[0]= '짬뽕'\n",
    "print(\"원본:\",oldList)\n",
    "print(\"새거:\",newList_shallow)"
   ]
  },
  {
   "cell_type": "code",
   "execution_count": null,
   "metadata": {
    "collapsed": true
   },
   "outputs": [],
   "source": []
  },
  {
   "cell_type": "markdown",
   "metadata": {},
   "source": [
    "### 깊은 복사\n",
    "주소가 가리키는 대상만 복사해서 새로 만듦"
   ]
  },
  {
   "cell_type": "code",
   "execution_count": 22,
   "metadata": {
    "collapsed": true
   },
   "outputs": [],
   "source": [
    "oldList= ['자장면','탕수육','군만두']"
   ]
  },
  {
   "cell_type": "code",
   "execution_count": 23,
   "metadata": {},
   "outputs": [
    {
     "name": "stdout",
     "output_type": "stream",
     "text": [
      "원본: ['자장면', '탕수육', '군만두']\n",
      "원본: ['자장면', '탕수육', '군만두']\n",
      "새거: ['짬뽕', '탕수육', '군만두']\n"
     ]
    }
   ],
   "source": [
    "newList_deep= oldList[:]\n",
    "print(\"원본:\",oldList)\n",
    "newList_deep[0]= '짬뽕'\n",
    "print(\"원본:\",oldList)\n",
    "print(\"새거:\",newList_deep)"
   ]
  },
  {
   "cell_type": "code",
   "execution_count": null,
   "metadata": {
    "collapsed": true
   },
   "outputs": [],
   "source": []
  },
  {
   "cell_type": "code",
   "execution_count": null,
   "metadata": {
    "collapsed": true
   },
   "outputs": [],
   "source": []
  },
  {
   "cell_type": "markdown",
   "metadata": {},
   "source": [
    "### list comprehension\n",
    "[표현식 for 변수 in 덩어리 if 조건식]"
   ]
  },
  {
   "cell_type": "code",
   "execution_count": 2,
   "metadata": {},
   "outputs": [
    {
     "data": {
      "text/plain": [
       "[5, 6, 7, 8, 9, 10, 11, 12, 13, 14]"
      ]
     },
     "execution_count": 2,
     "metadata": {},
     "output_type": "execute_result"
    }
   ],
   "source": [
    "[i+5 for i in range(10)]"
   ]
  },
  {
   "cell_type": "code",
   "execution_count": 4,
   "metadata": {},
   "outputs": [
    {
     "data": {
      "text/plain": [
       "[11, 12, 13, 14]"
      ]
     },
     "execution_count": 4,
     "metadata": {},
     "output_type": "execute_result"
    }
   ],
   "source": [
    "[i+5 for i in range(10) if i>5]"
   ]
  },
  {
   "cell_type": "code",
   "execution_count": 5,
   "metadata": {},
   "outputs": [
    {
     "data": {
      "text/plain": [
       "[6, 9]"
      ]
     },
     "execution_count": 5,
     "metadata": {},
     "output_type": "execute_result"
    }
   ],
   "source": [
    "[i for i in range(5,10) if i%3==0]"
   ]
  },
  {
   "cell_type": "code",
   "execution_count": null,
   "metadata": {
    "collapsed": true
   },
   "outputs": [],
   "source": []
  },
  {
   "cell_type": "markdown",
   "metadata": {},
   "source": [
    "### zip(,) , dict(zip( , ))\n"
   ]
  },
  {
   "cell_type": "code",
   "execution_count": 5,
   "metadata": {
    "collapsed": true
   },
   "outputs": [],
   "source": [
    "beers= ['치킨', '문어', '소라과자', '치킨']\n",
    "chicks= ['맥주','소주']"
   ]
  },
  {
   "cell_type": "code",
   "execution_count": 6,
   "metadata": {},
   "outputs": [
    {
     "name": "stdout",
     "output_type": "stream",
     "text": [
      "치킨 ---- 맥주\n",
      "문어 ---- 소주\n"
     ]
    }
   ],
   "source": [
    "for beer, chick in zip(beers, chicks):\n",
    "    print(beer,'----',chick)"
   ]
  },
  {
   "cell_type": "markdown",
   "metadata": {},
   "source": [
    "##### 리스트 2개를 길이에 맞게 튜플/딕셔너리로 묶어주기\n",
    "list(zip(,)), dict(zip(,))"
   ]
  },
  {
   "cell_type": "code",
   "execution_count": 8,
   "metadata": {},
   "outputs": [
    {
     "name": "stdout",
     "output_type": "stream",
     "text": [
      "[('치킨', '맥주'), ('문어', '소주')]\n",
      "{'치킨': '맥주', '문어': '소주'}\n"
     ]
    }
   ],
   "source": [
    "tupList= list(zip(beers, chicks)); print(tupList)\n",
    "dic1= dict(zip(beers, chicks)); print(dic1)"
   ]
  },
  {
   "cell_type": "code",
   "execution_count": null,
   "metadata": {
    "collapsed": true
   },
   "outputs": [],
   "source": []
  },
  {
   "cell_type": "code",
   "execution_count": null,
   "metadata": {
    "collapsed": true
   },
   "outputs": [],
   "source": []
  },
  {
   "cell_type": "markdown",
   "metadata": {},
   "source": [
    "##### 예제: 회문 판별"
   ]
  },
  {
   "cell_type": "code",
   "execution_count": 16,
   "metadata": {
    "collapsed": true
   },
   "outputs": [],
   "source": [
    "import math"
   ]
  },
  {
   "cell_type": "code",
   "execution_count": 15,
   "metadata": {},
   "outputs": [
    {
     "name": "stdout",
     "output_type": "stream",
     "text": [
      "AGT\n",
      "TGA\n"
     ]
    }
   ],
   "source": [
    "# a1=input()\n",
    "# a1= \"AGTCCTGA\"\n",
    "a1= \"AGTCTGA\"\n",
    "n= len(a1) #8\n",
    "\n",
    "print(a1[:math.floor(n/2)])\n",
    "print(a1[math.ceil(n/2):])"
   ]
  },
  {
   "cell_type": "code",
   "execution_count": null,
   "metadata": {
    "collapsed": true
   },
   "outputs": [],
   "source": []
  },
  {
   "cell_type": "code",
   "execution_count": 17,
   "metadata": {},
   "outputs": [
    {
     "data": {
      "text/plain": [
       "'AGTCTGA'"
      ]
     },
     "execution_count": 17,
     "metadata": {},
     "output_type": "execute_result"
    }
   ],
   "source": [
    "a1[::-1]"
   ]
  },
  {
   "cell_type": "code",
   "execution_count": null,
   "metadata": {
    "collapsed": true
   },
   "outputs": [],
   "source": []
  },
  {
   "cell_type": "code",
   "execution_count": 25,
   "metadata": {},
   "outputs": [
    {
     "data": {
      "text/plain": [
       "'AGT'"
      ]
     },
     "execution_count": 25,
     "metadata": {},
     "output_type": "execute_result"
    }
   ],
   "source": [
    "a1[math.ceil(n/2):][::-1]"
   ]
  },
  {
   "cell_type": "code",
   "execution_count": 29,
   "metadata": {},
   "outputs": [
    {
     "name": "stdout",
     "output_type": "stream",
     "text": [
      "AGT\n",
      "AGT\n",
      "회문입니다\n"
     ]
    }
   ],
   "source": [
    "# 내 코드. 반씩 쪼개서 뒤집음 ;;\n",
    "pdrmic_h= a1[:math.floor(n/2)]; print(pdrmic_h)\n",
    "pdrmic_t= a1[math.ceil(n/2):][::-1]; print(pdrmic_t)\n",
    "\n",
    "if pdrmic_h == pdrmic_t:\n",
    "    print(\"회문입니다\")"
   ]
  },
  {
   "cell_type": "code",
   "execution_count": 18,
   "metadata": {
    "collapsed": true
   },
   "outputs": [],
   "source": [
    "import math\n",
    "def isPalindrom_foo(in_str):\n",
    "    \"\"\"\n",
    "    import math 필요\n",
    "    \"\"\"\n",
    "    n= len(in_str)\n",
    "    pdrmic_h= in_str[:math.floor(n/2)]\n",
    "    pdrmic_t= in_str[math.ceil(n/2):][::-1]\n",
    "\n",
    "    if pdrmic_h == pdrmic_t:\n",
    "        print(\"회문입니다\")\n",
    "    else:\n",
    "        print(\"회문아님\")"
   ]
  },
  {
   "cell_type": "code",
   "execution_count": 19,
   "metadata": {
    "scrolled": false
   },
   "outputs": [
    {
     "name": "stdout",
     "output_type": "stream",
     "text": [
      "회뭉스러운 (종료: 영한숫 외): \n",
      "$\n",
      "끝\n"
     ]
    }
   ],
   "source": [
    "while True:\n",
    "    print(\"회뭉스러운 (종료: 영한숫 외): \")\n",
    "    pandrm= input()\n",
    "    if pandrm.isalnum():\n",
    "        isPalindrom_foo(pandrm)\n",
    "    else:\n",
    "        print(\"끝\")\n",
    "        break;"
   ]
  },
  {
   "cell_type": "code",
   "execution_count": null,
   "metadata": {
    "collapsed": true
   },
   "outputs": [],
   "source": []
  },
  {
   "cell_type": "code",
   "execution_count": 28,
   "metadata": {},
   "outputs": [
    {
     "name": "stdout",
     "output_type": "stream",
     "text": [
      "회문입니다\n"
     ]
    }
   ],
   "source": [
    "# 갓가람씨 코드\n",
    "if in_str== in_str[::-1]:\n",
    "    print(\"회문입니다\")\n",
    "else:\n",
    "    print(\"no회문\")"
   ]
  },
  {
   "cell_type": "markdown",
   "metadata": {},
   "source": [
    "##### 회문_2줄"
   ]
  },
  {
   "cell_type": "code",
   "execution_count": 77,
   "metadata": {
    "scrolled": false
   },
   "outputs": [
    {
     "name": "stdout",
     "output_type": "stream",
     "text": [
      "문자입력해봐234432\n",
      "회문ㅇㅇ\n"
     ]
    }
   ],
   "source": [
    "in_str= input(\"문자입력해봐\")\n",
    "res= \"회문ㅇㅇ\" if in_str== in_str[::-1] else \"회문ㄴㄴ\"; print(res)"
   ]
  },
  {
   "cell_type": "markdown",
   "metadata": {},
   "source": [
    "#### 회문_fuction_1줄"
   ]
  },
  {
   "cell_type": "code",
   "execution_count": 99,
   "metadata": {
    "collapsed": true
   },
   "outputs": [],
   "source": [
    "pandrm= lambda in_str: \"회문ㅇㅇ\" if in_str== in_str[::-1] else \"회문ㄴㄴ\""
   ]
  },
  {
   "cell_type": "code",
   "execution_count": 100,
   "metadata": {},
   "outputs": [
    {
     "name": "stdout",
     "output_type": "stream",
     "text": [
      "문자입력ㄱㄱ: 12344321\n",
      "회문ㅇㅇ\n"
     ]
    }
   ],
   "source": [
    "print(pandrm(input(\"문자입력ㄱㄱ: \")))"
   ]
  },
  {
   "cell_type": "code",
   "execution_count": null,
   "metadata": {
    "collapsed": true
   },
   "outputs": [],
   "source": []
  },
  {
   "cell_type": "code",
   "execution_count": 101,
   "metadata": {},
   "outputs": [
    {
     "name": "stdout",
     "output_type": "stream",
     "text": [
      "ㅋㅌㅊㅍ\n",
      "no회문\n"
     ]
    }
   ],
   "source": [
    "pandrm= input()\n",
    "isPalindrom(pandrm)"
   ]
  },
  {
   "cell_type": "code",
   "execution_count": null,
   "metadata": {
    "collapsed": true
   },
   "outputs": [],
   "source": []
  },
  {
   "cell_type": "code",
   "execution_count": 26,
   "metadata": {
    "collapsed": true
   },
   "outputs": [],
   "source": [
    "def isPalindrom(in_str):\n",
    "    if in_str== in_str[::-1]:\n",
    "        print(\"회문입니다\")\n",
    "    else:\n",
    "        print(\"no회문\")"
   ]
  },
  {
   "cell_type": "code",
   "execution_count": 27,
   "metadata": {
    "scrolled": true
   },
   "outputs": [
    {
     "name": "stdout",
     "output_type": "stream",
     "text": [
      "회뭉스러운 (종료: 영한숫 외): \n",
      "asdffdsa\n",
      "회문입니다\n",
      "회뭉스러운 (종료: 영한숫 외): \n",
      ";\n",
      "끝\n"
     ]
    }
   ],
   "source": [
    "while True:\n",
    "    print(\"회뭉스러운 (종료: 영한숫 외): \")\n",
    "    pandrm= input()\n",
    "    if pandrm.isalnum():\n",
    "        isPalindrom(pandrm)\n",
    "    else:\n",
    "        print(\"끝\")\n",
    "        break;"
   ]
  },
  {
   "cell_type": "code",
   "execution_count": null,
   "metadata": {
    "collapsed": true
   },
   "outputs": [],
   "source": []
  },
  {
   "cell_type": "code",
   "execution_count": null,
   "metadata": {
    "collapsed": true
   },
   "outputs": [],
   "source": []
  },
  {
   "cell_type": "code",
   "execution_count": null,
   "metadata": {
    "collapsed": true
   },
   "outputs": [],
   "source": []
  },
  {
   "cell_type": "markdown",
   "metadata": {},
   "source": [
    "##### 문득. 문자열메소드\n",
    "a= '  hello123World  '; b= ' helllo,123,world  '\n",
    "1. a.startswith('he') --- T/F\n",
    "2. a.endswith('ld') --- T/F\n",
    "3. a.find('H') --- 앞1st_idx/ -1\n",
    "4. a.rfind('H') --- 뒤1st_idx/ -1\n",
    "5. a.count('l') --- 몇 개\n",
    "6. a.lstrip() --- left 공백제거\n",
    "7. a.rstrip() --- right 공백제거\n",
    "8. a.strip() --- 좌우 공백제거\n",
    "\n",
    "9. a.isalpha() --- 영문한글로만? T/F\n",
    "10. a.isnumeric() --- 숫자로만? T/F\n",
    "11. a.isalnum() --- 영문한글숫자로만? T/F\n",
    "\n",
    "12. b.split(',') --- 기준으로 쪼갬. List\n",
    "13. b.upper() --- 다 대문자로\n",
    "14. b.lower() --- 다 소문자로\n",
    "15. '{0}'.format('인자1')"
   ]
  },
  {
   "cell_type": "code",
   "execution_count": 8,
   "metadata": {},
   "outputs": [
    {
     "data": {
      "text/plain": [
       "[' helllo,123,world ']"
      ]
     },
     "execution_count": 8,
     "metadata": {},
     "output_type": "execute_result"
    }
   ],
   "source": [
    "b= ' helllo,123,world '\n",
    "b.split('a')"
   ]
  },
  {
   "cell_type": "code",
   "execution_count": null,
   "metadata": {
    "collapsed": true
   },
   "outputs": [],
   "source": []
  },
  {
   "cell_type": "code",
   "execution_count": 71,
   "metadata": {
    "collapsed": true
   },
   "outputs": [],
   "source": [
    "import operator #operator.itemgetter()\n",
    "trainDic, trainList= {}, []\n",
    "\n",
    "trainDic= {\n",
    "    'Thomas':'토마스'\n",
    "    ,'Edward':'에드워드'\n",
    "    ,'Henry':'자기장'\n",
    "    ,'Gott':'갈릭염소'\n",
    "    ,'James':'제임스'\n",
    "}"
   ]
  },
  {
   "cell_type": "code",
   "execution_count": 72,
   "metadata": {},
   "outputs": [
    {
     "name": "stdout",
     "output_type": "stream",
     "text": [
      "{'Thomas': '토마스', 'Edward': '에드워드', 'Henry': '자기장', 'Gott': '갈릭염소', 'James': '제임스'}\n"
     ]
    }
   ],
   "source": [
    "print(trainDic)"
   ]
  },
  {
   "cell_type": "code",
   "execution_count": 73,
   "metadata": {},
   "outputs": [
    {
     "name": "stdout",
     "output_type": "stream",
     "text": [
      "[('Edward', '에드워드'), ('Gott', '갈릭염소'), ('Henry', '자기장'), ('James', '제임스'), ('Thomas', '토마스')]\n"
     ]
    }
   ],
   "source": [
    "trainList= sorted(trainDic.items())\n",
    "print(trainList)"
   ]
  },
  {
   "cell_type": "code",
   "execution_count": 75,
   "metadata": {
    "scrolled": true
   },
   "outputs": [
    {
     "name": "stdout",
     "output_type": "stream",
     "text": [
      "[('Edward', '에드워드'), ('Gott', '갈릭염소'), ('Henry', '자기장'), ('James', '제임스'), ('Thomas', '토마스')]\n"
     ]
    }
   ],
   "source": [
    "#itemgetter 인자> 0: key 기준\n",
    "trainList= sorted(trainDic.items(), key= operator.itemgetter(0))\n",
    "print(trainList)"
   ]
  },
  {
   "cell_type": "code",
   "execution_count": 76,
   "metadata": {
    "scrolled": true
   },
   "outputs": [
    {
     "name": "stdout",
     "output_type": "stream",
     "text": [
      "[('Gott', '갈릭염소'), ('Edward', '에드워드'), ('Henry', '자기장'), ('James', '제임스'), ('Thomas', '토마스')]\n"
     ]
    }
   ],
   "source": [
    "trainList= sorted(trainDic.items(), key= operator.itemgetter(1))\n",
    "print(trainList)"
   ]
  },
  {
   "cell_type": "code",
   "execution_count": null,
   "metadata": {
    "collapsed": true
   },
   "outputs": [],
   "source": []
  },
  {
   "cell_type": "markdown",
   "metadata": {},
   "source": [
    "## GodR 에 부끄럽지 않도록 긴장해서 최소 코딩하자"
   ]
  },
  {
   "cell_type": "code",
   "execution_count": 89,
   "metadata": {
    "collapsed": true
   },
   "outputs": [],
   "source": [
    "#물론 evil을 이대로 냅두면 안 된다. 인자 입력할때 거르자\n",
    "def calc(v1, v2, op):\n",
    "    res= str(v1)+ op+ str(v2)\n",
    "    if '/'==op and 0==v2:\n",
    "        return(\"0으로 나눔 앙되요\")\n",
    "    else:\n",
    "        return(eval(res))"
   ]
  },
  {
   "cell_type": "markdown",
   "metadata": {},
   "source": [
    "###### 가독성 개나 준 코드"
   ]
  },
  {
   "cell_type": "code",
   "execution_count": 96,
   "metadata": {
    "collapsed": true
   },
   "outputs": [],
   "source": [
    "calc= lambda v1,v2,op: \"0나누기 ㄴㄴ\" if '/'==op and 0==v2 else eval(str(v1)+ op+ str(v2))"
   ]
  },
  {
   "cell_type": "code",
   "execution_count": 97,
   "metadata": {},
   "outputs": [
    {
     "name": "stdout",
     "output_type": "stream",
     "text": [
      "1\n",
      "0\n",
      "1\n",
      "0나누기 ㄴㄴ\n",
      "1\n"
     ]
    }
   ],
   "source": [
    "print(calc(1,0,'+'))\n",
    "print(calc(1,0,'*'))\n",
    "print(calc(1,0,'-'))\n",
    "print(calc(1,0,'/'))\n",
    "print(calc(1,0,'**'))"
   ]
  },
  {
   "cell_type": "code",
   "execution_count": 98,
   "metadata": {},
   "outputs": [
    {
     "name": "stdout",
     "output_type": "stream",
     "text": [
      "6\n",
      "5\n",
      "-4\n",
      "0.2\n",
      "1\n"
     ]
    }
   ],
   "source": [
    "print(calc(1,5,'+'))\n",
    "print(calc(1,5,'*'))\n",
    "print(calc(1,5,'-'))\n",
    "print(calc(1,5,'/'))\n",
    "print(calc(1,5,'**'))"
   ]
  },
  {
   "cell_type": "code",
   "execution_count": null,
   "metadata": {
    "collapsed": true
   },
   "outputs": [],
   "source": []
  },
  {
   "cell_type": "code",
   "execution_count": null,
   "metadata": {
    "collapsed": true
   },
   "outputs": [],
   "source": []
  },
  {
   "cell_type": "markdown",
   "metadata": {},
   "source": [
    "### lambda"
   ]
  },
  {
   "cell_type": "code",
   "execution_count": 102,
   "metadata": {
    "collapsed": true
   },
   "outputs": [],
   "source": [
    "sum1= lambda v1,v2: v1+v2"
   ]
  },
  {
   "cell_type": "code",
   "execution_count": 103,
   "metadata": {},
   "outputs": [
    {
     "data": {
      "text/plain": [
       "7"
      ]
     },
     "execution_count": 103,
     "metadata": {},
     "output_type": "execute_result"
    }
   ],
   "source": [
    "sum1(3,4)"
   ]
  },
  {
   "cell_type": "code",
   "execution_count": null,
   "metadata": {
    "collapsed": true
   },
   "outputs": [],
   "source": []
  },
  {
   "cell_type": "code",
   "execution_count": 104,
   "metadata": {
    "collapsed": true
   },
   "outputs": [],
   "source": [
    "def sum1(v1,v2):\n",
    "    return(v1+v2)"
   ]
  },
  {
   "cell_type": "code",
   "execution_count": 105,
   "metadata": {},
   "outputs": [
    {
     "data": {
      "text/plain": [
       "7"
      ]
     },
     "execution_count": 105,
     "metadata": {},
     "output_type": "execute_result"
    }
   ],
   "source": [
    "sum1(3,4)"
   ]
  },
  {
   "cell_type": "code",
   "execution_count": null,
   "metadata": {
    "collapsed": true
   },
   "outputs": [],
   "source": []
  },
  {
   "cell_type": "code",
   "execution_count": 106,
   "metadata": {
    "collapsed": true
   },
   "outputs": [],
   "source": [
    "list1= [lambda v1,v2:v1+v2, lambda v1,v2:v1*v2]"
   ]
  },
  {
   "cell_type": "code",
   "execution_count": 107,
   "metadata": {},
   "outputs": [
    {
     "data": {
      "text/plain": [
       "7"
      ]
     },
     "execution_count": 107,
     "metadata": {},
     "output_type": "execute_result"
    }
   ],
   "source": [
    "list1[0](3,4)"
   ]
  },
  {
   "cell_type": "code",
   "execution_count": 108,
   "metadata": {},
   "outputs": [
    {
     "data": {
      "text/plain": [
       "12"
      ]
     },
     "execution_count": 108,
     "metadata": {},
     "output_type": "execute_result"
    }
   ],
   "source": [
    "list1[1](3,4)"
   ]
  },
  {
   "cell_type": "code",
   "execution_count": null,
   "metadata": {
    "collapsed": true
   },
   "outputs": [],
   "source": []
  },
  {
   "cell_type": "code",
   "execution_count": 113,
   "metadata": {
    "collapsed": true
   },
   "outputs": [],
   "source": [
    "dict1= {\n",
    "    1: lambda v1,v2: v1+v2\n",
    "    ,2:lambda v1,v2: v1*v2\n",
    "}"
   ]
  },
  {
   "cell_type": "code",
   "execution_count": 115,
   "metadata": {},
   "outputs": [
    {
     "data": {
      "text/plain": [
       "7"
      ]
     },
     "execution_count": 115,
     "metadata": {},
     "output_type": "execute_result"
    }
   ],
   "source": [
    "dict1.get(1)(3,4)"
   ]
  },
  {
   "cell_type": "code",
   "execution_count": null,
   "metadata": {
    "collapsed": true
   },
   "outputs": [],
   "source": []
  }
 ],
 "metadata": {
  "kernelspec": {
   "display_name": "Python 3",
   "language": "python",
   "name": "python3"
  },
  "language_info": {
   "codemirror_mode": {
    "name": "ipython",
    "version": 3
   },
   "file_extension": ".py",
   "mimetype": "text/x-python",
   "name": "python",
   "nbconvert_exporter": "python",
   "pygments_lexer": "ipython3",
   "version": "3.6.3"
  }
 },
 "nbformat": 4,
 "nbformat_minor": 2
}
