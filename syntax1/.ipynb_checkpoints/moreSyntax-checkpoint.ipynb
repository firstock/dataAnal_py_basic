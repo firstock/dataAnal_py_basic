{
 "cells": [
  {
   "cell_type": "markdown",
   "metadata": {},
   "source": [
    "# 점2파이, 프린트물에 있는 문법이 다가 아니다!"
   ]
  },
  {
   "cell_type": "markdown",
   "metadata": {},
   "source": [
    "1. 데코레이트\n",
    "2. 커링 currying\n",
    "3. duck type"
   ]
  },
  {
   "cell_type": "markdown",
   "metadata": {},
   "source": [
    "### 데코레이트\n",
    "성능 테스트(프로파일링) 할 때도 쓰인데"
   ]
  },
  {
   "cell_type": "code",
   "execution_count": null,
   "metadata": {
    "collapsed": true
   },
   "outputs": [],
   "source": []
  },
  {
   "cell_type": "markdown",
   "metadata": {},
   "source": [
    "### duck type"
   ]
  },
  {
   "cell_type": "code",
   "execution_count": 10,
   "metadata": {},
   "outputs": [
    {
     "name": "stdout",
     "output_type": "stream",
     "text": [
      "꽥꽥!\n",
      "오리에게 흰색, 회색 깃털이 있습니다.\n",
      "이 사람이 오리를 흉내내네요.\n",
      "사람은 바닥에서 깃털을 주어서 보여 줍니다.\n"
     ]
    }
   ],
   "source": [
    "class Duck:\n",
    "        def quack(self): print(\"꽥꽥!\")\n",
    "        def feathers(self): print(\"오리에게 흰색, 회색 깃털이 있습니다.\")\n",
    "\n",
    "class Person:\n",
    "        def quack(self): print(\"이 사람이 오리를 흉내내네요.\")\n",
    "        def feathers(self): print(\"사람은 바닥에서 깃털을 주어서 보여 줍니다.\")\n",
    "\n",
    "def in_the_forest(duck):\n",
    "        duck.quack()\n",
    "        duck.feathers()\n",
    "\n",
    "def game():\n",
    "        donald = Duck()\n",
    "        john = Person()\n",
    "        in_the_forest(donald)\n",
    "        in_the_forest(john) # <<<<<<<<<<<<<<<<<<<<<<<<<<<<<<\n",
    "\n",
    "game()"
   ]
  },
  {
   "cell_type": "code",
   "execution_count": null,
   "metadata": {
    "collapsed": true
   },
   "outputs": [],
   "source": []
  },
  {
   "cell_type": "markdown",
   "metadata": {},
   "source": [
    "### python interpreter how to know function parameter type\n",
    "[Fuction Annotation](https://www.python.org/dev/peps/pep-3107/#fundamentals-of-function-annotations)\n",
    "주석문이라 강제는 안 된다 그럼"
   ]
  },
  {
   "cell_type": "code",
   "execution_count": 28,
   "metadata": {},
   "outputs": [],
   "source": [
    "def foo(a: 'x', b: 5 + 6, c: list) -> int:\n",
    "    print(type(c))\n",
    "    print(a,b)\n",
    "    return c"
   ]
  },
  {
   "cell_type": "markdown",
   "metadata": {},
   "source": [
    "#### 믕??"
   ]
  },
  {
   "cell_type": "code",
   "execution_count": 29,
   "metadata": {},
   "outputs": [
    {
     "name": "stdout",
     "output_type": "stream",
     "text": [
      "<class 'int'>\n",
      "3 4\n"
     ]
    },
    {
     "data": {
      "text/plain": [
       "3"
      ]
     },
     "execution_count": 29,
     "metadata": {},
     "output_type": "execute_result"
    }
   ],
   "source": [
    "foo(3,4,3)"
   ]
  },
  {
   "cell_type": "code",
   "execution_count": 16,
   "metadata": {
    "collapsed": true
   },
   "outputs": [],
   "source": [
    "foo?"
   ]
  },
  {
   "cell_type": "code",
   "execution_count": 21,
   "metadata": {},
   "outputs": [
    {
     "data": {
      "text/plain": [
       "{'a': 'x', 'b': 11, 'c': list, 'return': 9}"
      ]
     },
     "execution_count": 21,
     "metadata": {},
     "output_type": "execute_result"
    }
   ],
   "source": [
    "foo.__annotations__"
   ]
  },
  {
   "cell_type": "markdown",
   "metadata": {},
   "source": [
    "### keyword argm! *"
   ]
  },
  {
   "cell_type": "code",
   "execution_count": 17,
   "metadata": {
    "collapsed": true
   },
   "outputs": [],
   "source": [
    "def args2_func(arg1, *, arg2, arg3):\n",
    "    print(arg1, arg2, arg3)"
   ]
  },
  {
   "cell_type": "code",
   "execution_count": 18,
   "metadata": {},
   "outputs": [
    {
     "ename": "TypeError",
     "evalue": "args2_func() takes 1 positional argument but 3 were given",
     "output_type": "error",
     "traceback": [
      "\u001b[1;31m---------------------------------------------------------------------------\u001b[0m",
      "\u001b[1;31mTypeError\u001b[0m                                 Traceback (most recent call last)",
      "\u001b[1;32m<ipython-input-18-a38e5eb55623>\u001b[0m in \u001b[0;36m<module>\u001b[1;34m()\u001b[0m\n\u001b[1;32m----> 1\u001b[1;33m \u001b[0margs2_func\u001b[0m\u001b[1;33m(\u001b[0m\u001b[1;36m1\u001b[0m\u001b[1;33m,\u001b[0m\u001b[1;36m2\u001b[0m\u001b[1;33m,\u001b[0m\u001b[1;36m3\u001b[0m\u001b[1;33m)\u001b[0m\u001b[1;33m\u001b[0m\u001b[0m\n\u001b[0m",
      "\u001b[1;31mTypeError\u001b[0m: args2_func() takes 1 positional argument but 3 were given"
     ]
    }
   ],
   "source": [
    "args2_func(1,2,3)"
   ]
  },
  {
   "cell_type": "code",
   "execution_count": 20,
   "metadata": {},
   "outputs": [
    {
     "name": "stdout",
     "output_type": "stream",
     "text": [
      "1 2 3\n"
     ]
    }
   ],
   "source": [
    "args2_func(1,arg2=2,arg3=3)"
   ]
  },
  {
   "cell_type": "code",
   "execution_count": 22,
   "metadata": {},
   "outputs": [
    {
     "data": {
      "text/plain": [
       "{}"
      ]
     },
     "execution_count": 22,
     "metadata": {},
     "output_type": "execute_result"
    }
   ],
   "source": [
    "args2_func.__annotations__"
   ]
  },
  {
   "cell_type": "code",
   "execution_count": 23,
   "metadata": {
    "collapsed": true
   },
   "outputs": [],
   "source": [
    "args2_func?"
   ]
  },
  {
   "cell_type": "code",
   "execution_count": null,
   "metadata": {
    "collapsed": true
   },
   "outputs": [],
   "source": []
  },
  {
   "cell_type": "code",
   "execution_count": 31,
   "metadata": {},
   "outputs": [],
   "source": [
    "def type_checking_func(*args: (int, int, ...)):\n",
    "    print(*args)"
   ]
  },
  {
   "cell_type": "code",
   "execution_count": 32,
   "metadata": {},
   "outputs": [
    {
     "name": "stdout",
     "output_type": "stream",
     "text": [
      "1 2 3\n"
     ]
    }
   ],
   "source": [
    "type_checking_func(1,2,3)"
   ]
  },
  {
   "cell_type": "code",
   "execution_count": null,
   "metadata": {
    "collapsed": true
   },
   "outputs": [],
   "source": []
  },
  {
   "cell_type": "code",
   "execution_count": 33,
   "metadata": {
    "collapsed": true
   },
   "outputs": [],
   "source": [
    "def check_argument_type(func):\n",
    "    def wrapper(*args):\n",
    "        annotations = func.__annotations__\n",
    "        if (\n",
    "            not isinstance(annotations, dict) or\n",
    "            len(annotations) == 0\n",
    "        ):\n",
    "            return func(*args)\n",
    "\n",
    "        try:\n",
    "            check_index = annotations['args'].index(Ellipsis)\n",
    "        except ValueError:\n",
    "            check_index = len(annotations['args']) - 1\n",
    "\n",
    "        for _i, _v in enumerate(args[:check_index]):\n",
    "            _arg_type = annotations['args'][_i]\n",
    "\n",
    "            if isinstance(_v, _arg_type):\n",
    "                continue\n",
    "\n",
    "            raise TypeError(\n",
    "                \"The type of '{}' does not match '{}' type\".format(\n",
    "                    _v, _arg_type.__name__\n",
    "                )\n",
    "            )\n",
    "        return func(*args)\n",
    "    return wrapper"
   ]
  },
  {
   "cell_type": "markdown",
   "metadata": {},
   "source": [
    "#### 믕????"
   ]
  },
  {
   "cell_type": "code",
   "execution_count": 36,
   "metadata": {},
   "outputs": [
    {
     "name": "stdout",
     "output_type": "stream",
     "text": [
      "1 2 3 a\n"
     ]
    }
   ],
   "source": [
    "@check_argument_type\n",
    "def hello_func(*args: (int, int, ...)):\n",
    "    print(*args)\n",
    "    \n",
    "hello_func(1,2,'3','a')"
   ]
  },
  {
   "cell_type": "code",
   "execution_count": null,
   "metadata": {
    "collapsed": true
   },
   "outputs": [],
   "source": []
  },
  {
   "cell_type": "markdown",
   "metadata": {},
   "source": [
    "### 데코레이션\n",
    "@블라블라 . 이 바로 아래에 있는 함수를 통째로 '블라블라'에 넘기겠다?"
   ]
  },
  {
   "cell_type": "code",
   "execution_count": null,
   "metadata": {
    "collapsed": true
   },
   "outputs": [],
   "source": []
  }
 ],
 "metadata": {
  "kernelspec": {
   "display_name": "Python 3",
   "language": "python",
   "name": "python3"
  },
  "language_info": {
   "codemirror_mode": {
    "name": "ipython",
    "version": 3
   },
   "file_extension": ".py",
   "mimetype": "text/x-python",
   "name": "python",
   "nbconvert_exporter": "python",
   "pygments_lexer": "ipython3",
   "version": "3.6.3"
  }
 },
 "nbformat": 4,
 "nbformat_minor": 2
}
