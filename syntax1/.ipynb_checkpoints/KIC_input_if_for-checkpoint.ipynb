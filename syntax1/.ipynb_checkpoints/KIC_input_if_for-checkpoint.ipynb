{
 "cells": [
  {
   "cell_type": "markdown",
   "metadata": {},
   "source": [
    "## 데분양성\n",
    "수업. 2018.2.21.수~"
   ]
  },
  {
   "cell_type": "markdown",
   "metadata": {},
   "source": [
    "### input()\n",
    "임의값 입력하기. return이 str_문자열. 숫자 연산하려면 강제 형변환!"
   ]
  },
  {
   "cell_type": "code",
   "execution_count": 46,
   "metadata": {},
   "outputs": [
    {
     "name": "stdout",
     "output_type": "stream",
     "text": [
      "숫자하나 입력해봐: 34\n",
      "<class 'str'>\n"
     ]
    }
   ],
   "source": [
    "# in1= input(\"숫자하나 입력해봐: \")\n",
    "# print(type(in1))"
   ]
  },
  {
   "cell_type": "markdown",
   "metadata": {},
   "source": [
    "##### 예제: 거스름돈 계산"
   ]
  },
  {
   "cell_type": "code",
   "execution_count": 47,
   "metadata": {
    "collapsed": true
   },
   "outputs": [],
   "source": [
    "def whatChng(price, pay):\n",
    "    changes= int(pay)- int(price)\n",
    "    if 0< changes:\n",
    "        print(\"잔 돈: {0}\".format(changes))\n",
    "    elif 0> changes:\n",
    "        print(\"돈 더내렴: {0}\".format(-changes))\n",
    "    else:\n",
    "        print(\"딱 맞아\")"
   ]
  },
  {
   "cell_type": "code",
   "execution_count": 49,
   "metadata": {
    "collapsed": true
   },
   "outputs": [],
   "source": [
    "# while 0< int(pay):\n",
    "#     price= input(\"상품가: \")\n",
    "#     pay= input(\"낸 돈: \")\n",
    "#     whatChng(price, pay)"
   ]
  },
  {
   "cell_type": "code",
   "execution_count": 50,
   "metadata": {},
   "outputs": [
    {
     "data": {
      "text/plain": [
       "1"
      ]
     },
     "execution_count": 50,
     "metadata": {},
     "output_type": "execute_result"
    }
   ],
   "source": [
    "9//2\n",
    "9%2"
   ]
  },
  {
   "cell_type": "markdown",
   "metadata": {},
   "source": [
    "예제: 지폐로 교환할돈은?"
   ]
  },
  {
   "cell_type": "code",
   "execution_count": 61,
   "metadata": {},
   "outputs": [
    {
     "name": "stdout",
     "output_type": "stream",
     "text": [
      "지폐로 교환할 돈은 얼마? 12345\n",
      "5만원짜리:    0장\n",
      "1만원짜리:    1장\n",
      "5천원짜리:    0장\n",
      "1천원짜리:    2장\n",
      "지폐 미만:  345원\n"
     ]
    }
   ],
   "source": [
    "money= input(\"지폐로 교환할 돈은 얼마? \")\n",
    "int_money= int(money)\n",
    "man5= int_money//50000\n",
    "man1= (int_money%50000)//10000\n",
    "cheon5= (int_money%10000)//5000\n",
    "cheon1= (int_money%5000)//1000\n",
    "changes= int_money%1000\n",
    "\n",
    "print(\"5만원짜리: %4d장\" % (man5))\n",
    "print(\"1만원짜리: %4d장\" % (man1))\n",
    "print(\"5천원짜리: %4d장\" % cheon5)\n",
    "print(\"1천원짜리: %4d장\" % cheon1)\n",
    "print(\"지폐 미만: %4d원\" % changes)"
   ]
  },
  {
   "cell_type": "code",
   "execution_count": 53,
   "metadata": {
    "scrolled": true
   },
   "outputs": [
    {
     "name": "stdout",
     "output_type": "stream",
     "text": [
      "50\n",
      "50\n",
      "-1\n"
     ]
    }
   ],
   "source": [
    "money= \"50\"\n",
    "int1_money= int(money); print(int1_money)\n",
    "int2_money= int(int1_money); print(int2_money)\n",
    "print(money.find('-'))"
   ]
  },
  {
   "cell_type": "code",
   "execution_count": 54,
   "metadata": {
    "collapsed": true
   },
   "outputs": [],
   "source": [
    "def changes_paper(input_money):\n",
    "    money= int(input_money)\n",
    "    man5= money//50000\n",
    "    man1= (money%50000)//10000\n",
    "    cheon5= (money%10000)//5000\n",
    "    cheon1= (money%5000)//1000\n",
    "    changes= money%1000\n",
    "    \n",
    "    print(\"5만원짜리: %4d장\" % man5)\n",
    "    print(\"1만원짜리: %4d장\" % man1)\n",
    "    print(\"5천원짜리: %4d장\" % cheon5)\n",
    "    print(\"1천원짜리: %4d장\" % cheon1)\n",
    "    print(\"지폐 미만: %4d원\" % changes)"
   ]
  },
  {
   "cell_type": "code",
   "execution_count": 57,
   "metadata": {},
   "outputs": [
    {
     "name": "stdout",
     "output_type": "stream",
     "text": [
      "지폐로 교환할 돈은 얼마? 없엉\n",
      "니네돈은 문자냐\n",
      "지폐로 교환할 돈은 얼마? 37400\n",
      "5만원짜리:    0장\n",
      "1만원짜리:    3장\n",
      "5천원짜리:    1장\n",
      "1천원짜리:    2장\n",
      "지폐 미만:  400원\n",
      "지폐로 교환할 돈은 얼마? -1\n"
     ]
    }
   ],
   "source": [
    "while 1==1:\n",
    "    money= input(\"지폐로 교환할 돈은 얼마? \")\n",
    "    if -1 != money.find('-'):\n",
    "        break\n",
    "    elif money.isnumeric():\n",
    "        changes_paper(money)\n",
    "    else:\n",
    "        print(\"니네돈은 문자냐\")"
   ]
  },
  {
   "cell_type": "code",
   "execution_count": null,
   "metadata": {
    "collapsed": true
   },
   "outputs": [],
   "source": []
  },
  {
   "cell_type": "code",
   "execution_count": 60,
   "metadata": {
    "scrolled": true
   },
   "outputs": [
    {
     "name": "stdout",
     "output_type": "stream",
     "text": [
      "첨부터감싸면 되잖1df3\n"
     ]
    },
    {
     "ename": "ValueError",
     "evalue": "invalid literal for int() with base 10: '1df3'",
     "output_type": "error",
     "traceback": [
      "\u001b[1;31m---------------------------------------------------------------------------\u001b[0m",
      "\u001b[1;31mValueError\u001b[0m                                Traceback (most recent call last)",
      "\u001b[1;32m<ipython-input-60-2ebc58979939>\u001b[0m in \u001b[0;36m<module>\u001b[1;34m()\u001b[0m\n\u001b[0;32m      1\u001b[0m \u001b[1;31m#그냥\u001b[0m\u001b[1;33m\u001b[0m\u001b[1;33m\u001b[0m\u001b[0m\n\u001b[1;32m----> 2\u001b[1;33m \u001b[0mnum1\u001b[0m\u001b[1;33m=\u001b[0m \u001b[0mint\u001b[0m\u001b[1;33m(\u001b[0m\u001b[0minput\u001b[0m\u001b[1;33m(\u001b[0m\u001b[1;34m\"첨부터감싸면 되잖\"\u001b[0m\u001b[1;33m)\u001b[0m\u001b[1;33m)\u001b[0m\u001b[1;33m\u001b[0m\u001b[0m\n\u001b[0m\u001b[0;32m      3\u001b[0m \u001b[0mprint\u001b[0m\u001b[1;33m(\u001b[0m\u001b[0mnum1\u001b[0m\u001b[1;33m)\u001b[0m\u001b[1;33m\u001b[0m\u001b[0m\n",
      "\u001b[1;31mValueError\u001b[0m: invalid literal for int() with base 10: '1df3'"
     ]
    }
   ],
   "source": [
    "# #문자넣으면 터짐\n",
    "#input(\"뭐시기\") 보단, print(\"뭐시기\\\\\") 가 낫다. input안에는 escape 문자가 안 들어가서\n",
    "# num1= int(input(\"첨부터감싸면 되잖\"))\n",
    "# print(num1)"
   ]
  },
  {
   "cell_type": "code",
   "execution_count": null,
   "metadata": {
    "collapsed": true
   },
   "outputs": [],
   "source": []
  },
  {
   "cell_type": "markdown",
   "metadata": {},
   "source": [
    "### if\n",
    "180221"
   ]
  },
  {
   "cell_type": "code",
   "execution_count": 8,
   "metadata": {},
   "outputs": [
    {
     "name": "stdout",
     "output_type": "stream",
     "text": [
      "oh no\n"
     ]
    }
   ],
   "source": [
    "a= 4;\n",
    "if 5==a:\n",
    "    print(\"에이 몇 {0}\".format(a))\n",
    "else:\n",
    "    print(\"oh no\")"
   ]
  },
  {
   "cell_type": "markdown",
   "metadata": {},
   "source": [
    "##### 학점 출력"
   ]
  },
  {
   "cell_type": "code",
   "execution_count": 32,
   "metadata": {
    "scrolled": true
   },
   "outputs": [
    {
     "name": "stdout",
     "output_type": "stream",
     "text": [
      "점수를 입력하세요: \n",
      "101\n",
      "100밑으로 입력점\n",
      "합격\n"
     ]
    }
   ],
   "source": [
    "print(\"점수를 입력하세요: \")\n",
    "score= input()\n",
    "\n",
    "if score.isnumeric():\n",
    "    score= int(score)\n",
    "else:\n",
    "    print(\"숫자로만 입력해줘\")\n",
    "\n",
    "if 100< score:\n",
    "    print(\"100밑으로 입력점\")\n",
    "elif 95<= score:\n",
    "    print(\"A+\")\n",
    "elif 90<= score:\n",
    "    print(\"A\")\n",
    "elif 85<= score:\n",
    "    print(\"B+\")\n",
    "elif 80<= score:\n",
    "    print(\"B\")\n",
    "elif 75<= score:\n",
    "    print(\"C+ 재수강가능\")\n",
    "elif 70<= score:\n",
    "    print(\"C0 재수강ㅊㅊ\")\n",
    "elif 65<= score:\n",
    "    print(\"D+ 교수님이 너 싫어함\")\n",
    "elif 60<= score:\n",
    "    print(\"D0 교수님이 너진짜 싫어함 ㅇㅇ\")\n",
    "else:\n",
    "    print(\"F\")\n",
    "\n",
    "# 삼항 연산자: T일때 if 조건 else F일때\n",
    "res= '합격' if 70<= score else '불합격'; print(res)"
   ]
  },
  {
   "cell_type": "code",
   "execution_count": null,
   "metadata": {
    "collapsed": true
   },
   "outputs": [],
   "source": []
  },
  {
   "cell_type": "code",
   "execution_count": 31,
   "metadata": {},
   "outputs": [
    {
     "name": "stdout",
     "output_type": "stream",
     "text": [
      "100보다 작음\n",
      "if랑 무관\n"
     ]
    }
   ],
   "source": [
    "a= 80\n",
    "if a< 100:\n",
    "    print(\"100보다 작음\")\n",
    "    pass\n",
    "print(\"if랑 무관\")"
   ]
  },
  {
   "cell_type": "code",
   "execution_count": null,
   "metadata": {
    "collapsed": true
   },
   "outputs": [],
   "source": []
  },
  {
   "cell_type": "code",
   "execution_count": 25,
   "metadata": {},
   "outputs": [
    {
     "name": "stdout",
     "output_type": "stream",
     "text": [
      "['사과', '배']\n"
     ]
    }
   ],
   "source": [
    "fruit= ['사과','배']; print(fruit)"
   ]
  },
  {
   "cell_type": "code",
   "execution_count": 26,
   "metadata": {},
   "outputs": [
    {
     "data": {
      "text/plain": [
       "['사과', '배', '귤']"
      ]
     },
     "execution_count": 26,
     "metadata": {},
     "output_type": "execute_result"
    }
   ],
   "source": [
    "fruit+= '귤'; fruit"
   ]
  },
  {
   "cell_type": "code",
   "execution_count": 27,
   "metadata": {},
   "outputs": [
    {
     "data": {
      "text/plain": [
       "['사과', '배', '귤', '포도', '토끼']"
      ]
     },
     "execution_count": 27,
     "metadata": {},
     "output_type": "execute_result"
    }
   ],
   "source": [
    "fruit+= ['포도','토끼']; fruit"
   ]
  },
  {
   "cell_type": "code",
   "execution_count": 28,
   "metadata": {},
   "outputs": [
    {
     "data": {
      "text/plain": [
       "'토끼'"
      ]
     },
     "execution_count": 28,
     "metadata": {},
     "output_type": "execute_result"
    }
   ],
   "source": [
    "fruit.pop()"
   ]
  },
  {
   "cell_type": "code",
   "execution_count": null,
   "metadata": {
    "collapsed": true
   },
   "outputs": [],
   "source": []
  },
  {
   "cell_type": "code",
   "execution_count": null,
   "metadata": {
    "collapsed": true
   },
   "outputs": [],
   "source": []
  },
  {
   "cell_type": "markdown",
   "metadata": {},
   "source": [
    "#### for, range"
   ]
  },
  {
   "cell_type": "code",
   "execution_count": 35,
   "metadata": {
    "collapsed": true
   },
   "outputs": [],
   "source": [
    "import random"
   ]
  },
  {
   "cell_type": "code",
   "execution_count": 38,
   "metadata": {},
   "outputs": [
    {
     "data": {
      "text/plain": [
       "[9, 3, 0, 1, 3, 6, 3, 9, 1, 1]"
      ]
     },
     "execution_count": 38,
     "metadata": {},
     "output_type": "execute_result"
    }
   ],
   "source": [
    "numbers= []\n",
    "for num in range(0,10):\n",
    "    numbers.append(random.randrange(0,10))\n",
    "    #     numbers+= random.randrange(0,10)\n",
    "numbers"
   ]
  },
  {
   "cell_type": "code",
   "execution_count": 40,
   "metadata": {},
   "outputs": [
    {
     "data": {
      "text/plain": [
       "[0, 1, 0, 1, 1, 3, 5, 1, 9, 5]"
      ]
     },
     "execution_count": 40,
     "metadata": {},
     "output_type": "execute_result"
    }
   ],
   "source": [
    "[random.randrange(0,10) for num1 in range(0,10)]"
   ]
  },
  {
   "cell_type": "code",
   "execution_count": null,
   "metadata": {
    "collapsed": true
   },
   "outputs": [],
   "source": []
  },
  {
   "cell_type": "code",
   "execution_count": 42,
   "metadata": {},
   "outputs": [
    {
     "data": {
      "text/plain": [
       "[0, 1, 2, 3, 4, 5, 6, 7, 8, 9]"
      ]
     },
     "execution_count": 42,
     "metadata": {},
     "output_type": "execute_result"
    }
   ],
   "source": [
    "[num2 for num2 in range(0,10)]"
   ]
  },
  {
   "cell_type": "code",
   "execution_count": 43,
   "metadata": {},
   "outputs": [
    {
     "data": {
      "text/plain": [
       "[0, 1, 2, 3, 4, 5, 6, 7, 8]"
      ]
     },
     "execution_count": 43,
     "metadata": {},
     "output_type": "execute_result"
    }
   ],
   "source": [
    "[num2 for num2 in range(0,9)]"
   ]
  },
  {
   "cell_type": "code",
   "execution_count": 44,
   "metadata": {},
   "outputs": [
    {
     "name": "stdout",
     "output_type": "stream",
     "text": [
      "[1, 2, 3, 4, 5]\n",
      "[6, 7, 8]\n"
     ]
    }
   ],
   "source": [
    "st1= [1,2,3,4,5,6,7,8,9]\n",
    "print(st1[0:5])\n",
    "print(st1[5:8])"
   ]
  },
  {
   "cell_type": "code",
   "execution_count": null,
   "metadata": {
    "collapsed": true
   },
   "outputs": [],
   "source": []
  },
  {
   "cell_type": "markdown",
   "metadata": {},
   "source": [
    "#### eval()\n",
    "evil"
   ]
  },
  {
   "cell_type": "code",
   "execution_count": 46,
   "metadata": {},
   "outputs": [
    {
     "data": {
      "text/plain": [
       "'6'"
      ]
     },
     "execution_count": 46,
     "metadata": {},
     "output_type": "execute_result"
    }
   ],
   "source": [
    "a= str(1+2+3); a"
   ]
  },
  {
   "cell_type": "code",
   "execution_count": 47,
   "metadata": {},
   "outputs": [
    {
     "data": {
      "text/plain": [
       "6"
      ]
     },
     "execution_count": 47,
     "metadata": {},
     "output_type": "execute_result"
    }
   ],
   "source": [
    "eval(a)"
   ]
  },
  {
   "cell_type": "code",
   "execution_count": null,
   "metadata": {
    "collapsed": true
   },
   "outputs": [],
   "source": []
  },
  {
   "cell_type": "markdown",
   "metadata": {},
   "source": [
    "#### 종합계산기\n",
    "1. 입력한 수식 계산 2. 두수 사이 합계"
   ]
  },
  {
   "cell_type": "code",
   "execution_count": 93,
   "metadata": {},
   "outputs": [
    {
     "name": "stdout",
     "output_type": "stream",
     "text": [
      "1.입력한 수식 계산\n",
      "2. 두 수 사이 합계\n",
      "\n",
      "1\n",
      "***수식을 입력하세요:\n",
      "12ㅁㄴㅇㄹ\n",
      "수식을 바르게 입력해주세요\n"
     ]
    }
   ],
   "source": [
    "print(\"1.입력한 수식 계산\\n2. 두 수 사이 합계\\n\")\n",
    "user_choice= input()\n",
    "\n",
    "if -1!= user_choice.find('1'):\n",
    "    print(\"*\"*3+\"수식을 입력하세요:\")\n",
    "    user_input= input()\n",
    "    \n",
    "    if -1!= user_input.find('r'):\n",
    "        print(\"^0^\")\n",
    "    elif user_input.isalpha() or user_input.isalnum():\n",
    "        print(\"수식을 바르게 입력해주세요\")\n",
    "    else:    \n",
    "        res= eval(user_input)\n",
    "        print(\"{0:10} 결과는 {1:5} 입니다\".format(user_input, res))\n",
    "elif -1!= user_choice.find('2'):\n",
    "    print(\"정수 2개 입력이염: \")\n",
    "    user_val1= input()\n",
    "    user_val2= input()\n",
    "    \n",
    "    if user_val1 > user_val2:\n",
    "        user_val1, user_val2= user_val2, user_val1\n",
    "    #print(\"%s %s\" % (user_val1, user_val2))\n",
    "    \n",
    "    user_val1= int(user_val1)\n",
    "    user_val2= int(user_val2)\n",
    "    #print(\"%d %d\" % (user_val1, user_val2))\n",
    "    \n",
    "    sum1= 0\n",
    "    for val in range(user_val1+1, user_val2):\n",
    "        sum1+= val\n",
    "    \n",
    "    print(\"{0}, {1} 사이값들 합계: {2}\".format(user_val1, user_val2, sum1))"
   ]
  },
  {
   "cell_type": "code",
   "execution_count": null,
   "metadata": {
    "collapsed": true
   },
   "outputs": [],
   "source": []
  },
  {
   "cell_type": "code",
   "execution_count": 85,
   "metadata": {},
   "outputs": [
    {
     "name": "stdout",
     "output_type": "stream",
     "text": [
      "['5', '4*2/1-3']\n",
      "['4', '2/1-3']\n"
     ]
    }
   ],
   "source": [
    "# C에서 eval없이 계산기 가능했었지. 근데 비추\n",
    "# a= '5+4*2/1-3'\n",
    "# a1= a.split('+'); print(a1)\n",
    "# a2= a1[1].split('*'); print(a2)\n",
    "# #.split('/').split('-')"
   ]
  },
  {
   "cell_type": "code",
   "execution_count": null,
   "metadata": {
    "collapsed": true
   },
   "outputs": [],
   "source": []
  },
  {
   "cell_type": "code",
   "execution_count": 150,
   "metadata": {},
   "outputs": [
    {
     "name": "stdout",
     "output_type": "stream",
     "text": [
      "1에서 10까지 합계: 55\n"
     ]
    }
   ],
   "source": [
    "sum1= 0\n",
    "for i in range(1,10+1):\n",
    "    sum1+= i\n",
    "print(\"1에서 10까지 합계: {0}\".format(sum1))"
   ]
  },
  {
   "cell_type": "code",
   "execution_count": 82,
   "metadata": {},
   "outputs": [
    {
     "name": "stdout",
     "output_type": "stream",
     "text": [
      "1 2 4 \n",
      "7\n"
     ]
    }
   ],
   "source": [
    "# 3배수 제외하고 합계\n",
    "sum1= 0\n",
    "for i in range(5):\n",
    "    if i%3 == 0:\n",
    "        continue\n",
    "    sum1+= i\n",
    "    print(\"%d \"%i, end=\"\")\n",
    "print(\"\\n%d\"%sum1)"
   ]
  },
  {
   "cell_type": "code",
   "execution_count": null,
   "metadata": {
    "collapsed": true
   },
   "outputs": [],
   "source": []
  },
  {
   "cell_type": "markdown",
   "metadata": {},
   "source": [
    "#### 구구단 수평출력"
   ]
  },
  {
   "cell_type": "code",
   "execution_count": 106,
   "metadata": {},
   "outputs": [
    {
     "data": {
      "text/plain": [
       "[1, 3, 5, 7, 9]"
      ]
     },
     "execution_count": 106,
     "metadata": {},
     "output_type": "execute_result"
    }
   ],
   "source": [
    "[a for a in range(1,10,2)]"
   ]
  },
  {
   "cell_type": "code",
   "execution_count": 115,
   "metadata": {},
   "outputs": [
    {
     "data": {
      "text/plain": [
       "[2, 1, 0, -1, -2]"
      ]
     },
     "execution_count": 115,
     "metadata": {},
     "output_type": "execute_result"
    }
   ],
   "source": [
    "[a for a in range(2,-3,-1)]"
   ]
  },
  {
   "cell_type": "code",
   "execution_count": 96,
   "metadata": {},
   "outputs": [
    {
     "data": {
      "text/plain": [
       "[1, 2, 3, 4, 5, 6, 7, 8, 9]"
      ]
     },
     "execution_count": 96,
     "metadata": {},
     "output_type": "execute_result"
    }
   ],
   "source": [
    "[1*_19 for _19 in range(1,10)]"
   ]
  },
  {
   "cell_type": "code",
   "execution_count": null,
   "metadata": {
    "collapsed": true
   },
   "outputs": [],
   "source": []
  },
  {
   "cell_type": "code",
   "execution_count": 119,
   "metadata": {},
   "outputs": [
    {
     "name": "stdout",
     "output_type": "stream",
     "text": [
      "12345\n",
      "\n",
      "1\n",
      "2\n",
      "3\n",
      "4\n",
      "5\n"
     ]
    }
   ],
   "source": [
    "# print 수평 출력\n",
    "for i in range(1,6,1):\n",
    "    print(\"%d\" %i, end= \"\" )\n",
    "print(\"\\n\")\n",
    "for i in range(1,6,1):\n",
    "    print(\"%d\" %i, end= \"\\n\" )"
   ]
  },
  {
   "cell_type": "code",
   "execution_count": 120,
   "metadata": {},
   "outputs": [
    {
     "name": "stdout",
     "output_type": "stream",
     "text": [
      " # 2단 #  # 3단 #  # 4단 #  # 5단 #  # 6단 #  # 7단 #  # 8단 #  # 9단 # \n"
     ]
    }
   ],
   "source": [
    "# print 옵션 end를 몰랐을 때\n",
    "prn99= ''\n",
    "for i in range(2,10):\n",
    "    prn99= prn99+\" # \"+str(i)+\"단 # \"\n",
    "    \n",
    "print(prn99)"
   ]
  },
  {
   "cell_type": "code",
   "execution_count": 121,
   "metadata": {},
   "outputs": [
    {
     "name": "stdout",
     "output_type": "stream",
     "text": [
      " # 2단 #  # 3단 #  # 4단 #  # 5단 #  # 6단 #  # 7단 #  # 8단 #  # 9단 # "
     ]
    }
   ],
   "source": [
    "for i in range(2,10):\n",
    "    print(\" # %d단 # \"%i, end=\"\")"
   ]
  },
  {
   "cell_type": "code",
   "execution_count": null,
   "metadata": {
    "collapsed": true
   },
   "outputs": [],
   "source": []
  },
  {
   "cell_type": "code",
   "execution_count": 17,
   "metadata": {
    "scrolled": false
   },
   "outputs": [
    {
     "name": "stdout",
     "output_type": "stream",
     "text": [
      "#  2단  #  #  3단  #  #  4단  #  #  5단  #  #  6단  #  #  7단  #  #  8단  #  #  9단  #  \n",
      "\n",
      "2X  1=  2  3X  1=  3  4X  1=  4  5X  1=  5  6X  1=  6  7X  1=  7  8X  1=  8  9X  1=  9  \n",
      "2X  2=  4  3X  2=  6  4X  2=  8  5X  2= 10  6X  2= 12  7X  2= 14  8X  2= 16  9X  2= 18  \n",
      "2X  3=  6  3X  3=  9  4X  3= 12  5X  3= 15  6X  3= 18  7X  3= 21  8X  3= 24  9X  3= 27  \n",
      "2X  4=  8  3X  4= 12  4X  4= 16  5X  4= 20  6X  4= 24  7X  4= 28  8X  4= 32  9X  4= 36  \n",
      "2X  5= 10  3X  5= 15  4X  5= 20  5X  5= 25  6X  5= 30  7X  5= 35  8X  5= 40  9X  5= 45  \n",
      "2X  6= 12  3X  6= 18  4X  6= 24  5X  6= 30  6X  6= 36  7X  6= 42  8X  6= 48  9X  6= 54  \n",
      "2X  7= 14  3X  7= 21  4X  7= 28  5X  7= 35  6X  7= 42  7X  7= 49  8X  7= 56  9X  7= 63  \n",
      "2X  8= 16  3X  8= 24  4X  8= 32  5X  8= 40  6X  8= 48  7X  8= 56  8X  8= 64  9X  8= 72  \n",
      "2X  9= 18  3X  9= 27  4X  9= 36  5X  9= 45  6X  9= 54  7X  9= 63  8X  9= 72  9X  9= 81  \n"
     ]
    }
   ],
   "source": [
    "n= 9\n",
    "for title in range(2,10):\n",
    "    print(\"#%3d단  #  \"%title, end=\"\")\n",
    "\n",
    "print(\"\\n\")\n",
    "for i in range(1, n+1):\n",
    "    for j in range(2, 10):\n",
    "        print(\"{0}X{1:3}={2:3}  \".format(j,i,j*i), end= \"\")\n",
    "    print(\"\")"
   ]
  },
  {
   "cell_type": "code",
   "execution_count": null,
   "metadata": {
    "collapsed": true
   },
   "outputs": [],
   "source": []
  },
  {
   "cell_type": "code",
   "execution_count": 20,
   "metadata": {
    "collapsed": true
   },
   "outputs": [],
   "source": [
    "# 한지웅\n",
    "# # 제목문\n",
    "# print(\"구구단 > < 졸리다 잠이온다 배고프다\")\n",
    "\n",
    "# # 단수 포문\n",
    "# for a in range(1,10):\n",
    "#     print(\"  #%2d단#  \"%a,end=\"\\t\")\n",
    "    \n",
    "# #구구단 포문    \n",
    "# for i in range(1,10):\n",
    "#         for j in range(1,10):\n",
    "#             print(\"%d X %d =%2d \"%(j,i,i*j),end=\"\\t\")"
   ]
  },
  {
   "cell_type": "code",
   "execution_count": null,
   "metadata": {
    "collapsed": true
   },
   "outputs": [],
   "source": []
  },
  {
   "cell_type": "code",
   "execution_count": null,
   "metadata": {
    "collapsed": true
   },
   "outputs": [],
   "source": []
  },
  {
   "cell_type": "code",
   "execution_count": 144,
   "metadata": {},
   "outputs": [
    {
     "data": {
      "text/plain": [
       "[4, 2, 0, -2, -4]"
      ]
     },
     "execution_count": 144,
     "metadata": {},
     "output_type": "execute_result"
    }
   ],
   "source": [
    "[i for i in range(4,-4-1,-2)]"
   ]
  },
  {
   "cell_type": "markdown",
   "metadata": {},
   "source": [
    "#### 다이아 출력"
   ]
  },
  {
   "cell_type": "code",
   "execution_count": 133,
   "metadata": {},
   "outputs": [
    {
     "name": "stdout",
     "output_type": "stream",
     "text": [
      "    *\n"
     ]
    }
   ],
   "source": [
    "# print('%'+str(i)+'s' % '*' ) 응 안 돼\n",
    "print('%5s' % '*')"
   ]
  },
  {
   "cell_type": "code",
   "execution_count": 31,
   "metadata": {},
   "outputs": [
    {
     "name": "stdout",
     "output_type": "stream",
     "text": [
      "      ★\n",
      "    ★★★\n",
      "  ★★★★★\n",
      "★★★★★★★\n",
      "  ★★★★★\n",
      "    ★★★\n",
      "      ★\n"
     ]
    }
   ],
   "source": [
    "n= 7\n",
    "for i in range(n-1,-n,-1):\n",
    "#     print(i, end=\"\")\n",
    "    if n/2< abs(i):\n",
    "        continue\n",
    "    print('  '*abs(i)+'\\u2605'*(n-abs(i)*2))"
   ]
  },
  {
   "cell_type": "code",
   "execution_count": 19,
   "metadata": {},
   "outputs": [
    {
     "name": "stdout",
     "output_type": "stream",
     "text": [
      "        ◇\n",
      "      ◆◆◆\n",
      "    ◇◇◇◇◇\n",
      "  ◆◆◆◆◆◆◆\n",
      "◇◇◇◇◇◇◇◇◇\n",
      "  ◆◆◆◆◆◆◆\n",
      "    ◇◇◇◇◇\n",
      "      ◆◆◆\n",
      "        ◇\n"
     ]
    }
   ],
   "source": [
    "n= 9\n",
    "for i in range(n-1,-n,-1):\n",
    "    if n/2< abs(i):\n",
    "        continue\n",
    "    if i%2== 0:\n",
    "        ch1= '\\u25c7'\n",
    "    else:\n",
    "        ch1= '\\u25c6'\n",
    "    print('  '*abs(i)+ch1*(n-abs(i)*2))"
   ]
  },
  {
   "cell_type": "code",
   "execution_count": 37,
   "metadata": {},
   "outputs": [
    {
     "name": "stdout",
     "output_type": "stream",
     "text": [
      "***TTT\n"
     ]
    }
   ],
   "source": [
    "print('*'*3+'-'*0+'$'*(-2)+'TTT') # 음수곱이면 출력 X"
   ]
  },
  {
   "cell_type": "code",
   "execution_count": 20,
   "metadata": {
    "scrolled": true
   },
   "outputs": [
    {
     "name": "stdout",
     "output_type": "stream",
     "text": [
      "      ◆\n",
      "    ◆◆◆\n",
      "  ◆◆◆◆◆\n",
      "◆◆◆◆◆◆◆\n",
      "  ◆◆◆◆◆\n",
      "    ◆◆◆\n",
      "      ◆\n"
     ]
    }
   ],
   "source": [
    "n= 7\n",
    "#print(n/2) # 7/2= 3.5\n",
    "for i in range(n-1,-n,-1):\n",
    "    if n/2< abs(i):\n",
    "        continue\n",
    "    ch1= '\\u25c6'\n",
    "    c1= abs(i)\n",
    "\n",
    "    print('  '*c1+ch1*(n-abs(i)*2))"
   ]
  },
  {
   "cell_type": "code",
   "execution_count": 22,
   "metadata": {},
   "outputs": [
    {
     "name": "stdout",
     "output_type": "stream",
     "text": [
      "      ◆\n",
      "    ◆  ◆\n",
      "  ◆      ◆\n",
      "◆          ◆\n",
      "  ◆      ◆\n",
      "    ◆  ◆\n",
      "      ◆\n"
     ]
    }
   ],
   "source": [
    "import math\n",
    "n= 7\n",
    "if n%2== 0:\n",
    "    n+= 1\n",
    "\n",
    "for i in range(n-1,-n,-1):\n",
    "    if n/2< abs(i):\n",
    "        continue\n",
    "    #print(i, n/2)\n",
    "    ch_on= '\\u25c6'\n",
    "    ch_off= '  '\n",
    "    \n",
    "    c1= abs(i)\n",
    "    c2= 1\n",
    "    c3= abs(i)*(-2)+(n-2) # lm(c3~ abs_i, df2), lm(c3~ abs_i, df3_5) 일반식\n",
    "    c4= 0 if math.floor(n/2)== abs(i) else 1\n",
    "\n",
    "    print(ch_off*c1+ ch_on*c2+ ch_off*c3+ ch_on* c4)"
   ]
  },
  {
   "cell_type": "code",
   "execution_count": null,
   "metadata": {
    "collapsed": true
   },
   "outputs": [],
   "source": []
  },
  {
   "cell_type": "markdown",
   "metadata": {},
   "source": [
    "### 탈출\n",
    "break, continue, exit()"
   ]
  },
  {
   "cell_type": "code",
   "execution_count": 2,
   "metadata": {
    "collapsed": true
   },
   "outputs": [],
   "source": [
    "# Jupyter에서 쓰면 Kernel down됨 ;;\n",
    "# exit(0): 비정상 종료\n",
    "# exit(1): 정상 종료\n",
    "# if input()== '-1':\n",
    "#     exit(0)"
   ]
  },
  {
   "cell_type": "code",
   "execution_count": null,
   "metadata": {
    "collapsed": true
   },
   "outputs": [],
   "source": []
  },
  {
   "cell_type": "markdown",
   "metadata": {},
   "source": [
    "##### 예제: 최초로 1000이 넘게 하는 숫자 @sum"
   ]
  },
  {
   "cell_type": "code",
   "execution_count": 6,
   "metadata": {},
   "outputs": [
    {
     "name": "stdout",
     "output_type": "stream",
     "text": [
      "46 1035\n"
     ]
    }
   ],
   "source": [
    "sum1= 0\n",
    "i= 1\n",
    "while sum1< 1000:\n",
    "    sum1+= i\n",
    "    i+=1\n",
    "print(i,  sum1)"
   ]
  },
  {
   "cell_type": "code",
   "execution_count": null,
   "metadata": {
    "collapsed": true
   },
   "outputs": [],
   "source": []
  },
  {
   "cell_type": "code",
   "execution_count": 14,
   "metadata": {},
   "outputs": [
    {
     "name": "stdout",
     "output_type": "stream",
     "text": [
      "즹 닭 즹 닭 즹 닭 즹 닭 즹 닭 즹 닭 즹 닭 즹 닭 즹 닭 즹 닭 즹 닭 즹 닭 "
     ]
    }
   ],
   "source": [
    "import random\n",
    "while 3!=random.randrange(1,30):\n",
    "    print(\"즹 닭 \", end=\"\")"
   ]
  },
  {
   "cell_type": "code",
   "execution_count": 12,
   "metadata": {},
   "outputs": [
    {
     "data": {
      "text/plain": [
       "6"
      ]
     },
     "execution_count": 12,
     "metadata": {},
     "output_type": "execute_result"
    }
   ],
   "source": [
    "random.randrange(1,10)"
   ]
  }
 ],
 "metadata": {
  "kernelspec": {
   "display_name": "Python 3",
   "language": "python",
   "name": "python3"
  },
  "language_info": {
   "codemirror_mode": {
    "name": "ipython",
    "version": 3
   },
   "file_extension": ".py",
   "mimetype": "text/x-python",
   "name": "python",
   "nbconvert_exporter": "python",
   "pygments_lexer": "ipython3",
   "version": "3.6.3"
  }
 },
 "nbformat": 4,
 "nbformat_minor": 2
}
