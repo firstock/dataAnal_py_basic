{
 "cells": [
  {
   "cell_type": "code",
   "execution_count": 9,
   "metadata": {},
   "outputs": [
    {
     "name": "stdout",
     "output_type": "stream",
     "text": [
      " D 드라이브의 볼륨에는 이름이 없습니다.\n",
      " 볼륨 일련 번호: 504F-F621\n",
      "\n",
      " D:\\github\\dataAnal_py_basic\\syntax1 디렉터리\n",
      "\n",
      "2018-02-27  오후 11:39    <DIR>          .\n",
      "2018-02-27  오후 11:39    <DIR>          ..\n",
      "2018-02-27  오후 11:37    <DIR>          .ipynb_checkpoints\n",
      "2018-02-27  오후 11:37    <DIR>          __pycache__\n",
      "2018-02-27  오후 11:37    <DIR>          data\n",
      "2018-02-23  오전 12:26            35,722 jump2py_ch2-3~.ipynb\n",
      "2018-02-23  오전 12:26            34,718 jumpToPython_ch1,2-2까지.ipynb\n",
      "2018-02-27  오후 11:37            22,052 KIC_deepCopy,Paldrm,calOp,zip,lambda.ipynb\n",
      "2018-02-27  오후 11:37             2,997 KIC_fileIO.ipynb\n",
      "2018-02-27  오후 11:37            27,285 KIC_function.ipynb\n",
      "2018-02-27  오후 11:37             1,701 KIC_function_module.py\n",
      "2018-02-23  오전 12:26            30,960 KIC_input_if_for.ipynb\n",
      "2018-02-27  오전 01:44            27,994 KIC_list.ipynb\n",
      "2018-02-27  오후 11:37            13,257 KIC_module.ipynb\n",
      "2018-02-27  오전 01:44            45,952 KIC_tuple_dict.ipynb\n",
      "2018-02-23  오전 12:26            21,419 KIC_var_math_text.ipynb\n",
      "2018-02-27  오후 11:39            93,684 pandas1.ipynb\n",
      "              12개 파일             357,741 바이트\n",
      "               5개 디렉터리  933,725,388,800 바이트 남음\n"
     ]
    }
   ],
   "source": [
    "%ls"
   ]
  },
  {
   "cell_type": "code",
   "execution_count": 8,
   "metadata": {},
   "outputs": [
    {
     "name": "stdout",
     "output_type": "stream",
     "text": [
      "D:\\github\\dataAnal_py_basic\\syntax1\n"
     ]
    }
   ],
   "source": [
    "%cd .."
   ]
  },
  {
   "cell_type": "code",
   "execution_count": 3,
   "metadata": {},
   "outputs": [
    {
     "data": {
      "text/plain": [
       "'E:\\\\github\\\\dataAnal_py_basic\\\\syntax1\\\\data'"
      ]
     },
     "execution_count": 3,
     "metadata": {},
     "output_type": "execute_result"
    }
   ],
   "source": [
    "%pwd"
   ]
  },
  {
   "cell_type": "code",
   "execution_count": 27,
   "metadata": {},
   "outputs": [
    {
     "name": "stdout",
     "output_type": "stream",
     "text": [
      "/d/github/dataAnal_py_basic/syntax1\n"
     ]
    }
   ],
   "source": [
    "!pwd"
   ]
  },
  {
   "cell_type": "markdown",
   "metadata": {},
   "source": [
    "### 입력\n",
    "커서?.writelines(넣을문자열+'\\n')"
   ]
  },
  {
   "cell_type": "code",
   "execution_count": 2,
   "metadata": {},
   "outputs": [],
   "source": [
    "# outFp= open(\"E:/github/dataAnal_py_basic/syntax1/data/test1.txt\",\"w\") # 학원\n",
    "outFp= open(\"d:/github/dataAnal_py_basic/syntax1/data/test1.txt\",\"w\") # 집"
   ]
  },
  {
   "cell_type": "code",
   "execution_count": 3,
   "metadata": {},
   "outputs": [
    {
     "name": "stdout",
     "output_type": "stream",
     "text": [
      "입력: 1236ㄴㅇㅀ\n",
      "입력: ㅁㅅ34ㄴㅇ\n",
      "입력: sdfgs\n",
      "입력: \n"
     ]
    }
   ],
   "source": [
    "while True:\n",
    "    outStr= input(\"입력: \")\n",
    "    if outStr!=\"\":\n",
    "        outFp.writelines(outStr+'\\n')\n",
    "    else:\n",
    "        break"
   ]
  },
  {
   "cell_type": "code",
   "execution_count": 4,
   "metadata": {},
   "outputs": [],
   "source": [
    "outFp.close()"
   ]
  },
  {
   "cell_type": "code",
   "execution_count": null,
   "metadata": {
    "collapsed": true
   },
   "outputs": [],
   "source": []
  },
  {
   "cell_type": "markdown",
   "metadata": {},
   "source": [
    "### 출력"
   ]
  },
  {
   "cell_type": "code",
   "execution_count": 10,
   "metadata": {},
   "outputs": [],
   "source": [
    "inFp= open(\"data/test1.txt\",\"r\")"
   ]
  },
  {
   "cell_type": "markdown",
   "metadata": {},
   "source": [
    "###### readline() 한줄씩 읽기\n",
    "별도 처리 안해도 요줄 읽으면 다음줄 넘어가있음"
   ]
  },
  {
   "cell_type": "code",
   "execution_count": 11,
   "metadata": {},
   "outputs": [
    {
     "name": "stdout",
     "output_type": "stream",
     "text": [
      "1236ㄴㅇㅀ\n"
     ]
    }
   ],
   "source": [
    "inStr= inFp.readline()\n",
    "print(inStr, end=\"\")"
   ]
  },
  {
   "cell_type": "code",
   "execution_count": 12,
   "metadata": {},
   "outputs": [
    {
     "name": "stdout",
     "output_type": "stream",
     "text": [
      "ㅁㅅ34ㄴㅇ\n"
     ]
    }
   ],
   "source": [
    "inStr= inFp.readline()\n",
    "print(inStr, end=\"\")"
   ]
  },
  {
   "cell_type": "code",
   "execution_count": 13,
   "metadata": {},
   "outputs": [
    {
     "name": "stdout",
     "output_type": "stream",
     "text": [
      "sdfgs\n"
     ]
    }
   ],
   "source": [
    "inStr= inFp.readline()\n",
    "print(inStr, end=\"\")"
   ]
  },
  {
   "cell_type": "code",
   "execution_count": 14,
   "metadata": {},
   "outputs": [],
   "source": [
    "inStr= inFp.readline()\n",
    "print(inStr, end=\"\")"
   ]
  },
  {
   "cell_type": "code",
   "execution_count": 15,
   "metadata": {},
   "outputs": [],
   "source": [
    "inFp.close()"
   ]
  },
  {
   "cell_type": "markdown",
   "metadata": {},
   "source": [
    "###### readline() & while"
   ]
  },
  {
   "cell_type": "code",
   "execution_count": 23,
   "metadata": {},
   "outputs": [],
   "source": [
    "# 닫았으면 다시 열어줘야 한다\n",
    "inFp= open(\"data/test1.txt\",\"r\")"
   ]
  },
  {
   "cell_type": "code",
   "execution_count": 24,
   "metadata": {},
   "outputs": [
    {
     "name": "stdout",
     "output_type": "stream",
     "text": [
      "1236ㄴㅇㅀ\n",
      "ㅁㅅ34ㄴㅇ\n",
      "sdfgs\n"
     ]
    }
   ],
   "source": [
    "inStr= \" \"\n",
    "while inStr:\n",
    "    inStr= inFp.readline()\n",
    "    print(inStr, end=\"\")"
   ]
  },
  {
   "cell_type": "code",
   "execution_count": 26,
   "metadata": {},
   "outputs": [],
   "source": [
    "inFp.close()"
   ]
  },
  {
   "cell_type": "markdown",
   "metadata": {},
   "source": [
    "###### readlines() 리스트 하나로 모두 읽어 들이기\n",
    "단, 요소 끝마다 개행문자 삽입"
   ]
  },
  {
   "cell_type": "code",
   "execution_count": 39,
   "metadata": {},
   "outputs": [],
   "source": [
    "inFp= open(\"d:/github/dataAnal_py_basic/syntax1/data/test1.txt\")"
   ]
  },
  {
   "cell_type": "code",
   "execution_count": 40,
   "metadata": {},
   "outputs": [
    {
     "name": "stdout",
     "output_type": "stream",
     "text": [
      "['1236ㄴㅇㅀ\\n', 'ㅁㅅ34ㄴㅇ\\n', 'sdfgs\\n']\n"
     ]
    }
   ],
   "source": [
    "inList= inFp.readlines()\n",
    "print(inList)"
   ]
  },
  {
   "cell_type": "code",
   "execution_count": 59,
   "metadata": {},
   "outputs": [
    {
     "name": "stdout",
     "output_type": "stream",
     "text": [
      "<map object at 0x000001EA30C4E6D8>\n"
     ]
    }
   ],
   "source": [
    "inList_clean= map(str.rstrip('\\n'),inList)\n",
    "print(inList_clean)"
   ]
  },
  {
   "cell_type": "code",
   "execution_count": null,
   "metadata": {},
   "outputs": [],
   "source": []
  },
  {
   "cell_type": "code",
   "execution_count": 60,
   "metadata": {},
   "outputs": [
    {
     "data": {
      "text/plain": [
       "['B', '5', '\\x00', '^']"
      ]
     },
     "execution_count": 60,
     "metadata": {},
     "output_type": "execute_result"
    }
   ],
   "source": [
    "list(map(chr,[66,53,0,94]))"
   ]
  },
  {
   "cell_type": "markdown",
   "metadata": {},
   "source": [
    "###### 헐?! 얜 되는데 왜 위에건 안 되??"
   ]
  },
  {
   "cell_type": "code",
   "execution_count": 62,
   "metadata": {},
   "outputs": [
    {
     "data": {
      "text/plain": [
       "['this', 'is', 'a', 'list', 'of', 'words']"
      ]
     },
     "execution_count": 62,
     "metadata": {},
     "output_type": "execute_result"
    }
   ],
   "source": [
    "my_list = ['this\\n', 'is\\n', 'a\\n', 'list\\n', 'of\\n', 'words\\n']\n",
    "list(map(str.strip, my_list))"
   ]
  }
 ],
 "metadata": {
  "kernelspec": {
   "display_name": "Python 3",
   "language": "python",
   "name": "python3"
  },
  "language_info": {
   "codemirror_mode": {
    "name": "ipython",
    "version": 3
   },
   "file_extension": ".py",
   "mimetype": "text/x-python",
   "name": "python",
   "nbconvert_exporter": "python",
   "pygments_lexer": "ipython3",
   "version": "3.6.4"
  }
 },
 "nbformat": 4,
 "nbformat_minor": 2
}
