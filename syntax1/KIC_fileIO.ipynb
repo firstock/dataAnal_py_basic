{
 "cells": [
  {
   "cell_type": "code",
   "execution_count": 9,
   "metadata": {},
   "outputs": [
    {
     "name": "stdout",
     "output_type": "stream",
     "text": [
      " D 드라이브의 볼륨에는 이름이 없습니다.\n",
      " 볼륨 일련 번호: 504F-F621\n",
      "\n",
      " D:\\github\\dataAnal_py_basic\\syntax1 디렉터리\n",
      "\n",
      "2018-02-27  오후 11:39    <DIR>          .\n",
      "2018-02-27  오후 11:39    <DIR>          ..\n",
      "2018-02-27  오후 11:37    <DIR>          .ipynb_checkpoints\n",
      "2018-02-27  오후 11:37    <DIR>          __pycache__\n",
      "2018-02-27  오후 11:37    <DIR>          data\n",
      "2018-02-23  오전 12:26            35,722 jump2py_ch2-3~.ipynb\n",
      "2018-02-23  오전 12:26            34,718 jumpToPython_ch1,2-2까지.ipynb\n",
      "2018-02-27  오후 11:37            22,052 KIC_deepCopy,Paldrm,calOp,zip,lambda.ipynb\n",
      "2018-02-27  오후 11:37             2,997 KIC_fileIO.ipynb\n",
      "2018-02-27  오후 11:37            27,285 KIC_function.ipynb\n",
      "2018-02-27  오후 11:37             1,701 KIC_function_module.py\n",
      "2018-02-23  오전 12:26            30,960 KIC_input_if_for.ipynb\n",
      "2018-02-27  오전 01:44            27,994 KIC_list.ipynb\n",
      "2018-02-27  오후 11:37            13,257 KIC_module.ipynb\n",
      "2018-02-27  오전 01:44            45,952 KIC_tuple_dict.ipynb\n",
      "2018-02-23  오전 12:26            21,419 KIC_var_math_text.ipynb\n",
      "2018-02-27  오후 11:39            93,684 pandas1.ipynb\n",
      "              12개 파일             357,741 바이트\n",
      "               5개 디렉터리  933,725,388,800 바이트 남음\n"
     ]
    }
   ],
   "source": [
    "%ls"
   ]
  },
  {
   "cell_type": "code",
   "execution_count": 8,
   "metadata": {},
   "outputs": [
    {
     "name": "stdout",
     "output_type": "stream",
     "text": [
      "D:\\github\\dataAnal_py_basic\\syntax1\n"
     ]
    }
   ],
   "source": [
    "%cd .."
   ]
  },
  {
   "cell_type": "code",
   "execution_count": 3,
   "metadata": {},
   "outputs": [
    {
     "data": {
      "text/plain": [
       "'E:\\\\github\\\\dataAnal_py_basic\\\\syntax1\\\\data'"
      ]
     },
     "execution_count": 3,
     "metadata": {},
     "output_type": "execute_result"
    }
   ],
   "source": [
    "%pwd"
   ]
  },
  {
   "cell_type": "code",
   "execution_count": 27,
   "metadata": {},
   "outputs": [
    {
     "name": "stdout",
     "output_type": "stream",
     "text": [
      "/d/github/dataAnal_py_basic/syntax1\n"
     ]
    }
   ],
   "source": [
    "!pwd"
   ]
  },
  {
   "cell_type": "markdown",
   "metadata": {},
   "source": [
    "### 입력\n",
    "커서?.writelines(넣을문자열+'\\n')"
   ]
  },
  {
   "cell_type": "code",
   "execution_count": 9,
   "metadata": {
    "collapsed": true
   },
   "outputs": [],
   "source": [
    "# outFp= open(\"E:/github/dataAnal_py_basic/syntax1/data/test1.txt\",\"w\") # 학원\n",
    "# outFp= open(\"d:/github/dataAnal_py_basic/syntax1/data/test1.txt\",\"w\") # 집\n",
    "outFp= open(\"data/test1.txt\",\"w\") #공통"
   ]
  },
  {
   "cell_type": "code",
   "execution_count": 10,
   "metadata": {},
   "outputs": [
    {
     "name": "stdout",
     "output_type": "stream",
     "text": [
      "입력: ㅇㅎㄴㅇㅀ34\n",
      "입력: ㅁㄴㅇㅎ23\n",
      "입력: 35345\n",
      "입력: \n"
     ]
    }
   ],
   "source": [
    "while True:\n",
    "    outStr= input(\"입력: \")\n",
    "    if outStr!=\"\":\n",
    "        outFp.writelines(outStr+'\\n')\n",
    "    else:\n",
    "        break"
   ]
  },
  {
   "cell_type": "code",
   "execution_count": 11,
   "metadata": {
    "collapsed": true
   },
   "outputs": [],
   "source": [
    "outFp.close()"
   ]
  },
  {
   "cell_type": "code",
   "execution_count": null,
   "metadata": {
    "collapsed": true
   },
   "outputs": [],
   "source": []
  },
  {
   "cell_type": "markdown",
   "metadata": {},
   "source": [
    "### 출력"
   ]
  },
  {
   "cell_type": "code",
   "execution_count": 7,
   "metadata": {
    "collapsed": true
   },
   "outputs": [],
   "source": [
    "inFp= open(\"data/test1.txt\",\"r\")"
   ]
  },
  {
   "cell_type": "markdown",
   "metadata": {},
   "source": [
    "###### readline() 한줄씩 읽기\n",
    "별도 처리 안해도 요줄 읽으면 다음줄 넘어가있음"
   ]
  },
  {
   "cell_type": "code",
   "execution_count": 8,
   "metadata": {},
   "outputs": [
    {
     "name": "stdout",
     "output_type": "stream",
     "text": [
      "1236ㄴㅇㅀ\n"
     ]
    }
   ],
   "source": [
    "inStr= inFp.readline()\n",
    "print(inStr, end=\"\")"
   ]
  },
  {
   "cell_type": "code",
   "execution_count": 6,
   "metadata": {},
   "outputs": [
    {
     "name": "stdout",
     "output_type": "stream",
     "text": [
      "\n"
     ]
    }
   ],
   "source": [
    "inStr= inFp.readline()\n",
    "# print(inStr, end=\"\")\n",
    "print(inStr)"
   ]
  },
  {
   "cell_type": "code",
   "execution_count": 13,
   "metadata": {},
   "outputs": [
    {
     "name": "stdout",
     "output_type": "stream",
     "text": [
      "sdfgs\n"
     ]
    }
   ],
   "source": [
    "inStr= inFp.readline()\n",
    "print(inStr, end=\"\")"
   ]
  },
  {
   "cell_type": "code",
   "execution_count": 14,
   "metadata": {
    "collapsed": true
   },
   "outputs": [],
   "source": [
    "inStr= inFp.readline()\n",
    "print(inStr, end=\"\")"
   ]
  },
  {
   "cell_type": "code",
   "execution_count": 15,
   "metadata": {
    "collapsed": true
   },
   "outputs": [],
   "source": [
    "inFp.close()"
   ]
  },
  {
   "cell_type": "markdown",
   "metadata": {},
   "source": [
    "###### readline() & while"
   ]
  },
  {
   "cell_type": "code",
   "execution_count": 23,
   "metadata": {
    "collapsed": true
   },
   "outputs": [],
   "source": [
    "# 닫았으면 다시 열어줘야 한다\n",
    "inFp= open(\"data/test1.txt\",\"r\")"
   ]
  },
  {
   "cell_type": "code",
   "execution_count": 24,
   "metadata": {},
   "outputs": [
    {
     "name": "stdout",
     "output_type": "stream",
     "text": [
      "1236ㄴㅇㅀ\n",
      "ㅁㅅ34ㄴㅇ\n",
      "sdfgs\n"
     ]
    }
   ],
   "source": [
    "inStr= \" \"\n",
    "while inStr:\n",
    "    inStr= inFp.readline()\n",
    "    print(inStr, end=\"\")"
   ]
  },
  {
   "cell_type": "code",
   "execution_count": 17,
   "metadata": {
    "collapsed": true
   },
   "outputs": [],
   "source": [
    "inFp.close()"
   ]
  },
  {
   "cell_type": "markdown",
   "metadata": {},
   "source": [
    "###### readlines() 리스트 하나로 모두 읽어 들이기\n",
    "단, 요소 끝마다 개행문자 삽입"
   ]
  },
  {
   "cell_type": "code",
   "execution_count": 29,
   "metadata": {},
   "outputs": [
    {
     "name": "stdout",
     "output_type": "stream",
     "text": [
      " E 드라이브의 볼륨에는 이름이 없습니다.\n",
      " 볼륨 일련 번호: 2468-0A05\n",
      "\n",
      " E:\\github\\dataAnal_py_basic\\syntax1\\data 디렉터리\n",
      "\n",
      "2018-02-28  오전 09:55    <DIR>          .\n",
      "2018-02-28  오전 09:55    <DIR>          ..\n",
      "2018-02-26  오전 09:35           312,412 startup_funding.csv\n",
      "2018-02-28  오전 10:00                33 test1.txt\n",
      "               2개 파일             312,445 바이트\n",
      "               2개 디렉터리  226,651,275,264 바이트 남음\n",
      "E:\\github\\dataAnal_py_basic\\syntax1\n"
     ]
    }
   ],
   "source": [
    "# %cd ./data\n",
    "%ls\n",
    "%cd .."
   ]
  },
  {
   "cell_type": "code",
   "execution_count": 39,
   "metadata": {
    "collapsed": true
   },
   "outputs": [],
   "source": [
    "inFp.close()"
   ]
  },
  {
   "cell_type": "code",
   "execution_count": 40,
   "metadata": {
    "collapsed": true
   },
   "outputs": [],
   "source": [
    "# inFp= open(\"data/test1.txt\",\"rb\")\n",
    "inFp= open(\"data/test1.txt\",\"rt\") #default"
   ]
  },
  {
   "cell_type": "code",
   "execution_count": 41,
   "metadata": {
    "scrolled": true
   },
   "outputs": [
    {
     "name": "stdout",
     "output_type": "stream",
     "text": [
      "['ㅇㅎㄴㅇㅀ34\\n', 'ㅁㄴㅇㅎ23\\n', '35345\\n']\n"
     ]
    }
   ],
   "source": [
    "inList= inFp.readlines()\n",
    "print(inList)"
   ]
  },
  {
   "cell_type": "markdown",
   "metadata": {},
   "source": [
    "###### \\n 없애는 게 되긴 되겠지만\n",
    "어쨋든 realines() 로 읽으면 귀찮다"
   ]
  },
  {
   "cell_type": "markdown",
   "metadata": {},
   "source": [
    "### 아직X- "
   ]
  },
  {
   "cell_type": "code",
   "execution_count": 21,
   "metadata": {},
   "outputs": [
    {
     "name": "stdout",
     "output_type": "stream",
     "text": [
      "<map object at 0x0000000005BC88D0>\n"
     ]
    }
   ],
   "source": [
    "inList_clean= map(str.rstrip('\\\\n'),inList)\n",
    "print(inList_clean)"
   ]
  },
  {
   "cell_type": "code",
   "execution_count": 22,
   "metadata": {},
   "outputs": [
    {
     "ename": "TypeError",
     "evalue": "'str' object is not callable",
     "output_type": "error",
     "traceback": [
      "\u001b[1;31m---------------------------------------------------------------------------\u001b[0m",
      "\u001b[1;31mTypeError\u001b[0m                                 Traceback (most recent call last)",
      "\u001b[1;32m<ipython-input-22-eb0fbb076160>\u001b[0m in \u001b[0;36m<module>\u001b[1;34m()\u001b[0m\n\u001b[1;32m----> 1\u001b[1;33m \u001b[0mlist\u001b[0m\u001b[1;33m(\u001b[0m\u001b[0minList_clean\u001b[0m\u001b[1;33m)\u001b[0m\u001b[1;33m\u001b[0m\u001b[0m\n\u001b[0m",
      "\u001b[1;31mTypeError\u001b[0m: 'str' object is not callable"
     ]
    }
   ],
   "source": [
    "list(inList_clean)"
   ]
  },
  {
   "cell_type": "code",
   "execution_count": null,
   "metadata": {
    "collapsed": true
   },
   "outputs": [],
   "source": []
  },
  {
   "cell_type": "code",
   "execution_count": 16,
   "metadata": {},
   "outputs": [
    {
     "data": {
      "text/plain": [
       "['B', '5', '\\x00', '^']"
      ]
     },
     "execution_count": 16,
     "metadata": {},
     "output_type": "execute_result"
    }
   ],
   "source": [
    "list(map(chr,[66,53,0,94]))"
   ]
  },
  {
   "cell_type": "markdown",
   "metadata": {},
   "source": [
    "###### 헐?! 얜 되는데 왜 위에건 안 되??"
   ]
  },
  {
   "cell_type": "code",
   "execution_count": 62,
   "metadata": {},
   "outputs": [
    {
     "data": {
      "text/plain": [
       "['this', 'is', 'a', 'list', 'of', 'words']"
      ]
     },
     "execution_count": 62,
     "metadata": {},
     "output_type": "execute_result"
    }
   ],
   "source": [
    "my_list = ['this\\n', 'is\\n', 'a\\n', 'list\\n', 'of\\n', 'words\\n']\n",
    "list(map(str.strip, my_list))"
   ]
  },
  {
   "cell_type": "code",
   "execution_count": 23,
   "metadata": {
    "collapsed": true
   },
   "outputs": [],
   "source": [
    "inFp.close()"
   ]
  },
  {
   "cell_type": "code",
   "execution_count": null,
   "metadata": {
    "collapsed": true
   },
   "outputs": [],
   "source": []
  },
  {
   "cell_type": "markdown",
   "metadata": {},
   "source": [
    "#### with open(...) as 메모리공간별명:\n",
    "변수= 메모리공간별명.readlines(); print(변수)\n",
    "###### .close() 할 필요가 없다!"
   ]
  },
  {
   "cell_type": "code",
   "execution_count": 43,
   "metadata": {
    "collapsed": true
   },
   "outputs": [],
   "source": [
    "# %ls"
   ]
  },
  {
   "cell_type": "code",
   "execution_count": 44,
   "metadata": {},
   "outputs": [
    {
     "name": "stdout",
     "output_type": "stream",
     "text": [
      "['ㅇㅎㄴㅇㅀ34\\n', 'ㅁㄴㅇㅎ23\\n', '35345\\n']\n"
     ]
    }
   ],
   "source": [
    "with open(\"data/test1.txt\") as inFp:\n",
    "    inList= inFp.readlines()\n",
    "    print(inList)"
   ]
  },
  {
   "cell_type": "code",
   "execution_count": 45,
   "metadata": {},
   "outputs": [
    {
     "name": "stdout",
     "output_type": "stream",
     "text": [
      "ㅇㅎㄴㅇㅀ34\n",
      "\n",
      "ㅁㄴㅇㅎ23\n",
      "\n",
      "35345\n",
      "\n"
     ]
    }
   ],
   "source": [
    "with open(\"data/test1.txt\") as inFp:\n",
    "    inList= inFp.readlines()\n",
    "    for inStr in inList:\n",
    "        print(inStr)"
   ]
  },
  {
   "cell_type": "markdown",
   "metadata": {},
   "source": [
    "###### 개행문자 없이 출력"
   ]
  },
  {
   "cell_type": "code",
   "execution_count": 66,
   "metadata": {},
   "outputs": [
    {
     "name": "stdout",
     "output_type": "stream",
     "text": [
      "ㅇㅎㄴㅇㅀ34\n",
      "ㅁㄴㅇㅎ23\n",
      "35345\n"
     ]
    }
   ],
   "source": [
    "with open(\"data/test1.txt\") as inFp:\n",
    "    inList= inFp.readlines()\n",
    "#     print(inFp.readlines())\n",
    "    for inStr in inList:\n",
    "        print(inStr, end=\"\")"
   ]
  },
  {
   "cell_type": "code",
   "execution_count": 64,
   "metadata": {},
   "outputs": [
    {
     "name": "stdout",
     "output_type": "stream",
     "text": [
      "ㅇㅎㄴㅇㅀ34\n",
      "ㅁㄴㅇㅎ23\n",
      "35345\n"
     ]
    }
   ],
   "source": [
    "with open(\"data/test1.txt\") as inFp:\n",
    "    inStr= \" \"\n",
    "#     print(inFp.readline()) #한 줄 읽으면 다음 라인으로 커서?가 가버린다\n",
    "    while inStr:\n",
    "        inStr= inFp.readline()\n",
    "        print(inStr, end= \"\")"
   ]
  },
  {
   "cell_type": "markdown",
   "metadata": {},
   "source": [
    "### enumerate의 신비한 기능\n",
    "1. 파일 읽은거 그냥 데려오면 안 읽히는데 > readline, readlines 필요\n",
    "2. enumerate(파일읽은거) 하면 그냥 출력 됨"
   ]
  },
  {
   "cell_type": "code",
   "execution_count": 61,
   "metadata": {},
   "outputs": [
    {
     "name": "stdout",
     "output_type": "stream",
     "text": [
      "<_io.TextIOWrapper name='data/test1.txt' mode='r' encoding='cp949'>"
     ]
    }
   ],
   "source": [
    "with open(\"data/test1.txt\") as inFp:\n",
    "    print(inFp, end= \"\")"
   ]
  },
  {
   "cell_type": "code",
   "execution_count": 63,
   "metadata": {
    "scrolled": true
   },
   "outputs": [
    {
     "name": "stdout",
     "output_type": "stream",
     "text": [
      "(0, 'ㅇㅎㄴㅇㅀ34\\n')\n",
      "(1, 'ㅁㄴㅇㅎ23\\n')\n",
      "(2, '35345\\n')\n"
     ]
    }
   ],
   "source": [
    "with open(\"data/test1.txt\") as inFp:\n",
    "    for in_enum in enumerate(inFp):\n",
    "        print(in_enum)"
   ]
  },
  {
   "cell_type": "code",
   "execution_count": null,
   "metadata": {
    "collapsed": true
   },
   "outputs": [],
   "source": []
  },
  {
   "cell_type": "markdown",
   "metadata": {},
   "source": [
    "### 예제: 행번호와 함께 출력"
   ]
  },
  {
   "cell_type": "code",
   "execution_count": 59,
   "metadata": {},
   "outputs": [
    {
     "name": "stdout",
     "output_type": "stream",
     "text": [
      "0 :  ㅇㅎㄴㅇㅀ34\n",
      "1 :  ㅁㄴㅇㅎ23\n",
      "2 :  35345\n"
     ]
    }
   ],
   "source": [
    "with open(\"data/test1.txt\") as inFp:\n",
    "    inList= inFp.readlines()\n",
    "    for i,inStr in enumerate(inList):\n",
    "        print(i,\": \",inStr,end=\"\")"
   ]
  },
  {
   "cell_type": "code",
   "execution_count": 60,
   "metadata": {
    "scrolled": true
   },
   "outputs": [
    {
     "name": "stdout",
     "output_type": "stream",
     "text": [
      "0 :  ㅇㅎㄴㅇㅀ34\n",
      "1 :  ㅁㄴㅇㅎ23\n",
      "2 :  35345\n"
     ]
    }
   ],
   "source": [
    "with open(\"data/test1.txt\") as inFp:\n",
    "    for i,inStr in enumerate(inFp):\n",
    "        print(i,\": \",inStr,end=\"\")"
   ]
  },
  {
   "cell_type": "code",
   "execution_count": null,
   "metadata": {
    "collapsed": true
   },
   "outputs": [],
   "source": []
  },
  {
   "cell_type": "code",
   "execution_count": null,
   "metadata": {
    "collapsed": true
   },
   "outputs": [],
   "source": []
  },
  {
   "cell_type": "markdown",
   "metadata": {},
   "source": [
    "### 아직X- type\n",
    "도스 명령어 구현해보기"
   ]
  },
  {
   "cell_type": "code",
   "execution_count": 90,
   "metadata": {},
   "outputs": [
    {
     "name": "stdout",
     "output_type": "stream",
     "text": [
      "ㅇㅎㄴㅇㅀ34\n",
      "ㅁㄴㅇㅎ23\n",
      "35345\n"
     ]
    }
   ],
   "source": [
    "!type \".\\\\data\\\\test1.txt\""
   ]
  },
  {
   "cell_type": "code",
   "execution_count": 93,
   "metadata": {
    "collapsed": true
   },
   "outputs": [],
   "source": [
    "# 메모장 종료할 때까지 [*] 실행중\n",
    "# !notepad \".\\\\data\\\\test1.txt\""
   ]
  },
  {
   "cell_type": "code",
   "execution_count": null,
   "metadata": {
    "collapsed": true
   },
   "outputs": [],
   "source": []
  },
  {
   "cell_type": "code",
   "execution_count": null,
   "metadata": {
    "collapsed": true
   },
   "outputs": [],
   "source": []
  },
  {
   "cell_type": "code",
   "execution_count": 97,
   "metadata": {
    "collapsed": true
   },
   "outputs": [],
   "source": [
    "# %cd ..\n",
    "# %ls"
   ]
  },
  {
   "cell_type": "code",
   "execution_count": 98,
   "metadata": {},
   "outputs": [
    {
     "name": "stdout",
     "output_type": "stream",
     "text": [
      "5없어\n"
     ]
    }
   ],
   "source": [
    "testLi= [1,2,3,4]\n",
    "if 5 not in testLi:\n",
    "    print(\"5없어\")"
   ]
  },
  {
   "cell_type": "code",
   "execution_count": 113,
   "metadata": {},
   "outputs": [
    {
     "name": "stdout",
     "output_type": "stream",
     "text": [
      "입력입력: adf;asdflj\n",
      "입력입력: qawefaf\n"
     ]
    }
   ],
   "source": [
    "# 입력1- q 들어간 문장을 입력을 못 함\n",
    "outStr= \" \"\n",
    "with open(\"./data/test_write1.txt\",\"w\") as inFp2:\n",
    "    while \"q\" not in outStr:\n",
    "        outStr= input(\"입력입력: \")\n",
    "        inFp2.writelines(outStr+'\\n') if \"q\" not in outStr else True"
   ]
  },
  {
   "cell_type": "code",
   "execution_count": null,
   "metadata": {
    "collapsed": true
   },
   "outputs": [],
   "source": []
  },
  {
   "cell_type": "code",
   "execution_count": 127,
   "metadata": {},
   "outputs": [
    {
     "name": "stdout",
     "output_type": "stream",
     "text": [
      "입력입력: q\n"
     ]
    }
   ],
   "source": [
    "# 입력2- 더럽.. \"q\" 더블체크?\n",
    "outStr= \"\"\n",
    "with open(\"./data/test_write1.txt\",\"w\") as inFp2:\n",
    "    while \"q\"!= outStr:\n",
    "        outStr= input(\"입력입력: \")\n",
    "        inFp2.writelines(outStr+'\\n') if \"q\" != outStr else True"
   ]
  },
  {
   "cell_type": "code",
   "execution_count": 119,
   "metadata": {},
   "outputs": [
    {
     "name": "stdout",
     "output_type": "stream",
     "text": [
      "입력입력: asdf\n",
      "입력입력: \n",
      "입력입력: asdf\n",
      "입력입력: 1324\n",
      "입력입력: \n",
      "입력입력: adf\n",
      "입력입력: q\n"
     ]
    }
   ],
   "source": [
    "# 입력3- 첫 행 개행문제\n",
    "outStr= \"\"\n",
    "with open(\"./data/test_write1.txt\",\"w\") as inFp2:\n",
    "    while \"q\"!= outStr:\n",
    "        inFp2.writelines(outStr)\n",
    "        outStr= input(\"입력입력: \")\n",
    "        inFp2.writelines('\\n')"
   ]
  },
  {
   "cell_type": "code",
   "execution_count": 131,
   "metadata": {},
   "outputs": [
    {
     "name": "stdout",
     "output_type": "stream",
     "text": [
      "입력입력: asd\n",
      "입력입력: \n",
      "입력입력: adf34\n",
      "입력입력: \n",
      "입력입력: asdf3\n",
      "입력입력: q\n"
     ]
    }
   ],
   "source": [
    "# 입력4- 결국 if. 3항으론 이게 안 되더라\n",
    "with open(\"./data/test_write1.txt\",\"w\") as inFp2:\n",
    "    while True:\n",
    "        outStr= input(\"입력입력: \")\n",
    "        if \"q\"!= outStr:\n",
    "            inFp2.writelines(outStr+'\\n')\n",
    "        else:\n",
    "            break"
   ]
  },
  {
   "cell_type": "code",
   "execution_count": 132,
   "metadata": {},
   "outputs": [
    {
     "name": "stdout",
     "output_type": "stream",
     "text": [
      "asd\n",
      "\n",
      "adf34\n",
      "\n",
      "asdf3\n"
     ]
    }
   ],
   "source": [
    "with open(\"./data/test_write1.txt\",\"r\") as inFp2:\n",
    "    for _,inStr in enumerate(inFp2):\n",
    "        print(inStr, end=\"\")"
   ]
  },
  {
   "cell_type": "code",
   "execution_count": null,
   "metadata": {
    "collapsed": true
   },
   "outputs": [],
   "source": []
  },
  {
   "cell_type": "markdown",
   "metadata": {},
   "source": [
    "### 에러처리1- os.path.exists\n",
    "import os"
   ]
  },
  {
   "cell_type": "code",
   "execution_count": 133,
   "metadata": {},
   "outputs": [
    {
     "name": "stdout",
     "output_type": "stream",
     "text": [
      "파일명 입력:data/test1.txt\n",
      "ㅇㅎㄴㅇㅀ34\n",
      "ㅁㄴㅇㅎ23\n",
      "35345\n"
     ]
    }
   ],
   "source": [
    "import os\n",
    "inFp= None\n",
    "fName, inList, inStr= \"\",[],\"\"\n",
    "\n",
    "fName= input(\"파일명 입력:\")\n",
    "if os.path.exists(fName):\n",
    "    with open(fName,\"r\") as inFp:\n",
    "        inList= inFp.readlines()\n",
    "        for inStr in inList:\n",
    "            print(inStr,end=\"\")\n",
    "else:\n",
    "    print(\"%s 파일없엉\"%fName)\n",
    "        "
   ]
  },
  {
   "cell_type": "code",
   "execution_count": 134,
   "metadata": {},
   "outputs": [
    {
     "name": "stdout",
     "output_type": "stream",
     "text": [
      "파일명 입력:test1.txt\n",
      "test1.txt 파일없엉\n"
     ]
    }
   ],
   "source": [
    "import os\n",
    "inFp= None\n",
    "fName, inList, inStr= \"\",[],\"\"\n",
    "\n",
    "fName= input(\"파일명 입력:\")\n",
    "if os.path.exists(fName):\n",
    "    with open(fName,\"r\") as inFp:\n",
    "        inList= inFp.readlines()\n",
    "        for inStr in inList:\n",
    "            print(inStr,end=\"\")\n",
    "else:\n",
    "    print(\"%s 파일없엉\"%fName)\n",
    "        "
   ]
  },
  {
   "cell_type": "code",
   "execution_count": null,
   "metadata": {
    "collapsed": true
   },
   "outputs": [],
   "source": []
  },
  {
   "cell_type": "markdown",
   "metadata": {},
   "source": [
    "### 에러처리2- try~except~else~finally"
   ]
  },
  {
   "cell_type": "code",
   "execution_count": 5,
   "metadata": {},
   "outputs": [
    {
     "name": "stdout",
     "output_type": "stream",
     "text": [
      "[Errno 2] No such file or directory: 'data/tes1.txt'\n",
      "파일없엉\n",
      "실패든 성공이든 호출되긴 했음\n"
     ]
    }
   ],
   "source": [
    "fName= \"data/test1.txt\" #input() 대체\n",
    "try:\n",
    "    with open(fName,\"r\") as inFp:\n",
    "        inList= inFp.readlines()\n",
    "        for inStr in inList:\n",
    "            print(inStr,end=\"\")\n",
    "except FileNotFoundError as e:\n",
    "    print(e) #[Errno 2] No such file or directory: 'data/test1.tx'\n",
    "    print(\"파일없엉\")\n",
    "except:\n",
    "    print(\"그 밖의 에러\")\n",
    "else:\n",
    "    print(\"파읽 성공\")\n",
    "finally:\n",
    "    print(\"실패든 성공이든 호출되긴 했음\")"
   ]
  },
  {
   "cell_type": "code",
   "execution_count": null,
   "metadata": {
    "collapsed": true
   },
   "outputs": [],
   "source": []
  },
  {
   "cell_type": "code",
   "execution_count": null,
   "metadata": {
    "collapsed": true
   },
   "outputs": [],
   "source": []
  },
  {
   "attachments": {
    "image.png": {
     "image/png": "[encoded data removed]"
    }
   },
   "cell_type": "markdown",
   "metadata": {},
   "source": [
    "### 파일복사 구현\n",
    "경로\n",
    "1. 프로그램 인자: \"/\"\n",
    "2. 윈도 명령 인자: \"\\\\\"\n",
    "![image.png](attachment:image.png)"
   ]
  },
  {
   "cell_type": "code",
   "execution_count": 141,
   "metadata": {
    "collapsed": true
   },
   "outputs": [],
   "source": [
    "# %cd ./data\n",
    "# %ls\n",
    "# %cd .."
   ]
  },
  {
   "cell_type": "code",
   "execution_count": 142,
   "metadata": {
    "collapsed": true
   },
   "outputs": [],
   "source": [
    "# 이건 잘 되는데, !copy는 왜 안 되니\n",
    "# !notepad \"./data/test1.txt\""
   ]
  },
  {
   "cell_type": "code",
   "execution_count": 143,
   "metadata": {},
   "outputs": [
    {
     "name": "stdout",
     "output_type": "stream",
     "text": [
      "        1개 파일이 복사되었습니다.\n"
     ]
    }
   ],
   "source": [
    "# ㄴㄴ !copy \"./data/test1.txt\" \"./data/test2.txt\"\n",
    "!copy \".\\\\data\\\\test1.txt\" \".\\\\data\\\\test2.txt\""
   ]
  },
  {
   "cell_type": "code",
   "execution_count": 144,
   "metadata": {
    "collapsed": true
   },
   "outputs": [],
   "source": [
    "#귀찮으니 CMD켜서 열어봄. notepad ㅇㅇ vim 로 열면 깨짐"
   ]
  },
  {
   "cell_type": "markdown",
   "metadata": {},
   "source": [
    "###### 구현"
   ]
  },
  {
   "cell_type": "code",
   "execution_count": 145,
   "metadata": {},
   "outputs": [
    {
     "name": "stdout",
     "output_type": "stream",
     "text": [
      "복사 완료\n"
     ]
    }
   ],
   "source": [
    "inFp, outFp= None, None\n",
    "inStr= \"\"\n",
    "\n",
    "with open(\"C:/Windows/win.ini\",\"r\") as inFp:\n",
    "    with open(\"./data/windData1.txt\",\"w\") as outFp:\n",
    "        inList= inFp.readlines()\n",
    "        for inStr in inList:\n",
    "            outFp.writelines(inStr)\n",
    "\n",
    "print(\"복사 완료\")"
   ]
  },
  {
   "cell_type": "code",
   "execution_count": null,
   "metadata": {
    "collapsed": true
   },
   "outputs": [],
   "source": []
  },
  {
   "cell_type": "markdown",
   "metadata": {},
   "source": [
    "### 이진 copy 구현"
   ]
  },
  {
   "cell_type": "code",
   "execution_count": 6,
   "metadata": {},
   "outputs": [
    {
     "name": "stdout",
     "output_type": "stream",
     "text": [
      "E:\\github\\dataAnal_py_basic\\syntax1\\data\n",
      " E 드라이브의 볼륨에는 이름이 없습니다.\n",
      " 볼륨 일련 번호: 2468-0A05\n",
      "\n",
      " E:\\github\\dataAnal_py_basic\\syntax1\\data 디렉터리\n",
      "\n",
      "2018-02-28  오후 02:51    <DIR>          .\n",
      "2018-02-28  오후 02:51    <DIR>          ..\n",
      "2018-02-28  오후 02:51           228,042 hanj0228.jpg\n",
      "2018-02-26  오전 09:35           312,412 startup_funding.csv\n",
      "2018-02-28  오후 12:14                23 test_write1.txt\n",
      "2018-02-28  오전 10:00                33 test1.txt\n",
      "2018-02-28  오전 10:00                33 test2.txt\n",
      "2018-02-28  오후 12:36               478 windData1.txt\n",
      "               6개 파일             541,021 바이트\n",
      "               2개 디렉터리  226,637,463,552 바이트 남음\n",
      "E:\\github\\dataAnal_py_basic\\syntax1\n"
     ]
    }
   ],
   "source": [
    "%cd data\n",
    "%ls\n",
    "%cd .."
   ]
  },
  {
   "cell_type": "code",
   "execution_count": 11,
   "metadata": {},
   "outputs": [
    {
     "name": "stdout",
     "output_type": "stream",
     "text": [
      "이진파일 복사 성공\n"
     ]
    }
   ],
   "source": [
    "fromFpath= \"data/hanji.jpg\"\n",
    "aimFpath= \"data/hanji2.jpg\"\n",
    "\n",
    "inFp, outFp= None, None\n",
    "inStr= \" \"\n",
    "\n",
    "try:\n",
    "    with open(fromFpath,\"rb\") as inFp:\n",
    "        with open(aimFpath,\"wb\") as outFp:\n",
    "            while inStr:\n",
    "                inStr= inFp.read(1)\n",
    "                outFp.write(inStr)\n",
    "except FileNotFoundError:\n",
    "    print(\"파일없어\")\n",
    "else:\n",
    "    print(\"이진파일 복사 성공\")"
   ]
  },
  {
   "cell_type": "code",
   "execution_count": null,
   "metadata": {
    "collapsed": true
   },
   "outputs": [],
   "source": []
  },
  {
   "cell_type": "code",
   "execution_count": null,
   "metadata": {
    "collapsed": true
   },
   "outputs": [],
   "source": []
  }
 ],
 "metadata": {
  "kernelspec": {
   "display_name": "Python 3",
   "language": "python",
   "name": "python3"
  },
  "language_info": {
   "codemirror_mode": {
    "name": "ipython",
    "version": 3
   },
   "file_extension": ".py",
   "mimetype": "text/x-python",
   "name": "python",
   "nbconvert_exporter": "python",
   "pygments_lexer": "ipython3",
   "version": "3.7.1"
  }
 },
 "nbformat": 4,
 "nbformat_minor": 2
}
