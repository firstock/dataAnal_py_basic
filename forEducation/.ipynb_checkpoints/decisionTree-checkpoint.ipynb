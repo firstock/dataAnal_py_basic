{
 "cells": [
  {
   "cell_type": "markdown",
   "metadata": {},
   "source": [
    "파이썬 라이브러리를 활용한 머신러닝\n",
    "[예제](https://github.com/rickiepark/introduction_to_ml_with_python/tree/master/data)"
   ]
  },
  {
   "cell_type": "markdown",
   "metadata": {},
   "source": [
    "### Decision tree"
   ]
  },
  {
   "cell_type": "code",
   "execution_count": 1,
   "metadata": {},
   "outputs": [],
   "source": [
    "from sklearn.tree import DecisionTreeClassifier\n",
    "from sklearn.datasets import load_breast_cancer\n",
    "from sklearn.model_selection import train_test_split"
   ]
  },
  {
   "cell_type": "code",
   "execution_count": 2,
   "metadata": {},
   "outputs": [],
   "source": [
    "cancer= load_breast_cancer()"
   ]
  },
  {
   "cell_type": "code",
   "execution_count": 3,
   "metadata": {},
   "outputs": [],
   "source": [
    "X_train, X_test, y_train, y_test= train_test_split(cancer.data, cancer.target, stratify= cancer.target,\n",
    "                                                  random_state= 42)"
   ]
  },
  {
   "cell_type": "code",
   "execution_count": 4,
   "metadata": {},
   "outputs": [],
   "source": [
    "tree= DecisionTreeClassifier(random_state= 0)"
   ]
  },
  {
   "cell_type": "code",
   "execution_count": 5,
   "metadata": {},
   "outputs": [
    {
     "data": {
      "text/plain": [
       "DecisionTreeClassifier(class_weight=None, criterion='gini', max_depth=None,\n",
       "            max_features=None, max_leaf_nodes=None,\n",
       "            min_impurity_decrease=0.0, min_impurity_split=None,\n",
       "            min_samples_leaf=1, min_samples_split=2,\n",
       "            min_weight_fraction_leaf=0.0, presort=False, random_state=0,\n",
       "            splitter='best')"
      ]
     },
     "execution_count": 5,
     "metadata": {},
     "output_type": "execute_result"
    }
   ],
   "source": [
    "tree.fit(X_train, y_train)"
   ]
  },
  {
   "cell_type": "code",
   "execution_count": 6,
   "metadata": {},
   "outputs": [
    {
     "name": "stdout",
     "output_type": "stream",
     "text": [
      "train정확도   1.000\n",
      "test 정확도   0.937\n"
     ]
    }
   ],
   "source": [
    "print('train정확도{:8.3f}'.format(tree.score(X_train, y_train)))\n",
    "print('test 정확도{:8.3f}'.format(tree.score(X_test, y_test)))"
   ]
  },
  {
   "cell_type": "code",
   "execution_count": 7,
   "metadata": {},
   "outputs": [],
   "source": [
    "def dtClassifyShow(max_depth= None):\n",
    "    tree= DecisionTreeClassifier(random_state= 0, max_depth= max_depth)\n",
    "    tree.fit(X_train, y_train)\n",
    "    accu_train= '{:.5f}'.format(tree.score(X_train, y_train))\n",
    "    accu_test= '{:.5f}'.format(tree.score(X_test, y_test))\n",
    "    \n",
    "    return float(accu_train), float(accu_test)"
   ]
  },
  {
   "cell_type": "code",
   "execution_count": 8,
   "metadata": {},
   "outputs": [
    {
     "data": {
      "text/plain": [
       "(1.0, 0.93706)"
      ]
     },
     "execution_count": 8,
     "metadata": {},
     "output_type": "execute_result"
    }
   ],
   "source": [
    "dtClassifyShow()"
   ]
  },
  {
   "cell_type": "code",
   "execution_count": 9,
   "metadata": {},
   "outputs": [
    {
     "data": {
      "text/plain": [
       "(0.98826, 0.95105)"
      ]
     },
     "execution_count": 9,
     "metadata": {},
     "output_type": "execute_result"
    }
   ],
   "source": [
    "dtClassifyShow(4)"
   ]
  },
  {
   "cell_type": "code",
   "execution_count": 10,
   "metadata": {},
   "outputs": [
    {
     "data": {
      "text/plain": [
       "(0.99531, 0.95105, 5)"
      ]
     },
     "execution_count": 10,
     "metadata": {},
     "output_type": "execute_result"
    }
   ],
   "source": [
    "trainPitch= 0\n",
    "testMax= 0\n",
    "iMax= 0\n",
    "for i in range(1,19):\n",
    "    accTr, accTs= dtClassifyShow(i)\n",
    "    if testMax <= accTs:\n",
    "        trainPitch= accTr\n",
    "        testMax= accTs\n",
    "        iMax= i\n",
    "\n",
    "trainPitch, testMax, iMax"
   ]
  },
  {
   "cell_type": "code",
   "execution_count": 11,
   "metadata": {},
   "outputs": [
    {
     "data": {
      "text/plain": [
       "(0.99531, 0.95105)"
      ]
     },
     "execution_count": 11,
     "metadata": {},
     "output_type": "execute_result"
    }
   ],
   "source": [
    "dtClassifyShow(5)"
   ]
  },
  {
   "cell_type": "code",
   "execution_count": null,
   "metadata": {},
   "outputs": [],
   "source": []
  },
  {
   "cell_type": "markdown",
   "metadata": {},
   "source": [
    "how to set: graphviz\n",
    "- pip install graphviz\n",
    "- [msi](https://graphviz.gitlab.io/_pages/Download/Download_windows.html) install\n",
    "- 환경변수설정> \\Program Files (x86)\\Graphviz2.38\\bin"
   ]
  },
  {
   "cell_type": "code",
   "execution_count": 12,
   "metadata": {},
   "outputs": [],
   "source": [
    "from sklearn.tree import export_graphviz"
   ]
  },
  {
   "cell_type": "code",
   "execution_count": 14,
   "metadata": {},
   "outputs": [],
   "source": [
    "export_graphviz(tree, out_file= \"data/tree.dot\", class_names=[\"악성\",\"양성\"],\n",
    "               feature_names= cancer.feature_names,\n",
    "               impurity=False, filled= True)"
   ]
  },
  {
   "cell_type": "code",
   "execution_count": 15,
   "metadata": {},
   "outputs": [],
   "source": [
    "import graphviz"
   ]
  },
  {
   "cell_type": "code",
   "execution_count": 16,
   "metadata": {},
   "outputs": [],
   "source": [
    "with open(\"data/tree.dot\", encoding='utf-8') as f:\n",
    "    dot_graph= f.read()"
   ]
  },
  {
   "cell_type": "code",
   "execution_count": 19,
   "metadata": {},
   "outputs": [],
   "source": [
    "dot= graphviz.Source(dot_graph)"
   ]
  },
  {
   "cell_type": "code",
   "execution_count": 20,
   "metadata": {
    "scrolled": true
   },
   "outputs": [
    {
     "data": {
      "image/svg+xml": [
       "<?xml version=\"1.0\" encoding=\"UTF-8\" standalone=\"no\"?>\r\n",
       "<!DOCTYPE svg PUBLIC \"-//W3C//DTD SVG 1.1//EN\"\r\n",
       " \"http://www.w3.org/Graphics/SVG/1.1/DTD/svg11.dtd\">\r\n",
       "<!-- Generated by graphviz version 2.38.0 (20140413.2041)\r\n",
       " -->\r\n",
       "<!-- Title: Tree Pages: 1 -->\r\n",
       "<svg width=\"1399pt\" height=\"789pt\"\r\n",
       " viewBox=\"0.00 0.00 1398.50 789.00\" xmlns=\"http://www.w3.org/2000/svg\" xmlns:xlink=\"http://www.w3.org/1999/xlink\">\r\n",
       "<g id=\"graph0\" class=\"graph\" transform=\"scale(1 1) rotate(0) translate(4 785)\">\r\n",
       "<title>Tree</title>\r\n",
       "<polygon fill=\"white\" stroke=\"none\" points=\"-4,4 -4,-785 1394.5,-785 1394.5,4 -4,4\"/>\r\n",
       "<!-- 0 -->\r\n",
       "<g id=\"node1\" class=\"node\"><title>0</title>\r\n",
       "<polygon fill=\"#399de5\" fill-opacity=\"0.403922\" stroke=\"black\" points=\"982,-781 835,-781 835,-713 982,-713 982,-781\"/>\r\n",
       "<text text-anchor=\"middle\" x=\"908.5\" y=\"-765.8\" font-family=\"Times New Roman,serif\" font-size=\"14.00\">worst radius &lt;= 16.795</text>\r\n",
       "<text text-anchor=\"middle\" x=\"908.5\" y=\"-750.8\" font-family=\"Times New Roman,serif\" font-size=\"14.00\">samples = 426</text>\r\n",
       "<text text-anchor=\"middle\" x=\"908.5\" y=\"-735.8\" font-family=\"Times New Roman,serif\" font-size=\"14.00\">value = [159, 267]</text>\r\n",
       "<text text-anchor=\"middle\" x=\"908.5\" y=\"-720.8\" font-family=\"Times New Roman,serif\" font-size=\"14.00\">class = 양성</text>\r\n",
       "</g>\r\n",
       "<!-- 1 -->\r\n",
       "<g id=\"node2\" class=\"node\"><title>1</title>\r\n",
       "<polygon fill=\"#399de5\" fill-opacity=\"0.901961\" stroke=\"black\" points=\"897,-677 706,-677 706,-609 897,-609 897,-677\"/>\r\n",
       "<text text-anchor=\"middle\" x=\"801.5\" y=\"-661.8\" font-family=\"Times New Roman,serif\" font-size=\"14.00\">worst concave points &lt;= 0.136</text>\r\n",
       "<text text-anchor=\"middle\" x=\"801.5\" y=\"-646.8\" font-family=\"Times New Roman,serif\" font-size=\"14.00\">samples = 284</text>\r\n",
       "<text text-anchor=\"middle\" x=\"801.5\" y=\"-631.8\" font-family=\"Times New Roman,serif\" font-size=\"14.00\">value = [25, 259]</text>\r\n",
       "<text text-anchor=\"middle\" x=\"801.5\" y=\"-616.8\" font-family=\"Times New Roman,serif\" font-size=\"14.00\">class = 양성</text>\r\n",
       "</g>\r\n",
       "<!-- 0&#45;&gt;1 -->\r\n",
       "<g id=\"edge1\" class=\"edge\"><title>0&#45;&gt;1</title>\r\n",
       "<path fill=\"none\" stroke=\"black\" d=\"M873.76,-712.884C864.229,-703.798 853.789,-693.845 843.881,-684.4\"/>\r\n",
       "<polygon fill=\"black\" stroke=\"black\" points=\"846.085,-681.666 836.432,-677.299 841.255,-686.733 846.085,-681.666\"/>\r\n",
       "<text text-anchor=\"middle\" x=\"837.03\" y=\"-698.592\" font-family=\"Times New Roman,serif\" font-size=\"14.00\">True</text>\r\n",
       "</g>\r\n",
       "<!-- 28 -->\r\n",
       "<g id=\"node29\" class=\"node\"><title>28</title>\r\n",
       "<polygon fill=\"#e58139\" fill-opacity=\"0.941176\" stroke=\"black\" points=\"1086.5,-677 946.5,-677 946.5,-609 1086.5,-609 1086.5,-677\"/>\r\n",
       "<text text-anchor=\"middle\" x=\"1016.5\" y=\"-661.8\" font-family=\"Times New Roman,serif\" font-size=\"14.00\">texture error &lt;= 0.473</text>\r\n",
       "<text text-anchor=\"middle\" x=\"1016.5\" y=\"-646.8\" font-family=\"Times New Roman,serif\" font-size=\"14.00\">samples = 142</text>\r\n",
       "<text text-anchor=\"middle\" x=\"1016.5\" y=\"-631.8\" font-family=\"Times New Roman,serif\" font-size=\"14.00\">value = [134, 8]</text>\r\n",
       "<text text-anchor=\"middle\" x=\"1016.5\" y=\"-616.8\" font-family=\"Times New Roman,serif\" font-size=\"14.00\">class = 악성</text>\r\n",
       "</g>\r\n",
       "<!-- 0&#45;&gt;28 -->\r\n",
       "<g id=\"edge28\" class=\"edge\"><title>0&#45;&gt;28</title>\r\n",
       "<path fill=\"none\" stroke=\"black\" d=\"M943.565,-712.884C953.184,-703.798 963.722,-693.845 973.723,-684.4\"/>\r\n",
       "<polygon fill=\"black\" stroke=\"black\" points=\"976.375,-686.71 981.242,-677.299 971.569,-681.621 976.375,-686.71\"/>\r\n",
       "<text text-anchor=\"middle\" x=\"980.528\" y=\"-698.589\" font-family=\"Times New Roman,serif\" font-size=\"14.00\">False</text>\r\n",
       "</g>\r\n",
       "<!-- 2 -->\r\n",
       "<g id=\"node3\" class=\"node\"><title>2</title>\r\n",
       "<polygon fill=\"#399de5\" fill-opacity=\"0.984314\" stroke=\"black\" points=\"639.5,-573 503.5,-573 503.5,-505 639.5,-505 639.5,-573\"/>\r\n",
       "<text text-anchor=\"middle\" x=\"571.5\" y=\"-557.8\" font-family=\"Times New Roman,serif\" font-size=\"14.00\">radius error &lt;= 1.048</text>\r\n",
       "<text text-anchor=\"middle\" x=\"571.5\" y=\"-542.8\" font-family=\"Times New Roman,serif\" font-size=\"14.00\">samples = 252</text>\r\n",
       "<text text-anchor=\"middle\" x=\"571.5\" y=\"-527.8\" font-family=\"Times New Roman,serif\" font-size=\"14.00\">value = [4, 248]</text>\r\n",
       "<text text-anchor=\"middle\" x=\"571.5\" y=\"-512.8\" font-family=\"Times New Roman,serif\" font-size=\"14.00\">class = 양성</text>\r\n",
       "</g>\r\n",
       "<!-- 1&#45;&gt;2 -->\r\n",
       "<g id=\"edge2\" class=\"edge\"><title>1&#45;&gt;2</title>\r\n",
       "<path fill=\"none\" stroke=\"black\" d=\"M726.826,-608.884C701.826,-597.797 673.914,-585.419 648.724,-574.247\"/>\r\n",
       "<polygon fill=\"black\" stroke=\"black\" points=\"650.137,-571.045 639.576,-570.19 647.299,-577.444 650.137,-571.045\"/>\r\n",
       "</g>\r\n",
       "<!-- 17 -->\r\n",
       "<g id=\"node18\" class=\"node\"><title>17</title>\r\n",
       "<polygon fill=\"#e58139\" fill-opacity=\"0.474510\" stroke=\"black\" points=\"873.5,-573 729.5,-573 729.5,-505 873.5,-505 873.5,-573\"/>\r\n",
       "<text text-anchor=\"middle\" x=\"801.5\" y=\"-557.8\" font-family=\"Times New Roman,serif\" font-size=\"14.00\">worst texture &lt;= 25.62</text>\r\n",
       "<text text-anchor=\"middle\" x=\"801.5\" y=\"-542.8\" font-family=\"Times New Roman,serif\" font-size=\"14.00\">samples = 32</text>\r\n",
       "<text text-anchor=\"middle\" x=\"801.5\" y=\"-527.8\" font-family=\"Times New Roman,serif\" font-size=\"14.00\">value = [21, 11]</text>\r\n",
       "<text text-anchor=\"middle\" x=\"801.5\" y=\"-512.8\" font-family=\"Times New Roman,serif\" font-size=\"14.00\">class = 악성</text>\r\n",
       "</g>\r\n",
       "<!-- 1&#45;&gt;17 -->\r\n",
       "<g id=\"edge17\" class=\"edge\"><title>1&#45;&gt;17</title>\r\n",
       "<path fill=\"none\" stroke=\"black\" d=\"M801.5,-608.884C801.5,-600.778 801.5,-591.982 801.5,-583.472\"/>\r\n",
       "<polygon fill=\"black\" stroke=\"black\" points=\"805,-583.299 801.5,-573.299 798,-583.299 805,-583.299\"/>\r\n",
       "</g>\r\n",
       "<!-- 3 -->\r\n",
       "<g id=\"node4\" class=\"node\"><title>3</title>\r\n",
       "<polygon fill=\"#399de5\" fill-opacity=\"0.988235\" stroke=\"black\" points=\"446,-469 277,-469 277,-401 446,-401 446,-469\"/>\r\n",
       "<text text-anchor=\"middle\" x=\"361.5\" y=\"-453.8\" font-family=\"Times New Roman,serif\" font-size=\"14.00\">smoothness error &lt;= 0.003</text>\r\n",
       "<text text-anchor=\"middle\" x=\"361.5\" y=\"-438.8\" font-family=\"Times New Roman,serif\" font-size=\"14.00\">samples = 251</text>\r\n",
       "<text text-anchor=\"middle\" x=\"361.5\" y=\"-423.8\" font-family=\"Times New Roman,serif\" font-size=\"14.00\">value = [3, 248]</text>\r\n",
       "<text text-anchor=\"middle\" x=\"361.5\" y=\"-408.8\" font-family=\"Times New Roman,serif\" font-size=\"14.00\">class = 양성</text>\r\n",
       "</g>\r\n",
       "<!-- 2&#45;&gt;3 -->\r\n",
       "<g id=\"edge3\" class=\"edge\"><title>2&#45;&gt;3</title>\r\n",
       "<path fill=\"none\" stroke=\"black\" d=\"M503.319,-504.884C482.767,-494.901 460.06,-483.872 438.952,-473.619\"/>\r\n",
       "<polygon fill=\"black\" stroke=\"black\" points=\"440.222,-470.346 429.698,-469.125 437.164,-476.642 440.222,-470.346\"/>\r\n",
       "</g>\r\n",
       "<!-- 16 -->\r\n",
       "<g id=\"node17\" class=\"node\"><title>16</title>\r\n",
       "<polygon fill=\"#e58139\" stroke=\"black\" points=\"617,-461.5 526,-461.5 526,-408.5 617,-408.5 617,-461.5\"/>\r\n",
       "<text text-anchor=\"middle\" x=\"571.5\" y=\"-446.3\" font-family=\"Times New Roman,serif\" font-size=\"14.00\">samples = 1</text>\r\n",
       "<text text-anchor=\"middle\" x=\"571.5\" y=\"-431.3\" font-family=\"Times New Roman,serif\" font-size=\"14.00\">value = [1, 0]</text>\r\n",
       "<text text-anchor=\"middle\" x=\"571.5\" y=\"-416.3\" font-family=\"Times New Roman,serif\" font-size=\"14.00\">class = 악성</text>\r\n",
       "</g>\r\n",
       "<!-- 2&#45;&gt;16 -->\r\n",
       "<g id=\"edge16\" class=\"edge\"><title>2&#45;&gt;16</title>\r\n",
       "<path fill=\"none\" stroke=\"black\" d=\"M571.5,-504.884C571.5,-494.326 571.5,-482.597 571.5,-471.854\"/>\r\n",
       "<polygon fill=\"black\" stroke=\"black\" points=\"575,-471.52 571.5,-461.52 568,-471.52 575,-471.52\"/>\r\n",
       "</g>\r\n",
       "<!-- 4 -->\r\n",
       "<g id=\"node5\" class=\"node\"><title>4</title>\r\n",
       "<polygon fill=\"#399de5\" fill-opacity=\"0.666667\" stroke=\"black\" points=\"222,-365 87,-365 87,-297 222,-297 222,-365\"/>\r\n",
       "<text text-anchor=\"middle\" x=\"154.5\" y=\"-349.8\" font-family=\"Times New Roman,serif\" font-size=\"14.00\">mean texture &lt;= 19.9</text>\r\n",
       "<text text-anchor=\"middle\" x=\"154.5\" y=\"-334.8\" font-family=\"Times New Roman,serif\" font-size=\"14.00\">samples = 4</text>\r\n",
       "<text text-anchor=\"middle\" x=\"154.5\" y=\"-319.8\" font-family=\"Times New Roman,serif\" font-size=\"14.00\">value = [1, 3]</text>\r\n",
       "<text text-anchor=\"middle\" x=\"154.5\" y=\"-304.8\" font-family=\"Times New Roman,serif\" font-size=\"14.00\">class = 양성</text>\r\n",
       "</g>\r\n",
       "<!-- 3&#45;&gt;4 -->\r\n",
       "<g id=\"edge4\" class=\"edge\"><title>3&#45;&gt;4</title>\r\n",
       "<path fill=\"none\" stroke=\"black\" d=\"M294.293,-400.884C274.035,-390.901 251.652,-379.872 230.845,-369.619\"/>\r\n",
       "<polygon fill=\"black\" stroke=\"black\" points=\"232.241,-366.405 221.724,-365.125 229.147,-372.684 232.241,-366.405\"/>\r\n",
       "</g>\r\n",
       "<!-- 7 -->\r\n",
       "<g id=\"node8\" class=\"node\"><title>7</title>\r\n",
       "<polygon fill=\"#399de5\" fill-opacity=\"0.992157\" stroke=\"black\" points=\"420.5,-365 302.5,-365 302.5,-297 420.5,-297 420.5,-365\"/>\r\n",
       "<text text-anchor=\"middle\" x=\"361.5\" y=\"-349.8\" font-family=\"Times New Roman,serif\" font-size=\"14.00\">area error &lt;= 48.7</text>\r\n",
       "<text text-anchor=\"middle\" x=\"361.5\" y=\"-334.8\" font-family=\"Times New Roman,serif\" font-size=\"14.00\">samples = 247</text>\r\n",
       "<text text-anchor=\"middle\" x=\"361.5\" y=\"-319.8\" font-family=\"Times New Roman,serif\" font-size=\"14.00\">value = [2, 245]</text>\r\n",
       "<text text-anchor=\"middle\" x=\"361.5\" y=\"-304.8\" font-family=\"Times New Roman,serif\" font-size=\"14.00\">class = 양성</text>\r\n",
       "</g>\r\n",
       "<!-- 3&#45;&gt;7 -->\r\n",
       "<g id=\"edge7\" class=\"edge\"><title>3&#45;&gt;7</title>\r\n",
       "<path fill=\"none\" stroke=\"black\" d=\"M361.5,-400.884C361.5,-392.778 361.5,-383.982 361.5,-375.472\"/>\r\n",
       "<polygon fill=\"black\" stroke=\"black\" points=\"365,-375.299 361.5,-365.299 358,-375.299 365,-375.299\"/>\r\n",
       "</g>\r\n",
       "<!-- 5 -->\r\n",
       "<g id=\"node6\" class=\"node\"><title>5</title>\r\n",
       "<polygon fill=\"#399de5\" stroke=\"black\" points=\"91,-253.5 0,-253.5 0,-200.5 91,-200.5 91,-253.5\"/>\r\n",
       "<text text-anchor=\"middle\" x=\"45.5\" y=\"-238.3\" font-family=\"Times New Roman,serif\" font-size=\"14.00\">samples = 3</text>\r\n",
       "<text text-anchor=\"middle\" x=\"45.5\" y=\"-223.3\" font-family=\"Times New Roman,serif\" font-size=\"14.00\">value = [0, 3]</text>\r\n",
       "<text text-anchor=\"middle\" x=\"45.5\" y=\"-208.3\" font-family=\"Times New Roman,serif\" font-size=\"14.00\">class = 양성</text>\r\n",
       "</g>\r\n",
       "<!-- 4&#45;&gt;5 -->\r\n",
       "<g id=\"edge5\" class=\"edge\"><title>4&#45;&gt;5</title>\r\n",
       "<path fill=\"none\" stroke=\"black\" d=\"M119.111,-296.884C106.653,-285.226 92.6699,-272.141 80.2641,-260.532\"/>\r\n",
       "<polygon fill=\"black\" stroke=\"black\" points=\"82.4644,-257.797 72.7713,-253.52 77.6815,-262.908 82.4644,-257.797\"/>\r\n",
       "</g>\r\n",
       "<!-- 6 -->\r\n",
       "<g id=\"node7\" class=\"node\"><title>6</title>\r\n",
       "<polygon fill=\"#e58139\" stroke=\"black\" points=\"200,-253.5 109,-253.5 109,-200.5 200,-200.5 200,-253.5\"/>\r\n",
       "<text text-anchor=\"middle\" x=\"154.5\" y=\"-238.3\" font-family=\"Times New Roman,serif\" font-size=\"14.00\">samples = 1</text>\r\n",
       "<text text-anchor=\"middle\" x=\"154.5\" y=\"-223.3\" font-family=\"Times New Roman,serif\" font-size=\"14.00\">value = [1, 0]</text>\r\n",
       "<text text-anchor=\"middle\" x=\"154.5\" y=\"-208.3\" font-family=\"Times New Roman,serif\" font-size=\"14.00\">class = 악성</text>\r\n",
       "</g>\r\n",
       "<!-- 4&#45;&gt;6 -->\r\n",
       "<g id=\"edge6\" class=\"edge\"><title>4&#45;&gt;6</title>\r\n",
       "<path fill=\"none\" stroke=\"black\" d=\"M154.5,-296.884C154.5,-286.326 154.5,-274.597 154.5,-263.854\"/>\r\n",
       "<polygon fill=\"black\" stroke=\"black\" points=\"158,-263.52 154.5,-253.52 151,-263.52 158,-263.52\"/>\r\n",
       "</g>\r\n",
       "<!-- 8 -->\r\n",
       "<g id=\"node9\" class=\"node\"><title>8</title>\r\n",
       "<polygon fill=\"#399de5\" fill-opacity=\"0.996078\" stroke=\"black\" points=\"362.5,-261 218.5,-261 218.5,-193 362.5,-193 362.5,-261\"/>\r\n",
       "<text text-anchor=\"middle\" x=\"290.5\" y=\"-245.8\" font-family=\"Times New Roman,serif\" font-size=\"14.00\">worst texture &lt;= 33.35</text>\r\n",
       "<text text-anchor=\"middle\" x=\"290.5\" y=\"-230.8\" font-family=\"Times New Roman,serif\" font-size=\"14.00\">samples = 243</text>\r\n",
       "<text text-anchor=\"middle\" x=\"290.5\" y=\"-215.8\" font-family=\"Times New Roman,serif\" font-size=\"14.00\">value = [1, 242]</text>\r\n",
       "<text text-anchor=\"middle\" x=\"290.5\" y=\"-200.8\" font-family=\"Times New Roman,serif\" font-size=\"14.00\">class = 양성</text>\r\n",
       "</g>\r\n",
       "<!-- 7&#45;&gt;8 -->\r\n",
       "<g id=\"edge8\" class=\"edge\"><title>7&#45;&gt;8</title>\r\n",
       "<path fill=\"none\" stroke=\"black\" d=\"M338.448,-296.884C332.372,-288.154 325.739,-278.625 319.397,-269.514\"/>\r\n",
       "<polygon fill=\"black\" stroke=\"black\" points=\"322.265,-267.507 313.679,-261.299 316.519,-271.506 322.265,-267.507\"/>\r\n",
       "</g>\r\n",
       "<!-- 13 -->\r\n",
       "<g id=\"node14\" class=\"node\"><title>13</title>\r\n",
       "<polygon fill=\"#399de5\" fill-opacity=\"0.666667\" stroke=\"black\" points=\"538.5,-261 380.5,-261 380.5,-193 538.5,-193 538.5,-261\"/>\r\n",
       "<text text-anchor=\"middle\" x=\"459.5\" y=\"-245.8\" font-family=\"Times New Roman,serif\" font-size=\"14.00\">mean concavity &lt;= 0.029</text>\r\n",
       "<text text-anchor=\"middle\" x=\"459.5\" y=\"-230.8\" font-family=\"Times New Roman,serif\" font-size=\"14.00\">samples = 4</text>\r\n",
       "<text text-anchor=\"middle\" x=\"459.5\" y=\"-215.8\" font-family=\"Times New Roman,serif\" font-size=\"14.00\">value = [1, 3]</text>\r\n",
       "<text text-anchor=\"middle\" x=\"459.5\" y=\"-200.8\" font-family=\"Times New Roman,serif\" font-size=\"14.00\">class = 양성</text>\r\n",
       "</g>\r\n",
       "<!-- 7&#45;&gt;13 -->\r\n",
       "<g id=\"edge13\" class=\"edge\"><title>7&#45;&gt;13</title>\r\n",
       "<path fill=\"none\" stroke=\"black\" d=\"M393.318,-296.884C401.961,-287.887 411.422,-278.041 420.417,-268.678\"/>\r\n",
       "<polygon fill=\"black\" stroke=\"black\" points=\"423.102,-270.935 427.506,-261.299 418.054,-266.086 423.102,-270.935\"/>\r\n",
       "</g>\r\n",
       "<!-- 9 -->\r\n",
       "<g id=\"node10\" class=\"node\"><title>9</title>\r\n",
       "<polygon fill=\"#399de5\" stroke=\"black\" points=\"212.5,-149.5 108.5,-149.5 108.5,-96.5 212.5,-96.5 212.5,-149.5\"/>\r\n",
       "<text text-anchor=\"middle\" x=\"160.5\" y=\"-134.3\" font-family=\"Times New Roman,serif\" font-size=\"14.00\">samples = 225</text>\r\n",
       "<text text-anchor=\"middle\" x=\"160.5\" y=\"-119.3\" font-family=\"Times New Roman,serif\" font-size=\"14.00\">value = [0, 225]</text>\r\n",
       "<text text-anchor=\"middle\" x=\"160.5\" y=\"-104.3\" font-family=\"Times New Roman,serif\" font-size=\"14.00\">class = 양성</text>\r\n",
       "</g>\r\n",
       "<!-- 8&#45;&gt;9 -->\r\n",
       "<g id=\"edge9\" class=\"edge\"><title>8&#45;&gt;9</title>\r\n",
       "<path fill=\"none\" stroke=\"black\" d=\"M248.293,-192.884C233.154,-181.006 216.128,-167.646 201.126,-155.876\"/>\r\n",
       "<polygon fill=\"black\" stroke=\"black\" points=\"203.053,-152.939 193.025,-149.52 198.732,-158.446 203.053,-152.939\"/>\r\n",
       "</g>\r\n",
       "<!-- 10 -->\r\n",
       "<g id=\"node11\" class=\"node\"><title>10</title>\r\n",
       "<polygon fill=\"#399de5\" fill-opacity=\"0.941176\" stroke=\"black\" points=\"368,-157 231,-157 231,-89 368,-89 368,-157\"/>\r\n",
       "<text text-anchor=\"middle\" x=\"299.5\" y=\"-141.8\" font-family=\"Times New Roman,serif\" font-size=\"14.00\">worst texture &lt;= 33.8</text>\r\n",
       "<text text-anchor=\"middle\" x=\"299.5\" y=\"-126.8\" font-family=\"Times New Roman,serif\" font-size=\"14.00\">samples = 18</text>\r\n",
       "<text text-anchor=\"middle\" x=\"299.5\" y=\"-111.8\" font-family=\"Times New Roman,serif\" font-size=\"14.00\">value = [1, 17]</text>\r\n",
       "<text text-anchor=\"middle\" x=\"299.5\" y=\"-96.8\" font-family=\"Times New Roman,serif\" font-size=\"14.00\">class = 양성</text>\r\n",
       "</g>\r\n",
       "<!-- 8&#45;&gt;10 -->\r\n",
       "<g id=\"edge10\" class=\"edge\"><title>8&#45;&gt;10</title>\r\n",
       "<path fill=\"none\" stroke=\"black\" d=\"M293.422,-192.884C294.137,-184.778 294.913,-175.982 295.664,-167.472\"/>\r\n",
       "<polygon fill=\"black\" stroke=\"black\" points=\"299.169,-167.568 296.562,-157.299 292.196,-166.953 299.169,-167.568\"/>\r\n",
       "</g>\r\n",
       "<!-- 11 -->\r\n",
       "<g id=\"node12\" class=\"node\"><title>11</title>\r\n",
       "<polygon fill=\"#e58139\" stroke=\"black\" points=\"288,-53 197,-53 197,-0 288,-0 288,-53\"/>\r\n",
       "<text text-anchor=\"middle\" x=\"242.5\" y=\"-37.8\" font-family=\"Times New Roman,serif\" font-size=\"14.00\">samples = 1</text>\r\n",
       "<text text-anchor=\"middle\" x=\"242.5\" y=\"-22.8\" font-family=\"Times New Roman,serif\" font-size=\"14.00\">value = [1, 0]</text>\r\n",
       "<text text-anchor=\"middle\" x=\"242.5\" y=\"-7.8\" font-family=\"Times New Roman,serif\" font-size=\"14.00\">class = 악성</text>\r\n",
       "</g>\r\n",
       "<!-- 10&#45;&gt;11 -->\r\n",
       "<g id=\"edge11\" class=\"edge\"><title>10&#45;&gt;11</title>\r\n",
       "<path fill=\"none\" stroke=\"black\" d=\"M279.564,-88.9485C274.267,-80.1664 268.535,-70.6629 263.198,-61.815\"/>\r\n",
       "<polygon fill=\"black\" stroke=\"black\" points=\"266.186,-59.9919 258.024,-53.2367 260.192,-63.6074 266.186,-59.9919\"/>\r\n",
       "</g>\r\n",
       "<!-- 12 -->\r\n",
       "<g id=\"node13\" class=\"node\"><title>12</title>\r\n",
       "<polygon fill=\"#399de5\" stroke=\"black\" points=\"404.5,-53 306.5,-53 306.5,-0 404.5,-0 404.5,-53\"/>\r\n",
       "<text text-anchor=\"middle\" x=\"355.5\" y=\"-37.8\" font-family=\"Times New Roman,serif\" font-size=\"14.00\">samples = 17</text>\r\n",
       "<text text-anchor=\"middle\" x=\"355.5\" y=\"-22.8\" font-family=\"Times New Roman,serif\" font-size=\"14.00\">value = [0, 17]</text>\r\n",
       "<text text-anchor=\"middle\" x=\"355.5\" y=\"-7.8\" font-family=\"Times New Roman,serif\" font-size=\"14.00\">class = 양성</text>\r\n",
       "</g>\r\n",
       "<!-- 10&#45;&gt;12 -->\r\n",
       "<g id=\"edge12\" class=\"edge\"><title>10&#45;&gt;12</title>\r\n",
       "<path fill=\"none\" stroke=\"black\" d=\"M319.086,-88.9485C324.236,-80.2579 329.805,-70.8608 335.001,-62.0917\"/>\r\n",
       "<polygon fill=\"black\" stroke=\"black\" points=\"338.162,-63.624 340.249,-53.2367 332.14,-60.0553 338.162,-63.624\"/>\r\n",
       "</g>\r\n",
       "<!-- 14 -->\r\n",
       "<g id=\"node15\" class=\"node\"><title>14</title>\r\n",
       "<polygon fill=\"#e58139\" stroke=\"black\" points=\"495,-149.5 404,-149.5 404,-96.5 495,-96.5 495,-149.5\"/>\r\n",
       "<text text-anchor=\"middle\" x=\"449.5\" y=\"-134.3\" font-family=\"Times New Roman,serif\" font-size=\"14.00\">samples = 1</text>\r\n",
       "<text text-anchor=\"middle\" x=\"449.5\" y=\"-119.3\" font-family=\"Times New Roman,serif\" font-size=\"14.00\">value = [1, 0]</text>\r\n",
       "<text text-anchor=\"middle\" x=\"449.5\" y=\"-104.3\" font-family=\"Times New Roman,serif\" font-size=\"14.00\">class = 악성</text>\r\n",
       "</g>\r\n",
       "<!-- 13&#45;&gt;14 -->\r\n",
       "<g id=\"edge14\" class=\"edge\"><title>13&#45;&gt;14</title>\r\n",
       "<path fill=\"none\" stroke=\"black\" d=\"M456.253,-192.884C455.207,-182.216 454.044,-170.352 452.982,-159.519\"/>\r\n",
       "<polygon fill=\"black\" stroke=\"black\" points=\"456.461,-159.131 452.002,-149.52 449.494,-159.814 456.461,-159.131\"/>\r\n",
       "</g>\r\n",
       "<!-- 15 -->\r\n",
       "<g id=\"node16\" class=\"node\"><title>15</title>\r\n",
       "<polygon fill=\"#399de5\" stroke=\"black\" points=\"604,-149.5 513,-149.5 513,-96.5 604,-96.5 604,-149.5\"/>\r\n",
       "<text text-anchor=\"middle\" x=\"558.5\" y=\"-134.3\" font-family=\"Times New Roman,serif\" font-size=\"14.00\">samples = 3</text>\r\n",
       "<text text-anchor=\"middle\" x=\"558.5\" y=\"-119.3\" font-family=\"Times New Roman,serif\" font-size=\"14.00\">value = [0, 3]</text>\r\n",
       "<text text-anchor=\"middle\" x=\"558.5\" y=\"-104.3\" font-family=\"Times New Roman,serif\" font-size=\"14.00\">class = 양성</text>\r\n",
       "</g>\r\n",
       "<!-- 13&#45;&gt;15 -->\r\n",
       "<g id=\"edge15\" class=\"edge\"><title>13&#45;&gt;15</title>\r\n",
       "<path fill=\"none\" stroke=\"black\" d=\"M491.642,-192.884C502.851,-181.336 515.418,-168.387 526.606,-156.86\"/>\r\n",
       "<polygon fill=\"black\" stroke=\"black\" points=\"529.277,-159.133 533.731,-149.52 524.254,-154.258 529.277,-159.133\"/>\r\n",
       "</g>\r\n",
       "<!-- 18 -->\r\n",
       "<g id=\"node19\" class=\"node\"><title>18</title>\r\n",
       "<polygon fill=\"#399de5\" fill-opacity=\"0.666667\" stroke=\"black\" points=\"815,-469 686,-469 686,-401 815,-401 815,-469\"/>\r\n",
       "<text text-anchor=\"middle\" x=\"750.5\" y=\"-453.8\" font-family=\"Times New Roman,serif\" font-size=\"14.00\">worst area &lt;= 817.1</text>\r\n",
       "<text text-anchor=\"middle\" x=\"750.5\" y=\"-438.8\" font-family=\"Times New Roman,serif\" font-size=\"14.00\">samples = 12</text>\r\n",
       "<text text-anchor=\"middle\" x=\"750.5\" y=\"-423.8\" font-family=\"Times New Roman,serif\" font-size=\"14.00\">value = [3, 9]</text>\r\n",
       "<text text-anchor=\"middle\" x=\"750.5\" y=\"-408.8\" font-family=\"Times New Roman,serif\" font-size=\"14.00\">class = 양성</text>\r\n",
       "</g>\r\n",
       "<!-- 17&#45;&gt;18 -->\r\n",
       "<g id=\"edge18\" class=\"edge\"><title>17&#45;&gt;18</title>\r\n",
       "<path fill=\"none\" stroke=\"black\" d=\"M784.942,-504.884C780.711,-496.422 776.104,-487.207 771.676,-478.352\"/>\r\n",
       "<polygon fill=\"black\" stroke=\"black\" points=\"774.752,-476.678 767.15,-469.299 768.491,-479.809 774.752,-476.678\"/>\r\n",
       "</g>\r\n",
       "<!-- 23 -->\r\n",
       "<g id=\"node24\" class=\"node\"><title>23</title>\r\n",
       "<polygon fill=\"#e58139\" fill-opacity=\"0.890196\" stroke=\"black\" points=\"994,-469 833,-469 833,-401 994,-401 994,-469\"/>\r\n",
       "<text text-anchor=\"middle\" x=\"913.5\" y=\"-453.8\" font-family=\"Times New Roman,serif\" font-size=\"14.00\">worst symmetry &lt;= 0.268</text>\r\n",
       "<text text-anchor=\"middle\" x=\"913.5\" y=\"-438.8\" font-family=\"Times New Roman,serif\" font-size=\"14.00\">samples = 20</text>\r\n",
       "<text text-anchor=\"middle\" x=\"913.5\" y=\"-423.8\" font-family=\"Times New Roman,serif\" font-size=\"14.00\">value = [18, 2]</text>\r\n",
       "<text text-anchor=\"middle\" x=\"913.5\" y=\"-408.8\" font-family=\"Times New Roman,serif\" font-size=\"14.00\">class = 악성</text>\r\n",
       "</g>\r\n",
       "<!-- 17&#45;&gt;23 -->\r\n",
       "<g id=\"edge23\" class=\"edge\"><title>17&#45;&gt;23</title>\r\n",
       "<path fill=\"none\" stroke=\"black\" d=\"M837.863,-504.884C847.937,-495.709 858.982,-485.65 869.444,-476.123\"/>\r\n",
       "<polygon fill=\"black\" stroke=\"black\" points=\"871.899,-478.62 876.936,-469.299 867.186,-473.445 871.899,-478.62\"/>\r\n",
       "</g>\r\n",
       "<!-- 19 -->\r\n",
       "<g id=\"node20\" class=\"node\"><title>19</title>\r\n",
       "<polygon fill=\"#399de5\" fill-opacity=\"0.890196\" stroke=\"black\" points=\"688,-365 517,-365 517,-297 688,-297 688,-365\"/>\r\n",
       "<text text-anchor=\"middle\" x=\"602.5\" y=\"-349.8\" font-family=\"Times New Roman,serif\" font-size=\"14.00\">mean smoothness &lt;= 0.123</text>\r\n",
       "<text text-anchor=\"middle\" x=\"602.5\" y=\"-334.8\" font-family=\"Times New Roman,serif\" font-size=\"14.00\">samples = 10</text>\r\n",
       "<text text-anchor=\"middle\" x=\"602.5\" y=\"-319.8\" font-family=\"Times New Roman,serif\" font-size=\"14.00\">value = [1, 9]</text>\r\n",
       "<text text-anchor=\"middle\" x=\"602.5\" y=\"-304.8\" font-family=\"Times New Roman,serif\" font-size=\"14.00\">class = 양성</text>\r\n",
       "</g>\r\n",
       "<!-- 18&#45;&gt;19 -->\r\n",
       "<g id=\"edge19\" class=\"edge\"><title>18&#45;&gt;19</title>\r\n",
       "<path fill=\"none\" stroke=\"black\" d=\"M702.449,-400.884C688.549,-391.304 673.251,-380.761 658.892,-370.864\"/>\r\n",
       "<polygon fill=\"black\" stroke=\"black\" points=\"660.783,-367.918 650.563,-365.125 656.811,-373.681 660.783,-367.918\"/>\r\n",
       "</g>\r\n",
       "<!-- 22 -->\r\n",
       "<g id=\"node23\" class=\"node\"><title>22</title>\r\n",
       "<polygon fill=\"#e58139\" stroke=\"black\" points=\"797,-357.5 706,-357.5 706,-304.5 797,-304.5 797,-357.5\"/>\r\n",
       "<text text-anchor=\"middle\" x=\"751.5\" y=\"-342.3\" font-family=\"Times New Roman,serif\" font-size=\"14.00\">samples = 2</text>\r\n",
       "<text text-anchor=\"middle\" x=\"751.5\" y=\"-327.3\" font-family=\"Times New Roman,serif\" font-size=\"14.00\">value = [2, 0]</text>\r\n",
       "<text text-anchor=\"middle\" x=\"751.5\" y=\"-312.3\" font-family=\"Times New Roman,serif\" font-size=\"14.00\">class = 악성</text>\r\n",
       "</g>\r\n",
       "<!-- 18&#45;&gt;22 -->\r\n",
       "<g id=\"edge22\" class=\"edge\"><title>18&#45;&gt;22</title>\r\n",
       "<path fill=\"none\" stroke=\"black\" d=\"M750.825,-400.884C750.928,-390.326 751.043,-378.597 751.148,-367.854\"/>\r\n",
       "<polygon fill=\"black\" stroke=\"black\" points=\"754.652,-367.554 751.25,-357.52 747.652,-367.485 754.652,-367.554\"/>\r\n",
       "</g>\r\n",
       "<!-- 20 -->\r\n",
       "<g id=\"node21\" class=\"node\"><title>20</title>\r\n",
       "<polygon fill=\"#399de5\" stroke=\"black\" points=\"648,-253.5 557,-253.5 557,-200.5 648,-200.5 648,-253.5\"/>\r\n",
       "<text text-anchor=\"middle\" x=\"602.5\" y=\"-238.3\" font-family=\"Times New Roman,serif\" font-size=\"14.00\">samples = 9</text>\r\n",
       "<text text-anchor=\"middle\" x=\"602.5\" y=\"-223.3\" font-family=\"Times New Roman,serif\" font-size=\"14.00\">value = [0, 9]</text>\r\n",
       "<text text-anchor=\"middle\" x=\"602.5\" y=\"-208.3\" font-family=\"Times New Roman,serif\" font-size=\"14.00\">class = 양성</text>\r\n",
       "</g>\r\n",
       "<!-- 19&#45;&gt;20 -->\r\n",
       "<g id=\"edge20\" class=\"edge\"><title>19&#45;&gt;20</title>\r\n",
       "<path fill=\"none\" stroke=\"black\" d=\"M602.5,-296.884C602.5,-286.326 602.5,-274.597 602.5,-263.854\"/>\r\n",
       "<polygon fill=\"black\" stroke=\"black\" points=\"606,-263.52 602.5,-253.52 599,-263.52 606,-263.52\"/>\r\n",
       "</g>\r\n",
       "<!-- 21 -->\r\n",
       "<g id=\"node22\" class=\"node\"><title>21</title>\r\n",
       "<polygon fill=\"#e58139\" stroke=\"black\" points=\"757,-253.5 666,-253.5 666,-200.5 757,-200.5 757,-253.5\"/>\r\n",
       "<text text-anchor=\"middle\" x=\"711.5\" y=\"-238.3\" font-family=\"Times New Roman,serif\" font-size=\"14.00\">samples = 1</text>\r\n",
       "<text text-anchor=\"middle\" x=\"711.5\" y=\"-223.3\" font-family=\"Times New Roman,serif\" font-size=\"14.00\">value = [1, 0]</text>\r\n",
       "<text text-anchor=\"middle\" x=\"711.5\" y=\"-208.3\" font-family=\"Times New Roman,serif\" font-size=\"14.00\">class = 악성</text>\r\n",
       "</g>\r\n",
       "<!-- 19&#45;&gt;21 -->\r\n",
       "<g id=\"edge21\" class=\"edge\"><title>19&#45;&gt;21</title>\r\n",
       "<path fill=\"none\" stroke=\"black\" d=\"M637.889,-296.884C650.347,-285.226 664.33,-272.141 676.736,-260.532\"/>\r\n",
       "<polygon fill=\"black\" stroke=\"black\" points=\"679.319,-262.908 684.229,-253.52 674.536,-257.797 679.319,-262.908\"/>\r\n",
       "</g>\r\n",
       "<!-- 24 -->\r\n",
       "<g id=\"node25\" class=\"node\"><title>24</title>\r\n",
       "<polygon fill=\"#399de5\" fill-opacity=\"0.498039\" stroke=\"black\" points=\"1012,-365 815,-365 815,-297 1012,-297 1012,-365\"/>\r\n",
       "<text text-anchor=\"middle\" x=\"913.5\" y=\"-349.8\" font-family=\"Times New Roman,serif\" font-size=\"14.00\">fractal dimension error &lt;= 0.002</text>\r\n",
       "<text text-anchor=\"middle\" x=\"913.5\" y=\"-334.8\" font-family=\"Times New Roman,serif\" font-size=\"14.00\">samples = 3</text>\r\n",
       "<text text-anchor=\"middle\" x=\"913.5\" y=\"-319.8\" font-family=\"Times New Roman,serif\" font-size=\"14.00\">value = [1, 2]</text>\r\n",
       "<text text-anchor=\"middle\" x=\"913.5\" y=\"-304.8\" font-family=\"Times New Roman,serif\" font-size=\"14.00\">class = 양성</text>\r\n",
       "</g>\r\n",
       "<!-- 23&#45;&gt;24 -->\r\n",
       "<g id=\"edge24\" class=\"edge\"><title>23&#45;&gt;24</title>\r\n",
       "<path fill=\"none\" stroke=\"black\" d=\"M913.5,-400.884C913.5,-392.778 913.5,-383.982 913.5,-375.472\"/>\r\n",
       "<polygon fill=\"black\" stroke=\"black\" points=\"917,-375.299 913.5,-365.299 910,-375.299 917,-375.299\"/>\r\n",
       "</g>\r\n",
       "<!-- 27 -->\r\n",
       "<g id=\"node28\" class=\"node\"><title>27</title>\r\n",
       "<polygon fill=\"#e58139\" stroke=\"black\" points=\"1128.5,-357.5 1030.5,-357.5 1030.5,-304.5 1128.5,-304.5 1128.5,-357.5\"/>\r\n",
       "<text text-anchor=\"middle\" x=\"1079.5\" y=\"-342.3\" font-family=\"Times New Roman,serif\" font-size=\"14.00\">samples = 17</text>\r\n",
       "<text text-anchor=\"middle\" x=\"1079.5\" y=\"-327.3\" font-family=\"Times New Roman,serif\" font-size=\"14.00\">value = [17, 0]</text>\r\n",
       "<text text-anchor=\"middle\" x=\"1079.5\" y=\"-312.3\" font-family=\"Times New Roman,serif\" font-size=\"14.00\">class = 악성</text>\r\n",
       "</g>\r\n",
       "<!-- 23&#45;&gt;27 -->\r\n",
       "<g id=\"edge27\" class=\"edge\"><title>23&#45;&gt;27</title>\r\n",
       "<path fill=\"none\" stroke=\"black\" d=\"M967.395,-400.884C987.263,-388.676 1009.68,-374.903 1029.21,-362.899\"/>\r\n",
       "<polygon fill=\"black\" stroke=\"black\" points=\"1031.28,-365.737 1037.97,-357.52 1027.62,-359.773 1031.28,-365.737\"/>\r\n",
       "</g>\r\n",
       "<!-- 25 -->\r\n",
       "<g id=\"node26\" class=\"node\"><title>25</title>\r\n",
       "<polygon fill=\"#e58139\" stroke=\"black\" points=\"912,-253.5 821,-253.5 821,-200.5 912,-200.5 912,-253.5\"/>\r\n",
       "<text text-anchor=\"middle\" x=\"866.5\" y=\"-238.3\" font-family=\"Times New Roman,serif\" font-size=\"14.00\">samples = 1</text>\r\n",
       "<text text-anchor=\"middle\" x=\"866.5\" y=\"-223.3\" font-family=\"Times New Roman,serif\" font-size=\"14.00\">value = [1, 0]</text>\r\n",
       "<text text-anchor=\"middle\" x=\"866.5\" y=\"-208.3\" font-family=\"Times New Roman,serif\" font-size=\"14.00\">class = 악성</text>\r\n",
       "</g>\r\n",
       "<!-- 24&#45;&gt;25 -->\r\n",
       "<g id=\"edge25\" class=\"edge\"><title>24&#45;&gt;25</title>\r\n",
       "<path fill=\"none\" stroke=\"black\" d=\"M898.24,-296.884C893.223,-285.996 887.633,-273.863 882.558,-262.85\"/>\r\n",
       "<polygon fill=\"black\" stroke=\"black\" points=\"885.623,-261.137 878.259,-253.52 879.265,-264.067 885.623,-261.137\"/>\r\n",
       "</g>\r\n",
       "<!-- 26 -->\r\n",
       "<g id=\"node27\" class=\"node\"><title>26</title>\r\n",
       "<polygon fill=\"#399de5\" stroke=\"black\" points=\"1021,-253.5 930,-253.5 930,-200.5 1021,-200.5 1021,-253.5\"/>\r\n",
       "<text text-anchor=\"middle\" x=\"975.5\" y=\"-238.3\" font-family=\"Times New Roman,serif\" font-size=\"14.00\">samples = 2</text>\r\n",
       "<text text-anchor=\"middle\" x=\"975.5\" y=\"-223.3\" font-family=\"Times New Roman,serif\" font-size=\"14.00\">value = [0, 2]</text>\r\n",
       "<text text-anchor=\"middle\" x=\"975.5\" y=\"-208.3\" font-family=\"Times New Roman,serif\" font-size=\"14.00\">class = 양성</text>\r\n",
       "</g>\r\n",
       "<!-- 24&#45;&gt;26 -->\r\n",
       "<g id=\"edge26\" class=\"edge\"><title>24&#45;&gt;26</title>\r\n",
       "<path fill=\"none\" stroke=\"black\" d=\"M933.63,-296.884C940.381,-285.776 947.921,-273.372 954.722,-262.184\"/>\r\n",
       "<polygon fill=\"black\" stroke=\"black\" points=\"957.785,-263.883 959.988,-253.52 951.803,-260.247 957.785,-263.883\"/>\r\n",
       "</g>\r\n",
       "<!-- 29 -->\r\n",
       "<g id=\"node30\" class=\"node\"><title>29</title>\r\n",
       "<polygon fill=\"#399de5\" stroke=\"black\" points=\"1062,-565.5 971,-565.5 971,-512.5 1062,-512.5 1062,-565.5\"/>\r\n",
       "<text text-anchor=\"middle\" x=\"1016.5\" y=\"-550.3\" font-family=\"Times New Roman,serif\" font-size=\"14.00\">samples = 5</text>\r\n",
       "<text text-anchor=\"middle\" x=\"1016.5\" y=\"-535.3\" font-family=\"Times New Roman,serif\" font-size=\"14.00\">value = [0, 5]</text>\r\n",
       "<text text-anchor=\"middle\" x=\"1016.5\" y=\"-520.3\" font-family=\"Times New Roman,serif\" font-size=\"14.00\">class = 양성</text>\r\n",
       "</g>\r\n",
       "<!-- 28&#45;&gt;29 -->\r\n",
       "<g id=\"edge29\" class=\"edge\"><title>28&#45;&gt;29</title>\r\n",
       "<path fill=\"none\" stroke=\"black\" d=\"M1016.5,-608.884C1016.5,-598.326 1016.5,-586.597 1016.5,-575.854\"/>\r\n",
       "<polygon fill=\"black\" stroke=\"black\" points=\"1020,-575.52 1016.5,-565.52 1013,-575.52 1020,-575.52\"/>\r\n",
       "</g>\r\n",
       "<!-- 30 -->\r\n",
       "<g id=\"node31\" class=\"node\"><title>30</title>\r\n",
       "<polygon fill=\"#e58139\" fill-opacity=\"0.976471\" stroke=\"black\" points=\"1273,-573 1112,-573 1112,-505 1273,-505 1273,-573\"/>\r\n",
       "<text text-anchor=\"middle\" x=\"1192.5\" y=\"-557.8\" font-family=\"Times New Roman,serif\" font-size=\"14.00\">worst concavity &lt;= 0.191</text>\r\n",
       "<text text-anchor=\"middle\" x=\"1192.5\" y=\"-542.8\" font-family=\"Times New Roman,serif\" font-size=\"14.00\">samples = 137</text>\r\n",
       "<text text-anchor=\"middle\" x=\"1192.5\" y=\"-527.8\" font-family=\"Times New Roman,serif\" font-size=\"14.00\">value = [134, 3]</text>\r\n",
       "<text text-anchor=\"middle\" x=\"1192.5\" y=\"-512.8\" font-family=\"Times New Roman,serif\" font-size=\"14.00\">class = 악성</text>\r\n",
       "</g>\r\n",
       "<!-- 28&#45;&gt;30 -->\r\n",
       "<g id=\"edge30\" class=\"edge\"><title>28&#45;&gt;30</title>\r\n",
       "<path fill=\"none\" stroke=\"black\" d=\"M1073.64,-608.884C1090.48,-599.125 1109.04,-588.366 1126.4,-578.31\"/>\r\n",
       "<polygon fill=\"black\" stroke=\"black\" points=\"1128.45,-581.167 1135.34,-573.125 1124.94,-575.111 1128.45,-581.167\"/>\r\n",
       "</g>\r\n",
       "<!-- 31 -->\r\n",
       "<g id=\"node32\" class=\"node\"><title>31</title>\r\n",
       "<polygon fill=\"#399de5\" fill-opacity=\"0.333333\" stroke=\"black\" points=\"1268,-469 1117,-469 1117,-401 1268,-401 1268,-469\"/>\r\n",
       "<text text-anchor=\"middle\" x=\"1192.5\" y=\"-453.8\" font-family=\"Times New Roman,serif\" font-size=\"14.00\">worst texture &lt;= 30.975</text>\r\n",
       "<text text-anchor=\"middle\" x=\"1192.5\" y=\"-438.8\" font-family=\"Times New Roman,serif\" font-size=\"14.00\">samples = 5</text>\r\n",
       "<text text-anchor=\"middle\" x=\"1192.5\" y=\"-423.8\" font-family=\"Times New Roman,serif\" font-size=\"14.00\">value = [2, 3]</text>\r\n",
       "<text text-anchor=\"middle\" x=\"1192.5\" y=\"-408.8\" font-family=\"Times New Roman,serif\" font-size=\"14.00\">class = 양성</text>\r\n",
       "</g>\r\n",
       "<!-- 30&#45;&gt;31 -->\r\n",
       "<g id=\"edge31\" class=\"edge\"><title>30&#45;&gt;31</title>\r\n",
       "<path fill=\"none\" stroke=\"black\" d=\"M1192.5,-504.884C1192.5,-496.778 1192.5,-487.982 1192.5,-479.472\"/>\r\n",
       "<polygon fill=\"black\" stroke=\"black\" points=\"1196,-479.299 1192.5,-469.299 1189,-479.299 1196,-479.299\"/>\r\n",
       "</g>\r\n",
       "<!-- 34 -->\r\n",
       "<g id=\"node35\" class=\"node\"><title>34</title>\r\n",
       "<polygon fill=\"#e58139\" stroke=\"black\" points=\"1390.5,-461.5 1286.5,-461.5 1286.5,-408.5 1390.5,-408.5 1390.5,-461.5\"/>\r\n",
       "<text text-anchor=\"middle\" x=\"1338.5\" y=\"-446.3\" font-family=\"Times New Roman,serif\" font-size=\"14.00\">samples = 132</text>\r\n",
       "<text text-anchor=\"middle\" x=\"1338.5\" y=\"-431.3\" font-family=\"Times New Roman,serif\" font-size=\"14.00\">value = [132, 0]</text>\r\n",
       "<text text-anchor=\"middle\" x=\"1338.5\" y=\"-416.3\" font-family=\"Times New Roman,serif\" font-size=\"14.00\">class = 악성</text>\r\n",
       "</g>\r\n",
       "<!-- 30&#45;&gt;34 -->\r\n",
       "<g id=\"edge34\" class=\"edge\"><title>30&#45;&gt;34</title>\r\n",
       "<path fill=\"none\" stroke=\"black\" d=\"M1239.9,-504.884C1257.06,-492.896 1276.38,-479.399 1293.34,-467.549\"/>\r\n",
       "<polygon fill=\"black\" stroke=\"black\" points=\"1295.78,-470.116 1301.97,-461.52 1291.77,-464.378 1295.78,-470.116\"/>\r\n",
       "</g>\r\n",
       "<!-- 32 -->\r\n",
       "<g id=\"node33\" class=\"node\"><title>32</title>\r\n",
       "<polygon fill=\"#399de5\" stroke=\"black\" points=\"1238,-357.5 1147,-357.5 1147,-304.5 1238,-304.5 1238,-357.5\"/>\r\n",
       "<text text-anchor=\"middle\" x=\"1192.5\" y=\"-342.3\" font-family=\"Times New Roman,serif\" font-size=\"14.00\">samples = 3</text>\r\n",
       "<text text-anchor=\"middle\" x=\"1192.5\" y=\"-327.3\" font-family=\"Times New Roman,serif\" font-size=\"14.00\">value = [0, 3]</text>\r\n",
       "<text text-anchor=\"middle\" x=\"1192.5\" y=\"-312.3\" font-family=\"Times New Roman,serif\" font-size=\"14.00\">class = 양성</text>\r\n",
       "</g>\r\n",
       "<!-- 31&#45;&gt;32 -->\r\n",
       "<g id=\"edge32\" class=\"edge\"><title>31&#45;&gt;32</title>\r\n",
       "<path fill=\"none\" stroke=\"black\" d=\"M1192.5,-400.884C1192.5,-390.326 1192.5,-378.597 1192.5,-367.854\"/>\r\n",
       "<polygon fill=\"black\" stroke=\"black\" points=\"1196,-367.52 1192.5,-357.52 1189,-367.52 1196,-367.52\"/>\r\n",
       "</g>\r\n",
       "<!-- 33 -->\r\n",
       "<g id=\"node34\" class=\"node\"><title>33</title>\r\n",
       "<polygon fill=\"#e58139\" stroke=\"black\" points=\"1347,-357.5 1256,-357.5 1256,-304.5 1347,-304.5 1347,-357.5\"/>\r\n",
       "<text text-anchor=\"middle\" x=\"1301.5\" y=\"-342.3\" font-family=\"Times New Roman,serif\" font-size=\"14.00\">samples = 2</text>\r\n",
       "<text text-anchor=\"middle\" x=\"1301.5\" y=\"-327.3\" font-family=\"Times New Roman,serif\" font-size=\"14.00\">value = [2, 0]</text>\r\n",
       "<text text-anchor=\"middle\" x=\"1301.5\" y=\"-312.3\" font-family=\"Times New Roman,serif\" font-size=\"14.00\">class = 악성</text>\r\n",
       "</g>\r\n",
       "<!-- 31&#45;&gt;33 -->\r\n",
       "<g id=\"edge33\" class=\"edge\"><title>31&#45;&gt;33</title>\r\n",
       "<path fill=\"none\" stroke=\"black\" d=\"M1227.89,-400.884C1240.35,-389.226 1254.33,-376.141 1266.74,-364.532\"/>\r\n",
       "<polygon fill=\"black\" stroke=\"black\" points=\"1269.32,-366.908 1274.23,-357.52 1264.54,-361.797 1269.32,-366.908\"/>\r\n",
       "</g>\r\n",
       "</g>\r\n",
       "</svg>\r\n"
      ],
      "text/plain": [
       "<graphviz.files.Source at 0x1ca48344048>"
      ]
     },
     "metadata": {},
     "output_type": "display_data"
    }
   ],
   "source": [
    "display(dot)"
   ]
  },
  {
   "cell_type": "code",
   "execution_count": 23,
   "metadata": {},
   "outputs": [
    {
     "name": "stdout",
     "output_type": "stream",
     "text": [
      " D 드라이브의 볼륨: New Volume\n",
      " 볼륨 일련 번호: 16AC-7728\n",
      "\n",
      " D:\\github\\dataAnal_py_basic\\forEducation 디렉터리\n",
      "\n",
      "2018-07-17  오후 07:53    <DIR>          .\n",
      "2018-07-17  오후 07:53    <DIR>          ..\n",
      "2018-07-17  오후 06:50    <DIR>          .ipynb_checkpoints\n",
      "2018-07-17  오후 06:53    <DIR>          data\n",
      "2018-07-17  오후 07:53            47,940 decisionTree.ipynb\n",
      "2018-07-17  오후 07:53    <DIR>          result\n",
      "               1개 파일              47,940 바이트\n",
      "               5개 디렉터리  966,092,644,352 바이트 남음\n"
     ]
    }
   ],
   "source": [
    "#!mkdir result\n",
    "%ls"
   ]
  },
  {
   "cell_type": "code",
   "execution_count": 33,
   "metadata": {},
   "outputs": [
    {
     "data": {
      "text/plain": [
       "'result/treeSample.png'"
      ]
     },
     "execution_count": 33,
     "metadata": {},
     "output_type": "execute_result"
    }
   ],
   "source": [
    "# dot.format= 'png'\n",
    "dot.render(filename= 'result/treeSample')"
   ]
  },
  {
   "cell_type": "code",
   "execution_count": 28,
   "metadata": {},
   "outputs": [
    {
     "name": "stdout",
     "output_type": "stream",
     "text": [
      "D:\\github\\dataAnal_py_basic\\forEducation\\result\n",
      " D 드라이브의 볼륨: New Volume\n",
      " 볼륨 일련 번호: 16AC-7728\n",
      "\n",
      " D:\\github\\dataAnal_py_basic\\forEducation\\result 디렉터리\n",
      "\n",
      "2018-07-17  오후 08:07    <DIR>          .\n",
      "2018-07-17  오후 08:07    <DIR>          ..\n",
      "2018-07-17  오후 08:07             3,938 treeSample\n",
      "2018-07-17  오후 08:07           180,351 treeSample.png\n",
      "               2개 파일             184,289 바이트\n",
      "               2개 디렉터리  966,092,455,936 바이트 남음\n",
      "D:\\github\\dataAnal_py_basic\\forEducation\n"
     ]
    }
   ],
   "source": [
    "%cd result\n",
    "%ls\n",
    "%cd .."
   ]
  }
 ],
 "metadata": {
  "kernelspec": {
   "display_name": "Python 3",
   "language": "python",
   "name": "python3"
  },
  "language_info": {
   "codemirror_mode": {
    "name": "ipython",
    "version": 3
   },
   "file_extension": ".py",
   "mimetype": "text/x-python",
   "name": "python",
   "nbconvert_exporter": "python",
   "pygments_lexer": "ipython3",
   "version": "3.6.5"
  }
 },
 "nbformat": 4,
 "nbformat_minor": 2
}
