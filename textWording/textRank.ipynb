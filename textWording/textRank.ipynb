{
 "cells": [
  {
   "cell_type": "markdown",
   "metadata": {},
   "source": [
    "[pageRank를 텍스트에 적용한 textRank](http://bab2min.tistory.com/570)"
   ]
  },
  {
   "cell_type": "code",
   "execution_count": 1,
   "metadata": {
    "collapsed": true
   },
   "outputs": [],
   "source": [
    "import networkx # pageRank\n",
    "import re # regex"
   ]
  },
  {
   "cell_type": "code",
   "execution_count": 6,
   "metadata": {},
   "outputs": [],
   "source": [
    "class RawSentence:\n",
    "    def __init__(self, textIter):\n",
    "        if type(textIter)== str: self.textIter= textIter.split('\\n')\n",
    "        else: self.textIter= textIter\n",
    "        self.rgxSplitter= re.compile('([.!?:](?:[\"\\']|(?![0-9])))') # 부호 부호or숫자\n",
    "                \n",
    "    def __iter__(self):\n",
    "        for line in self.textIter:\n",
    "            ch= self.rgxSplitter.split(line)\n",
    "            for s in map(lambda a,b: a+b, ch[::2], ch[1::2]):\n",
    "                if not s: continue\n",
    "                yield s"
   ]
  },
  {
   "cell_type": "code",
   "execution_count": null,
   "metadata": {
    "collapsed": true
   },
   "outputs": [],
   "source": [
    "class RawSentenceReader:\n",
    "    def __init__(self, filepath):\n",
    "        self.filepath= filepath\n",
    "        self.rgxSplitter= re.compile('([.!?:](?:[\"\\']|(?![0-9])))')"
   ]
  }
 ],
 "metadata": {
  "kernelspec": {
   "display_name": "Python 3",
   "language": "python",
   "name": "python3"
  },
  "language_info": {
   "codemirror_mode": {
    "name": "ipython",
    "version": 3
   },
   "file_extension": ".py",
   "mimetype": "text/x-python",
   "name": "python",
   "nbconvert_exporter": "python",
   "pygments_lexer": "ipython3",
   "version": "3.6.3"
  }
 },
 "nbformat": 4,
 "nbformat_minor": 2
}
