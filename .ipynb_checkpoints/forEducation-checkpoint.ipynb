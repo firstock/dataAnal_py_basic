{
 "cells": [
  {
   "cell_type": "markdown",
   "metadata": {},
   "source": [
    "파이썬 라이브러리를 활용한 머신러닝\n",
    "[예제](https://github.com/rickiepark/introduction_to_ml_with_python/tree/master/data)"
   ]
  },
  {
   "cell_type": "markdown",
   "metadata": {},
   "source": [
    "### Decision tree"
   ]
  },
  {
   "cell_type": "code",
   "execution_count": 10,
   "metadata": {},
   "outputs": [],
   "source": [
    "from sklearn.tree import DecisionTreeClassifier\n",
    "from sklearn.datasets import load_breast_cancer\n",
    "from sklearn.model_selection import train_test_split"
   ]
  },
  {
   "cell_type": "code",
   "execution_count": 8,
   "metadata": {},
   "outputs": [],
   "source": [
    "cancer= load_breast_cancer()"
   ]
  },
  {
   "cell_type": "code",
   "execution_count": 11,
   "metadata": {},
   "outputs": [],
   "source": [
    "X_train, X_test, y_train, y_test= train_test_split(cancer.data, cancer.target, stratify= cancer.target,\n",
    "                                                  random_state= 42)"
   ]
  },
  {
   "cell_type": "code",
   "execution_count": 12,
   "metadata": {},
   "outputs": [],
   "source": [
    "tree= DecisionTreeClassifier(random_state= 0)"
   ]
  },
  {
   "cell_type": "code",
   "execution_count": 13,
   "metadata": {},
   "outputs": [
    {
     "data": {
      "text/plain": [
       "DecisionTreeClassifier(class_weight=None, criterion='gini', max_depth=None,\n",
       "            max_features=None, max_leaf_nodes=None,\n",
       "            min_impurity_decrease=0.0, min_impurity_split=None,\n",
       "            min_samples_leaf=1, min_samples_split=2,\n",
       "            min_weight_fraction_leaf=0.0, presort=False, random_state=0,\n",
       "            splitter='best')"
      ]
     },
     "execution_count": 13,
     "metadata": {},
     "output_type": "execute_result"
    }
   ],
   "source": [
    "tree.fit(X_train, y_train)"
   ]
  },
  {
   "cell_type": "code",
   "execution_count": 17,
   "metadata": {},
   "outputs": [
    {
     "name": "stdout",
     "output_type": "stream",
     "text": [
      "train정확도   1.000\n",
      "test 정확도   0.937\n"
     ]
    }
   ],
   "source": [
    "print('train정확도{:8.3f}'.format(tree.score(X_train, y_train)))\n",
    "print('test 정확도{:8.3f}'.format(tree.score(X_test, y_test)))"
   ]
  },
  {
   "cell_type": "code",
   "execution_count": 46,
   "metadata": {},
   "outputs": [],
   "source": [
    "def dtClassifyShow(max_depth= None):\n",
    "    tree= DecisionTreeClassifier(random_state= 0, max_depth= max_depth)\n",
    "    tree.fit(X_train, y_train)\n",
    "    accu_train= '{:.5f}'.format(tree.score(X_train, y_train))\n",
    "    accu_test= '{:.5f}'.format(tree.score(X_test, y_test))\n",
    "    \n",
    "    return float(accu_train), float(accu_test)"
   ]
  },
  {
   "cell_type": "code",
   "execution_count": 47,
   "metadata": {},
   "outputs": [
    {
     "data": {
      "text/plain": [
       "(1.0, 0.93706)"
      ]
     },
     "execution_count": 47,
     "metadata": {},
     "output_type": "execute_result"
    }
   ],
   "source": [
    "dtClassifyShow()"
   ]
  },
  {
   "cell_type": "code",
   "execution_count": 48,
   "metadata": {},
   "outputs": [
    {
     "data": {
      "text/plain": [
       "(0.98826, 0.95105)"
      ]
     },
     "execution_count": 48,
     "metadata": {},
     "output_type": "execute_result"
    }
   ],
   "source": [
    "dtClassifyShow(4)"
   ]
  },
  {
   "cell_type": "code",
   "execution_count": 68,
   "metadata": {},
   "outputs": [
    {
     "data": {
      "text/plain": [
       "(0.99531, 0.95105, 5)"
      ]
     },
     "execution_count": 68,
     "metadata": {},
     "output_type": "execute_result"
    }
   ],
   "source": [
    "trainPitch= 0\n",
    "testMax= 0\n",
    "iMax= 0\n",
    "for i in range(1,19):\n",
    "    accTr, accTs= dtClassifyShow(i)\n",
    "    if testMax <= accTs:\n",
    "        trainPitch= accTr\n",
    "        testMax= accTs\n",
    "        iMax= i\n",
    "\n",
    "trainPitch, testMax, iMax"
   ]
  },
  {
   "cell_type": "code",
   "execution_count": 69,
   "metadata": {},
   "outputs": [
    {
     "data": {
      "text/plain": [
       "(0.99531, 0.95105)"
      ]
     },
     "execution_count": 69,
     "metadata": {},
     "output_type": "execute_result"
    }
   ],
   "source": [
    "dtClassifyShow(5)"
   ]
  },
  {
   "cell_type": "code",
   "execution_count": null,
   "metadata": {},
   "outputs": [],
   "source": []
  },
  {
   "cell_type": "code",
   "execution_count": 73,
   "metadata": {},
   "outputs": [],
   "source": [
    "from sklearn.tree import export_graphviz"
   ]
  },
  {
   "cell_type": "code",
   "execution_count": 74,
   "metadata": {},
   "outputs": [
    {
     "name": "stdout",
     "output_type": "stream",
     "text": [
      " D 드라이브의 볼륨: New Volume\n",
      " 볼륨 일련 번호: 16AC-7728\n",
      "\n",
      " D:\\github\\dataAnal_py_basic 디렉터리\n",
      "\n",
      "2018-07-17  오후 06:48    <DIR>          .\n",
      "2018-07-17  오후 06:48    <DIR>          ..\n",
      "2018-07-17  오후 06:14    <DIR>          .ipynb_checkpoints\n",
      "2018-07-02  오전 09:18    <DIR>          dss_bicycleShare\n",
      "2018-07-02  오전 09:18    <DIR>          dss_note\n",
      "2018-07-02  오전 09:18    <DIR>          dss_sentimentMovie\n",
      "2018-07-02  오전 09:18    <DIR>          dss_syntax\n",
      "2018-07-02  오전 09:18    <DIR>          dss_testPython\n",
      "2018-07-04  오후 01:51    <DIR>          dss_titanic\n",
      "2018-07-02  오전 09:18    <DIR>          dss_xgBoost\n",
      "2018-07-17  오후 06:48             6,201 forEducation.ipynb\n",
      "2018-07-02  오전 09:18    <DIR>          gitlab\n",
      "2018-07-02  오전 09:18    <DIR>          housePrice\n",
      "2018-07-02  오전 09:18                16 j.bat\n",
      "2018-07-02  오전 09:18    <DIR>          machineLearning\n",
      "2018-07-02  오후 07:01    <DIR>          my_titanic\n",
      "2018-07-02  오전 09:18    <DIR>          my_txtSummarize\n",
      "2018-07-02  오전 09:18    <DIR>          otherPackage\n",
      "2018-07-02  오전 09:18    <DIR>          pandas\n",
      "2018-07-02  오전 09:18    <DIR>          popularPkg\n",
      "2018-07-02  오전 09:18             1,424 readme.md\n",
      "2018-07-02  오전 09:18            14,323 scrapy_setting.ipynb\n",
      "2018-07-02  오후 05:05    <DIR>          smartPhone\n",
      "2018-07-02  오전 09:18    <DIR>          syntax1\n",
      "               4개 파일              21,964 바이트\n",
      "              20개 디렉터리  966,246,866,944 바이트 남음\n"
     ]
    }
   ],
   "source": [
    "%ls"
   ]
  },
  {
   "cell_type": "code",
   "execution_count": null,
   "metadata": {},
   "outputs": [],
   "source": [
    "export_graphviz(tree, out_file= \"\")"
   ]
  },
  {
   "cell_type": "code",
   "execution_count": 70,
   "metadata": {},
   "outputs": [],
   "source": [
    "import graphviz"
   ]
  },
  {
   "cell_type": "code",
   "execution_count": null,
   "metadata": {},
   "outputs": [],
   "source": []
  }
 ],
 "metadata": {
  "kernelspec": {
   "display_name": "Python 3",
   "language": "python",
   "name": "python3"
  },
  "language_info": {
   "codemirror_mode": {
    "name": "ipython",
    "version": 3
   },
   "file_extension": ".py",
   "mimetype": "text/x-python",
   "name": "python",
   "nbconvert_exporter": "python",
   "pygments_lexer": "ipython3",
   "version": "3.6.5"
  }
 },
 "nbformat": 4,
 "nbformat_minor": 2
}
