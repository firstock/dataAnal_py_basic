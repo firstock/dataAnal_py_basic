{
 "cells": [
  {
   "cell_type": "markdown",
   "metadata": {},
   "source": [
    "# 회귀Regression"
   ]
  },
  {
   "cell_type": "markdown",
   "metadata": {},
   "source": [
    "1. (다중) 선형Linear 회귀(최소제곱법) \n",
    "    - 선 하나로 뭉뚱그리는 게 부정확해 보일 수 있지만,다차원 데이터 일 수록(식2갠데 변수 6개) 꽤 좋은 선택지\n",
    "\n",
    "2. 릿지Ridge 회귀\n",
    "    - 규제Regularization 중, L2\n",
    "        - 과대적합 방지. 가중치를 작게작게\n",
    "        - 차원 축소가 일어나지 않음\n",
    "    - 매개변수 alpha\n",
    "        - 값이 높을 수록 많이 단순해진다. 기본값 1\n",
    "        - 10쯤 넣으면 계수가 0에 가까워짐. 0이 되진 않음\n",
    "        - 단순해지면? 당장 모델(훈련)점수는 별로겠지만, 일반화에는 좋음\n",
    "        - 0.1 넣으면 산개되고_데이터 생김새에 가깝게. 요러면 선형회귀랑 거의 비슷\n",
    "        - 보통 10까지 넣음\n",
    "    - 제일 많이 씀\n",
    "\n",
    "3. 라쏘\n",
    "    - 규제 중, L1\n",
    "    - 가중치가 0까지 감. 해당 변수를 아예 제거하는 셈 ㅇㅇ"
   ]
  },
  {
   "cell_type": "markdown",
   "metadata": {},
   "source": [
    "### 3개 한방에?\n",
    "그냥 릿지 alpha값을 0.01~100 까지 돌리면 다 해보는 거 아님??\n",
    "> 아님 ㅇㅇ"
   ]
  },
  {
   "cell_type": "markdown",
   "metadata": {},
   "source": [
    "#### 모델 검증_예측일 때\n",
    "모델 재료말고 다른걸로 테스트한 점수가 높은 게 좋은 것"
   ]
  },
  {
   "cell_type": "markdown",
   "metadata": {},
   "source": [
    "##### 문제의식: 보스턴 data에\n",
    "설명변수가 너무 많아서 KNN regression으로는 안 되었다. 선형회귀는 어떨까?"
   ]
  },
  {
   "cell_type": "code",
   "execution_count": null,
   "metadata": {
    "collapsed": true
   },
   "outputs": [],
   "source": []
  },
  {
   "cell_type": "markdown",
   "metadata": {},
   "source": [
    "## 선형 회귀\n",
    "LinearRegression()"
   ]
  },
  {
   "cell_type": "markdown",
   "metadata": {},
   "source": [
    "### 단순 선형회귀"
   ]
  },
  {
   "cell_type": "code",
   "execution_count": null,
   "metadata": {
    "collapsed": true
   },
   "outputs": [],
   "source": [
    "from sklearn.linear_model import LinearRegression"
   ]
  },
  {
   "cell_type": "code",
   "execution_count": 29,
   "metadata": {},
   "outputs": [],
   "source": [
    "import mglearn\n",
    "from sklearn.model_selection import train_test_split"
   ]
  },
  {
   "cell_type": "code",
   "execution_count": 30,
   "metadata": {
    "collapsed": true
   },
   "outputs": [],
   "source": [
    "X,y= mglearn.datasets.make_wave(n_samples=50)"
   ]
  },
  {
   "cell_type": "code",
   "execution_count": 31,
   "metadata": {},
   "outputs": [],
   "source": [
    "X_train, X_test, y_train, y_test= train_test_split(X, y, random_state=42)"
   ]
  },
  {
   "cell_type": "code",
   "execution_count": 32,
   "metadata": {
    "collapsed": true
   },
   "outputs": [],
   "source": [
    "lr= LinearRegression().fit(X_train, y_train)"
   ]
  },
  {
   "cell_type": "markdown",
   "metadata": {},
   "source": [
    "#### 결과확인\n",
    "점수(결정계수)자체가 낮으니 좋은 모델은 아님. 다만, 값이 비슷하이 과대적합은 아님"
   ]
  },
  {
   "cell_type": "code",
   "execution_count": 33,
   "metadata": {},
   "outputs": [
    {
     "data": {
      "text/plain": [
       "array([0.40640007])"
      ]
     },
     "execution_count": 33,
     "metadata": {},
     "output_type": "execute_result"
    }
   ],
   "source": [
    "lr.coef_"
   ]
  },
  {
   "cell_type": "code",
   "execution_count": 34,
   "metadata": {},
   "outputs": [
    {
     "data": {
      "text/plain": [
       "-0.014705169783905986"
      ]
     },
     "execution_count": 34,
     "metadata": {},
     "output_type": "execute_result"
    }
   ],
   "source": [
    "lr.intercept_"
   ]
  },
  {
   "cell_type": "code",
   "execution_count": 35,
   "metadata": {},
   "outputs": [
    {
     "name": "stdout",
     "output_type": "stream",
     "text": [
      "훈련세트 점수: 0.60140\n",
      "새로온 테스트: 0.56752\n"
     ]
    }
   ],
   "source": [
    "print(\"훈련세트 점수: {:.5f}\".format(lr.score(X_train, y_train)))\n",
    "print(\"새로온 테스트: {:.5f}\".format(lr.score(X_test, y_test)))"
   ]
  },
  {
   "cell_type": "markdown",
   "metadata": {},
   "source": [
    "### 다중 선형회귀"
   ]
  },
  {
   "cell_type": "code",
   "execution_count": null,
   "metadata": {
    "collapsed": true
   },
   "outputs": [],
   "source": [
    "X,y= mglearn.datasets.load_extended_boston()\n",
    "X_train, X_test, y_train, y_test= train_test_split(X, y, random_state=0)"
   ]
  },
  {
   "cell_type": "code",
   "execution_count": 39,
   "metadata": {
    "collapsed": true
   },
   "outputs": [],
   "source": [
    "lr= LinearRegression().fit(X_train, y_train)"
   ]
  },
  {
   "cell_type": "code",
   "execution_count": 40,
   "metadata": {},
   "outputs": [
    {
     "name": "stdout",
     "output_type": "stream",
     "text": [
      "(506, 104) (506,) \n",
      " (379, 104) (379,) \n",
      " (127, 104) (127,)\n"
     ]
    }
   ],
   "source": [
    "print(X.shape, y.shape,'\\n',X_train.shape, y_train.shape,'\\n',  X_test.shape,y_test.shape)"
   ]
  },
  {
   "cell_type": "markdown",
   "metadata": {},
   "source": [
    "##### 점수확인\n",
    "훈련점수만 너무 높고, 새로온 건 별로. 과대적합 ㅇㅇ"
   ]
  },
  {
   "cell_type": "code",
   "execution_count": 44,
   "metadata": {},
   "outputs": [
    {
     "name": "stdout",
     "output_type": "stream",
     "text": [
      "훈련 점수:  0.95235\n",
      "새로온 거:  0.60578\n"
     ]
    }
   ],
   "source": [
    "print(\"훈련 점수: %8.5f\"%lr.score(X_train, y_train))\n",
    "print(\"새로온 거: %8.5f\"%lr.score(X_test, y_test))"
   ]
  },
  {
   "cell_type": "code",
   "execution_count": null,
   "metadata": {
    "collapsed": true
   },
   "outputs": [],
   "source": []
  },
  {
   "cell_type": "markdown",
   "metadata": {},
   "source": [
    "## 릿지 Ridge 회귀\n",
    "과대적합이 줄고, 새로온거 점수가 좋아졌다.\n",
    "> Boston() data에 대해선, 선형회귀보다 릿지가 좋다"
   ]
  },
  {
   "cell_type": "code",
   "execution_count": 45,
   "metadata": {
    "collapsed": true
   },
   "outputs": [],
   "source": [
    "from sklearn.linear_model import Ridge"
   ]
  },
  {
   "cell_type": "code",
   "execution_count": 47,
   "metadata": {
    "collapsed": true
   },
   "outputs": [],
   "source": [
    "X,y= mglearn.datasets.load_extended_boston()\n",
    "X_train, X_test, y_train, y_test= train_test_split(X, y, random_state=0)"
   ]
  },
  {
   "cell_type": "code",
   "execution_count": 48,
   "metadata": {
    "collapsed": true
   },
   "outputs": [],
   "source": [
    "ridge= Ridge().fit(X_train, y_train)"
   ]
  },
  {
   "cell_type": "code",
   "execution_count": 51,
   "metadata": {},
   "outputs": [
    {
     "name": "stdout",
     "output_type": "stream",
     "text": [
      "훈련 점수:  0.88606\n",
      "새로온 거:  0.75271\n"
     ]
    }
   ],
   "source": [
    "print(\"훈련 점수: %8.5f\"%ridge.score(X_train, y_train))\n",
    "print(\"새로온 거: %8.5f\"%ridge.score(X_test, y_test))"
   ]
  },
  {
   "cell_type": "markdown",
   "metadata": {},
   "source": [
    "#### 그치만 0.75점이 높은 건 아니므로, alpha값 조정\n",
    "1. alpha=10: 과대적합은 줄었지만, 새로온거 점수가 더 낮아졌다 ;;\n",
    "2. alpha=0.1:과대적합이 폭발!! 새로온거 점수는 기본값 1보단 높아짐"
   ]
  },
  {
   "cell_type": "code",
   "execution_count": 50,
   "metadata": {
    "collapsed": true
   },
   "outputs": [],
   "source": [
    "ridge10= Ridge(alpha=10).fit(X_train, y_train)"
   ]
  },
  {
   "cell_type": "code",
   "execution_count": 52,
   "metadata": {},
   "outputs": [
    {
     "name": "stdout",
     "output_type": "stream",
     "text": [
      "훈련 점수: 0.78835\n",
      "새로온 거: 0.63590\n"
     ]
    }
   ],
   "source": [
    "print(\"훈련 점수:%8.5f\"%ridge10.score(X_train,y_train))\n",
    "print(\"새로온 거:%8.5f\"%ridge10.score(X_test,y_test))"
   ]
  },
  {
   "cell_type": "code",
   "execution_count": 53,
   "metadata": {
    "collapsed": true
   },
   "outputs": [],
   "source": [
    "ridge01= Ridge(alpha=.1).fit(X_train, y_train)"
   ]
  },
  {
   "cell_type": "code",
   "execution_count": 55,
   "metadata": {},
   "outputs": [
    {
     "name": "stdout",
     "output_type": "stream",
     "text": [
      "훈련 점수: 0.92858\n",
      "새로온 거: 0.77179\n"
     ]
    }
   ],
   "source": [
    "print(\"훈련 점수:%8.5f\"%ridge01.score(X_train,y_train))\n",
    "print(\"새로온 거:%8.5f\"%ridge01.score(X_test,y_test))"
   ]
  },
  {
   "cell_type": "markdown",
   "metadata": {},
   "source": [
    "#### 그래프: 각 alpha값에 따라 릿지 회귀계수 비교\n",
    "1. Ridge alpha 10: 거의 0\n",
    "2. Ridge alpha 1: 조금 산개. 조금 복잡\n",
    "3. Ridge alpha 0.1: 좀더 산개. 좀더 복잡\n",
    "4. Linear Regression: 완전 산개. 제일 복잡"
   ]
  },
  {
   "cell_type": "code",
   "execution_count": 58,
   "metadata": {
    "collapsed": true
   },
   "outputs": [],
   "source": [
    "import matplotlib.pyplot as plt\n",
    "%matplotlib inline"
   ]
  },
  {
   "cell_type": "code",
   "execution_count": 60,
   "metadata": {
    "collapsed": true
   },
   "outputs": [],
   "source": [
    "plt.rc('font', family='Malgun Gothic')"
   ]
  },
  {
   "cell_type": "code",
   "execution_count": 61,
   "metadata": {},
   "outputs": [
    {
     "data": {
      "text/plain": [
       "<matplotlib.legend.Legend at 0x161d1400>"
      ]
     },
     "execution_count": 61,
     "metadata": {},
     "output_type": "execute_result"
    },
    {
     "data": {
      "image/png": "[encoded data removed]",
      "text/plain": [
       "<matplotlib.figure.Figure at 0x158c2208>"
      ]
     },
     "metadata": {},
     "output_type": "display_data"
    }
   ],
   "source": [
    "plt.plot(ridge10.coef_, '^', label=\"Ridge alpha=10\")\n",
    "plt.plot(ridge.coef_, 's', label=\"Ridge alpha=1\")\n",
    "plt.plot(ridge01.coef_, 'v', label=\"Ridge alpha=0.1\")\n",
    "\n",
    "plt.plot(lr.coef_, 'o', label=\"Linear Regression\")\n",
    "\n",
    "plt.xlabel('계수목록')\n",
    "plt.ylabel('계수크기')\n",
    "plt.hlines(0,0, len(lr.coef_))\n",
    "plt.ylim(-25, 25)\n",
    "plt.legend()"
   ]
  },
  {
   "cell_type": "code",
   "execution_count": null,
   "metadata": {
    "collapsed": true
   },
   "outputs": [],
   "source": []
  },
  {
   "cell_type": "markdown",
   "metadata": {},
   "source": [
    "## 라쏘 Lasso"
   ]
  },
  {
   "cell_type": "code",
   "execution_count": 68,
   "metadata": {
    "collapsed": true
   },
   "outputs": [],
   "source": [
    "from sklearn.linear_model import Lasso\n",
    "import numpy as np"
   ]
  },
  {
   "cell_type": "code",
   "execution_count": 63,
   "metadata": {
    "collapsed": true
   },
   "outputs": [],
   "source": [
    "X,y= mglearn.datasets.load_extended_boston()\n",
    "X_train, X_test, y_train, y_test= train_test_split(X, y, random_state=0)"
   ]
  },
  {
   "cell_type": "code",
   "execution_count": 74,
   "metadata": {},
   "outputs": [
    {
     "name": "stdout",
     "output_type": "stream",
     "text": [
      "(379, 104) (379,) \n",
      " (127, 104) (127,)\n"
     ]
    }
   ],
   "source": [
    "print(X_train.shape,  y_train.shape, '\\n',X_test.shape, y_test.shape)"
   ]
  },
  {
   "cell_type": "markdown",
   "metadata": {},
   "source": [
    "#### alpha값 변화에 따른 점수\n",
    "1. 1 기본값: 점수가 ㅆㄺ같이 나왔다. 104개 중에 특성(칼럼) 4개는 너무 적음(복잡도가 너무 낮다)\n",
    "2. 0.01: 점수가 크게 오름! 다만 훈련점수 대비 새로온거 점수가 낮다. 과적합\n",
    "3. 0.0001: 훈련점수는 더욱 과적합되었고, 새로온거 점수는 더 낮아졌다"
   ]
  },
  {
   "cell_type": "code",
   "execution_count": 79,
   "metadata": {
    "collapsed": true
   },
   "outputs": [],
   "source": [
    "lasso= Lasso().fit(X_train, y_train)"
   ]
  },
  {
   "cell_type": "code",
   "execution_count": 80,
   "metadata": {},
   "outputs": [
    {
     "name": "stdout",
     "output_type": "stream",
     "text": [
      "훈련 점수: 0.29324\n",
      "새로온 거: 0.20938\n",
      "사용한특성 수:   4\n"
     ]
    }
   ],
   "source": [
    "print(\"훈련 점수:%8.5f\"%lasso.score(X_train,y_train))\n",
    "print(\"새로온 거:%8.5f\"%lasso.score(X_test,y_test))\n",
    "\n",
    "print(\"사용한특성 수:%4d\"%np.sum(lasso.coef_ != 0))"
   ]
  },
  {
   "cell_type": "markdown",
   "metadata": {},
   "source": [
    "> ? max_iter가 뭐하는 값인지?"
   ]
  },
  {
   "cell_type": "code",
   "execution_count": 85,
   "metadata": {},
   "outputs": [],
   "source": [
    "#Objective did not converge. You might want to increase the number of iterations.\n",
    "# Fitting data with very small alpha may cause precision problems. ConvergenceWarning)\n",
    "# lasso001= Lasso(alpha=0.01).fit(X_train, y_train)\n",
    "lasso01= Lasso(alpha=.01, max_iter=100000).fit(X_train, y_train)"
   ]
  },
  {
   "cell_type": "code",
   "execution_count": 86,
   "metadata": {},
   "outputs": [
    {
     "name": "stdout",
     "output_type": "stream",
     "text": [
      "훈련 점수: 0.89651\n",
      "새로온 거: 0.76565\n",
      "사용한특성 수:  33\n"
     ]
    }
   ],
   "source": [
    "print(\"훈련 점수:%8.5f\"%lasso01.score(X_train,y_train))\n",
    "print(\"새로온 거:%8.5f\"%lasso01.score(X_test,y_test))\n",
    "\n",
    "print(\"사용한특성 수:%4d\"%np.sum(lasso01.coef_ != 0))"
   ]
  },
  {
   "cell_type": "code",
   "execution_count": 87,
   "metadata": {
    "collapsed": true
   },
   "outputs": [],
   "source": [
    "lasso0001= Lasso(alpha=.0001, max_iter=100000).fit(X_train, y_train)"
   ]
  },
  {
   "cell_type": "code",
   "execution_count": 88,
   "metadata": {},
   "outputs": [
    {
     "name": "stdout",
     "output_type": "stream",
     "text": [
      "훈련 점수: 0.95106\n",
      "새로온 거: 0.64031\n",
      "사용한특성 수:  94\n"
     ]
    }
   ],
   "source": [
    "print(\"훈련 점수:%8.5f\"%lasso0001.score(X_train,y_train))\n",
    "print(\"새로온 거:%8.5f\"%lasso0001.score(X_test,y_test))\n",
    "\n",
    "print(\"사용한특성 수:%4d\"%np.sum(lasso0001.coef_ != 0))"
   ]
  },
  {
   "attachments": {
    "image.png": {
     "image/png": "[encoded data removed]"
    }
   },
   "cell_type": "markdown",
   "metadata": {},
   "source": [
    "Lasso alpha값이 낮아질수록 Linear Regression에 가까워지고 있다![image.png](attachment:image.png)"
   ]
  },
  {
   "cell_type": "markdown",
   "metadata": {},
   "source": [
    "### Lasso: alpha값에 따른 비교\n",
    "1. Lasso alpha값이 0에 가까울수록, 산개(복잡도가 높음. 각 데이터를 따라감)"
   ]
  },
  {
   "cell_type": "code",
   "execution_count": 96,
   "metadata": {},
   "outputs": [
    {
     "data": {
      "text/plain": [
       "Text(0,0.5,'계수 크기')"
      ]
     },
     "execution_count": 96,
     "metadata": {},
     "output_type": "execute_result"
    },
    {
     "data": {
      "image/png": "[encoded data removed]",
      "text/plain": [
       "<matplotlib.figure.Figure at 0x1939b4a8>"
      ]
     },
     "metadata": {},
     "output_type": "display_data"
    }
   ],
   "source": [
    "plt.plot(lasso.coef_, 's', label='Lasso alpha=1')\n",
    "plt.plot(lasso01.coef_, '^', label='Lasso alpha=.01')\n",
    "plt.plot(lasso0001.coef_, 'v', label='Lasso alpha=.0001')\n",
    "\n",
    "plt.plot(ridge01.coef_, 'o', label='Ridge alpha=.1')\n",
    "\n",
    "plt.legend(ncol=2, loc= (0, 1.05))\n",
    "plt.ylim(-25, 25)\n",
    "plt.xlabel('계수 목록')\n",
    "plt.ylabel('계수 크기')"
   ]
  },
  {
   "cell_type": "code",
   "execution_count": 101,
   "metadata": {},
   "outputs": [],
   "source": [
    "# !jupyter nbconvert --to script 회귀Regression.ipynb\n",
    "# !start ."
   ]
  },
  {
   "cell_type": "markdown",
   "metadata": {},
   "source": [
    "### alpha값을 한번에 여럿 보자\n",
    "이왕이면 함수화"
   ]
  },
  {
   "cell_type": "markdown",
   "metadata": {},
   "source": [
    "### 재료"
   ]
  },
  {
   "cell_type": "code",
   "execution_count": 102,
   "metadata": {
    "collapsed": true
   },
   "outputs": [],
   "source": [
    "from sklearn.linear_model import LinearRegression\n",
    "from sklearn.linear_model import Ridge\n",
    "from sklearn.linear_model import Lasso"
   ]
  },
  {
   "cell_type": "code",
   "execution_count": 103,
   "metadata": {
    "collapsed": true
   },
   "outputs": [],
   "source": [
    "import numpy as np\n",
    "import mglearn\n",
    "from sklearn.model_selection import train_test_split"
   ]
  },
  {
   "cell_type": "code",
   "execution_count": null,
   "metadata": {
    "collapsed": true
   },
   "outputs": [],
   "source": [
    "# X= mglearn.datasets.load_boston().data\n",
    "# y= mglearn.datasets.load_boston().target"
   ]
  },
  {
   "cell_type": "code",
   "execution_count": 104,
   "metadata": {
    "collapsed": true
   },
   "outputs": [],
   "source": [
    "X,y= mglearn.datasets.load_extended_boston()\n",
    "X_train, X_test, y_train, y_test= train_test_split(X, y, random_state=0)"
   ]
  },
  {
   "cell_type": "code",
   "execution_count": 39,
   "metadata": {
    "collapsed": true
   },
   "outputs": [],
   "source": [
    "lr= LinearRegression().fit(X_train, y_train)\n",
    "ridge01= Ridge(alpha=.1).fit(X_train, y_train)\n",
    "lasso0001= Lasso(alpha=.0001, max_iter=100000).fit(X_train, y_train)"
   ]
  },
  {
   "cell_type": "code",
   "execution_count": 44,
   "metadata": {},
   "outputs": [
    {
     "name": "stdout",
     "output_type": "stream",
     "text": [
      "훈련 점수:  0.95235\n",
      "새로온 거:  0.60578\n"
     ]
    }
   ],
   "source": [
    "print(\"훈련 점수: %8.5f\"%lr.score(X_train, y_train))\n",
    "print(\"새로온 거: %8.5f\"%lr.score(X_test, y_test))"
   ]
  },
  {
   "cell_type": "code",
   "execution_count": 55,
   "metadata": {},
   "outputs": [
    {
     "name": "stdout",
     "output_type": "stream",
     "text": [
      "훈련 점수: 0.92858\n",
      "새로온 거: 0.77179\n"
     ]
    }
   ],
   "source": [
    "print(\"훈련 점수:%8.5f\"%ridge01.score(X_train,y_train))\n",
    "print(\"새로온 거:%8.5f\"%ridge01.score(X_test,y_test))"
   ]
  },
  {
   "cell_type": "code",
   "execution_count": 88,
   "metadata": {},
   "outputs": [
    {
     "name": "stdout",
     "output_type": "stream",
     "text": [
      "훈련 점수: 0.95106\n",
      "새로온 거: 0.64031\n",
      "사용한특성 수:  94\n"
     ]
    }
   ],
   "source": [
    "print(\"훈련 점수:%8.5f\"%lasso0001.score(X_train,y_train))\n",
    "print(\"새로온 거:%8.5f\"%lasso0001.score(X_test,y_test))\n",
    "\n",
    "print(\"사용한특성 수:%4d\"%np.sum(lasso0001.coef_ != 0))"
   ]
  },
  {
   "cell_type": "markdown",
   "metadata": {},
   "source": [
    "### 회귀 최적 alpha값 찾기"
   ]
  },
  {
   "cell_type": "code",
   "execution_count": null,
   "metadata": {
    "collapsed": true
   },
   "outputs": [],
   "source": [
    "from sklearn.linear_model import LinearRegression\n",
    "from sklearn.linear_model import Ridge\n",
    "from sklearn.linear_model import Lasso\n",
    "\n",
    "import numpy as np\n",
    "from sklearn.model_selection import train_test_split\n",
    "import mglearn"
   ]
  },
  {
   "cell_type": "code",
   "execution_count": 206,
   "metadata": {
    "collapsed": true
   },
   "outputs": [],
   "source": [
    "X,y= mglearn.datasets.load_extended_boston()\n",
    "# X= mglearn.datasets.load_boston().data\n",
    "# y= mglearn.datasets.load_boston().target"
   ]
  },
  {
   "cell_type": "code",
   "execution_count": 219,
   "metadata": {
    "collapsed": true
   },
   "outputs": [],
   "source": [
    "def whatRegAlpha(X,y,n=10000,max_iter_in=1000000, minSpace=0.0001):\n",
    "    \"\"\"Best alpha of Ridge, Lasso\n",
    "    input: X, y, n:몇등분?\n",
    "    권장: n>=10000. 소요시간 80초 이상\n",
    "    \"\"\"\n",
    "    X_train, X_test, y_train, y_test= train_test_split(X, y, random_state=0)\n",
    "    \n",
    "    ridgeTestMax= 0\n",
    "    ridgeMaxAlpha= 0\n",
    "    lassoTestMax= 0\n",
    "    lassoMaxAlpha= 0\n",
    "    \n",
    "    for aph in np.linspace(minSpace,10,n):\n",
    "        ridge= Ridge(alpha= aph).fit(X_train, y_train).score(X_test,y_test)\n",
    "        lasso= Lasso(alpha= aph, max_iter=max_iter_in).fit(X_train, y_train).score(X_test,y_test)\n",
    "        if ridge> ridgeTestMax:\n",
    "            ridgeTestMax= ridge\n",
    "            ridgeMaxAlpha= aph\n",
    "        if lasso> lassoTestMax:\n",
    "            lassoTestMax= lasso\n",
    "            lassoMaxAlpha= aph\n",
    "    print(\"RidgeScoreMAx: score_%f, alpha_%f\"%(ridgeTestMax, ridgeMaxAlpha))\n",
    "    print(\"LassoScoreMAx: score_%f, alpha_%f\"%(lassoTestMax, lassoMaxAlpha))\n",
    "    print(\"LinearRegression: score_%f\"%LinearRegression().fit(X_train, y_train).score(X_test,y_test))"
   ]
  },
  {
   "cell_type": "code",
   "execution_count": null,
   "metadata": {
    "collapsed": true
   },
   "outputs": [],
   "source": [
    "whatRegAlpha(X,y)"
   ]
  },
  {
   "cell_type": "code",
   "execution_count": 211,
   "metadata": {},
   "outputs": [
    {
     "name": "stdout",
     "output_type": "stream",
     "text": [
      "RidgeScoreMAx: score_0.635362, alpha_0.000001\n",
      "LassoScoreMAx: score_0.635362, alpha_0.000001\n",
      "LinearRegression: score_0.635362\n"
     ]
    }
   ],
   "source": [
    "whatRegAlpha(X,y,10000,max_iter_in=1000000, minSpace=.000001)"
   ]
  },
  {
   "cell_type": "markdown",
   "metadata": {},
   "source": [
    "1만조각. extend\n",
    "- RidgeScoreMAx: score_0.774714, alpha_0.186921\n",
    "- LassoScoreMAx: score_0.781952, alpha_0.003900"
   ]
  },
  {
   "cell_type": "markdown",
   "metadata": {},
   "source": [
    "extend말고 그냥 넣었을 때 mglearn.datasets.load_boston().data OR .target\n",
    "- RidgeScoreMax: score_0.635362, alpha_0.000001\n",
    "- LassoScoreMax: score_0.635362, alpha_0.000001\n",
    "- LinearRegression: score_0.635362"
   ]
  },
  {
   "cell_type": "markdown",
   "metadata": {},
   "source": [
    "- 1000회: 0.7747113267778986 0.1900920920920921\n",
    "- 10000회: 0.7747138913473797 0.18692057205720572"
   ]
  },
  {
   "cell_type": "code",
   "execution_count": null,
   "metadata": {
    "collapsed": true
   },
   "outputs": [],
   "source": []
  },
  {
   "cell_type": "code",
   "execution_count": null,
   "metadata": {
    "collapsed": true
   },
   "outputs": [],
   "source": []
  },
  {
   "cell_type": "code",
   "execution_count": null,
   "metadata": {
    "collapsed": true
   },
   "outputs": [],
   "source": []
  },
  {
   "cell_type": "code",
   "execution_count": null,
   "metadata": {
    "collapsed": true
   },
   "outputs": [],
   "source": []
  },
  {
   "cell_type": "code",
   "execution_count": null,
   "metadata": {
    "collapsed": true
   },
   "outputs": [],
   "source": []
  },
  {
   "cell_type": "markdown",
   "metadata": {},
   "source": [
    "### 당뇨병"
   ]
  },
  {
   "cell_type": "code",
   "execution_count": 105,
   "metadata": {
    "collapsed": true
   },
   "outputs": [],
   "source": [
    "from sklearn import datasets"
   ]
  },
  {
   "cell_type": "code",
   "execution_count": 212,
   "metadata": {
    "collapsed": true
   },
   "outputs": [],
   "source": [
    "diabetes= datasets.load_diabetes()"
   ]
  },
  {
   "cell_type": "code",
   "execution_count": 213,
   "metadata": {},
   "outputs": [
    {
     "data": {
      "text/plain": [
       "dict_keys(['data', 'target', 'DESCR', 'feature_names'])"
      ]
     },
     "execution_count": 213,
     "metadata": {},
     "output_type": "execute_result"
    }
   ],
   "source": [
    "diabetes.keys()"
   ]
  },
  {
   "cell_type": "code",
   "execution_count": 214,
   "metadata": {},
   "outputs": [
    {
     "data": {
      "text/plain": [
       "['age', 'sex', 'bmi', 'bp', 's1', 's2', 's3', 's4', 's5', 's6']"
      ]
     },
     "execution_count": 214,
     "metadata": {},
     "output_type": "execute_result"
    }
   ],
   "source": [
    "diabetes.feature_names"
   ]
  },
  {
   "cell_type": "code",
   "execution_count": 215,
   "metadata": {},
   "outputs": [
    {
     "name": "stdout",
     "output_type": "stream",
     "text": [
      "(442, 10)\n",
      "(442,)\n"
     ]
    }
   ],
   "source": [
    "print(diabetes.data.shape)\n",
    "print(diabetes.target.shape)"
   ]
  },
  {
   "cell_type": "code",
   "execution_count": 216,
   "metadata": {
    "collapsed": true
   },
   "outputs": [],
   "source": [
    "X,y= (diabetes.data, diabetes.target)"
   ]
  },
  {
   "cell_type": "code",
   "execution_count": 115,
   "metadata": {},
   "outputs": [],
   "source": [
    "X_train, X_test, y_train, y_test= train_test_split(X, y, random_state=0)"
   ]
  },
  {
   "cell_type": "code",
   "execution_count": 144,
   "metadata": {
    "collapsed": true
   },
   "outputs": [],
   "source": [
    "lr= LinearRegression().fit(X_train, y_train)\n",
    "ridge= Ridge(alpha=.1).fit(X_train, y_train)\n",
    "lasso= Lasso(alpha=.1, max_iter=100000).fit(X_train, y_train)"
   ]
  },
  {
   "cell_type": "code",
   "execution_count": 140,
   "metadata": {},
   "outputs": [
    {
     "name": "stdout",
     "output_type": "stream",
     "text": [
      "훈련 점수:  0.55544\n",
      "새로온 거:  0.35940\n"
     ]
    }
   ],
   "source": [
    "print(\"훈련 점수: %8.5f\"%lr.score(X_train, y_train))\n",
    "print(\"새로온 거: %8.5f\"%lr.score(X_test, y_test))"
   ]
  },
  {
   "cell_type": "code",
   "execution_count": 122,
   "metadata": {},
   "outputs": [
    {
     "name": "stdout",
     "output_type": "stream",
     "text": [
      "훈련 점수: 0.55020\n",
      "새로온 거: 0.36902\n"
     ]
    }
   ],
   "source": [
    "print(\"훈련 점수:%8.5f\"%ridge.score(X_train,y_train))\n",
    "print(\"새로온 거:%8.5f\"%ridge.score(X_test,y_test))"
   ]
  },
  {
   "cell_type": "code",
   "execution_count": 145,
   "metadata": {
    "scrolled": true
   },
   "outputs": [
    {
     "name": "stdout",
     "output_type": "stream",
     "text": [
      "훈련 점수: 0.54829\n",
      "새로온 거: 0.35500\n",
      "사용한특성 수:   7\n"
     ]
    }
   ],
   "source": [
    "print(\"훈련 점수:%8.5f\"%lasso.score(X_train,y_train))\n",
    "print(\"새로온 거:%8.5f\"%lasso.score(X_test,y_test))\n",
    "\n",
    "print(\"사용한특성 수:%4d\"%np.sum(lasso.coef_ != 0))"
   ]
  },
  {
   "cell_type": "code",
   "execution_count": null,
   "metadata": {
    "collapsed": true
   },
   "outputs": [],
   "source": []
  },
  {
   "cell_type": "code",
   "execution_count": 220,
   "metadata": {},
   "outputs": [
    {
     "name": "stdout",
     "output_type": "stream",
     "text": [
      "RidgeScoreMAx: score_0.380386, alpha_0.342131\n",
      "LassoScoreMAx: score_0.359337, alpha_0.000100\n",
      "LinearRegression: score_0.359401\n"
     ]
    }
   ],
   "source": [
    "whatRegAlpha(X,y)"
   ]
  },
  {
   "cell_type": "code",
   "execution_count": 223,
   "metadata": {
    "collapsed": true
   },
   "outputs": [],
   "source": [
    "ridge= Ridge(alpha=.342131).fit(X_train, y_train).score(X_test,y_test)\n",
    "lasso= Lasso(alpha=.0001, max_iter=100000).fit(X_train, y_train).score(X_test,y_test)"
   ]
  },
  {
   "cell_type": "code",
   "execution_count": 224,
   "metadata": {},
   "outputs": [
    {
     "name": "stdout",
     "output_type": "stream",
     "text": [
      "ridge:  0.38038626780906204 \n",
      "lasso:  0.3593370516110176\n"
     ]
    }
   ],
   "source": [
    "print('ridge: ',ridge,'\\nlasso: ',lasso)"
   ]
  },
  {
   "cell_type": "markdown",
   "metadata": {},
   "source": [
    "#### 점수가 개떡인데, 점수를 높이려면?"
   ]
  }
 ],
 "metadata": {
  "kernelspec": {
   "display_name": "Python 3",
   "language": "python",
   "name": "python3"
  },
  "language_info": {
   "codemirror_mode": {
    "name": "ipython",
    "version": 3
   },
   "file_extension": ".py",
   "mimetype": "text/x-python",
   "name": "python",
   "nbconvert_exporter": "python",
   "pygments_lexer": "ipython3",
   "version": "3.6.3"
  }
 },
 "nbformat": 4,
 "nbformat_minor": 2
}
