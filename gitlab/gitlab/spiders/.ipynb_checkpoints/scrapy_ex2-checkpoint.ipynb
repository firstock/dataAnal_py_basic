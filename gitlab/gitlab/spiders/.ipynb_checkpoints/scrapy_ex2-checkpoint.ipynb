{
 "cells": [
  {
   "cell_type": "code",
   "execution_count": 19,
   "metadata": {
    "scrolled": true
   },
   "outputs": [],
   "source": [
    "# %save DanawaSpider.py 17"
   ]
  },
  {
   "cell_type": "code",
   "execution_count": 17,
   "metadata": {
    "collapsed": true
   },
   "outputs": [],
   "source": [
    "import scrapy\n",
    "\n",
    "class DanawaSpider(scrapy.Spider):\n",
    "    name= \"danawa\"\n",
    "    def start_requests(self):\n",
    "        urls=[\n",
    "            \"http://prod.danawa.com/list/?cate=112753\"\n",
    "            , \"http://prod.danawa.com/list/?cate=112747\"\n",
    "        ]\n",
    "        for url in urls:\n",
    "            yield scrapy.Request(url=url, callback=self.parse)\n",
    "    \n",
    "    def parse(self, response):\n",
    "        page= response.url.split(\"=\")[-1]\n",
    "        filename= 'danawa-%s.html'%page\n",
    "        with open(filename, 'wb') as f:\n",
    "            f.write(response.body)\n",
    "        self.log('saved file %s'%filename)"
   ]
  },
  {
   "cell_type": "code",
   "execution_count": null,
   "metadata": {
    "collapsed": true
   },
   "outputs": [],
   "source": [
    "from scrapy.spider import BaseSpider\n",
    "from scrapy.contrib.spiders import Rule\n",
    "from scrapy.contrib.spiders.init import InitSpider\n",
    "from scrapy.http import Request, FormRequest\n",
    "\n",
    "class GihubSpider(InitSpider):\n",
    "    name= \"github\"\n",
    "    def start_requests(self):\n",
    "        "
   ]
  }
 ],
 "metadata": {
  "kernelspec": {
   "display_name": "Python 3",
   "language": "python",
   "name": "python3"
  },
  "language_info": {
   "codemirror_mode": {
    "name": "ipython",
    "version": 3
   },
   "file_extension": ".py",
   "mimetype": "text/x-python",
   "name": "python",
   "nbconvert_exporter": "python",
   "pygments_lexer": "ipython3",
   "version": "3.6.3"
  }
 },
 "nbformat": 4,
 "nbformat_minor": 2
}
