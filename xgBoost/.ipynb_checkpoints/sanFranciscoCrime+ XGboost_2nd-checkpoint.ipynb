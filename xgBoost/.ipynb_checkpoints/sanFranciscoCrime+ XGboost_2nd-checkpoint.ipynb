{
 "cells": [
  {
   "cell_type": "markdown",
   "metadata": {},
   "source": [
    "범죄 카테고리 맞추기\n",
    "https://www.kaggle.com/c/sf-crime"
   ]
  },
  {
   "cell_type": "code",
   "execution_count": 1,
   "metadata": {},
   "outputs": [],
   "source": [
    "import xgboost as xgb\n",
    "import pandas as pd"
   ]
  },
  {
   "cell_type": "code",
   "execution_count": 2,
   "metadata": {},
   "outputs": [
    {
     "name": "stdout",
     "output_type": "stream",
     "text": [
      "(878049, 9)\n"
     ]
    },
    {
     "data": {
      "text/html": [
       "<div>\n",
       "<style scoped>\n",
       "    .dataframe tbody tr th:only-of-type {\n",
       "        vertical-align: middle;\n",
       "    }\n",
       "\n",
       "    .dataframe tbody tr th {\n",
       "        vertical-align: top;\n",
       "    }\n",
       "\n",
       "    .dataframe thead th {\n",
       "        text-align: right;\n",
       "    }\n",
       "</style>\n",
       "<table border=\"1\" class=\"dataframe\">\n",
       "  <thead>\n",
       "    <tr style=\"text-align: right;\">\n",
       "      <th></th>\n",
       "      <th>Dates</th>\n",
       "      <th>Category</th>\n",
       "      <th>Descript</th>\n",
       "      <th>DayOfWeek</th>\n",
       "      <th>PdDistrict</th>\n",
       "      <th>Resolution</th>\n",
       "      <th>Address</th>\n",
       "      <th>X</th>\n",
       "      <th>Y</th>\n",
       "    </tr>\n",
       "  </thead>\n",
       "  <tbody>\n",
       "    <tr>\n",
       "      <th>0</th>\n",
       "      <td>2015-05-13 23:53:00</td>\n",
       "      <td>WARRANTS</td>\n",
       "      <td>WARRANT ARREST</td>\n",
       "      <td>Wednesday</td>\n",
       "      <td>NORTHERN</td>\n",
       "      <td>ARREST, BOOKED</td>\n",
       "      <td>OAK ST / LAGUNA ST</td>\n",
       "      <td>-122.425892</td>\n",
       "      <td>37.774599</td>\n",
       "    </tr>\n",
       "    <tr>\n",
       "      <th>1</th>\n",
       "      <td>2015-05-13 23:53:00</td>\n",
       "      <td>OTHER OFFENSES</td>\n",
       "      <td>TRAFFIC VIOLATION ARREST</td>\n",
       "      <td>Wednesday</td>\n",
       "      <td>NORTHERN</td>\n",
       "      <td>ARREST, BOOKED</td>\n",
       "      <td>OAK ST / LAGUNA ST</td>\n",
       "      <td>-122.425892</td>\n",
       "      <td>37.774599</td>\n",
       "    </tr>\n",
       "    <tr>\n",
       "      <th>2</th>\n",
       "      <td>2015-05-13 23:33:00</td>\n",
       "      <td>OTHER OFFENSES</td>\n",
       "      <td>TRAFFIC VIOLATION ARREST</td>\n",
       "      <td>Wednesday</td>\n",
       "      <td>NORTHERN</td>\n",
       "      <td>ARREST, BOOKED</td>\n",
       "      <td>VANNESS AV / GREENWICH ST</td>\n",
       "      <td>-122.424363</td>\n",
       "      <td>37.800414</td>\n",
       "    </tr>\n",
       "    <tr>\n",
       "      <th>3</th>\n",
       "      <td>2015-05-13 23:30:00</td>\n",
       "      <td>LARCENY/THEFT</td>\n",
       "      <td>GRAND THEFT FROM LOCKED AUTO</td>\n",
       "      <td>Wednesday</td>\n",
       "      <td>NORTHERN</td>\n",
       "      <td>NONE</td>\n",
       "      <td>1500 Block of LOMBARD ST</td>\n",
       "      <td>-122.426995</td>\n",
       "      <td>37.800873</td>\n",
       "    </tr>\n",
       "    <tr>\n",
       "      <th>4</th>\n",
       "      <td>2015-05-13 23:30:00</td>\n",
       "      <td>LARCENY/THEFT</td>\n",
       "      <td>GRAND THEFT FROM LOCKED AUTO</td>\n",
       "      <td>Wednesday</td>\n",
       "      <td>PARK</td>\n",
       "      <td>NONE</td>\n",
       "      <td>100 Block of BRODERICK ST</td>\n",
       "      <td>-122.438738</td>\n",
       "      <td>37.771541</td>\n",
       "    </tr>\n",
       "  </tbody>\n",
       "</table>\n",
       "</div>"
      ],
      "text/plain": [
       "                Dates        Category                      Descript  \\\n",
       "0 2015-05-13 23:53:00        WARRANTS                WARRANT ARREST   \n",
       "1 2015-05-13 23:53:00  OTHER OFFENSES      TRAFFIC VIOLATION ARREST   \n",
       "2 2015-05-13 23:33:00  OTHER OFFENSES      TRAFFIC VIOLATION ARREST   \n",
       "3 2015-05-13 23:30:00   LARCENY/THEFT  GRAND THEFT FROM LOCKED AUTO   \n",
       "4 2015-05-13 23:30:00   LARCENY/THEFT  GRAND THEFT FROM LOCKED AUTO   \n",
       "\n",
       "   DayOfWeek PdDistrict      Resolution                    Address  \\\n",
       "0  Wednesday   NORTHERN  ARREST, BOOKED         OAK ST / LAGUNA ST   \n",
       "1  Wednesday   NORTHERN  ARREST, BOOKED         OAK ST / LAGUNA ST   \n",
       "2  Wednesday   NORTHERN  ARREST, BOOKED  VANNESS AV / GREENWICH ST   \n",
       "3  Wednesday   NORTHERN            NONE   1500 Block of LOMBARD ST   \n",
       "4  Wednesday       PARK            NONE  100 Block of BRODERICK ST   \n",
       "\n",
       "            X          Y  \n",
       "0 -122.425892  37.774599  \n",
       "1 -122.425892  37.774599  \n",
       "2 -122.424363  37.800414  \n",
       "3 -122.426995  37.800873  \n",
       "4 -122.438738  37.771541  "
      ]
     },
     "execution_count": 2,
     "metadata": {},
     "output_type": "execute_result"
    }
   ],
   "source": [
    "train= pd.read_csv(\"data/train.csv\", parse_dates=['Dates'])\n",
    "\n",
    "print(train.shape)\n",
    "train.head()\n",
    "# Category, Descript, Resolution 은 train에만 있음\n",
    "#pdDistrict, Address, X, Y"
   ]
  },
  {
   "cell_type": "code",
   "execution_count": 3,
   "metadata": {},
   "outputs": [
    {
     "name": "stdout",
     "output_type": "stream",
     "text": [
      "(884262, 7)\n"
     ]
    },
    {
     "data": {
      "text/html": [
       "<div>\n",
       "<style scoped>\n",
       "    .dataframe tbody tr th:only-of-type {\n",
       "        vertical-align: middle;\n",
       "    }\n",
       "\n",
       "    .dataframe tbody tr th {\n",
       "        vertical-align: top;\n",
       "    }\n",
       "\n",
       "    .dataframe thead th {\n",
       "        text-align: right;\n",
       "    }\n",
       "</style>\n",
       "<table border=\"1\" class=\"dataframe\">\n",
       "  <thead>\n",
       "    <tr style=\"text-align: right;\">\n",
       "      <th></th>\n",
       "      <th>Id</th>\n",
       "      <th>Dates</th>\n",
       "      <th>DayOfWeek</th>\n",
       "      <th>PdDistrict</th>\n",
       "      <th>Address</th>\n",
       "      <th>X</th>\n",
       "      <th>Y</th>\n",
       "    </tr>\n",
       "  </thead>\n",
       "  <tbody>\n",
       "    <tr>\n",
       "      <th>0</th>\n",
       "      <td>0</td>\n",
       "      <td>2015-05-10 23:59:00</td>\n",
       "      <td>Sunday</td>\n",
       "      <td>BAYVIEW</td>\n",
       "      <td>2000 Block of THOMAS AV</td>\n",
       "      <td>-122.399588</td>\n",
       "      <td>37.735051</td>\n",
       "    </tr>\n",
       "    <tr>\n",
       "      <th>1</th>\n",
       "      <td>1</td>\n",
       "      <td>2015-05-10 23:51:00</td>\n",
       "      <td>Sunday</td>\n",
       "      <td>BAYVIEW</td>\n",
       "      <td>3RD ST / REVERE AV</td>\n",
       "      <td>-122.391523</td>\n",
       "      <td>37.732432</td>\n",
       "    </tr>\n",
       "    <tr>\n",
       "      <th>2</th>\n",
       "      <td>2</td>\n",
       "      <td>2015-05-10 23:50:00</td>\n",
       "      <td>Sunday</td>\n",
       "      <td>NORTHERN</td>\n",
       "      <td>2000 Block of GOUGH ST</td>\n",
       "      <td>-122.426002</td>\n",
       "      <td>37.792212</td>\n",
       "    </tr>\n",
       "    <tr>\n",
       "      <th>3</th>\n",
       "      <td>3</td>\n",
       "      <td>2015-05-10 23:45:00</td>\n",
       "      <td>Sunday</td>\n",
       "      <td>INGLESIDE</td>\n",
       "      <td>4700 Block of MISSION ST</td>\n",
       "      <td>-122.437394</td>\n",
       "      <td>37.721412</td>\n",
       "    </tr>\n",
       "    <tr>\n",
       "      <th>4</th>\n",
       "      <td>4</td>\n",
       "      <td>2015-05-10 23:45:00</td>\n",
       "      <td>Sunday</td>\n",
       "      <td>INGLESIDE</td>\n",
       "      <td>4700 Block of MISSION ST</td>\n",
       "      <td>-122.437394</td>\n",
       "      <td>37.721412</td>\n",
       "    </tr>\n",
       "  </tbody>\n",
       "</table>\n",
       "</div>"
      ],
      "text/plain": [
       "   Id               Dates DayOfWeek PdDistrict                   Address  \\\n",
       "0   0 2015-05-10 23:59:00    Sunday    BAYVIEW   2000 Block of THOMAS AV   \n",
       "1   1 2015-05-10 23:51:00    Sunday    BAYVIEW        3RD ST / REVERE AV   \n",
       "2   2 2015-05-10 23:50:00    Sunday   NORTHERN    2000 Block of GOUGH ST   \n",
       "3   3 2015-05-10 23:45:00    Sunday  INGLESIDE  4700 Block of MISSION ST   \n",
       "4   4 2015-05-10 23:45:00    Sunday  INGLESIDE  4700 Block of MISSION ST   \n",
       "\n",
       "            X          Y  \n",
       "0 -122.399588  37.735051  \n",
       "1 -122.391523  37.732432  \n",
       "2 -122.426002  37.792212  \n",
       "3 -122.437394  37.721412  \n",
       "4 -122.437394  37.721412  "
      ]
     },
     "execution_count": 3,
     "metadata": {},
     "output_type": "execute_result"
    }
   ],
   "source": [
    "test= pd.read_csv(\"data/test.csv\", parse_dates=['Dates'])\n",
    "\n",
    "print(test.shape)\n",
    "test.head()\n"
   ]
  },
  {
   "cell_type": "code",
   "execution_count": 4,
   "metadata": {},
   "outputs": [],
   "source": [
    "# train[\"Category\"].unique()\n",
    "# 'WARRANTS', 'OTHER OFFENSES', 'LARCENY/THEFT', 'VEHICLE THEFT',\n",
    "#        'VANDALISM', 'NON-CRIMINAL', 'ROBBERY', 'ASSAULT', 'WEAPON LAWS',\n",
    "#        'BURGLARY', 'SUSPICIOUS OCC', 'DRUNKENNESS',\n",
    "#        'FORGERY/COUNTERFEITING', 'DRUG/NARCOTIC', 'STOLEN PROPERTY',\n",
    "#        'SECONDARY CODES', 'TRESPASS', 'MISSING PERSON', 'FRAUD',\n",
    "#        'KIDNAPPING', 'RUNAWAY', 'DRIVING UNDER THE INFLUENCE',\n",
    "#        'SEX OFFENSES FORCIBLE', 'PROSTITUTION', 'DISORDERLY CONDUCT',\n",
    "#        'ARSON', 'FAMILY OFFENSES', 'LIQUOR LAWS', 'BRIBERY',\n",
    "#        'EMBEZZLEMENT', 'SUICIDE', 'LOITERING', 'SEX OFFENSES NON FORCIBLE',\n",
    "#        'EXTORTION', 'GAMBLING', 'BAD CHECKS', 'TREA', 'RECOVERED VEHICLE',\n",
    "#        'PORNOGRAPHY/OBSCENE MAT\n",
    "# train[\"DayOfWeek\"].unique()\n",
    "# 'Wednesday', 'Tuesday', 'Monday', 'Sunday', 'Saturday', 'Friday','Thursday\n",
    "# train[\"PdDistrict\"].unique() \n",
    "#'NORTHERN', 'PARK', 'INGLESIDE', 'BAYVIEW', 'RICHMOND', 'CENTRAL','TARAVAL', 'TENDERLOIN', 'MISSION', 'SOUTHERN'\n",
    "# train[\"Address\"].unique()\n",
    "# split 필요. 많음"
   ]
  },
  {
   "cell_type": "code",
   "execution_count": null,
   "metadata": {},
   "outputs": [],
   "source": []
  },
  {
   "cell_type": "markdown",
   "metadata": {},
   "source": [
    "## preprocessing"
   ]
  },
  {
   "cell_type": "markdown",
   "metadata": {},
   "source": [
    "### one-hot encoding"
   ]
  },
  {
   "cell_type": "markdown",
   "metadata": {},
   "source": [
    "DayOfWeek"
   ]
  },
  {
   "cell_type": "code",
   "execution_count": 5,
   "metadata": {},
   "outputs": [],
   "source": [
    "cols=['Wednesday', 'Tuesday', 'Monday', 'Sunday', 'Saturday', 'Friday','Thursday']\n",
    "# cols= train[\"DayOfWeek\"].unique()\n",
    "for col in cols:\n",
    "    train[\"Days_\"+col]= (train[\"DayOfWeek\"]== col)"
   ]
  },
  {
   "cell_type": "markdown",
   "metadata": {},
   "source": [
    "Category"
   ]
  },
  {
   "cell_type": "code",
   "execution_count": 6,
   "metadata": {},
   "outputs": [],
   "source": [
    "cols= train[\"Category\"].unique(); cols\n",
    "for col in cols:\n",
    "    train[\"Cate\"+col]= (train[\"Category\"]== col)"
   ]
  },
  {
   "cell_type": "markdown",
   "metadata": {},
   "source": [
    "PdDistrict"
   ]
  },
  {
   "cell_type": "code",
   "execution_count": 7,
   "metadata": {},
   "outputs": [],
   "source": [
    "cols= train[\"PdDistrict\"].unique(); cols\n",
    "for col in cols:\n",
    "    train[\"PdD_\"+col]= (train[\"PdDistrict\"]== col)"
   ]
  },
  {
   "cell_type": "markdown",
   "metadata": {},
   "source": [
    "Resolution"
   ]
  },
  {
   "cell_type": "code",
   "execution_count": 8,
   "metadata": {},
   "outputs": [],
   "source": [
    "cols= train[\"Resolution\"].unique(); cols\n",
    "for col in cols:\n",
    "    train[\"Res_\"+col]= (train[\"Resolution\"]== col)"
   ]
  },
  {
   "cell_type": "markdown",
   "metadata": {},
   "source": [
    "### tokenize- stemma"
   ]
  },
  {
   "cell_type": "code",
   "execution_count": 9,
   "metadata": {},
   "outputs": [
    {
     "name": "stdout",
     "output_type": "stream",
     "text": [
      "[nltk_data] Downloading package wordnet to\n",
      "[nltk_data]     C:\\Users\\optim\\AppData\\Roaming\\nltk_data...\n",
      "[nltk_data]   Package wordnet is already up-to-date!\n",
      "[nltk_data] Downloading package averaged_perceptron_tagger to\n",
      "[nltk_data]     C:\\Users\\optim\\AppData\\Roaming\\nltk_data...\n",
      "[nltk_data]   Package averaged_perceptron_tagger is already up-to-\n",
      "[nltk_data]       date!\n"
     ]
    },
    {
     "data": {
      "text/plain": [
       "<nltk.stem.snowball.SnowballStemmer at 0x1c90444cdd8>"
      ]
     },
     "execution_count": 9,
     "metadata": {},
     "output_type": "execute_result"
    }
   ],
   "source": [
    "import nltk\n",
    "nltk.download('wordnet')\n",
    "nltk.download('averaged_perceptron_tagger')\n",
    "\n",
    "from nltk.stem.snowball import SnowballStemmer\n",
    "stemmer= SnowballStemmer('english')\n",
    "stemmer"
   ]
  },
  {
   "cell_type": "code",
   "execution_count": 10,
   "metadata": {},
   "outputs": [],
   "source": [
    "from tqdm import tqdm\n",
    "def stem_phrase(phrase):\n",
    "    words = phrase.split(\" \")\n",
    "\n",
    "    stemmed_words = [stemmer.stem(w) for w in words]\n",
    "    stemmed_phrase = \" \".join(stemmed_words)\n",
    "\n",
    "    return stemmed_phrase\n",
    "\n",
    "tqdm.pandas(desc=\"stemming...\")"
   ]
  },
  {
   "cell_type": "markdown",
   "metadata": {},
   "source": [
    "Descript"
   ]
  },
  {
   "cell_type": "code",
   "execution_count": 11,
   "metadata": {},
   "outputs": [
    {
     "name": "stderr",
     "output_type": "stream",
     "text": [
      "stemming...: 100%|██████████████████████████████████████████████████████████| 878049/878049 [01:08<00:00, 12885.90it/s]\n"
     ]
    }
   ],
   "source": [
    "train[\"Descript(Stemmed)\"] = train[\"Descript\"].progress_apply(stem_phrase)"
   ]
  },
  {
   "cell_type": "markdown",
   "metadata": {},
   "source": [
    "Address"
   ]
  },
  {
   "cell_type": "code",
   "execution_count": 12,
   "metadata": {},
   "outputs": [
    {
     "name": "stderr",
     "output_type": "stream",
     "text": [
      "stemming...: 100%|██████████████████████████████████████████████████████████| 878049/878049 [00:55<00:00, 15836.54it/s]\n"
     ]
    }
   ],
   "source": [
    "train[\"Address(Stemmed)\"] = train[\"Address\"].progress_apply(stem_phrase)"
   ]
  },
  {
   "cell_type": "code",
   "execution_count": 13,
   "metadata": {},
   "outputs": [],
   "source": [
    "newTrain= train.drop(columns=['Descript', 'DayOfWeek', 'PdDistrict', 'Resolution', 'Address'])"
   ]
  },
  {
   "cell_type": "code",
   "execution_count": 14,
   "metadata": {},
   "outputs": [
    {
     "data": {
      "text/html": [
       "<div>\n",
       "<style scoped>\n",
       "    .dataframe tbody tr th:only-of-type {\n",
       "        vertical-align: middle;\n",
       "    }\n",
       "\n",
       "    .dataframe tbody tr th {\n",
       "        vertical-align: top;\n",
       "    }\n",
       "\n",
       "    .dataframe thead th {\n",
       "        text-align: right;\n",
       "    }\n",
       "</style>\n",
       "<table border=\"1\" class=\"dataframe\">\n",
       "  <thead>\n",
       "    <tr style=\"text-align: right;\">\n",
       "      <th></th>\n",
       "      <th>Dates</th>\n",
       "      <th>Category</th>\n",
       "      <th>X</th>\n",
       "      <th>Y</th>\n",
       "      <th>Days_Wednesday</th>\n",
       "      <th>Days_Tuesday</th>\n",
       "      <th>Days_Monday</th>\n",
       "      <th>Days_Sunday</th>\n",
       "      <th>Days_Saturday</th>\n",
       "      <th>Days_Friday</th>\n",
       "      <th>...</th>\n",
       "      <th>Res_NOT PROSECUTED</th>\n",
       "      <th>Res_JUVENILE DIVERTED</th>\n",
       "      <th>Res_COMPLAINANT REFUSES TO PROSECUTE</th>\n",
       "      <th>Res_JUVENILE ADMONISHED</th>\n",
       "      <th>Res_JUVENILE CITED</th>\n",
       "      <th>Res_DISTRICT ATTORNEY REFUSES TO PROSECUTE</th>\n",
       "      <th>Res_PROSECUTED BY OUTSIDE AGENCY</th>\n",
       "      <th>Res_PROSECUTED FOR LESSER OFFENSE</th>\n",
       "      <th>Descript(Stemmed)</th>\n",
       "      <th>Address(Stemmed)</th>\n",
       "    </tr>\n",
       "  </thead>\n",
       "  <tbody>\n",
       "    <tr>\n",
       "      <th>878044</th>\n",
       "      <td>2003-01-06 00:15:00</td>\n",
       "      <td>ROBBERY</td>\n",
       "      <td>-122.459033</td>\n",
       "      <td>37.714056</td>\n",
       "      <td>False</td>\n",
       "      <td>False</td>\n",
       "      <td>True</td>\n",
       "      <td>False</td>\n",
       "      <td>False</td>\n",
       "      <td>False</td>\n",
       "      <td>...</td>\n",
       "      <td>False</td>\n",
       "      <td>False</td>\n",
       "      <td>False</td>\n",
       "      <td>False</td>\n",
       "      <td>False</td>\n",
       "      <td>False</td>\n",
       "      <td>False</td>\n",
       "      <td>False</td>\n",
       "      <td>robberi on the street with a gun</td>\n",
       "      <td>farallon st / capitol av</td>\n",
       "    </tr>\n",
       "    <tr>\n",
       "      <th>878045</th>\n",
       "      <td>2003-01-06 00:01:00</td>\n",
       "      <td>LARCENY/THEFT</td>\n",
       "      <td>-122.447364</td>\n",
       "      <td>37.731948</td>\n",
       "      <td>False</td>\n",
       "      <td>False</td>\n",
       "      <td>True</td>\n",
       "      <td>False</td>\n",
       "      <td>False</td>\n",
       "      <td>False</td>\n",
       "      <td>...</td>\n",
       "      <td>False</td>\n",
       "      <td>False</td>\n",
       "      <td>False</td>\n",
       "      <td>False</td>\n",
       "      <td>False</td>\n",
       "      <td>False</td>\n",
       "      <td>False</td>\n",
       "      <td>False</td>\n",
       "      <td>grand theft from lock auto</td>\n",
       "      <td>600 block of edna st</td>\n",
       "    </tr>\n",
       "    <tr>\n",
       "      <th>878046</th>\n",
       "      <td>2003-01-06 00:01:00</td>\n",
       "      <td>LARCENY/THEFT</td>\n",
       "      <td>-122.403390</td>\n",
       "      <td>37.780266</td>\n",
       "      <td>False</td>\n",
       "      <td>False</td>\n",
       "      <td>True</td>\n",
       "      <td>False</td>\n",
       "      <td>False</td>\n",
       "      <td>False</td>\n",
       "      <td>...</td>\n",
       "      <td>False</td>\n",
       "      <td>False</td>\n",
       "      <td>False</td>\n",
       "      <td>False</td>\n",
       "      <td>False</td>\n",
       "      <td>False</td>\n",
       "      <td>False</td>\n",
       "      <td>False</td>\n",
       "      <td>grand theft from lock auto</td>\n",
       "      <td>5th st / folsom st</td>\n",
       "    </tr>\n",
       "    <tr>\n",
       "      <th>878047</th>\n",
       "      <td>2003-01-06 00:01:00</td>\n",
       "      <td>VANDALISM</td>\n",
       "      <td>-122.390531</td>\n",
       "      <td>37.780607</td>\n",
       "      <td>False</td>\n",
       "      <td>False</td>\n",
       "      <td>True</td>\n",
       "      <td>False</td>\n",
       "      <td>False</td>\n",
       "      <td>False</td>\n",
       "      <td>...</td>\n",
       "      <td>False</td>\n",
       "      <td>False</td>\n",
       "      <td>False</td>\n",
       "      <td>False</td>\n",
       "      <td>False</td>\n",
       "      <td>False</td>\n",
       "      <td>False</td>\n",
       "      <td>False</td>\n",
       "      <td>malici mischief, vandal of vehicl</td>\n",
       "      <td>townsend st / 2nd st</td>\n",
       "    </tr>\n",
       "    <tr>\n",
       "      <th>878048</th>\n",
       "      <td>2003-01-06 00:01:00</td>\n",
       "      <td>FORGERY/COUNTERFEITING</td>\n",
       "      <td>-122.394926</td>\n",
       "      <td>37.738212</td>\n",
       "      <td>False</td>\n",
       "      <td>False</td>\n",
       "      <td>True</td>\n",
       "      <td>False</td>\n",
       "      <td>False</td>\n",
       "      <td>False</td>\n",
       "      <td>...</td>\n",
       "      <td>False</td>\n",
       "      <td>False</td>\n",
       "      <td>False</td>\n",
       "      <td>False</td>\n",
       "      <td>False</td>\n",
       "      <td>False</td>\n",
       "      <td>False</td>\n",
       "      <td>False</td>\n",
       "      <td>checks, forgeri (felony)</td>\n",
       "      <td>1800 block of newcomb av</td>\n",
       "    </tr>\n",
       "  </tbody>\n",
       "</table>\n",
       "<p>5 rows × 79 columns</p>\n",
       "</div>"
      ],
      "text/plain": [
       "                     Dates                Category           X          Y  \\\n",
       "878044 2003-01-06 00:15:00                 ROBBERY -122.459033  37.714056   \n",
       "878045 2003-01-06 00:01:00           LARCENY/THEFT -122.447364  37.731948   \n",
       "878046 2003-01-06 00:01:00           LARCENY/THEFT -122.403390  37.780266   \n",
       "878047 2003-01-06 00:01:00               VANDALISM -122.390531  37.780607   \n",
       "878048 2003-01-06 00:01:00  FORGERY/COUNTERFEITING -122.394926  37.738212   \n",
       "\n",
       "        Days_Wednesday  Days_Tuesday  Days_Monday  Days_Sunday  Days_Saturday  \\\n",
       "878044           False         False         True        False          False   \n",
       "878045           False         False         True        False          False   \n",
       "878046           False         False         True        False          False   \n",
       "878047           False         False         True        False          False   \n",
       "878048           False         False         True        False          False   \n",
       "\n",
       "        Days_Friday            ...             Res_NOT PROSECUTED  \\\n",
       "878044        False            ...                          False   \n",
       "878045        False            ...                          False   \n",
       "878046        False            ...                          False   \n",
       "878047        False            ...                          False   \n",
       "878048        False            ...                          False   \n",
       "\n",
       "        Res_JUVENILE DIVERTED  Res_COMPLAINANT REFUSES TO PROSECUTE  \\\n",
       "878044                  False                                 False   \n",
       "878045                  False                                 False   \n",
       "878046                  False                                 False   \n",
       "878047                  False                                 False   \n",
       "878048                  False                                 False   \n",
       "\n",
       "        Res_JUVENILE ADMONISHED  Res_JUVENILE CITED  \\\n",
       "878044                    False               False   \n",
       "878045                    False               False   \n",
       "878046                    False               False   \n",
       "878047                    False               False   \n",
       "878048                    False               False   \n",
       "\n",
       "        Res_DISTRICT ATTORNEY REFUSES TO PROSECUTE  \\\n",
       "878044                                       False   \n",
       "878045                                       False   \n",
       "878046                                       False   \n",
       "878047                                       False   \n",
       "878048                                       False   \n",
       "\n",
       "        Res_PROSECUTED BY OUTSIDE AGENCY  Res_PROSECUTED FOR LESSER OFFENSE  \\\n",
       "878044                             False                              False   \n",
       "878045                             False                              False   \n",
       "878046                             False                              False   \n",
       "878047                             False                              False   \n",
       "878048                             False                              False   \n",
       "\n",
       "                        Descript(Stemmed)          Address(Stemmed)  \n",
       "878044   robberi on the street with a gun  farallon st / capitol av  \n",
       "878045         grand theft from lock auto      600 block of edna st  \n",
       "878046         grand theft from lock auto        5th st / folsom st  \n",
       "878047  malici mischief, vandal of vehicl      townsend st / 2nd st  \n",
       "878048           checks, forgeri (felony)  1800 block of newcomb av  \n",
       "\n",
       "[5 rows x 79 columns]"
      ]
     },
     "execution_count": 14,
     "metadata": {},
     "output_type": "execute_result"
    }
   ],
   "source": [
    "newTrain.tail()"
   ]
  },
  {
   "cell_type": "code",
   "execution_count": 15,
   "metadata": {},
   "outputs": [],
   "source": [
    "# Address(Stemmed) 를 / 혹은 of 기준으로 쪼개서 새로운 두 칼럼으로 뽑고 싶다\n",
    "#시도1\n",
    "# newTrain = pd.DataFrame[\"Address(Stemmed)\"](newTrain.row.str.split('of',1).tolist()\n",
    "#                                             , columns = ['Address(Stemmed)Big','Address(Stemmed)smal'])\n",
    "#시도2\n",
    "# import re\n",
    "# DATA = \"Hey, you - what are you doing here!?\"\n",
    "# print re.split('\\W+', DATA) # ['Hey', 'you', 'what', 'are', 'you', 'doing', 'here', '']\n",
    "def split_address(address):\n",
    "    if \"/\" in address:\n",
    "        return address.split(\"/\")\n",
    "    else:\n",
    "        return address.split(\"of\")"
   ]
  },
  {
   "cell_type": "code",
   "execution_count": 16,
   "metadata": {},
   "outputs": [
    {
     "data": {
      "text/plain": [
       "0                    [oak st ,  laguna st]\n",
       "1                    [oak st ,  laguna st]\n",
       "2                 [van av ,  greenwich st]\n",
       "3               [1500 block ,  lombard st]\n",
       "4              [100 block ,  broderick st]\n",
       "5                    [0 block ,  teddi av]\n",
       "6                   [avalon av ,  peru av]\n",
       "7               [kirkwood av ,  donahu st]\n",
       "8                   [600 block ,  47th av]\n",
       "9         [jefferson st ,  leavenworth st]\n",
       "10        [jefferson st ,  leavenworth st]\n",
       "11                 [0 block ,  escolta wy]\n",
       "12                    [turk st ,  jone st]\n",
       "13                [fillmor st ,  geari bl]\n",
       "14               [200 block ,  william av]\n",
       "15                  [0 block ,  mendel st]\n",
       "16                    [eddi st ,  jone st]\n",
       "17               [godeus st ,  mission st]\n",
       "18                [mendel st ,  hudson av]\n",
       "19                  [100 block ,  jone st]\n",
       "20                [200 block ,  evelyn wy]\n",
       "21             [1600 block ,  valencia st]\n",
       "22                  [100 block ,  jone st]\n",
       "23                  [100 block ,  jone st]\n",
       "24              [fillmor st ,  lombard st]\n",
       "25               [300 block ,  , arrel st]\n",
       "26                 [2000 block ,  bush st]\n",
       "27                [500 block ,  colleg av]\n",
       "28                [19th av ,  santiago st]\n",
       "29                 [2000 block ,  41st av]\n",
       "                        ...               \n",
       "878019               [6th st ,  market st]\n",
       "878020            [van ness av ,  turk st]\n",
       "878021             [sanchez st ,  14th st]\n",
       "878022             [17th st ,  mission st]\n",
       "878023              [600 block ,  elli st]\n",
       "878024        [600 block ,  divisadero st]\n",
       "878025            [newhal st ,  galvez av]\n",
       "878026            [newhal st ,  galvez av]\n",
       "878027            [900 block ,  market st]\n",
       "878028               [6th st ,  market st]\n",
       "878029      [1400 block ,  golden gate av]\n",
       "878030      [1400 block ,  golden gate av]\n",
       "878031              [3rd st ,  newcomb av]\n",
       "878032           [geari bl ,  franklin st]\n",
       "878033             [1000 block ,  22nd av]\n",
       "878034             [1000 block ,  22nd av]\n",
       "878035          [1300 block ,  webster st]\n",
       "878036          [1300 block ,  webster st]\n",
       "878037          [1300 block ,  webster st]\n",
       "878038             [taylor st ,  geari st]\n",
       "878039          [polk st ,  california st]\n",
       "878040           [2800 block ,  folsom st]\n",
       "878041             [clement st ,  14th av]\n",
       "878042          [1500 block ,  shafter av]\n",
       "878043          [1500 block ,  shafter av]\n",
       "878044         [farallon st ,  capitol av]\n",
       "878045              [600 block ,  edna st]\n",
       "878046               [5th st ,  folsom st]\n",
       "878047             [townsend st ,  2nd st]\n",
       "878048          [1800 block ,  newcomb av]\n",
       "Name: Address(Stemmed), Length: 878049, dtype: object"
      ]
     },
     "execution_count": 16,
     "metadata": {},
     "output_type": "execute_result"
    }
   ],
   "source": [
    "# trim?? strip ???\n",
    "\n",
    "# 칼럼 2개로 나눠받기??\n",
    "train[\"Address(Stemmed)\"].apply(split_address)\n",
    "# train[\"Address(Stemmed)Aft\"],train[\"Address(Stemmed)Bef\"]= map(unlist(train[\"Address(Stemmed)\"].apply(split_address)))\n"
   ]
  },
  {
   "cell_type": "code",
   "execution_count": 17,
   "metadata": {},
   "outputs": [],
   "source": [
    "#남은 일: 새 두 칼럼으로 뽑기"
   ]
  },
  {
   "cell_type": "code",
   "execution_count": null,
   "metadata": {},
   "outputs": [],
   "source": []
  },
  {
   "cell_type": "code",
   "execution_count": 18,
   "metadata": {},
   "outputs": [
    {
     "data": {
      "text/plain": [
       "['Dates',\n",
       " 'Category',\n",
       " 'Descript',\n",
       " 'DayOfWeek',\n",
       " 'PdDistrict',\n",
       " 'Resolution',\n",
       " 'Address',\n",
       " 'X',\n",
       " 'Y',\n",
       " 'Days_Wednesday',\n",
       " 'Days_Tuesday',\n",
       " 'Days_Monday',\n",
       " 'Days_Sunday',\n",
       " 'Days_Saturday',\n",
       " 'Days_Friday',\n",
       " 'Days_Thursday',\n",
       " 'CateWARRANTS',\n",
       " 'CateOTHER OFFENSES',\n",
       " 'CateLARCENY/THEFT',\n",
       " 'CateVEHICLE THEFT',\n",
       " 'CateVANDALISM',\n",
       " 'CateNON-CRIMINAL',\n",
       " 'CateROBBERY',\n",
       " 'CateASSAULT',\n",
       " 'CateWEAPON LAWS',\n",
       " 'CateBURGLARY',\n",
       " 'CateSUSPICIOUS OCC',\n",
       " 'CateDRUNKENNESS',\n",
       " 'CateFORGERY/COUNTERFEITING',\n",
       " 'CateDRUG/NARCOTIC',\n",
       " 'CateSTOLEN PROPERTY',\n",
       " 'CateSECONDARY CODES',\n",
       " 'CateTRESPASS',\n",
       " 'CateMISSING PERSON',\n",
       " 'CateFRAUD',\n",
       " 'CateKIDNAPPING',\n",
       " 'CateRUNAWAY',\n",
       " 'CateDRIVING UNDER THE INFLUENCE',\n",
       " 'CateSEX OFFENSES FORCIBLE',\n",
       " 'CatePROSTITUTION',\n",
       " 'CateDISORDERLY CONDUCT',\n",
       " 'CateARSON',\n",
       " 'CateFAMILY OFFENSES',\n",
       " 'CateLIQUOR LAWS',\n",
       " 'CateBRIBERY',\n",
       " 'CateEMBEZZLEMENT',\n",
       " 'CateSUICIDE',\n",
       " 'CateLOITERING',\n",
       " 'CateSEX OFFENSES NON FORCIBLE',\n",
       " 'CateEXTORTION',\n",
       " 'CateGAMBLING',\n",
       " 'CateBAD CHECKS',\n",
       " 'CateTREA',\n",
       " 'CateRECOVERED VEHICLE',\n",
       " 'CatePORNOGRAPHY/OBSCENE MAT',\n",
       " 'PdD_NORTHERN',\n",
       " 'PdD_PARK',\n",
       " 'PdD_INGLESIDE',\n",
       " 'PdD_BAYVIEW',\n",
       " 'PdD_RICHMOND',\n",
       " 'PdD_CENTRAL',\n",
       " 'PdD_TARAVAL',\n",
       " 'PdD_TENDERLOIN',\n",
       " 'PdD_MISSION',\n",
       " 'PdD_SOUTHERN',\n",
       " 'Res_ARREST, BOOKED',\n",
       " 'Res_NONE',\n",
       " 'Res_ARREST, CITED',\n",
       " 'Res_PSYCHOPATHIC CASE',\n",
       " 'Res_JUVENILE BOOKED',\n",
       " 'Res_UNFOUNDED',\n",
       " 'Res_EXCEPTIONAL CLEARANCE',\n",
       " 'Res_LOCATED',\n",
       " 'Res_CLEARED-CONTACT JUVENILE FOR MORE INFO',\n",
       " 'Res_NOT PROSECUTED',\n",
       " 'Res_JUVENILE DIVERTED',\n",
       " 'Res_COMPLAINANT REFUSES TO PROSECUTE',\n",
       " 'Res_JUVENILE ADMONISHED',\n",
       " 'Res_JUVENILE CITED',\n",
       " 'Res_DISTRICT ATTORNEY REFUSES TO PROSECUTE',\n",
       " 'Res_PROSECUTED BY OUTSIDE AGENCY',\n",
       " 'Res_PROSECUTED FOR LESSER OFFENSE',\n",
       " 'Descript(Stemmed)',\n",
       " 'Address(Stemmed)']"
      ]
     },
     "execution_count": 18,
     "metadata": {},
     "output_type": "execute_result"
    }
   ],
   "source": [
    "# train.head()\n",
    "list(train)"
   ]
  },
  {
   "cell_type": "code",
   "execution_count": null,
   "metadata": {},
   "outputs": [],
   "source": []
  },
  {
   "cell_type": "markdown",
   "metadata": {},
   "source": [
    "### data뭔건지좀 보자"
   ]
  },
  {
   "cell_type": "code",
   "execution_count": 19,
   "metadata": {},
   "outputs": [
    {
     "data": {
      "text/plain": [
       "LARCENY/THEFT                  174900\n",
       "OTHER OFFENSES                 126182\n",
       "NON-CRIMINAL                    92304\n",
       "ASSAULT                         76876\n",
       "DRUG/NARCOTIC                   53971\n",
       "VEHICLE THEFT                   53781\n",
       "VANDALISM                       44725\n",
       "WARRANTS                        42214\n",
       "BURGLARY                        36755\n",
       "SUSPICIOUS OCC                  31414\n",
       "MISSING PERSON                  25989\n",
       "ROBBERY                         23000\n",
       "FRAUD                           16679\n",
       "FORGERY/COUNTERFEITING          10609\n",
       "SECONDARY CODES                  9985\n",
       "WEAPON LAWS                      8555\n",
       "PROSTITUTION                     7484\n",
       "TRESPASS                         7326\n",
       "STOLEN PROPERTY                  4540\n",
       "SEX OFFENSES FORCIBLE            4388\n",
       "DISORDERLY CONDUCT               4320\n",
       "DRUNKENNESS                      4280\n",
       "RECOVERED VEHICLE                3138\n",
       "KIDNAPPING                       2341\n",
       "DRIVING UNDER THE INFLUENCE      2268\n",
       "RUNAWAY                          1946\n",
       "LIQUOR LAWS                      1903\n",
       "ARSON                            1513\n",
       "LOITERING                        1225\n",
       "EMBEZZLEMENT                     1166\n",
       "SUICIDE                           508\n",
       "FAMILY OFFENSES                   491\n",
       "BAD CHECKS                        406\n",
       "BRIBERY                           289\n",
       "EXTORTION                         256\n",
       "SEX OFFENSES NON FORCIBLE         148\n",
       "GAMBLING                          146\n",
       "PORNOGRAPHY/OBSCENE MAT            22\n",
       "TREA                                6\n",
       "Name: Category, dtype: int64"
      ]
     },
     "execution_count": 19,
     "metadata": {},
     "output_type": "execute_result"
    }
   ],
   "source": [
    "train[\"Category\"].value_counts()\n",
    "#많이? 적게? 뭘 맞추는게 좋을까 -> 측정공식을 보고 알 수 있음\n",
    "#logloss: sum"
   ]
  },
  {
   "cell_type": "code",
   "execution_count": 20,
   "metadata": {},
   "outputs": [],
   "source": [
    "# # 에러터짐;; \n",
    "# import matplotlib.pyplot as plt\n",
    "# import seaborn as sns\n",
    "\n",
    "# Xs= list(train)\n",
    "\n",
    "# fig, axs= plt,subplots(nrows= 9)\n",
    "# # fig.set_size_inches(20,10)\n",
    "\n",
    "# pl_sz= range(0,9)\n",
    "# for Xn,i in zip(Xs, pl_sz):\n",
    "#     sns.countplot(data= train, x=Xn, y=\"X\", ax=axs[i])"
   ]
  },
  {
   "cell_type": "code",
   "execution_count": 21,
   "metadata": {},
   "outputs": [],
   "source": [
    "# non numeric visualization ???????????????????????????????????????????????????????????????????????????\n",
    "# barplot ㄴㄴ countplot ㅇㅇ\n",
    "%matplotlib inline\n",
    "import matplotlib.pyplot as plt\n",
    "import seaborn as sns"
   ]
  },
  {
   "cell_type": "code",
   "execution_count": 22,
   "metadata": {},
   "outputs": [
    {
     "data": {
      "image/png": "[encoded data removed]",
      "text/plain": [
       "<matplotlib.figure.Figure at 0x1c904d49eb8>"
      ]
     },
     "metadata": {},
     "output_type": "display_data"
    },
    {
     "data": {
      "image/png": "[encoded data removed]",
      "text/plain": [
       "<matplotlib.figure.Figure at 0x1c904d49ef0>"
      ]
     },
     "metadata": {},
     "output_type": "display_data"
    }
   ],
   "source": [
    "figure, ((ax2)) = plt.subplots(nrows=1)\n",
    "fig, axs= plt,subplots(nrows= 1)\n",
    "# figure.set_size_inches(20, 50)\n",
    "\n",
    "# sns.countplot(data=train, x=\"Dates\", ax=ax1)\n",
    "# sns.countplot(data=train, x=\"Category\", ax=ax2)\n",
    "# sns.barplot(data=train, x=\"Descript\", ax=ax3)\n",
    "\n",
    "# sns.barplot(data=train, x=\"DayOfWeek\", ax=ax4)\n",
    "# sns.barplot(data=train, x=\"PdDistrict\", ax=ax5)\n",
    "# sns.barplot(data=train, x=\"Resolution\", ax=ax6)\n",
    "\n",
    "# sns.barplot(data=train, x=\"Address\", ax=ax7)\n",
    "# sns.barplot(data=train, x=\"X\", ax=ax8)\n",
    "# sns.barplot(data=train, x=\"Y\",  ax=ax9)"
   ]
  },
  {
   "cell_type": "code",
   "execution_count": null,
   "metadata": {},
   "outputs": [],
   "source": []
  },
  {
   "cell_type": "code",
   "execution_count": null,
   "metadata": {},
   "outputs": [],
   "source": []
  },
  {
   "cell_type": "markdown",
   "metadata": {},
   "source": [
    "### Train"
   ]
  },
  {
   "cell_type": "code",
   "execution_count": 23,
   "metadata": {},
   "outputs": [
    {
     "data": {
      "text/plain": [
       "['X', 'Y']"
      ]
     },
     "execution_count": 23,
     "metadata": {},
     "output_type": "execute_result"
    }
   ],
   "source": [
    "feature_name= [\"X\",\"Y\"]; feature_name"
   ]
  },
  {
   "cell_type": "code",
   "execution_count": 24,
   "metadata": {},
   "outputs": [
    {
     "name": "stdout",
     "output_type": "stream",
     "text": [
      "(878049, 2)\n"
     ]
    },
    {
     "data": {
      "text/html": [
       "<div>\n",
       "<style scoped>\n",
       "    .dataframe tbody tr th:only-of-type {\n",
       "        vertical-align: middle;\n",
       "    }\n",
       "\n",
       "    .dataframe tbody tr th {\n",
       "        vertical-align: top;\n",
       "    }\n",
       "\n",
       "    .dataframe thead th {\n",
       "        text-align: right;\n",
       "    }\n",
       "</style>\n",
       "<table border=\"1\" class=\"dataframe\">\n",
       "  <thead>\n",
       "    <tr style=\"text-align: right;\">\n",
       "      <th></th>\n",
       "      <th>X</th>\n",
       "      <th>Y</th>\n",
       "    </tr>\n",
       "  </thead>\n",
       "  <tbody>\n",
       "    <tr>\n",
       "      <th>0</th>\n",
       "      <td>-122.425892</td>\n",
       "      <td>37.774599</td>\n",
       "    </tr>\n",
       "    <tr>\n",
       "      <th>1</th>\n",
       "      <td>-122.425892</td>\n",
       "      <td>37.774599</td>\n",
       "    </tr>\n",
       "    <tr>\n",
       "      <th>2</th>\n",
       "      <td>-122.424363</td>\n",
       "      <td>37.800414</td>\n",
       "    </tr>\n",
       "    <tr>\n",
       "      <th>3</th>\n",
       "      <td>-122.426995</td>\n",
       "      <td>37.800873</td>\n",
       "    </tr>\n",
       "    <tr>\n",
       "      <th>4</th>\n",
       "      <td>-122.438738</td>\n",
       "      <td>37.771541</td>\n",
       "    </tr>\n",
       "  </tbody>\n",
       "</table>\n",
       "</div>"
      ],
      "text/plain": [
       "            X          Y\n",
       "0 -122.425892  37.774599\n",
       "1 -122.425892  37.774599\n",
       "2 -122.424363  37.800414\n",
       "3 -122.426995  37.800873\n",
       "4 -122.438738  37.771541"
      ]
     },
     "execution_count": 24,
     "metadata": {},
     "output_type": "execute_result"
    }
   ],
   "source": [
    "X_train= train[feature_name]\n",
    "print(X_train.shape)\n",
    "X_train.head()"
   ]
  },
  {
   "cell_type": "code",
   "execution_count": 25,
   "metadata": {},
   "outputs": [
    {
     "name": "stdout",
     "output_type": "stream",
     "text": [
      "(884262, 2)\n"
     ]
    },
    {
     "data": {
      "text/html": [
       "<div>\n",
       "<style scoped>\n",
       "    .dataframe tbody tr th:only-of-type {\n",
       "        vertical-align: middle;\n",
       "    }\n",
       "\n",
       "    .dataframe tbody tr th {\n",
       "        vertical-align: top;\n",
       "    }\n",
       "\n",
       "    .dataframe thead th {\n",
       "        text-align: right;\n",
       "    }\n",
       "</style>\n",
       "<table border=\"1\" class=\"dataframe\">\n",
       "  <thead>\n",
       "    <tr style=\"text-align: right;\">\n",
       "      <th></th>\n",
       "      <th>X</th>\n",
       "      <th>Y</th>\n",
       "    </tr>\n",
       "  </thead>\n",
       "  <tbody>\n",
       "    <tr>\n",
       "      <th>0</th>\n",
       "      <td>-122.399588</td>\n",
       "      <td>37.735051</td>\n",
       "    </tr>\n",
       "    <tr>\n",
       "      <th>1</th>\n",
       "      <td>-122.391523</td>\n",
       "      <td>37.732432</td>\n",
       "    </tr>\n",
       "    <tr>\n",
       "      <th>2</th>\n",
       "      <td>-122.426002</td>\n",
       "      <td>37.792212</td>\n",
       "    </tr>\n",
       "    <tr>\n",
       "      <th>3</th>\n",
       "      <td>-122.437394</td>\n",
       "      <td>37.721412</td>\n",
       "    </tr>\n",
       "    <tr>\n",
       "      <th>4</th>\n",
       "      <td>-122.437394</td>\n",
       "      <td>37.721412</td>\n",
       "    </tr>\n",
       "  </tbody>\n",
       "</table>\n",
       "</div>"
      ],
      "text/plain": [
       "            X          Y\n",
       "0 -122.399588  37.735051\n",
       "1 -122.391523  37.732432\n",
       "2 -122.426002  37.792212\n",
       "3 -122.437394  37.721412\n",
       "4 -122.437394  37.721412"
      ]
     },
     "execution_count": 25,
     "metadata": {},
     "output_type": "execute_result"
    }
   ],
   "source": [
    "X_test= test[feature_name]\n",
    "print(X_test.shape)\n",
    "X_test.head()"
   ]
  },
  {
   "cell_type": "code",
   "execution_count": 26,
   "metadata": {},
   "outputs": [
    {
     "name": "stdout",
     "output_type": "stream",
     "text": [
      "(878049,)\n"
     ]
    },
    {
     "data": {
      "text/plain": [
       "0          WARRANTS\n",
       "1    OTHER OFFENSES\n",
       "2    OTHER OFFENSES\n",
       "3     LARCENY/THEFT\n",
       "4     LARCENY/THEFT\n",
       "Name: Category, dtype: object"
      ]
     },
     "execution_count": 26,
     "metadata": {},
     "output_type": "execute_result"
    }
   ],
   "source": [
    "label_name= \"Category\"\n",
    "y_train= train[label_name]\n",
    "\n",
    "print(y_train.shape)\n",
    "y_train.head()"
   ]
  },
  {
   "cell_type": "code",
   "execution_count": null,
   "metadata": {},
   "outputs": [],
   "source": []
  },
  {
   "cell_type": "code",
   "execution_count": null,
   "metadata": {},
   "outputs": [],
   "source": []
  },
  {
   "cell_type": "markdown",
   "metadata": {},
   "source": [
    "### xgboost"
   ]
  },
  {
   "cell_type": "code",
   "execution_count": 27,
   "metadata": {},
   "outputs": [],
   "source": [
    "import xgboost as xgb"
   ]
  },
  {
   "cell_type": "code",
   "execution_count": 28,
   "metadata": {},
   "outputs": [
    {
     "data": {
      "text/plain": [
       "XGBClassifier(base_score=0.5, booster='gbtree', colsample_bylevel=1,\n",
       "       colsample_bytree=1, gamma=0, learning_rate=0.1, max_delta_step=0,\n",
       "       max_depth=3, min_child_weight=1, missing=None, n_estimators=15,\n",
       "       n_jobs=1, nthread=4, objective='binary:logistic', random_state=0,\n",
       "       reg_alpha=0, reg_lambda=1, scale_pos_weight=1, seed=None,\n",
       "       silent=True, subsample=1)"
      ]
     },
     "execution_count": 28,
     "metadata": {},
     "output_type": "execute_result"
    }
   ],
   "source": [
    "model= xgb.XGBClassifier(n_estimators= 15,\n",
    "                        nthread=4)\n",
    "# nthread=4: tree 개수\n",
    "model"
   ]
  },
  {
   "cell_type": "markdown",
   "metadata": {},
   "source": [
    "### score"
   ]
  },
  {
   "cell_type": "code",
   "execution_count": 29,
   "metadata": {},
   "outputs": [
    {
     "name": "stdout",
     "output_type": "stream",
     "text": [
      "Wall time: 22min 4s\n",
      "Score= 2.81218\n"
     ]
    }
   ],
   "source": [
    "from sklearn.model_selection import cross_val_score\n",
    "\n",
    "# %time score= cross_val_score(model, X_train, y_train, cv=5).mean()\n",
    "%time score= cross_val_score(model, X_train, y_train,\\\n",
    "                             cv=5, scoring=\"neg_log_loss\").mean()\n",
    "score= -1.0* score\n",
    "print(\"Score= {0:.5f}\".format(score))\n"
   ]
  },
  {
   "cell_type": "markdown",
   "metadata": {},
   "source": [
    "요 코드만 15분 정도 걸릴것\n",
    "##  \n",
    "초기:\n",
    "Wall time: 24min 10s\n",
    "Score= 2.81218\n"
   ]
  },
  {
   "cell_type": "code",
   "execution_count": null,
   "metadata": {},
   "outputs": [],
   "source": []
  },
  {
   "cell_type": "code",
   "execution_count": 30,
   "metadata": {},
   "outputs": [
    {
     "data": {
      "text/plain": [
       "XGBClassifier(base_score=0.5, booster='gbtree', colsample_bylevel=1,\n",
       "       colsample_bytree=1, gamma=0, learning_rate=0.1, max_delta_step=0,\n",
       "       max_depth=3, min_child_weight=1, missing=None, n_estimators=15,\n",
       "       n_jobs=1, nthread=4, objective='multi:softprob', random_state=0,\n",
       "       reg_alpha=0, reg_lambda=1, scale_pos_weight=1, seed=None,\n",
       "       silent=True, subsample=1)"
      ]
     },
     "execution_count": 30,
     "metadata": {},
     "output_type": "execute_result"
    }
   ],
   "source": [
    "model.fit(X_train, y_train)"
   ]
  },
  {
   "cell_type": "code",
   "execution_count": 31,
   "metadata": {},
   "outputs": [],
   "source": [
    "# predictions= model.predict(X_test)\n",
    "# print(predictions.shape)\n",
    "# predictions"
   ]
  },
  {
   "cell_type": "code",
   "execution_count": 32,
   "metadata": {},
   "outputs": [
    {
     "name": "stdout",
     "output_type": "stream",
     "text": [
      "(884262, 39)\n"
     ]
    },
    {
     "data": {
      "text/plain": [
       "array([[ 0.01356191,  0.07389766,  0.01177335, ...,  0.06713752,\n",
       "         0.03883071,  0.02099236],\n",
       "       [ 0.01389777,  0.07572772,  0.01206491, ...,  0.04861059,\n",
       "         0.03979234,  0.02151223],\n",
       "       [ 0.01195893,  0.05197413,  0.01169497, ...,  0.05387832,\n",
       "         0.02412864,  0.01387195],\n",
       "       ..., \n",
       "       [ 0.01219209,  0.07100576,  0.01137064, ...,  0.07376659,\n",
       "         0.03120419,  0.01771765],\n",
       "       [ 0.01388718,  0.06997736,  0.01205572, ...,  0.04857356,\n",
       "         0.03976202,  0.01990316],\n",
       "       [ 0.01241835,  0.05127233,  0.01158165, ...,  0.06524383,\n",
       "         0.02139572,  0.01560471]], dtype=float32)"
      ]
     },
     "execution_count": 32,
     "metadata": {},
     "output_type": "execute_result"
    }
   ],
   "source": [
    "# 0번 범죄가 차량 범죄일 확률이 n%이다. soft measure?\n",
    "#88만개에 m개 카테고리에 대해\n",
    "predictions= model.predict_proba(X_test)\n",
    "print(predictions.shape)\n",
    "predictions"
   ]
  },
  {
   "cell_type": "code",
   "execution_count": null,
   "metadata": {},
   "outputs": [],
   "source": []
  },
  {
   "cell_type": "code",
   "execution_count": null,
   "metadata": {},
   "outputs": [],
   "source": []
  },
  {
   "cell_type": "markdown",
   "metadata": {},
   "source": [
    "### Submit"
   ]
  },
  {
   "cell_type": "code",
   "execution_count": 33,
   "metadata": {},
   "outputs": [
    {
     "name": "stdout",
     "output_type": "stream",
     "text": [
      "(884262, 39)\n"
     ]
    },
    {
     "data": {
      "text/html": [
       "<div>\n",
       "<style scoped>\n",
       "    .dataframe tbody tr th:only-of-type {\n",
       "        vertical-align: middle;\n",
       "    }\n",
       "\n",
       "    .dataframe tbody tr th {\n",
       "        vertical-align: top;\n",
       "    }\n",
       "\n",
       "    .dataframe thead th {\n",
       "        text-align: right;\n",
       "    }\n",
       "</style>\n",
       "<table border=\"1\" class=\"dataframe\">\n",
       "  <thead>\n",
       "    <tr style=\"text-align: right;\">\n",
       "      <th></th>\n",
       "      <th>ARSON</th>\n",
       "      <th>ASSAULT</th>\n",
       "      <th>BAD CHECKS</th>\n",
       "      <th>BRIBERY</th>\n",
       "      <th>BURGLARY</th>\n",
       "      <th>DISORDERLY CONDUCT</th>\n",
       "      <th>DRIVING UNDER THE INFLUENCE</th>\n",
       "      <th>DRUG/NARCOTIC</th>\n",
       "      <th>DRUNKENNESS</th>\n",
       "      <th>EMBEZZLEMENT</th>\n",
       "      <th>...</th>\n",
       "      <th>SEX OFFENSES NON FORCIBLE</th>\n",
       "      <th>STOLEN PROPERTY</th>\n",
       "      <th>SUICIDE</th>\n",
       "      <th>SUSPICIOUS OCC</th>\n",
       "      <th>TREA</th>\n",
       "      <th>TRESPASS</th>\n",
       "      <th>VANDALISM</th>\n",
       "      <th>VEHICLE THEFT</th>\n",
       "      <th>WARRANTS</th>\n",
       "      <th>WEAPON LAWS</th>\n",
       "    </tr>\n",
       "    <tr>\n",
       "      <th>Id</th>\n",
       "      <th></th>\n",
       "      <th></th>\n",
       "      <th></th>\n",
       "      <th></th>\n",
       "      <th></th>\n",
       "      <th></th>\n",
       "      <th></th>\n",
       "      <th></th>\n",
       "      <th></th>\n",
       "      <th></th>\n",
       "      <th></th>\n",
       "      <th></th>\n",
       "      <th></th>\n",
       "      <th></th>\n",
       "      <th></th>\n",
       "      <th></th>\n",
       "      <th></th>\n",
       "      <th></th>\n",
       "      <th></th>\n",
       "      <th></th>\n",
       "      <th></th>\n",
       "    </tr>\n",
       "  </thead>\n",
       "  <tbody>\n",
       "    <tr>\n",
       "      <th>0</th>\n",
       "      <td>0</td>\n",
       "      <td>0</td>\n",
       "      <td>0</td>\n",
       "      <td>0</td>\n",
       "      <td>0</td>\n",
       "      <td>0</td>\n",
       "      <td>0</td>\n",
       "      <td>0</td>\n",
       "      <td>0</td>\n",
       "      <td>0</td>\n",
       "      <td>...</td>\n",
       "      <td>0</td>\n",
       "      <td>0</td>\n",
       "      <td>0</td>\n",
       "      <td>0</td>\n",
       "      <td>0</td>\n",
       "      <td>0</td>\n",
       "      <td>0</td>\n",
       "      <td>0</td>\n",
       "      <td>1</td>\n",
       "      <td>0</td>\n",
       "    </tr>\n",
       "    <tr>\n",
       "      <th>1</th>\n",
       "      <td>0</td>\n",
       "      <td>0</td>\n",
       "      <td>0</td>\n",
       "      <td>0</td>\n",
       "      <td>0</td>\n",
       "      <td>0</td>\n",
       "      <td>0</td>\n",
       "      <td>0</td>\n",
       "      <td>0</td>\n",
       "      <td>0</td>\n",
       "      <td>...</td>\n",
       "      <td>0</td>\n",
       "      <td>0</td>\n",
       "      <td>0</td>\n",
       "      <td>0</td>\n",
       "      <td>0</td>\n",
       "      <td>0</td>\n",
       "      <td>0</td>\n",
       "      <td>0</td>\n",
       "      <td>1</td>\n",
       "      <td>0</td>\n",
       "    </tr>\n",
       "    <tr>\n",
       "      <th>2</th>\n",
       "      <td>0</td>\n",
       "      <td>0</td>\n",
       "      <td>0</td>\n",
       "      <td>0</td>\n",
       "      <td>0</td>\n",
       "      <td>0</td>\n",
       "      <td>0</td>\n",
       "      <td>0</td>\n",
       "      <td>0</td>\n",
       "      <td>0</td>\n",
       "      <td>...</td>\n",
       "      <td>0</td>\n",
       "      <td>0</td>\n",
       "      <td>0</td>\n",
       "      <td>0</td>\n",
       "      <td>0</td>\n",
       "      <td>0</td>\n",
       "      <td>0</td>\n",
       "      <td>0</td>\n",
       "      <td>1</td>\n",
       "      <td>0</td>\n",
       "    </tr>\n",
       "    <tr>\n",
       "      <th>3</th>\n",
       "      <td>0</td>\n",
       "      <td>0</td>\n",
       "      <td>0</td>\n",
       "      <td>0</td>\n",
       "      <td>0</td>\n",
       "      <td>0</td>\n",
       "      <td>0</td>\n",
       "      <td>0</td>\n",
       "      <td>0</td>\n",
       "      <td>0</td>\n",
       "      <td>...</td>\n",
       "      <td>0</td>\n",
       "      <td>0</td>\n",
       "      <td>0</td>\n",
       "      <td>0</td>\n",
       "      <td>0</td>\n",
       "      <td>0</td>\n",
       "      <td>0</td>\n",
       "      <td>0</td>\n",
       "      <td>1</td>\n",
       "      <td>0</td>\n",
       "    </tr>\n",
       "    <tr>\n",
       "      <th>4</th>\n",
       "      <td>0</td>\n",
       "      <td>0</td>\n",
       "      <td>0</td>\n",
       "      <td>0</td>\n",
       "      <td>0</td>\n",
       "      <td>0</td>\n",
       "      <td>0</td>\n",
       "      <td>0</td>\n",
       "      <td>0</td>\n",
       "      <td>0</td>\n",
       "      <td>...</td>\n",
       "      <td>0</td>\n",
       "      <td>0</td>\n",
       "      <td>0</td>\n",
       "      <td>0</td>\n",
       "      <td>0</td>\n",
       "      <td>0</td>\n",
       "      <td>0</td>\n",
       "      <td>0</td>\n",
       "      <td>1</td>\n",
       "      <td>0</td>\n",
       "    </tr>\n",
       "  </tbody>\n",
       "</table>\n",
       "<p>5 rows × 39 columns</p>\n",
       "</div>"
      ],
      "text/plain": [
       "    ARSON  ASSAULT  BAD CHECKS  BRIBERY  BURGLARY  DISORDERLY CONDUCT  \\\n",
       "Id                                                                      \n",
       "0       0        0           0        0         0                   0   \n",
       "1       0        0           0        0         0                   0   \n",
       "2       0        0           0        0         0                   0   \n",
       "3       0        0           0        0         0                   0   \n",
       "4       0        0           0        0         0                   0   \n",
       "\n",
       "    DRIVING UNDER THE INFLUENCE  DRUG/NARCOTIC  DRUNKENNESS  EMBEZZLEMENT  \\\n",
       "Id                                                                          \n",
       "0                             0              0            0             0   \n",
       "1                             0              0            0             0   \n",
       "2                             0              0            0             0   \n",
       "3                             0              0            0             0   \n",
       "4                             0              0            0             0   \n",
       "\n",
       "       ...       SEX OFFENSES NON FORCIBLE  STOLEN PROPERTY  SUICIDE  \\\n",
       "Id     ...                                                             \n",
       "0      ...                               0                0        0   \n",
       "1      ...                               0                0        0   \n",
       "2      ...                               0                0        0   \n",
       "3      ...                               0                0        0   \n",
       "4      ...                               0                0        0   \n",
       "\n",
       "    SUSPICIOUS OCC  TREA  TRESPASS  VANDALISM  VEHICLE THEFT  WARRANTS  \\\n",
       "Id                                                                       \n",
       "0                0     0         0          0              0         1   \n",
       "1                0     0         0          0              0         1   \n",
       "2                0     0         0          0              0         1   \n",
       "3                0     0         0          0              0         1   \n",
       "4                0     0         0          0              0         1   \n",
       "\n",
       "    WEAPON LAWS  \n",
       "Id               \n",
       "0             0  \n",
       "1             0  \n",
       "2             0  \n",
       "3             0  \n",
       "4             0  \n",
       "\n",
       "[5 rows x 39 columns]"
      ]
     },
     "execution_count": 33,
     "metadata": {},
     "output_type": "execute_result"
    }
   ],
   "source": [
    "submission= pd.read_csv(\"data/sampleSubmission.csv\", index_col=\"Id\")\n",
    "print(submission.shape)\n",
    "submission.head()"
   ]
  },
  {
   "cell_type": "code",
   "execution_count": 34,
   "metadata": {},
   "outputs": [
    {
     "name": "stdout",
     "output_type": "stream",
     "text": [
      "(884262, 39)\n"
     ]
    },
    {
     "data": {
      "text/html": [
       "<div>\n",
       "<style scoped>\n",
       "    .dataframe tbody tr th:only-of-type {\n",
       "        vertical-align: middle;\n",
       "    }\n",
       "\n",
       "    .dataframe tbody tr th {\n",
       "        vertical-align: top;\n",
       "    }\n",
       "\n",
       "    .dataframe thead th {\n",
       "        text-align: right;\n",
       "    }\n",
       "</style>\n",
       "<table border=\"1\" class=\"dataframe\">\n",
       "  <thead>\n",
       "    <tr style=\"text-align: right;\">\n",
       "      <th></th>\n",
       "      <th>ARSON</th>\n",
       "      <th>ASSAULT</th>\n",
       "      <th>BAD CHECKS</th>\n",
       "      <th>BRIBERY</th>\n",
       "      <th>BURGLARY</th>\n",
       "      <th>DISORDERLY CONDUCT</th>\n",
       "      <th>DRIVING UNDER THE INFLUENCE</th>\n",
       "      <th>DRUG/NARCOTIC</th>\n",
       "      <th>DRUNKENNESS</th>\n",
       "      <th>EMBEZZLEMENT</th>\n",
       "      <th>...</th>\n",
       "      <th>SEX OFFENSES NON FORCIBLE</th>\n",
       "      <th>STOLEN PROPERTY</th>\n",
       "      <th>SUICIDE</th>\n",
       "      <th>SUSPICIOUS OCC</th>\n",
       "      <th>TREA</th>\n",
       "      <th>TRESPASS</th>\n",
       "      <th>VANDALISM</th>\n",
       "      <th>VEHICLE THEFT</th>\n",
       "      <th>WARRANTS</th>\n",
       "      <th>WEAPON LAWS</th>\n",
       "    </tr>\n",
       "    <tr>\n",
       "      <th>Id</th>\n",
       "      <th></th>\n",
       "      <th></th>\n",
       "      <th></th>\n",
       "      <th></th>\n",
       "      <th></th>\n",
       "      <th></th>\n",
       "      <th></th>\n",
       "      <th></th>\n",
       "      <th></th>\n",
       "      <th></th>\n",
       "      <th></th>\n",
       "      <th></th>\n",
       "      <th></th>\n",
       "      <th></th>\n",
       "      <th></th>\n",
       "      <th></th>\n",
       "      <th></th>\n",
       "      <th></th>\n",
       "      <th></th>\n",
       "      <th></th>\n",
       "      <th></th>\n",
       "    </tr>\n",
       "  </thead>\n",
       "  <tbody>\n",
       "    <tr>\n",
       "      <th>0</th>\n",
       "      <td>0.013562</td>\n",
       "      <td>0.073898</td>\n",
       "      <td>0.011773</td>\n",
       "      <td>0.011869</td>\n",
       "      <td>0.034131</td>\n",
       "      <td>0.012608</td>\n",
       "      <td>0.012940</td>\n",
       "      <td>0.036077</td>\n",
       "      <td>0.012624</td>\n",
       "      <td>0.012235</td>\n",
       "      <td>...</td>\n",
       "      <td>0.011690</td>\n",
       "      <td>0.013977</td>\n",
       "      <td>0.011920</td>\n",
       "      <td>0.033705</td>\n",
       "      <td>0.011574</td>\n",
       "      <td>0.015323</td>\n",
       "      <td>0.041269</td>\n",
       "      <td>0.067138</td>\n",
       "      <td>0.038831</td>\n",
       "      <td>0.020992</td>\n",
       "    </tr>\n",
       "    <tr>\n",
       "      <th>1</th>\n",
       "      <td>0.013898</td>\n",
       "      <td>0.075728</td>\n",
       "      <td>0.012065</td>\n",
       "      <td>0.012163</td>\n",
       "      <td>0.034976</td>\n",
       "      <td>0.012920</td>\n",
       "      <td>0.013260</td>\n",
       "      <td>0.036970</td>\n",
       "      <td>0.012937</td>\n",
       "      <td>0.012538</td>\n",
       "      <td>...</td>\n",
       "      <td>0.011979</td>\n",
       "      <td>0.014323</td>\n",
       "      <td>0.012215</td>\n",
       "      <td>0.034539</td>\n",
       "      <td>0.011861</td>\n",
       "      <td>0.015702</td>\n",
       "      <td>0.042291</td>\n",
       "      <td>0.048611</td>\n",
       "      <td>0.039792</td>\n",
       "      <td>0.021512</td>\n",
       "    </tr>\n",
       "    <tr>\n",
       "      <th>2</th>\n",
       "      <td>0.011959</td>\n",
       "      <td>0.051974</td>\n",
       "      <td>0.011695</td>\n",
       "      <td>0.011447</td>\n",
       "      <td>0.064669</td>\n",
       "      <td>0.012965</td>\n",
       "      <td>0.012434</td>\n",
       "      <td>0.021471</td>\n",
       "      <td>0.013255</td>\n",
       "      <td>0.012004</td>\n",
       "      <td>...</td>\n",
       "      <td>0.011410</td>\n",
       "      <td>0.014290</td>\n",
       "      <td>0.011561</td>\n",
       "      <td>0.027400</td>\n",
       "      <td>0.011346</td>\n",
       "      <td>0.015279</td>\n",
       "      <td>0.041543</td>\n",
       "      <td>0.053878</td>\n",
       "      <td>0.024129</td>\n",
       "      <td>0.013872</td>\n",
       "    </tr>\n",
       "    <tr>\n",
       "      <th>3</th>\n",
       "      <td>0.012403</td>\n",
       "      <td>0.073928</td>\n",
       "      <td>0.011567</td>\n",
       "      <td>0.011662</td>\n",
       "      <td>0.031971</td>\n",
       "      <td>0.012387</td>\n",
       "      <td>0.012669</td>\n",
       "      <td>0.029338</td>\n",
       "      <td>0.012499</td>\n",
       "      <td>0.011942</td>\n",
       "      <td>...</td>\n",
       "      <td>0.011485</td>\n",
       "      <td>0.013820</td>\n",
       "      <td>0.011712</td>\n",
       "      <td>0.032231</td>\n",
       "      <td>0.011372</td>\n",
       "      <td>0.014205</td>\n",
       "      <td>0.045358</td>\n",
       "      <td>0.075044</td>\n",
       "      <td>0.026464</td>\n",
       "      <td>0.017711</td>\n",
       "    </tr>\n",
       "    <tr>\n",
       "      <th>4</th>\n",
       "      <td>0.012403</td>\n",
       "      <td>0.073928</td>\n",
       "      <td>0.011567</td>\n",
       "      <td>0.011662</td>\n",
       "      <td>0.031971</td>\n",
       "      <td>0.012387</td>\n",
       "      <td>0.012669</td>\n",
       "      <td>0.029338</td>\n",
       "      <td>0.012499</td>\n",
       "      <td>0.011942</td>\n",
       "      <td>...</td>\n",
       "      <td>0.011485</td>\n",
       "      <td>0.013820</td>\n",
       "      <td>0.011712</td>\n",
       "      <td>0.032231</td>\n",
       "      <td>0.011372</td>\n",
       "      <td>0.014205</td>\n",
       "      <td>0.045358</td>\n",
       "      <td>0.075044</td>\n",
       "      <td>0.026464</td>\n",
       "      <td>0.017711</td>\n",
       "    </tr>\n",
       "  </tbody>\n",
       "</table>\n",
       "<p>5 rows × 39 columns</p>\n",
       "</div>"
      ],
      "text/plain": [
       "       ARSON   ASSAULT  BAD CHECKS   BRIBERY  BURGLARY  DISORDERLY CONDUCT  \\\n",
       "Id                                                                           \n",
       "0   0.013562  0.073898    0.011773  0.011869  0.034131            0.012608   \n",
       "1   0.013898  0.075728    0.012065  0.012163  0.034976            0.012920   \n",
       "2   0.011959  0.051974    0.011695  0.011447  0.064669            0.012965   \n",
       "3   0.012403  0.073928    0.011567  0.011662  0.031971            0.012387   \n",
       "4   0.012403  0.073928    0.011567  0.011662  0.031971            0.012387   \n",
       "\n",
       "    DRIVING UNDER THE INFLUENCE  DRUG/NARCOTIC  DRUNKENNESS  EMBEZZLEMENT  \\\n",
       "Id                                                                          \n",
       "0                      0.012940       0.036077     0.012624      0.012235   \n",
       "1                      0.013260       0.036970     0.012937      0.012538   \n",
       "2                      0.012434       0.021471     0.013255      0.012004   \n",
       "3                      0.012669       0.029338     0.012499      0.011942   \n",
       "4                      0.012669       0.029338     0.012499      0.011942   \n",
       "\n",
       "       ...       SEX OFFENSES NON FORCIBLE  STOLEN PROPERTY   SUICIDE  \\\n",
       "Id     ...                                                              \n",
       "0      ...                        0.011690         0.013977  0.011920   \n",
       "1      ...                        0.011979         0.014323  0.012215   \n",
       "2      ...                        0.011410         0.014290  0.011561   \n",
       "3      ...                        0.011485         0.013820  0.011712   \n",
       "4      ...                        0.011485         0.013820  0.011712   \n",
       "\n",
       "    SUSPICIOUS OCC      TREA  TRESPASS  VANDALISM  VEHICLE THEFT  WARRANTS  \\\n",
       "Id                                                                           \n",
       "0         0.033705  0.011574  0.015323   0.041269       0.067138  0.038831   \n",
       "1         0.034539  0.011861  0.015702   0.042291       0.048611  0.039792   \n",
       "2         0.027400  0.011346  0.015279   0.041543       0.053878  0.024129   \n",
       "3         0.032231  0.011372  0.014205   0.045358       0.075044  0.026464   \n",
       "4         0.032231  0.011372  0.014205   0.045358       0.075044  0.026464   \n",
       "\n",
       "    WEAPON LAWS  \n",
       "Id               \n",
       "0      0.020992  \n",
       "1      0.021512  \n",
       "2      0.013872  \n",
       "3      0.017711  \n",
       "4      0.017711  \n",
       "\n",
       "[5 rows x 39 columns]"
      ]
     },
     "execution_count": 34,
     "metadata": {},
     "output_type": "execute_result"
    }
   ],
   "source": [
    "submission= pd.DataFrame(predictions,\n",
    "            index= submission.index,\n",
    "            columns= submission.columns)\n",
    "\n",
    "print(submission.shape)\n",
    "submission.head()"
   ]
  },
  {
   "cell_type": "code",
   "execution_count": 35,
   "metadata": {},
   "outputs": [],
   "source": [
    "submission.to_csv(\"data/baseline-script_xgboost.csv\")\n",
    "# 나온 결과가 385MB. 이건 cross-valida"
   ]
  },
  {
   "cell_type": "code",
   "execution_count": null,
   "metadata": {},
   "outputs": [],
   "source": []
  }
 ],
 "metadata": {
  "kernelspec": {
   "display_name": "Python 3",
   "language": "python",
   "name": "python3"
  },
  "language_info": {
   "codemirror_mode": {
    "name": "ipython",
    "version": 3
   },
   "file_extension": ".py",
   "mimetype": "text/x-python",
   "name": "python",
   "nbconvert_exporter": "python",
   "pygments_lexer": "ipython3",
   "version": "3.6.3"
  }
 },
 "nbformat": 4,
 "nbformat_minor": 2
}
